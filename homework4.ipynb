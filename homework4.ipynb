{
  "nbformat": 4,
  "nbformat_minor": 0,
  "metadata": {
    "colab": {
      "provenance": []
    },
    "kernelspec": {
      "name": "python3",
      "display_name": "Python 3"
    },
    "language_info": {
      "name": "python"
    }
  },
  "cells": [
    {
      "cell_type": "markdown",
      "source": [
        "# CIS 5450 Homework 4: Machine Learning\n",
        "\n",
        "*Due Date: **November 15th at 10:00PM EST**, 100 points total (= 81 autograded + 19 manually graded).*\n"
      ],
      "metadata": {
        "id": "I2L0PkeSIuOD"
      }
    },
    {
      "cell_type": "markdown",
      "metadata": {
        "id": "ETZ9CDIDLYHp"
      },
      "source": [
        "# Imports/Setup\n",
        "Run the following cells to set up the notebook.\n"
      ]
    },
    {
      "cell_type": "markdown",
      "source": [
        "**Before you begin:**\n",
        "- Be sure to click \"Copy to Drive\" to make sure you're working on your own personal version of the homework\n",
        "- Check the **pinned FAQ post** on Ed for updates! TAs work really hard to keep it updated with everything you might need to know or anything we might have failed to specify. Writing these HWs and test cases gets tricky since students always end up implementing solutions that we did not anticipate and thus could not have prepared the grader correctly for.\n",
        "- **WARNING:** You MUST check that your notebook displays ALL visualizations on the Gradescope preview AND verify that the autograder finishes running and gives you your expected score (not a 0). (Ed [#251](https://edstem.org/us/courses/44790/discussion/3426442)).\n",
        "  - **Penalty:** -10: If we have to resubmit your notebook to Gradescope for you after the deadline. (e.g. not naming your files correctly, not submitting `.py` and .`ipynb`, etc.).\n",
        "  - **Penalty:** -5: If your notebook fails show up in the Gradescope preview of your `.ipynb` (e.g. `Large File Hidden Error`).\n",
        "      - If you experience this issue, please try to remove print outputs the non-plot images in the notebook.\n",
        "  - **Note:**  We will be manually checking your implementations and code for certain problems. If you incorrectly implemented a procedure using Scikit-learn and/or MLlib (e.g. creating predictions on training dataset, incorrectly process training data prior to running certain machine learning models, hardcoding values, etc.), we will be enforcing a penalty system up to the maximum value of points allocated to the problem. (e.g. if your problem is worth 4 points, the maximum number of points that can be deducted is 4 points).\n",
        "  - **Note:** If your plot is not run or not present after we open your notebook, we will deduct the entire manually graded point value of the plot. (e.g. if your plot is worth 4 points, we will deduct 4 points).\n",
        "  - **Note:** If your `.py` file is hidden because it's too large, that's ok! We only care about your `.ipynb` file.\n"
      ],
      "metadata": {
        "id": "mPo2-Uzj5O-b"
      }
    },
    {
      "cell_type": "markdown",
      "metadata": {
        "id": "eEUIzvEuMdGQ"
      },
      "source": [
        "Please make sure you enter your **8 digit Penn ID** in the  student ID field below."
      ]
    },
    {
      "cell_type": "code",
      "execution_count": 1,
      "metadata": {
        "id": "adECTPlZLtVi"
      },
      "outputs": [],
      "source": [
        "%%capture\n",
        "!pip install -i https://test.pypi.org/simple/ penn-grader==0.5.0\n",
        "from penngrader.grader import *\n",
        "\n",
        "#PLEASE ENSURE YOUR PENN-ID IS ENTERED CORRECTLY. IF NOT, THE AUTOGRADER WON'T KNOW WHO\n",
        "#TO ASSIGN POINTS TO YOU IN OUR BACKEND\n",
        "\n",
        "STUDENT_ID = 21647464       # YOUR PENN-ID GOES HERE AS AN INTEGER"
      ]
    },
    {
      "cell_type": "code",
      "source": [
        "%%writefile config.yaml\n",
        "\n",
        "grader_api_url: 'https://wyv616tp17.execute-api.us-east-1.amazonaws.com/default/Grader'\n",
        "grader_api_key: 'Kd32fl3g3p917iM0zwjiO23Bitj4PO9ga4LektOa'"
      ],
      "metadata": {
        "id": "wZexIJTJHaIS",
        "colab": {
          "base_uri": "https://localhost:8080/"
        },
        "outputId": "ed3a7fe7-3abd-47f5-be9b-50626b158bc2"
      },
      "execution_count": 2,
      "outputs": [
        {
          "output_type": "stream",
          "name": "stdout",
          "text": [
            "Overwriting config.yaml\n"
          ]
        }
      ]
    },
    {
      "cell_type": "code",
      "source": [
        "grader = PennGrader('config.yaml', 'CIS5450_F23_HW4', STUDENT_ID, STUDENT_ID)"
      ],
      "metadata": {
        "id": "DiwvxL6CHYmC",
        "colab": {
          "base_uri": "https://localhost:8080/"
        },
        "outputId": "fd584f93-cf4d-4d3d-9d20-5f3ffffa6e8d"
      },
      "execution_count": 3,
      "outputs": [
        {
          "output_type": "stream",
          "name": "stdout",
          "text": [
            "PennGrader initialized with Student ID: 21647464\n",
            "\n",
            "Make sure this correct or we will not be able to store your grade\n"
          ]
        }
      ]
    },
    {
      "cell_type": "code",
      "execution_count": 4,
      "metadata": {
        "id": "TBTaESEdMmiU"
      },
      "outputs": [],
      "source": [
        "# import packages\n",
        "import json\n",
        "import glob\n",
        "import pandas as pd\n",
        "import numpy as np\n",
        "import datetime as dt\n",
        "import re\n",
        "import os\n",
        "import matplotlib.pyplot as plt\n",
        "import seaborn as sns\n",
        "from matplotlib import cm\n",
        "from google.colab import drive\n",
        "from sklearn.model_selection import train_test_split\n",
        "from collections import Counter\n",
        "import seaborn as sns\n",
        "\n",
        "import warnings\n",
        "warnings.filterwarnings(\"ignore\", category=DeprecationWarning)"
      ]
    },
    {
      "cell_type": "code",
      "execution_count": 5,
      "metadata": {
        "id": "tA6oTIZtRjf7"
      },
      "outputs": [],
      "source": [
        "%%capture\n",
        "!apt update\n",
        "!pip install kaggle"
      ]
    },
    {
      "cell_type": "markdown",
      "source": [
        "# **Part I:** Preprocessing and Modeling in `scikit-learn` (65 points)"
      ],
      "metadata": {
        "id": "odlXF5IYJ-et"
      }
    },
    {
      "cell_type": "markdown",
      "source": [
        "## **1.1** Data Loading and Preprocessing [0 Points]"
      ],
      "metadata": {
        "id": "_XSw-F5VjVKI"
      }
    },
    {
      "cell_type": "markdown",
      "metadata": {
        "id": "1Sw7LCAacKOu"
      },
      "source": [
        "### **1.1.1** Read and Load Data\n",
        "\n",
        "We are using one CSV for this homework, `properties_data.csv` from a Kaggle [dataset](https://www.kaggle.com/datasets/dataregress/dubai-properties-dataset/data). The dataset contains 38 columns and over 1900 property entries.\n",
        "\n",
        "To get the data in here:\n",
        "1. Go to this [Kaggle link](https://www.kaggle.com) and create a Kaggle account (unless you already have one)\n",
        "2. Go to Account and click on \"Create New API Token\" to get the API key in the form of a json file `kaggle.json`\n",
        "3. Upload the `kaggle.json` file to the default location in your Google Drive (Please **DO NOT** upload the json file into any _specific_ folder as it will be difficult for us to debug issues if you deviate from these instructions!).\n",
        "\n",
        "This can be helpful for your project if you decide to use Kaggle for your final project or for future projects!"
      ]
    },
    {
      "cell_type": "code",
      "execution_count": 6,
      "metadata": {
        "id": "RGz24WQ86ptM",
        "colab": {
          "base_uri": "https://localhost:8080/"
        },
        "outputId": "21363056-af69-4d21-fa7a-0e4d4e086dc6"
      },
      "outputs": [
        {
          "output_type": "stream",
          "name": "stdout",
          "text": [
            "Drive already mounted at /content/drive; to attempt to forcibly remount, call drive.mount(\"/content/drive\", force_remount=True).\n"
          ]
        }
      ],
      "source": [
        "# Run this cell to mount your drive (you will be prompted to sign in)\n",
        "from google.colab import drive\n",
        "drive.mount('/content/drive')"
      ]
    },
    {
      "cell_type": "code",
      "source": [
        "# Create the kaggle directory and\n",
        "# (NOTE: Do NOT run this cell more than once unless restarting kernel)\n",
        "!mkdir ~/.kaggle"
      ],
      "metadata": {
        "id": "R4taOIpPb6CN",
        "colab": {
          "base_uri": "https://localhost:8080/"
        },
        "outputId": "54eb99a6-05da-4840-c4c8-769395225e79"
      },
      "execution_count": 7,
      "outputs": [
        {
          "output_type": "stream",
          "name": "stdout",
          "text": [
            "mkdir: cannot create directory ‘/root/.kaggle’: File exists\n"
          ]
        }
      ]
    },
    {
      "cell_type": "code",
      "source": [
        "# Read the uploaded kaggle.json file\n",
        "!cp /content/drive/MyDrive/kaggle.json ~/.kaggle/"
      ],
      "metadata": {
        "id": "uO1UNkV6cbxA"
      },
      "execution_count": 8,
      "outputs": []
    },
    {
      "cell_type": "code",
      "source": [
        "# Download dataset\n",
        "!!kaggle datasets download -d dataregress/dubai-properties-dataset"
      ],
      "metadata": {
        "id": "PZzBBL4VHVTK",
        "colab": {
          "base_uri": "https://localhost:8080/"
        },
        "outputId": "75c2a869-0cf0-411f-ac79-b273823b1202"
      },
      "execution_count": 9,
      "outputs": [
        {
          "output_type": "execute_result",
          "data": {
            "text/plain": [
              "['dubai-properties-dataset.zip: Skipping, found more recently modified local copy (use --force to force download)']"
            ]
          },
          "metadata": {},
          "execution_count": 9
        }
      ]
    },
    {
      "cell_type": "code",
      "source": [
        "# Unzip folder in Colab content folder\n",
        "!unzip /content/dubai-properties-dataset.zip"
      ],
      "metadata": {
        "id": "SGrKYIOUHebk",
        "colab": {
          "base_uri": "https://localhost:8080/"
        },
        "outputId": "52750b4d-b01c-4cf3-edfb-cc698372a564"
      },
      "execution_count": 10,
      "outputs": [
        {
          "output_type": "stream",
          "name": "stdout",
          "text": [
            "Archive:  /content/dubai-properties-dataset.zip\n",
            "replace properties_data.csv? [y]es, [n]o, [A]ll, [N]one, [r]ename: y\n",
            "  inflating: properties_data.csv     \n"
          ]
        }
      ]
    },
    {
      "cell_type": "code",
      "source": [
        "# TODO: Read the csv file and save it to a dataframe called \"df_properties\"\n",
        "df_properties = pd.read_csv(\"./properties_data.csv\")\n",
        "\n",
        "# Check out the first five rows\n",
        "df_properties.head()"
      ],
      "metadata": {
        "id": "UehH19fqHR4L",
        "colab": {
          "base_uri": "https://localhost:8080/",
          "height": 325
        },
        "outputId": "549fcd09-0aa3-44ef-d6a7-4caa446e175f"
      },
      "execution_count": 11,
      "outputs": [
        {
          "output_type": "execute_result",
          "data": {
            "text/plain": [
              "        id          neighborhood   latitude  longitude    price  size_in_sqft  \\\n",
              "0  5528049         Palm Jumeirah  25.113208  55.138932  2700000          1079   \n",
              "1  6008529         Palm Jumeirah  25.106809  55.151201  2850000          1582   \n",
              "2  6034542  Jumeirah Lake Towers  25.063302  55.137728  1150000          1951   \n",
              "3  6326063       Culture Village  25.227295  55.341761  2850000          2020   \n",
              "4  6356778         Palm Jumeirah  25.114275  55.139764  1729200           507   \n",
              "\n",
              "   price_per_sqft  no_of_bedrooms  no_of_bathrooms quality  ...  private_pool  \\\n",
              "0         2502.32               1                2  Medium  ...         False   \n",
              "1         1801.52               2                2  Medium  ...         False   \n",
              "2          589.44               3                5  Medium  ...         False   \n",
              "3         1410.89               2                3     Low  ...         False   \n",
              "4         3410.65               0                1  Medium  ...         False   \n",
              "\n",
              "   security  shared_gym  shared_pool  shared_spa  study  vastu_compliant  \\\n",
              "0     False        True        False       False  False            False   \n",
              "1     False        True         True       False  False            False   \n",
              "2      True        True         True       False  False            False   \n",
              "3     False       False        False       False  False            False   \n",
              "4      True        True         True        True  False            False   \n",
              "\n",
              "   view_of_landmark  view_of_water  walk_in_closet  \n",
              "0             False           True           False  \n",
              "1             False           True           False  \n",
              "2              True           True            True  \n",
              "3             False          False           False  \n",
              "4              True           True           False  \n",
              "\n",
              "[5 rows x 38 columns]"
            ],
            "text/html": [
              "\n",
              "  <div id=\"df-57811bf9-7e7a-4112-b4f8-f8310fb3ddc8\" class=\"colab-df-container\">\n",
              "    <div>\n",
              "<style scoped>\n",
              "    .dataframe tbody tr th:only-of-type {\n",
              "        vertical-align: middle;\n",
              "    }\n",
              "\n",
              "    .dataframe tbody tr th {\n",
              "        vertical-align: top;\n",
              "    }\n",
              "\n",
              "    .dataframe thead th {\n",
              "        text-align: right;\n",
              "    }\n",
              "</style>\n",
              "<table border=\"1\" class=\"dataframe\">\n",
              "  <thead>\n",
              "    <tr style=\"text-align: right;\">\n",
              "      <th></th>\n",
              "      <th>id</th>\n",
              "      <th>neighborhood</th>\n",
              "      <th>latitude</th>\n",
              "      <th>longitude</th>\n",
              "      <th>price</th>\n",
              "      <th>size_in_sqft</th>\n",
              "      <th>price_per_sqft</th>\n",
              "      <th>no_of_bedrooms</th>\n",
              "      <th>no_of_bathrooms</th>\n",
              "      <th>quality</th>\n",
              "      <th>...</th>\n",
              "      <th>private_pool</th>\n",
              "      <th>security</th>\n",
              "      <th>shared_gym</th>\n",
              "      <th>shared_pool</th>\n",
              "      <th>shared_spa</th>\n",
              "      <th>study</th>\n",
              "      <th>vastu_compliant</th>\n",
              "      <th>view_of_landmark</th>\n",
              "      <th>view_of_water</th>\n",
              "      <th>walk_in_closet</th>\n",
              "    </tr>\n",
              "  </thead>\n",
              "  <tbody>\n",
              "    <tr>\n",
              "      <th>0</th>\n",
              "      <td>5528049</td>\n",
              "      <td>Palm Jumeirah</td>\n",
              "      <td>25.113208</td>\n",
              "      <td>55.138932</td>\n",
              "      <td>2700000</td>\n",
              "      <td>1079</td>\n",
              "      <td>2502.32</td>\n",
              "      <td>1</td>\n",
              "      <td>2</td>\n",
              "      <td>Medium</td>\n",
              "      <td>...</td>\n",
              "      <td>False</td>\n",
              "      <td>False</td>\n",
              "      <td>True</td>\n",
              "      <td>False</td>\n",
              "      <td>False</td>\n",
              "      <td>False</td>\n",
              "      <td>False</td>\n",
              "      <td>False</td>\n",
              "      <td>True</td>\n",
              "      <td>False</td>\n",
              "    </tr>\n",
              "    <tr>\n",
              "      <th>1</th>\n",
              "      <td>6008529</td>\n",
              "      <td>Palm Jumeirah</td>\n",
              "      <td>25.106809</td>\n",
              "      <td>55.151201</td>\n",
              "      <td>2850000</td>\n",
              "      <td>1582</td>\n",
              "      <td>1801.52</td>\n",
              "      <td>2</td>\n",
              "      <td>2</td>\n",
              "      <td>Medium</td>\n",
              "      <td>...</td>\n",
              "      <td>False</td>\n",
              "      <td>False</td>\n",
              "      <td>True</td>\n",
              "      <td>True</td>\n",
              "      <td>False</td>\n",
              "      <td>False</td>\n",
              "      <td>False</td>\n",
              "      <td>False</td>\n",
              "      <td>True</td>\n",
              "      <td>False</td>\n",
              "    </tr>\n",
              "    <tr>\n",
              "      <th>2</th>\n",
              "      <td>6034542</td>\n",
              "      <td>Jumeirah Lake Towers</td>\n",
              "      <td>25.063302</td>\n",
              "      <td>55.137728</td>\n",
              "      <td>1150000</td>\n",
              "      <td>1951</td>\n",
              "      <td>589.44</td>\n",
              "      <td>3</td>\n",
              "      <td>5</td>\n",
              "      <td>Medium</td>\n",
              "      <td>...</td>\n",
              "      <td>False</td>\n",
              "      <td>True</td>\n",
              "      <td>True</td>\n",
              "      <td>True</td>\n",
              "      <td>False</td>\n",
              "      <td>False</td>\n",
              "      <td>False</td>\n",
              "      <td>True</td>\n",
              "      <td>True</td>\n",
              "      <td>True</td>\n",
              "    </tr>\n",
              "    <tr>\n",
              "      <th>3</th>\n",
              "      <td>6326063</td>\n",
              "      <td>Culture Village</td>\n",
              "      <td>25.227295</td>\n",
              "      <td>55.341761</td>\n",
              "      <td>2850000</td>\n",
              "      <td>2020</td>\n",
              "      <td>1410.89</td>\n",
              "      <td>2</td>\n",
              "      <td>3</td>\n",
              "      <td>Low</td>\n",
              "      <td>...</td>\n",
              "      <td>False</td>\n",
              "      <td>False</td>\n",
              "      <td>False</td>\n",
              "      <td>False</td>\n",
              "      <td>False</td>\n",
              "      <td>False</td>\n",
              "      <td>False</td>\n",
              "      <td>False</td>\n",
              "      <td>False</td>\n",
              "      <td>False</td>\n",
              "    </tr>\n",
              "    <tr>\n",
              "      <th>4</th>\n",
              "      <td>6356778</td>\n",
              "      <td>Palm Jumeirah</td>\n",
              "      <td>25.114275</td>\n",
              "      <td>55.139764</td>\n",
              "      <td>1729200</td>\n",
              "      <td>507</td>\n",
              "      <td>3410.65</td>\n",
              "      <td>0</td>\n",
              "      <td>1</td>\n",
              "      <td>Medium</td>\n",
              "      <td>...</td>\n",
              "      <td>False</td>\n",
              "      <td>True</td>\n",
              "      <td>True</td>\n",
              "      <td>True</td>\n",
              "      <td>True</td>\n",
              "      <td>False</td>\n",
              "      <td>False</td>\n",
              "      <td>True</td>\n",
              "      <td>True</td>\n",
              "      <td>False</td>\n",
              "    </tr>\n",
              "  </tbody>\n",
              "</table>\n",
              "<p>5 rows × 38 columns</p>\n",
              "</div>\n",
              "    <div class=\"colab-df-buttons\">\n",
              "\n",
              "  <div class=\"colab-df-container\">\n",
              "    <button class=\"colab-df-convert\" onclick=\"convertToInteractive('df-57811bf9-7e7a-4112-b4f8-f8310fb3ddc8')\"\n",
              "            title=\"Convert this dataframe to an interactive table.\"\n",
              "            style=\"display:none;\">\n",
              "\n",
              "  <svg xmlns=\"http://www.w3.org/2000/svg\" height=\"24px\" viewBox=\"0 -960 960 960\">\n",
              "    <path d=\"M120-120v-720h720v720H120Zm60-500h600v-160H180v160Zm220 220h160v-160H400v160Zm0 220h160v-160H400v160ZM180-400h160v-160H180v160Zm440 0h160v-160H620v160ZM180-180h160v-160H180v160Zm440 0h160v-160H620v160Z\"/>\n",
              "  </svg>\n",
              "    </button>\n",
              "\n",
              "  <style>\n",
              "    .colab-df-container {\n",
              "      display:flex;\n",
              "      gap: 12px;\n",
              "    }\n",
              "\n",
              "    .colab-df-convert {\n",
              "      background-color: #E8F0FE;\n",
              "      border: none;\n",
              "      border-radius: 50%;\n",
              "      cursor: pointer;\n",
              "      display: none;\n",
              "      fill: #1967D2;\n",
              "      height: 32px;\n",
              "      padding: 0 0 0 0;\n",
              "      width: 32px;\n",
              "    }\n",
              "\n",
              "    .colab-df-convert:hover {\n",
              "      background-color: #E2EBFA;\n",
              "      box-shadow: 0px 1px 2px rgba(60, 64, 67, 0.3), 0px 1px 3px 1px rgba(60, 64, 67, 0.15);\n",
              "      fill: #174EA6;\n",
              "    }\n",
              "\n",
              "    .colab-df-buttons div {\n",
              "      margin-bottom: 4px;\n",
              "    }\n",
              "\n",
              "    [theme=dark] .colab-df-convert {\n",
              "      background-color: #3B4455;\n",
              "      fill: #D2E3FC;\n",
              "    }\n",
              "\n",
              "    [theme=dark] .colab-df-convert:hover {\n",
              "      background-color: #434B5C;\n",
              "      box-shadow: 0px 1px 3px 1px rgba(0, 0, 0, 0.15);\n",
              "      filter: drop-shadow(0px 1px 2px rgba(0, 0, 0, 0.3));\n",
              "      fill: #FFFFFF;\n",
              "    }\n",
              "  </style>\n",
              "\n",
              "    <script>\n",
              "      const buttonEl =\n",
              "        document.querySelector('#df-57811bf9-7e7a-4112-b4f8-f8310fb3ddc8 button.colab-df-convert');\n",
              "      buttonEl.style.display =\n",
              "        google.colab.kernel.accessAllowed ? 'block' : 'none';\n",
              "\n",
              "      async function convertToInteractive(key) {\n",
              "        const element = document.querySelector('#df-57811bf9-7e7a-4112-b4f8-f8310fb3ddc8');\n",
              "        const dataTable =\n",
              "          await google.colab.kernel.invokeFunction('convertToInteractive',\n",
              "                                                    [key], {});\n",
              "        if (!dataTable) return;\n",
              "\n",
              "        const docLinkHtml = 'Like what you see? Visit the ' +\n",
              "          '<a target=\"_blank\" href=https://colab.research.google.com/notebooks/data_table.ipynb>data table notebook</a>'\n",
              "          + ' to learn more about interactive tables.';\n",
              "        element.innerHTML = '';\n",
              "        dataTable['output_type'] = 'display_data';\n",
              "        await google.colab.output.renderOutput(dataTable, element);\n",
              "        const docLink = document.createElement('div');\n",
              "        docLink.innerHTML = docLinkHtml;\n",
              "        element.appendChild(docLink);\n",
              "      }\n",
              "    </script>\n",
              "  </div>\n",
              "\n",
              "\n",
              "<div id=\"df-1dba58b3-c120-4191-955c-52a515d636e9\">\n",
              "  <button class=\"colab-df-quickchart\" onclick=\"quickchart('df-1dba58b3-c120-4191-955c-52a515d636e9')\"\n",
              "            title=\"Suggest charts\"\n",
              "            style=\"display:none;\">\n",
              "\n",
              "<svg xmlns=\"http://www.w3.org/2000/svg\" height=\"24px\"viewBox=\"0 0 24 24\"\n",
              "     width=\"24px\">\n",
              "    <g>\n",
              "        <path d=\"M19 3H5c-1.1 0-2 .9-2 2v14c0 1.1.9 2 2 2h14c1.1 0 2-.9 2-2V5c0-1.1-.9-2-2-2zM9 17H7v-7h2v7zm4 0h-2V7h2v10zm4 0h-2v-4h2v4z\"/>\n",
              "    </g>\n",
              "</svg>\n",
              "  </button>\n",
              "\n",
              "<style>\n",
              "  .colab-df-quickchart {\n",
              "      --bg-color: #E8F0FE;\n",
              "      --fill-color: #1967D2;\n",
              "      --hover-bg-color: #E2EBFA;\n",
              "      --hover-fill-color: #174EA6;\n",
              "      --disabled-fill-color: #AAA;\n",
              "      --disabled-bg-color: #DDD;\n",
              "  }\n",
              "\n",
              "  [theme=dark] .colab-df-quickchart {\n",
              "      --bg-color: #3B4455;\n",
              "      --fill-color: #D2E3FC;\n",
              "      --hover-bg-color: #434B5C;\n",
              "      --hover-fill-color: #FFFFFF;\n",
              "      --disabled-bg-color: #3B4455;\n",
              "      --disabled-fill-color: #666;\n",
              "  }\n",
              "\n",
              "  .colab-df-quickchart {\n",
              "    background-color: var(--bg-color);\n",
              "    border: none;\n",
              "    border-radius: 50%;\n",
              "    cursor: pointer;\n",
              "    display: none;\n",
              "    fill: var(--fill-color);\n",
              "    height: 32px;\n",
              "    padding: 0;\n",
              "    width: 32px;\n",
              "  }\n",
              "\n",
              "  .colab-df-quickchart:hover {\n",
              "    background-color: var(--hover-bg-color);\n",
              "    box-shadow: 0 1px 2px rgba(60, 64, 67, 0.3), 0 1px 3px 1px rgba(60, 64, 67, 0.15);\n",
              "    fill: var(--button-hover-fill-color);\n",
              "  }\n",
              "\n",
              "  .colab-df-quickchart-complete:disabled,\n",
              "  .colab-df-quickchart-complete:disabled:hover {\n",
              "    background-color: var(--disabled-bg-color);\n",
              "    fill: var(--disabled-fill-color);\n",
              "    box-shadow: none;\n",
              "  }\n",
              "\n",
              "  .colab-df-spinner {\n",
              "    border: 2px solid var(--fill-color);\n",
              "    border-color: transparent;\n",
              "    border-bottom-color: var(--fill-color);\n",
              "    animation:\n",
              "      spin 1s steps(1) infinite;\n",
              "  }\n",
              "\n",
              "  @keyframes spin {\n",
              "    0% {\n",
              "      border-color: transparent;\n",
              "      border-bottom-color: var(--fill-color);\n",
              "      border-left-color: var(--fill-color);\n",
              "    }\n",
              "    20% {\n",
              "      border-color: transparent;\n",
              "      border-left-color: var(--fill-color);\n",
              "      border-top-color: var(--fill-color);\n",
              "    }\n",
              "    30% {\n",
              "      border-color: transparent;\n",
              "      border-left-color: var(--fill-color);\n",
              "      border-top-color: var(--fill-color);\n",
              "      border-right-color: var(--fill-color);\n",
              "    }\n",
              "    40% {\n",
              "      border-color: transparent;\n",
              "      border-right-color: var(--fill-color);\n",
              "      border-top-color: var(--fill-color);\n",
              "    }\n",
              "    60% {\n",
              "      border-color: transparent;\n",
              "      border-right-color: var(--fill-color);\n",
              "    }\n",
              "    80% {\n",
              "      border-color: transparent;\n",
              "      border-right-color: var(--fill-color);\n",
              "      border-bottom-color: var(--fill-color);\n",
              "    }\n",
              "    90% {\n",
              "      border-color: transparent;\n",
              "      border-bottom-color: var(--fill-color);\n",
              "    }\n",
              "  }\n",
              "</style>\n",
              "\n",
              "  <script>\n",
              "    async function quickchart(key) {\n",
              "      const quickchartButtonEl =\n",
              "        document.querySelector('#' + key + ' button');\n",
              "      quickchartButtonEl.disabled = true;  // To prevent multiple clicks.\n",
              "      quickchartButtonEl.classList.add('colab-df-spinner');\n",
              "      try {\n",
              "        const charts = await google.colab.kernel.invokeFunction(\n",
              "            'suggestCharts', [key], {});\n",
              "      } catch (error) {\n",
              "        console.error('Error during call to suggestCharts:', error);\n",
              "      }\n",
              "      quickchartButtonEl.classList.remove('colab-df-spinner');\n",
              "      quickchartButtonEl.classList.add('colab-df-quickchart-complete');\n",
              "    }\n",
              "    (() => {\n",
              "      let quickchartButtonEl =\n",
              "        document.querySelector('#df-1dba58b3-c120-4191-955c-52a515d636e9 button');\n",
              "      quickchartButtonEl.style.display =\n",
              "        google.colab.kernel.accessAllowed ? 'block' : 'none';\n",
              "    })();\n",
              "  </script>\n",
              "</div>\n",
              "    </div>\n",
              "  </div>\n"
            ]
          },
          "metadata": {},
          "execution_count": 11
        }
      ]
    },
    {
      "cell_type": "markdown",
      "source": [
        "### **1.1.2** Understanding Data\n",
        "\n",
        "A good practice before approaching any data science problem, is to understand the data you will be working with. This can be through descriptive statistics, datatypes, or just a quick tabular visualization. We will be walking through such tasks through Pandas."
      ],
      "metadata": {
        "id": "Ut_yMmcO2kXF"
      }
    },
    {
      "cell_type": "code",
      "source": [
        "# display the datatypes and filled entries in `df_properties`\n",
        "# df_properties.info()"
      ],
      "metadata": {
        "id": "IwzMbrAUHf3a"
      },
      "execution_count": 12,
      "outputs": []
    },
    {
      "cell_type": "code",
      "source": [
        "# display the descriptive statistics of `df_reservations`\n",
        "# df_properties.describe()"
      ],
      "metadata": {
        "id": "oRoFFrURHhAC"
      },
      "execution_count": 13,
      "outputs": []
    },
    {
      "cell_type": "markdown",
      "source": [
        "## **1.2** EDA [subtotal 18 points]\n",
        "\n",
        "Exploratory Data Analysis (EDA) is an approach to analyzing data sets to summarize their main characteristics, often with visual methods. A statistical model can be used or not, but primarily EDA is for seeing what the data can tell us beyond the formal modeling or hypothesis testing task.\n"
      ],
      "metadata": {
        "id": "LsDRMCdfkACq"
      }
    },
    {
      "cell_type": "markdown",
      "source": [
        "### **1.2.1** Visualization [12 points]"
      ],
      "metadata": {
        "id": "YwLDb9QE6sEF"
      }
    },
    {
      "cell_type": "markdown",
      "source": [
        "#### (a) Examining Neighborhood and Quality [6 Points]"
      ],
      "metadata": {
        "id": "SCE6Y6TF7thU"
      }
    },
    {
      "cell_type": "markdown",
      "source": [
        "**Task:** For the ***top ten neighborhoods with the most properties***, we want to find the number of Low, Medium, High, Ultra listings from the `quality` column. You are **required** to use the Seaborn library for this problem to create a [countplot](https://seaborn.pydata.org/generated/seaborn.countplot.html).\n",
        "\n",
        "**Requirements:**\n",
        "\n",
        "You should use `df_properties` for this problem.\n",
        "\n",
        "Your plot must:\n",
        "*   Be of size (8,6) and use `palette = 'husl'`.\n",
        "*   Have appropriate titles, axes labels, and a legend.\n",
        "*   Be clearly legible and should **not** have overlapping text or bars.\n",
        "\n",
        "*Note: Not all neighborhoods will have all four qualities (low, medium, high, ultra). In other words, you may not see four bars for all neighborhoods.*"
      ],
      "metadata": {
        "id": "pCOF-tYX9zVV"
      }
    },
    {
      "cell_type": "code",
      "source": [
        "# TODO: create a list 'top_ten_neighborhoods' which contains the top ten neighborhoods\n",
        "# with the MOST number of properties in descending order\n",
        "\n",
        "neighborhood_counts = df_properties['neighborhood'].value_counts()\n",
        "top_ten_neighborhoods = neighborhood_counts.index[:10].tolist()"
      ],
      "metadata": {
        "id": "JVMB6q7YP6pM"
      },
      "execution_count": 14,
      "outputs": []
    },
    {
      "cell_type": "code",
      "source": [
        "# TODO (2 points):\n",
        "# filter for entries in 'df_properties' that contain the neighborhoods in 'top_ten_neighborhoods'\n",
        "# save your dataframe as 'ten_neighborhoods_df\n",
        "\n",
        "ten_neighborhoods_df = df_properties[df_properties['neighborhood'].isin(top_ten_neighborhoods)]"
      ],
      "metadata": {
        "id": "N7Zcv8VVP6rt"
      },
      "execution_count": 15,
      "outputs": []
    },
    {
      "cell_type": "code",
      "source": [
        "#Grader Cell (2 points)\n",
        "grader.grade(test_case_id = 'ten_neighborhoods', answer = (top_ten_neighborhoods, ten_neighborhoods_df))"
      ],
      "metadata": {
        "id": "i5l_Tr4_HqJ5",
        "colab": {
          "base_uri": "https://localhost:8080/"
        },
        "outputId": "f7c4f3b3-6ab4-4124-a5da-bb8266904c21"
      },
      "execution_count": 16,
      "outputs": [
        {
          "output_type": "stream",
          "name": "stdout",
          "text": [
            "Correct! You earned 2/2 points. You are a star!\n",
            "\n",
            "Your submission has been successfully recorded in the gradebook.\n"
          ]
        }
      ]
    },
    {
      "cell_type": "code",
      "source": [
        "# TODO (4 Manually Graded Points)\n",
        "# create a count plot which has bars placed side by side in a single plot\n",
        "# showing the number of Low, Medium, High, Ultra quality property listings\n",
        "\n",
        "plt.figure(figsize=(8, 6))\n",
        "sns.set(style=\"whitegrid\")\n",
        "sns.set_palette(\"husl\")\n",
        "\n",
        "sns.countplot(\n",
        "    data=ten_neighborhoods_df,\n",
        "    x='quality',\n",
        "    order=['Low', 'Medium', 'High', 'Ultra'],\n",
        "    hue='neighborhood',\n",
        ")\n",
        "\n",
        "plt.title(\"Number of Property Listings by Quality in Top Ten Neighborhoods\")\n",
        "plt.xlabel(\"Quality\")\n",
        "plt.ylabel(\"Count\")\n",
        "plt.legend(title=\"Neighborhood\", title_fontsize=\"12\")\n",
        "\n",
        "plt.show()"
      ],
      "metadata": {
        "id": "qWS4tgh-Hsqq",
        "colab": {
          "base_uri": "https://localhost:8080/",
          "height": 573
        },
        "outputId": "a1cd1ab9-b857-42d9-8a7a-420b1e5567c7"
      },
      "execution_count": 17,
      "outputs": [
        {
          "output_type": "display_data",
          "data": {
            "text/plain": [
              "<Figure size 800x600 with 1 Axes>"
            ],
            "image/png": "[encoded data removed]"
          },
          "metadata": {}
        }
      ]
    },
    {
      "cell_type": "markdown",
      "source": [
        "#### (b) 3D Scatterplot [6 Points]"
      ],
      "metadata": {
        "id": "yS7viOKL8Bap"
      }
    },
    {
      "cell_type": "markdown",
      "source": [
        "**Task:** We want to examine the relationship between three variables: `number_of_bedrooms`, `number_of_bathrooms`, and `price`. We also want to examine `quality` as well. You are **required** to use the Matplotlib library for this problem to create a [3D Scatterplot](https://matplotlib.org/stable/gallery/mplot3d/scatter3d.html).\n",
        "\n",
        "**Requirements:**\n",
        "\n",
        "You should use `df_properties` for this problem.\n",
        "\n",
        "Your plot must:\n",
        "*   Be of size (6,6).\n",
        "*   Have each data point be colored accordingly by `Quality`. The color mapping should be: Low is red, Medium is green, High is blue, and Ultra is magenta.\n",
        "*   Have `number_of_bedrooms` in the x-axis, `number_of_bathrooms` in the y-axis, and `price` in the z-axis.\n",
        "*   Have appropriate titles, axes labels, and a legend.\n",
        "*   Be clearly legible and should **not** have overlapping text or bars.\n",
        "\n",
        "\n",
        "**Very Helpful Resources:**\n",
        "\n",
        "*   [3D Scatter Plotting in Python using Matplotlib](https://www.geeksforgeeks.org/3d-scatter-plotting-in-python-using-matplotlib/)\n",
        "*   [List of named colors](https://matplotlib.org/stable/gallery/color/named_colors.html)\n"
      ],
      "metadata": {
        "id": "63W2fWFygolZ"
      }
    },
    {
      "cell_type": "code",
      "source": [
        "import matplotlib.pyplot as plt\n",
        "\n",
        "# TODO (6 Manually Graded Points): create 3d scatter plot\n",
        "# the comments will guide you through the process\n",
        "\n",
        "# save the corresponding series from dataframe into lists/containers\n",
        "number_of_bedrooms = df_properties['no_of_bedrooms'].tolist()\n",
        "number_of_bathrooms = df_properties['no_of_bathrooms'].tolist()\n",
        "price = df_properties['price'].tolist()\n",
        "quality = df_properties['quality'].tolist()\n",
        "\n",
        "# create a 3D scatter plot of size (6,6)\n",
        "fig = plt.figure(figsize=(6, 6))\n",
        "ax = plt.axes(projection =\"3d\")\n",
        "\n",
        "# create a dictionary with your quality and corresponding colors\n",
        "color_dict = {\n",
        "    'Low': 'red',\n",
        "    'Medium': 'green',\n",
        "    'High': 'blue',\n",
        "    'Ultra': 'magenta'\n",
        "}\n",
        "\n",
        "# iterate through and plot datapoints\n",
        "for i in range(len(number_of_bedrooms)):\n",
        "    q = quality[i]\n",
        "    color = color_dict.get(q, 'gray')\n",
        "    ax.scatter3D(number_of_bedrooms[i], number_of_bathrooms[i], price[i], c=color)\n",
        "\n",
        "# set title and labels\n",
        "ax.set_xlabel('Number of Bedrooms')\n",
        "ax.set_ylabel('Number of Bathrooms')\n",
        "ax.set_zlabel('Price')\n",
        "ax.set_title('3D Scatterplot of Bedrooms, Bathrooms, and Price by Quality')\n",
        "\n",
        "\n",
        "### STOP HERE ###\n",
        "### DO NOT EDIT ###\n",
        "for quality, color in color_dict.items():\n",
        "    ax.scatter([], [], [], c=color, marker='o', label=quality)\n",
        "ax.legend(loc='upper left')\n",
        "plt.show()"
      ],
      "metadata": {
        "id": "QyCDKQ2BH09K",
        "colab": {
          "base_uri": "https://localhost:8080/",
          "height": 524
        },
        "outputId": "964f9c01-5dfa-4060-a25a-7227fe0be3ed"
      },
      "execution_count": 18,
      "outputs": [
        {
          "output_type": "display_data",
          "data": {
            "text/plain": [
              "<Figure size 600x600 with 1 Axes>"
            ],
            "image/png": "[encoded data removed]"
          },
          "metadata": {}
        }
      ]
    },
    {
      "cell_type": "markdown",
      "source": [
        "### **1.2.2** Correlation of Feature Variables [6 Points]\n",
        "\n",
        "With multiple features, it can be somewhat exhausting to do bivariate analysis on every possible pair of features. While you certainly should, your first instinct should be to check for the correlation between features since certain models (e.g. Linear Regression) won't work well if we have strong multicollinearity."
      ],
      "metadata": {
        "id": "D_uvTv_VKYfY"
      }
    },
    {
      "cell_type": "markdown",
      "source": [
        "_**Isolating Numerics from Categorical Features**_\n",
        "\n",
        "Before anything else, it may help to create groups of the numeric and categorical variables. You should use `df_properties` for this problem.\n",
        "\n",
        "\n",
        "**Task:** Split the `df_properties` dataframe into 2 dataframes:\n",
        "\n",
        "1. `num_df`: This dataframe contains all numerical columns from `df_properties`\n",
        "\n",
        "2. `cat_df`: This dataframe contains all categorical columns from `df_properties`\n",
        "  - i.e. the columns with non-numeric datatype or containing boolean values\n",
        "\n",
        "For your dataframes, **do not include** the following columns: `id`, `latitude`, `longitude`, `quality`, `price`.\n",
        "\n",
        "**Sort the columns of `num_df` and `cat_df` in alphabetic order.**"
      ],
      "metadata": {
        "id": "YacG1jN-_WI6"
      }
    },
    {
      "cell_type": "code",
      "source": [
        "# visualize number of unique values and datatype in each column\n",
        "# for col in df_properties.columns:\n",
        "#   print(col, df_properties[col].nunique(), df_properties[col].dtype)"
      ],
      "metadata": {
        "id": "Qyb8_WIfID3y"
      },
      "execution_count": 19,
      "outputs": []
    },
    {
      "cell_type": "code",
      "source": [
        "# TODO: Create 'num_df' and 'cat_df'\n",
        "numerical_columns = df_properties.select_dtypes(include=['number']).columns\n",
        "categorical_columns = df_properties.select_dtypes(exclude=['number']).columns\n",
        "\n",
        "columns_to_exclude = ['id', 'latitude', 'longitude', 'quality', 'price']\n",
        "numerical_columns = [col for col in numerical_columns if col not in columns_to_exclude]\n",
        "categorical_columns = [col for col in categorical_columns if col not in columns_to_exclude]\n",
        "\n",
        "num_df = df_properties[numerical_columns]\n",
        "cat_df = df_properties[categorical_columns]"
      ],
      "metadata": {
        "id": "PZIPC3qoLgag"
      },
      "execution_count": 20,
      "outputs": []
    },
    {
      "cell_type": "code",
      "source": [
        "# TODO: sort the columns of `num_df` and `cat_df` in alphabetic order\n",
        "num_df = num_df.reindex(sorted(num_df.columns), axis=1)\n",
        "cat_df = cat_df.reindex(sorted(cat_df.columns), axis=1)"
      ],
      "metadata": {
        "id": "zcnftjDlNyWx"
      },
      "execution_count": 21,
      "outputs": []
    },
    {
      "cell_type": "code",
      "source": [
        "# self-check\n",
        "num_df.columns"
      ],
      "metadata": {
        "id": "VU3eQ2viINds",
        "colab": {
          "base_uri": "https://localhost:8080/"
        },
        "outputId": "5b949e4b-c712-4095-c37b-f521688da05b"
      },
      "execution_count": 22,
      "outputs": [
        {
          "output_type": "execute_result",
          "data": {
            "text/plain": [
              "Index(['no_of_bathrooms', 'no_of_bedrooms', 'price_per_sqft', 'size_in_sqft'], dtype='object')"
            ]
          },
          "metadata": {},
          "execution_count": 22
        }
      ]
    },
    {
      "cell_type": "code",
      "source": [
        "# self-check\n",
        "# cat_df.columns"
      ],
      "metadata": {
        "id": "0xlFUDPTIOnk"
      },
      "execution_count": 23,
      "outputs": []
    },
    {
      "cell_type": "code",
      "source": [
        "#Grader Cell (3 points)\n",
        "grader.grade(test_case_id = 'cat_num_df', answer = (num_df, cat_df))"
      ],
      "metadata": {
        "id": "2rRaMoMvIQ2p",
        "colab": {
          "base_uri": "https://localhost:8080/"
        },
        "outputId": "f7976699-90f2-494c-abc6-99517826c12c"
      },
      "execution_count": 24,
      "outputs": [
        {
          "output_type": "stream",
          "name": "stdout",
          "text": [
            "Correct! You earned 3/3 points. You are a star!\n",
            "\n",
            "Your submission has been successfully recorded in the gradebook.\n"
          ]
        }
      ]
    },
    {
      "cell_type": "markdown",
      "metadata": {
        "id": "QRaftmxV-FEV"
      },
      "source": [
        "_**Correlation Heatmap**_\n",
        "\n",
        "**Task:** Create a correlation matrix using `num_df` and call it `corr_mat`. Using the correlation matrix, generate a correlation heatmap for these numeric features. You are required to use Seaborn library to create this [heatmap](https://seaborn.pydata.org/generated/seaborn.heatmap.html).\n",
        "\n",
        "Make sure your correlation heatmap meets the following criteria:\n",
        "*   Ensure that your heatmap is sized (8,8): all feature labels should be visible on both the $x$-axis and $y$-axis\n",
        "*   Use the `RdBu` color map to ensure that negative correlations are red and positive correlations are blue\n",
        "*   Standardize the color scale so that -1 takes the darkest red color, 0 is totally white, and +1 takes the darkest blue color"
      ]
    },
    {
      "cell_type": "code",
      "source": [
        "# TODO: Plot correlation heatmap (3 Manually Graded Points)\n",
        "corr_mat = num_df.corr()\n",
        "\n",
        "plt.figure(figsize=(8, 8))\n",
        "sns.set(font_scale=1.2)\n",
        "\n",
        "cmap = \"RdBu\"\n",
        "\n",
        "sns.heatmap(corr_mat, annot=True, cmap=cmap, vmin=-1, vmax=1, fmt=\".2f\", square=True, cbar_kws={\"shrink\": 0.75})\n",
        "\n",
        "plt.title(\"Correlation Heatmap\")\n",
        "\n",
        "plt.show()"
      ],
      "metadata": {
        "id": "vUf-1zk2IauC",
        "colab": {
          "base_uri": "https://localhost:8080/",
          "height": 727
        },
        "outputId": "ce09bada-6fa9-4dbf-b2d4-fd75b5868849"
      },
      "execution_count": 25,
      "outputs": [
        {
          "output_type": "display_data",
          "data": {
            "text/plain": [
              "<Figure size 800x800 with 2 Axes>"
            ],
            "image/png": "[encoded data removed]"
          },
          "metadata": {}
        }
      ]
    },
    {
      "cell_type": "markdown",
      "source": [
        "## **1.3** Feature Engineering [subtotal 4 points]\n",
        "\n",
        "Feature engineering is the process of applying domain knowledge to extract features from raw data via data mining techniques. These features can be used to improve the performance of machine learning algorithms."
      ],
      "metadata": {
        "id": "06OFh_eTNIPI"
      }
    },
    {
      "cell_type": "markdown",
      "source": [
        "### **1.3.1** Cast Boolean Values into Integers [2 Points]"
      ],
      "metadata": {
        "id": "gJ2ptxmkNyG6"
      }
    },
    {
      "cell_type": "markdown",
      "source": [
        "Encoding is a process by which categorical variables are converted into a form that could be provided to ML algorithms to do a better job in prediction.\n",
        "\n",
        "In this section, we want to cast the columns containing Boolean variables into integer values (0 and 1).\n",
        "\n",
        "**Task:**\n",
        "\n",
        "*   You should use `properties_df` for this problem.\n",
        "*   Drop the following columns `id`, `latitude`, `longitude`, `neighborhood`.\n",
        "*   Cast all the columns with Boolean variables as integer values (0 and 1).\n",
        "*   Save results in `encoded_properties_df`.\n"
      ],
      "metadata": {
        "id": "AIaH3ZHsNvei"
      }
    },
    {
      "cell_type": "code",
      "source": [
        "# TODO: drop columns from `df_properties`\n",
        "encoded_properties_df = df_properties.drop(columns=['id', 'latitude', 'longitude', 'neighborhood'])"
      ],
      "metadata": {
        "id": "ttMWoxUPOhqF"
      },
      "execution_count": 26,
      "outputs": []
    },
    {
      "cell_type": "code",
      "source": [
        "# TODO: cast boolean columns into integers\n",
        "boolean_columns = encoded_properties_df.select_dtypes(include='bool').columns\n",
        "encoded_properties_df[boolean_columns] = encoded_properties_df[boolean_columns].astype(int)"
      ],
      "metadata": {
        "id": "vHkQI4mi1fdu"
      },
      "execution_count": 27,
      "outputs": []
    },
    {
      "cell_type": "code",
      "source": [
        "# self-check: no need to change datatypes for this section\n",
        "# encoded_properties_df.info()"
      ],
      "metadata": {
        "id": "4UlLkcFtIhKB"
      },
      "execution_count": 28,
      "outputs": []
    },
    {
      "cell_type": "code",
      "source": [
        "#Grader Cell (2 points)\n",
        "grader.grade(test_case_id = 'one_hot_encoded', answer = encoded_properties_df.head(10))"
      ],
      "metadata": {
        "id": "EXo7TdQ5IjBy",
        "colab": {
          "base_uri": "https://localhost:8080/"
        },
        "outputId": "4807b688-100f-4aaa-e7a7-071585001ab2"
      },
      "execution_count": 29,
      "outputs": [
        {
          "output_type": "stream",
          "name": "stdout",
          "text": [
            "Correct! You earned 2/2 points. You are a star!\n",
            "\n",
            "Your submission has been successfully recorded in the gradebook.\n"
          ]
        }
      ]
    },
    {
      "cell_type": "markdown",
      "source": [
        "### **1.3.2** Encode Classes in 'Quality' Column [2 Points]"
      ],
      "metadata": {
        "id": "4bVkkvxRrWuc"
      }
    },
    {
      "cell_type": "markdown",
      "source": [
        "**Task:** We will be predicting the `quality` for our classification problem. We first want to transform our target into numerical values. Map the classes in the quality column in the following way:\n",
        "*   Low: 0\n",
        "*   Medium: 1\n",
        "*   High: 2\n",
        "*   Ultra: 3\n",
        "\n",
        "You should use `encoded_df_properties` for this problem. Save your results in `encoded_df_properties`."
      ],
      "metadata": {
        "id": "SGMeJ17zsX5v"
      }
    },
    {
      "cell_type": "code",
      "source": [
        "# TODO: create and apply a mapping\n",
        "quality_mapping = {\n",
        "    'Low': 0,\n",
        "    'Medium': 1,\n",
        "    'High': 2,\n",
        "    'Ultra': 3\n",
        "}\n",
        "\n",
        "encoded_properties_df['quality'] = encoded_properties_df['quality'].map(quality_mapping)"
      ],
      "metadata": {
        "id": "HuPVCItW4oGe"
      },
      "execution_count": 30,
      "outputs": []
    },
    {
      "cell_type": "code",
      "source": [
        "# self-check\n",
        "encoded_properties_df['quality'].unique()"
      ],
      "metadata": {
        "id": "1FXihRrTIm9h",
        "colab": {
          "base_uri": "https://localhost:8080/"
        },
        "outputId": "9bd0787f-4847-429a-c15b-6b8fbc164908"
      },
      "execution_count": 31,
      "outputs": [
        {
          "output_type": "execute_result",
          "data": {
            "text/plain": [
              "array([1, 0, 2, 3])"
            ]
          },
          "metadata": {},
          "execution_count": 31
        }
      ]
    },
    {
      "cell_type": "code",
      "source": [
        "#Grader Cell (2 points)\n",
        "grader.grade(test_case_id = 'quality_map', answer = (encoded_properties_df['quality'], encoded_properties_df.head(20)['quality']))"
      ],
      "metadata": {
        "id": "dHy5SOZDIm7J",
        "colab": {
          "base_uri": "https://localhost:8080/"
        },
        "outputId": "2a4b5960-2686-46c7-d1fb-a5993d7a5dc0"
      },
      "execution_count": 32,
      "outputs": [
        {
          "output_type": "stream",
          "name": "stdout",
          "text": [
            "Correct! You earned 2/2 points. You are a star!\n",
            "\n",
            "Your submission has been successfully recorded in the gradebook.\n"
          ]
        }
      ]
    },
    {
      "cell_type": "markdown",
      "metadata": {
        "id": "K-iqlFZacKO9"
      },
      "source": [
        "## **1.4** Modeling (sklearn) [subtotal 43 points]"
      ]
    },
    {
      "cell_type": "markdown",
      "source": [
        "### **1.4.1** Preprocessing: Create Features and Label and Split Data into Train and Test [4 Points]\n",
        "\n",
        "Now that we have explored and cleaned our dataset, let's prepare it for a machine learning task. In this homework, you will work with various models and attempt to predict the `quality` of the property.\n",
        "\n",
        "The features will be all the variables in the dataset **except** `quality`, which will act as the label for our problem. First, store these two as `features` (pd.DataFrame) and `target` (pd.Series), respectively."
      ],
      "metadata": {
        "id": "xPBSUmK9HRHc"
      }
    },
    {
      "cell_type": "code",
      "source": [
        "# TODO: stores features dataframe into variable called \"features\"\n",
        "features = encoded_properties_df.drop(columns=['quality'])\n",
        "\n",
        "# TODO: store the classification target variable into \"target\"\n",
        "target = encoded_properties_df['quality']\n"
      ],
      "metadata": {
        "id": "N7_jhB-LEVNK"
      },
      "execution_count": 33,
      "outputs": []
    },
    {
      "cell_type": "markdown",
      "source": [
        "Now, use Scikit-learn's [`train_test_split`](https://scikit-learn.org/stable/modules/generated/sklearn.model_selection.train_test_split.html) function to split data for regression into training and testing sets. The split should be 80-20 meaning 80% for training and the rest for testing.\n",
        "\n",
        "**_IMPORTANT_: Please set the `seed` variable to 42 and then set the parameter to `random_state = seed`** and store the resulting splits as `X_train, X_test, y_train,` and `y_test`.\n",
        "\n",
        "If you want to understand the purpose of *seed*, please feel free read over this concise yet thorough explanation on [StackOverflow](https://stackoverflow.com/questions/21494489/what-does-numpy-random-seed0-do)."
      ],
      "metadata": {
        "id": "Q4IK9S59ud0Q"
      }
    },
    {
      "cell_type": "code",
      "source": [
        "# TODO: Assign appropriate value to seed and conduct 80/20 train-test split with random_state = seed\n",
        "from sklearn.model_selection import train_test_split\n",
        "\n",
        "seed = 42\n",
        "X = features\n",
        "y = target\n",
        "\n",
        "X_train, X_test, y_train, y_test = train_test_split(X, y, test_size=0.2, random_state=seed)"
      ],
      "metadata": {
        "id": "D48UmEtDEo0g"
      },
      "execution_count": 34,
      "outputs": []
    },
    {
      "cell_type": "code",
      "source": [
        "# Grader cell (4 points)\n",
        "grader.grade(test_case_id = 'train_test_split_classification', answer = (X_train.shape, X_test.shape,\n",
        "                                                                     y_train.shape, y_test.shape,\n",
        "                                                                     seed, Counter(y_test)))"
      ],
      "metadata": {
        "id": "ui5KMAvOIp-5",
        "colab": {
          "base_uri": "https://localhost:8080/"
        },
        "outputId": "2ae55ce0-d298-40dc-bc50-94e7634b4fe5"
      },
      "execution_count": 35,
      "outputs": [
        {
          "output_type": "stream",
          "name": "stdout",
          "text": [
            "Correct! You earned 4/4 points. You are a star!\n",
            "\n",
            "Your submission has been successfully recorded in the gradebook.\n"
          ]
        }
      ]
    },
    {
      "cell_type": "markdown",
      "source": [
        "### **1.4.2** Classification Models [15 points]"
      ],
      "metadata": {
        "id": "IQid9KfyIN2-"
      }
    },
    {
      "cell_type": "markdown",
      "source": [
        "#### (a) Logistic Regression [2 Points]\n",
        "\n",
        "Fit a Logistic Regression classifier on the `X_train` and `y_train` with the hyperparameters provided below. Calculate the accuracy of the model on the test set using the `score` method and store it in a variable named `log_acc`.\n",
        "\n",
        "**Task:**\n",
        "\n",
        "*   Read the Scikit-learn [documentation](https://scikit-learn.org/stable/modules/generated/sklearn.linear_model.LogisticRegression.html) for Logistic Regression.\n",
        "*   For hyperparameters, set the `penalty = None` and set `multi_class = 'multinomial'`.\n",
        "*   Train the logistic regression model and evaluate it using the `score` method.\n",
        "*   Save your score in a variable `log_acc`."
      ],
      "metadata": {
        "id": "M1Vj9AkIIgpL"
      }
    },
    {
      "cell_type": "code",
      "source": [
        "# TODO: Import required libraries\n",
        "from sklearn.linear_model import LogisticRegression\n",
        "from sklearn.metrics import accuracy_score\n",
        "\n",
        "# TODO: Initialize model with the parameters mentioned above and fit it on the training set\n",
        "logistic_regression_model = LogisticRegression(penalty=None, multi_class='multinomial', random_state=seed)\n",
        "logistic_regression_model.fit(X_train, y_train)\n",
        "\n",
        "# TO-DO: Use the model to predict on the test set and save these predictions as `y_pred`\n",
        "y_pred = logistic_regression_model.predict(X_test)\n",
        "\n",
        "# TO-DO: Find the accuracy and store the value in `log_acc`\n",
        "log_acc = accuracy_score(y_test, y_pred)\n",
        "\n",
        "log_acc"
      ],
      "metadata": {
        "id": "1989P2yhIzfJ",
        "colab": {
          "base_uri": "https://localhost:8080/"
        },
        "outputId": "19a4a349-ca36-4484-937e-549a7d061709"
      },
      "execution_count": 36,
      "outputs": [
        {
          "output_type": "execute_result",
          "data": {
            "text/plain": [
              "0.5931758530183727"
            ]
          },
          "metadata": {},
          "execution_count": 36
        }
      ]
    },
    {
      "cell_type": "code",
      "source": [
        "#Grader Cell [2 points]\n",
        "grader.grade(test_case_id = 'check_log_clf', answer = log_acc)"
      ],
      "metadata": {
        "id": "OFVfZ6-uI7TJ",
        "colab": {
          "base_uri": "https://localhost:8080/"
        },
        "outputId": "0eb90edf-1d27-42b6-f034-192d10f3934e"
      },
      "execution_count": 37,
      "outputs": [
        {
          "output_type": "stream",
          "name": "stdout",
          "text": [
            "Correct! You earned 2/2 points. You are a star!\n",
            "\n",
            "Your submission has been successfully recorded in the gradebook.\n"
          ]
        }
      ]
    },
    {
      "cell_type": "markdown",
      "source": [
        "#### (b) Random Forest Classifier [3 Points]\n",
        "\n",
        "Fit a Random Forest classifier on the `X_train` and `y_train` with the hyperparameters provided below. Calculate the accuracy of the model on the test set using the `score` method and store it in a variable named `rf_acc`.\n",
        "\n",
        "**Task:**\n",
        "\n",
        "*   Read the Scikit-learn [documentation](https://scikit-learn.org/stable/modules/generated/sklearn.ensemble.RandomForestClassifier.html) for Random Forest Classifier.\n",
        "*   For hyperparameters, set:\n",
        "    - `class_weight = 'balanced'`\n",
        "    - `n_estimators = 120`\n",
        "    - `max_depth = 30`\n",
        "    - `random_state = 42`\n",
        "*   Train the random forest classifier model and evaluate it using the `score` method.\n",
        "*   Save your score in a variable `rf_acc`.\n",
        "*   Also, compute a [confusion matrix](https://scikit-learn.org/stable/modules/generated/sklearn.metrics.confusion_matrix.html) for your prediction and save it to `rf_confusion`."
      ],
      "metadata": {
        "id": "wgbNIcEFMch4"
      }
    },
    {
      "cell_type": "code",
      "source": [
        "# TODO: Import required libraries\n",
        "from sklearn.ensemble import RandomForestClassifier\n",
        "from sklearn.metrics import accuracy_score, confusion_matrix\n",
        "\n",
        "# TODO: Initialize model with given parameters and fit it on the training set\n",
        "random_forest_model = RandomForestClassifier(class_weight='balanced', n_estimators=120, max_depth=30, random_state=42)\n",
        "random_forest_model.fit(X_train, y_train)\n",
        "\n",
        "# TODO: Use the model to predict on the test set and save these predictions as `y_pred`\n",
        "y_pred_rf = random_forest_model.predict(X_test)\n",
        "\n",
        "# TODO: Find the accuracy and store the value in `rf_acc`\n",
        "rf_acc = accuracy_score(y_test, y_pred_rf)\n",
        "\n",
        "# TODO: Compute the confusion matrix.\n",
        "rf_confusion = confusion_matrix(y_test, y_pred_rf)\n",
        "\n",
        "# self-check\n",
        "# rf_acc, rf_confusion"
      ],
      "metadata": {
        "id": "89LHKRSNI-A5"
      },
      "execution_count": 38,
      "outputs": []
    },
    {
      "cell_type": "code",
      "source": [
        "#Grader Cell\n",
        "grader.grade(test_case_id = 'check_rf_clf', answer = (rf_acc, rf_confusion))"
      ],
      "metadata": {
        "id": "qU_tsY6AJGoB",
        "colab": {
          "base_uri": "https://localhost:8080/"
        },
        "outputId": "8a690d27-996a-438c-f2b5-29a3ce884aaa"
      },
      "execution_count": 39,
      "outputs": [
        {
          "output_type": "stream",
          "name": "stdout",
          "text": [
            "Correct! You earned 3/3 points. You are a star!\n",
            "\n",
            "Your submission has been successfully recorded in the gradebook.\n"
          ]
        }
      ]
    },
    {
      "cell_type": "markdown",
      "source": [
        "#### (c) PCA to Reduce Dimensionality [6 Points] (2 manually graded points)\n",
        "\n",
        "The goal of Principal Component Analysis is to reduce number of dimensions of our features. Please read the documentation for [StandardScaler](https://scikit-learn.org/stable/modules/generated/sklearn.preprocessing.StandardScaler.html) and [PCA](https://scikit-learn.org/stable/modules/generated/sklearn.decomposition.PCA.html) before attempting the problem.\n",
        "\n",
        "*Hint: Understanding of standardization and respective Scikit-learn functions under StandardScaler() class, like fit(), fit_transform(), transform(), is commonly tested on Midterm 2, so we advise you read the documentation. 👀*"
      ],
      "metadata": {
        "id": "lbSul1eKNIVG"
      }
    },
    {
      "cell_type": "markdown",
      "source": [
        "_**Initial PCA**_\n",
        "\n",
        "As a first step instantiate and fit `PCA` from scikit-learn on your training set. We are not reducing the dimensionality of our data in this step but rather trying to find what would be the ideal number of Principal Components to choose. So keep all Principal Components for this step\n",
        "\n",
        "Please remember that PCA is **not** scale-invariant! What does this imply you need to do first?"
      ],
      "metadata": {
        "id": "caGTeWhxNL3K"
      }
    },
    {
      "cell_type": "code",
      "source": [
        "# TODO: Import libraries\n",
        "from sklearn.preprocessing import StandardScaler\n",
        "from sklearn.decomposition import PCA\n",
        "\n",
        "# TODO: Intermediate step to address scale-invariance\n",
        "scaler = StandardScaler()\n",
        "X_train_scaled = scaler.fit_transform(X_train)\n",
        "X_test_scaled = scaler.transform(X_test)\n",
        "\n",
        "\n",
        "# TODO: Instantiate and Fit PCA\n",
        "pca = PCA()\n",
        "X2 = pca.fit(X_train_scaled)"
      ],
      "metadata": {
        "id": "PuETOl5gQuNb"
      },
      "execution_count": 40,
      "outputs": []
    },
    {
      "cell_type": "markdown",
      "source": [
        "_**Cumulative Explained Variance Ratios**_\n",
        "\n",
        "Create an array of explained variance ratios and store it into a variable called `explained_variance_ratios`. Also, calculate the _cumulative_ explained variance ratios and store that into another variable called `cum_evr`."
      ],
      "metadata": {
        "id": "oeJnO6EENQQq"
      }
    },
    {
      "cell_type": "code",
      "source": [
        "# TODO: Save the explained variance ratios into variable called \"explained_variance_ratios\"\n",
        "explained_variance_ratios = pca.explained_variance_ratio_\n",
        "\n",
        "\n",
        "# TODO: Save the CUMULATIVE explained variance ratios into variable called \"cum_evr\"\n",
        "cum_evr = explained_variance_ratios.cumsum()"
      ],
      "metadata": {
        "id": "LomThMizJIlR"
      },
      "execution_count": 41,
      "outputs": []
    },
    {
      "cell_type": "code",
      "source": [
        "# 2 points\n",
        "#Grader cell\n",
        "grader.grade(test_case_id = 'check_pca_explained_variance', answer = (explained_variance_ratios, cum_evr))"
      ],
      "metadata": {
        "id": "gjaETVLzJQM6",
        "colab": {
          "base_uri": "https://localhost:8080/"
        },
        "outputId": "2bfaed9b-0ca3-415c-e936-83209c2c0bf0"
      },
      "execution_count": 42,
      "outputs": [
        {
          "output_type": "stream",
          "name": "stdout",
          "text": [
            "Correct! You earned 2/2 points. You are a star!\n",
            "\n",
            "Your submission has been successfully recorded in the gradebook.\n"
          ]
        }
      ]
    },
    {
      "cell_type": "markdown",
      "source": [
        "**Task:** Plot the _cumulative_ `explained_variance_ratio` against the number of components to decide the number of components you should keep. Also add a horizontal line that represents the 80% of the variance as a threshold.\n",
        "\n",
        "As before, you should ensure that the plot follows the best practices you've developed over the past 2 plotting exercises in this HW (Labelling the axes and adding title to the plot). **This will be manually graded for 2 points**\n",
        "\n",
        "**Requirements:**\n",
        "\n",
        "You should use `cum_evr` and Matplotlib for this problem.\n",
        "\n",
        "Your plot must:\n",
        "*   Be of size (8,3) and have both lines clearly represented.\n",
        "*   Have appropriate titles and axes labels and correct ticks.\n",
        "*   Be clearly legible and should **not** have overlapping text.\n",
        "\n",
        "_**CAUTION:** Recall that Python starts counting from 0, but this would make it very unintuitive when reading from your graph. We strongly recommend that you modify the x-axis of your graph so that the **number of components begins at 1**. Otherwise, you may risk making silly mistakes in the subsequent sections._"
      ],
      "metadata": {
        "id": "UNzvjLeTNZB-"
      }
    },
    {
      "cell_type": "code",
      "source": [
        "# TODO: (2 Manually Graded Points) find optimal num components\n",
        "# to use (n) by plotting explained variance ratio\n",
        "import matplotlib.pyplot as plt\n",
        "\n",
        "plt.figure(figsize=(8, 3))\n",
        "\n",
        "plt.plot(range(1, len(cum_evr) + 1), cum_evr, marker='o', linestyle='-', color='b', label='Cumulative Explained Variance Ratio')\n",
        "plt.axhline(y=0.8, color='r', linestyle='--', label='80% Variance Threshold')\n",
        "\n",
        "plt.title('Cumulative Explained Variance Ratio vs. Number of Components')\n",
        "plt.xlabel('Number of Components')\n",
        "plt.ylabel('Cum. Exp. Var. Ratio')\n",
        "\n",
        "plt.xticks(range(1, len(cum_evr) + 1), rotation='vertical')\n",
        "plt.legend()\n",
        "\n",
        "plt.show()"
      ],
      "metadata": {
        "id": "c5_hXQIKJST6",
        "colab": {
          "base_uri": "https://localhost:8080/",
          "height": 352
        },
        "outputId": "e7f267d7-582a-4b2d-a0e1-19b7a71a0c70"
      },
      "execution_count": 43,
      "outputs": [
        {
          "output_type": "display_data",
          "data": {
            "text/plain": [
              "<Figure size 800x300 with 1 Axes>"
            ],
            "image/png": "[encoded data removed]"
          },
          "metadata": {}
        }
      ]
    },
    {
      "cell_type": "markdown",
      "source": [
        "_**Final PCA**_\n",
        "\n",
        "Using your results above to help you decide the number of components to keep, choose a number (`n`) that explains **at least 80% of total variance** in the dataset. *If the intersection of your cumulative rato and the variance line looks like it may be between two principal components, we advise rounding up to the nearest prinipal component.* Then re-fit and transform your PCA on the training set using the number of components you decided.\n",
        "\n",
        "Remember that your PCA should be trained on the training set (`X_train`) but only transformed on the test set (`X_test`).\n",
        "\n",
        "Call your transformed set of principal components `X_test_pca` in order to submit it to the autograder."
      ],
      "metadata": {
        "id": "PIhrE2ILNmve"
      }
    },
    {
      "cell_type": "code",
      "source": [
        "# TODO: Get transformed set of principal components on x_test\n",
        "\n",
        "# 1. Refit and transform on training with parameter n (as deduced from the last step)\n",
        "pca_final = PCA(n_components=16)\n",
        "X_train_pca = pca_final.fit_transform(X_train_scaled)\n",
        "\n",
        "\n",
        "# 2. Transform on Testing Set and store it as `x_test_pca`\n",
        "X_test_pca = pca_final.transform(X_test_scaled)"
      ],
      "metadata": {
        "id": "o3jrh59gGZ0s"
      },
      "execution_count": 44,
      "outputs": []
    },
    {
      "cell_type": "code",
      "source": [
        "# 2 points\n",
        "# Grader cell\n",
        "grader.grade(test_case_id = 'check_fitted_pca', answer = X_test_pca)"
      ],
      "metadata": {
        "id": "ee2s1O4FJ0Gy",
        "colab": {
          "base_uri": "https://localhost:8080/"
        },
        "outputId": "afca04a4-6525-44af-96ab-a4be89ae8860"
      },
      "execution_count": 45,
      "outputs": [
        {
          "output_type": "stream",
          "name": "stdout",
          "text": [
            "Correct! You earned 2/2 points. You are a star!\n",
            "\n",
            "Your submission has been successfully recorded in the gradebook.\n"
          ]
        }
      ]
    },
    {
      "cell_type": "markdown",
      "source": [
        "#### (d) Logistic Regression with PCA [4 Points]\n",
        "\n",
        "**Tasks:**\n",
        "\n",
        "1. Fit a logistic regression model on your Final Principal Components data using your optimal `n` value. Name the model `log_reg_pca`\n",
        "    - For hyperparameters, set the `penalty = None` and set `multi_class = 'multinomial'`.\n",
        "2. Make predictions on the test set.\n",
        "3. Report accuracy for the test set and call it `test_accuracy`"
      ],
      "metadata": {
        "id": "TzIlLTj0Nq92"
      }
    },
    {
      "cell_type": "code",
      "source": [
        "# TODO: Initialize `log_reg_pca` model with default parameters and fit it on the PCA transformed training set\n",
        "log_reg_pca = LogisticRegression(penalty='none', multi_class='multinomial')\n",
        "log_reg_pca.fit(X_train_pca, y_train)\n",
        "\n",
        "# TODO: Use the model to predict on the PCA transformed test set and save these predictions as `y_pred`\n",
        "y_pred = log_reg_pca.predict(X_test_pca)\n",
        "\n",
        "# TODO: Find the accuracy and store the value in `test_accuracy`\n",
        "\n",
        "test_accuracy = log_reg_pca.score(X_test_pca, y_test)\n",
        "\n",
        "test_accuracy"
      ],
      "metadata": {
        "id": "sUMXF0YDJ2ci",
        "colab": {
          "base_uri": "https://localhost:8080/"
        },
        "outputId": "6c1527ed-76fe-49fc-8de9-08c3b7cd9ca3"
      },
      "execution_count": 46,
      "outputs": [
        {
          "output_type": "stream",
          "name": "stderr",
          "text": [
            "/usr/local/lib/python3.10/dist-packages/sklearn/linear_model/_logistic.py:1173: FutureWarning: `penalty='none'`has been deprecated in 1.2 and will be removed in 1.4. To keep the past behaviour, set `penalty=None`.\n",
            "  warnings.warn(\n"
          ]
        },
        {
          "output_type": "execute_result",
          "data": {
            "text/plain": [
              "0.9921259842519685"
            ]
          },
          "metadata": {},
          "execution_count": 46
        }
      ]
    },
    {
      "cell_type": "code",
      "source": [
        "# Grader (4 points)\n",
        "grader.grade(test_case_id = 'check_log_reg_pca', answer = (test_accuracy, log_reg_pca.n_features_in_, y_pred))"
      ],
      "metadata": {
        "id": "aIXO5MaRJ6G5",
        "colab": {
          "base_uri": "https://localhost:8080/"
        },
        "outputId": "8241f76f-5f7d-4068-e93d-fe00fc668fea"
      },
      "execution_count": 47,
      "outputs": [
        {
          "output_type": "stream",
          "name": "stdout",
          "text": [
            "Correct! You earned 4/4 points. You are a star!\n",
            "\n",
            "Your submission has been successfully recorded in the gradebook.\n"
          ]
        }
      ]
    },
    {
      "cell_type": "markdown",
      "source": [
        "### **1.4.3.0** Regression: Split Data into Train and Test [4 Points]\n",
        "\n",
        "**Task:**\n",
        " We will be predicting `price` for regression models.\n",
        "\n",
        " Drop all column except for `price`, `size_in_sqft`, `no_of_bedrooms`, and `no_of_bathrooms`. Save these columns in `reg_df_properties`. `price` will be your target variable and the others will be the features.\n",
        "\n",
        "\n",
        " Then, use scikit-learn's `train_test_split` function to split data for regression into train and test sets. The split should be 80-20 meaning 80% for training and rest for testing.\n",
        "\n",
        "**_IMPORTANT_: Please set the `seed` variable to 42 and then set the parameter to `random_state = seed`** and store the resulting splits as `X_train, X_test, y_train,` and `y_test`."
      ],
      "metadata": {
        "id": "tYGjFnJ8kfaK"
      }
    },
    {
      "cell_type": "code",
      "source": [
        "# TODO save columns price, size_in_sqft, no_of_bedrooms, and no_of_bathrooms as reg_df_properties\n",
        "reg_df_properties = encoded_properties_df[['price', 'size_in_sqft', 'no_of_bedrooms', 'no_of_bathrooms']]"
      ],
      "metadata": {
        "id": "X6uGSdSYbLaO"
      },
      "execution_count": 48,
      "outputs": []
    },
    {
      "cell_type": "code",
      "source": [
        "# TODO: stores features dataframe into variable called \"features\"\n",
        "features = reg_df_properties.drop('price', axis=1)\n",
        "\n",
        "# TODO: store the classification target variable (`price`) into \"target\"\n",
        "target = reg_df_properties['price']"
      ],
      "metadata": {
        "id": "5f8a8uTcmTSV"
      },
      "execution_count": 49,
      "outputs": []
    },
    {
      "cell_type": "code",
      "source": [
        "# TODO: Assign appropriate value to seed and conduct 80/20 train-test split with random_state = seed\n",
        "seed = 42\n",
        "X_train, X_test, y_train, y_test = train_test_split(features, target, test_size=0.2, random_state=seed)"
      ],
      "metadata": {
        "id": "Z5rG25VRkfaL"
      },
      "execution_count": 50,
      "outputs": []
    },
    {
      "cell_type": "code",
      "source": [
        "# Grader cell (4 points)\n",
        "grader.grade(test_case_id = 'train_test_split_regression', answer = (X_train.shape, X_test.shape,\n",
        "                                                                     y_train.shape, y_test.shape,\n",
        "                                                                     seed))"
      ],
      "metadata": {
        "id": "cY1Rrlx5KGIR",
        "colab": {
          "base_uri": "https://localhost:8080/"
        },
        "outputId": "43d3cef9-a92d-4b85-ff48-1ad287701330"
      },
      "execution_count": 51,
      "outputs": [
        {
          "output_type": "stream",
          "name": "stdout",
          "text": [
            "Correct! You earned 4/4 points. You are a star!\n",
            "\n",
            "Your submission has been successfully recorded in the gradebook.\n"
          ]
        }
      ]
    },
    {
      "cell_type": "markdown",
      "metadata": {
        "id": "NGlb6tnNcKO-"
      },
      "source": [
        "### **1.4.3.1** Regression Models [10 points]\n",
        "\n",
        "In this section, we will switch from classification models to regression models.\n",
        "\n",
        "Let's use the features we created in 1.4.3.0 to create regression models and predict the average price per room."
      ]
    },
    {
      "cell_type": "markdown",
      "source": [
        "#### (a) Linear Regression (Unregularized) [5 Points]\n",
        "\n",
        "Use the `LinearRegression` class in scikit-learn to perform Linear Regression. Initialize a Linear regression model named `reg` with default parameters, fit the model to the training set, and then make predictions on the testing set Save your predictions in an array named `y_pred`, and report your R-squared score (saved it as a variable called `lin_reg_score`).\n",
        "\n",
        "**Task:**\n",
        "\n",
        "*   Read the Scikit-learn [documentation](https://scikit-learn.org/stable/modules/generated/sklearn.linear_model.LinearRegression.html) for Linear Regression.\n",
        "*   Use default hyperparameters.\n",
        "*   Train the linear regression model and evaluate it using the `score` method.\n",
        "*   Save your score in a variable `lin_reg_score`."
      ],
      "metadata": {
        "id": "GlMOX0ljUk12"
      }
    },
    {
      "cell_type": "code",
      "source": [
        "# TODO: Import required libraries\n",
        "from sklearn.linear_model import LinearRegression\n",
        "from sklearn.metrics import r2_score\n",
        "\n",
        "# TODO: Initialize model with default parameters and fit it on the training set\n",
        "reg = LinearRegression()\n",
        "reg.fit(X_train, y_train)\n",
        "\n",
        "# TODO: Use the model to predict on the test set and save these predictions as `y_pred`\n",
        "y_pred = reg.predict(X_test)\n",
        "\n",
        "# TODO: Find the R-squared score and store the value in `lin_reg_score`\n",
        "lin_reg_score = r2_score(y_test, y_pred)"
      ],
      "metadata": {
        "id": "6PCTGcGEokY2"
      },
      "execution_count": 52,
      "outputs": []
    },
    {
      "cell_type": "code",
      "source": [
        "# Grader (5 points)\n",
        "grader.grade(test_case_id = 'check_linear_reg', answer = (lin_reg_score, reg.coef_, reg.intercept_))\n"
      ],
      "metadata": {
        "id": "p3haAMi9KfVp",
        "colab": {
          "base_uri": "https://localhost:8080/"
        },
        "outputId": "91c403ea-9e0e-49a8-d130-d760911b53ac"
      },
      "execution_count": 53,
      "outputs": [
        {
          "output_type": "stream",
          "name": "stdout",
          "text": [
            "Correct! You earned 5/5 points. You are a star!\n",
            "\n",
            "Your submission has been successfully recorded in the gradebook.\n"
          ]
        }
      ]
    },
    {
      "cell_type": "markdown",
      "metadata": {
        "id": "G7EV4dpDcKO_"
      },
      "source": [
        "#### (b) Lasso Regression [5 Points]\n",
        "\n",
        "Use the `Lasso` class in scikit-learn to perform $L_1$ Regularized Linear Regression. Initialize a Ridge regression model named `reg_ridge` with regularization strength `alpha = 0.5`, fit the model to the training set, and then make predictions on the testing set. Report your $R^2$ score and save it as a variable called `lasso_score`.\n",
        "\n",
        "**Note:** Recall that Ridge regression is not scale-invariant, so you will need to standardize the features prior to modeling.\n",
        "\n",
        "**Task:**\n",
        "\n",
        "*   Read the Scikit-learn [documentation](https://scikit-learn.org/stable/modules/generated/sklearn.linear_model.Lasso.html#sklearn.linear_model.Lasso) for Lasso Regression.\n",
        "*   Set `alpha = 0.5`.\n",
        "*   Train the Lasso regression model and evaluate it using the `score` method.\n",
        "*   Save your score in a variable `lasso_score`."
      ]
    },
    {
      "cell_type": "code",
      "source": [
        "# TODO: Intermediate step to address scale-invariance\n",
        "scaler = StandardScaler()\n",
        "X_train_scaled = scaler.fit_transform(X_train)\n",
        "X_test_scaled = scaler.transform(X_test)"
      ],
      "metadata": {
        "id": "pUi11tA3zCUe"
      },
      "execution_count": 54,
      "outputs": []
    },
    {
      "cell_type": "code",
      "source": [
        "# TODO: Import required libraries\n",
        "from sklearn.linear_model import Lasso\n",
        "\n",
        "# TODO: Initialize model with alpha = 1 (keep other hyperparameters as default values) and fit it on the training set\n",
        "reg_lasso = Lasso(alpha=0.5)\n",
        "reg_lasso.fit(X_train_scaled, y_train)\n",
        "\n",
        "# TODO: Use the model to predict on the test set and save these predictions as `y_pred`\n",
        "y_pred = reg_lasso.predict(X_test_scaled)\n",
        "\n",
        "# TODO: Find the R-squared score and store the value in `lasso_score`\n",
        "lasso_score = reg_lasso.score(X_test_scaled, y_test)\n",
        "lasso_score"
      ],
      "metadata": {
        "id": "WOKnu3kiKotN",
        "colab": {
          "base_uri": "https://localhost:8080/"
        },
        "outputId": "89e5d726-47be-46a9-859c-b5b1d32a4d61"
      },
      "execution_count": 55,
      "outputs": [
        {
          "output_type": "execute_result",
          "data": {
            "text/plain": [
              "0.7092097454167732"
            ]
          },
          "metadata": {},
          "execution_count": 55
        }
      ]
    },
    {
      "cell_type": "code",
      "source": [
        "# Grader (2 points)\n",
        "grader.grade(test_case_id = 'check_lasso_reg', answer = (lasso_score, reg_lasso.alpha, reg_lasso.coef_))"
      ],
      "metadata": {
        "id": "dDnz9Tx0KqZ6",
        "colab": {
          "base_uri": "https://localhost:8080/"
        },
        "outputId": "baaf8e72-a836-4048-f127-13c5e0d1fc53"
      },
      "execution_count": 56,
      "outputs": [
        {
          "output_type": "stream",
          "name": "stdout",
          "text": [
            "Correct! You earned 5/5 points. You are a star!\n",
            "\n",
            "Your submission has been successfully recorded in the gradebook.\n"
          ]
        }
      ]
    },
    {
      "cell_type": "markdown",
      "source": [
        "### **1.4.4** K-Means Clustering [10 points]\n",
        "\n",
        "K-means clustering is a popular unsupervised machine learning algorithm that is used for grouping similar data points into a predetermined number of clusters. It is a simple and effective algorithm that is widely used in various fields such as image processing, recommendation systems, and customer segmentation.\n",
        "\n",
        "An elbow plot is a visualization tool used to determine the optimal number of clusters for a dataset. It plots the within-cluster sum of squares (WCSS) against the number of clusters. WCSS is the sum of the squared distance between each data point and its assigned centroid. The elbow plot helps you to choose the number of clusters that minimize the WCSS while avoiding overfitting.\n",
        "\n",
        "Please refer to the [Kmeans documentation](https://scikit-learn.org/stable/modules/generated/sklearn.cluster.KMeans.html) to find out how to compute the sum of squared distances.\n",
        "\n",
        "**We will be using the same features from the classification setting.\n",
        "To determine the best k for the clustering, let's firstly generate an elbow plot.**\n",
        "- Consider number of clusters from 2 to 10\n",
        "- Set parameter `n_init` to 5.\n",
        "- Set random seed to 0.\n",
        "\n",
        "**The elbow plot (4 points) will be manully graded**\n",
        "- x-axis is the \"number of clusters\", i.e. \"k\".\n",
        "- y-axis is the within-cluster sum of squares (WCSS) value\n",
        "- add proper titles for the plot and axis.\n",
        "\n",
        "\n",
        "**Note that standardizing the data before performing k-means clustering is often recommended, but for illustration purpose, we do not standardize the input in this section.**"
      ],
      "metadata": {
        "id": "iX1UkLEjk7U_"
      }
    },
    {
      "cell_type": "markdown",
      "source": [
        "#### (a) Find the best number of clusters with the elbow plot"
      ],
      "metadata": {
        "id": "nTF8RcWHtJf1"
      }
    },
    {
      "cell_type": "code",
      "source": [
        "# TODO: Prepare the data (the same features from the classification setting, i.e. excluding \"quality\")\n",
        "# stores features dataframe into variable called \"features\"\n",
        "features = encoded_properties_df.drop(columns=['quality'])"
      ],
      "metadata": {
        "id": "XXEC7Ab9k_4W"
      },
      "execution_count": 57,
      "outputs": []
    },
    {
      "cell_type": "code",
      "source": [
        "# Import the necessary libraries\n",
        "import matplotlib.pyplot as plt\n",
        "from sklearn.cluster import KMeans\n",
        "\n",
        "# TODO: (4 Manually Graded Points) for k ranges from 2 to 10, fit on \"features\" to generate an elbow plot\n",
        "wcss = []\n",
        "k_values = range(2, 11)\n",
        "\n",
        "for k in k_values:\n",
        "    kmeans = KMeans(n_clusters=k, n_init=5, random_state=0)\n",
        "    kmeans.fit(features)\n",
        "    wcss.append(kmeans.inertia_)\n",
        "\n",
        "plt.figure(figsize=(8, 6))\n",
        "plt.plot(k_values, wcss, marker='o', linestyle='-', color='b')\n",
        "plt.title('Elbow Plot for Optimal Number of Clusters')\n",
        "plt.xlabel('Number of Clusters')\n",
        "plt.ylabel('Within-Cluster Sum of Squares (WCSS)')\n",
        "\n",
        "plt.show()"
      ],
      "metadata": {
        "id": "ryEmlfE9KvW6",
        "colab": {
          "base_uri": "https://localhost:8080/",
          "height": 578
        },
        "outputId": "5f4c4b00-c1d0-4b0a-c45c-d8210277f3b7"
      },
      "execution_count": 58,
      "outputs": [
        {
          "output_type": "display_data",
          "data": {
            "text/plain": [
              "<Figure size 800x600 with 1 Axes>"
            ],
            "image/png": "[encoded data removed]"
          },
          "metadata": {}
        }
      ]
    },
    {
      "cell_type": "code",
      "source": [
        "# TODO: choose the best number of clusters (the elbow) and fill in\n",
        "number_of_clusters = 5"
      ],
      "metadata": {
        "id": "DMZqEOq7rW95"
      },
      "execution_count": 59,
      "outputs": []
    },
    {
      "cell_type": "code",
      "source": [
        "# Grader (2 points)\n",
        "grader.grade(test_case_id = 'kmeans_elbow', answer = (number_of_clusters, wcss))"
      ],
      "metadata": {
        "id": "ZzzTpo8wKxia",
        "colab": {
          "base_uri": "https://localhost:8080/"
        },
        "outputId": "291dd8fd-2c21-4b34-e49d-bc028b18f611"
      },
      "execution_count": 60,
      "outputs": [
        {
          "output_type": "stream",
          "name": "stdout",
          "text": [
            "Correct! You earned 3/3 points. You are a star!\n",
            "\n",
            "Your submission has been successfully recorded in the gradebook.\n"
          ]
        }
      ]
    },
    {
      "cell_type": "markdown",
      "source": [
        "#### (b) Re-fit with the best number of clusters"
      ],
      "metadata": {
        "id": "EQLHFhzds7BC"
      }
    },
    {
      "cell_type": "code",
      "source": [
        "# TODO: re-run the K-Means clustering with the best number of clusters\n",
        "features = encoded_properties_df.drop(columns=['quality'])\n",
        "kmeans =  KMeans(n_clusters=5, n_init=5, random_state=0).fit(features)"
      ],
      "metadata": {
        "id": "2EKE2fOEK0Gq"
      },
      "execution_count": 61,
      "outputs": []
    },
    {
      "cell_type": "code",
      "source": [
        "# Grader (3 points)\n",
        "grader.grade(test_case_id = 'refit_kmeans', answer = (Counter(kmeans.labels_), kmeans.n_features_in_))"
      ],
      "metadata": {
        "id": "9veijEgkK4mp",
        "colab": {
          "base_uri": "https://localhost:8080/"
        },
        "outputId": "562c9b29-543a-4fc9-b5a4-4eeed2d6ca80"
      },
      "execution_count": 62,
      "outputs": [
        {
          "output_type": "stream",
          "name": "stdout",
          "text": [
            "Correct! You earned 3/3 points. You are a star!\n",
            "\n",
            "Your submission has been successfully recorded in the gradebook.\n"
          ]
        }
      ]
    },
    {
      "cell_type": "markdown",
      "metadata": {
        "id": "nyURjOkMcKPD"
      },
      "source": [
        "# **Part II:** Distributed Machine Learning with Spark (35  points)\n",
        "\n",
        "Apache Spark ML is a machine learning library that consists of common learning algorithms and utilities, including classification, regression, clustering, collaborative filtering, dimensionality reduction, and underlying optimization primitives.\n",
        "\n",
        "**Why Spark ML?**\n",
        "\n",
        "Moving to the Big Data Era requires heavy iterative computations on very large datasets. Standard implementations of machine learning algorithms require very powerful machines to be able to run. However, depending on high-end machines is not advantageous due to their high price and improper costs of scaling up. The idea of using distributed computing engines is to distribute the calculations to multiple low-end machines (commodity hardware) instead of a single high-end one. _This **definitely speeds up** the learning phase and allows us to create better models._\n",
        "\n",
        "**Read more about it with the Python documentation [here](https://spark.apache.org/docs/latest/ml-guide.html)**.\n",
        "\n",
        "Run the code below to set up Spark."
      ]
    },
    {
      "cell_type": "markdown",
      "source": [
        "**Note:** The cell below may take upto a 4-5 minutes to run."
      ],
      "metadata": {
        "id": "PY9ShBxkOQT0"
      }
    },
    {
      "cell_type": "code",
      "source": [
        "%%capture\n",
        "\n",
        "!apt install libkrb5-dev\n",
        "!wget https://downloads.apache.org/spark/spark-3.1.2/spark-3.1.2-bin-hadoop3.2.tgz\n",
        "!tar xf spark-3.1.2-bin-hadoop3.2.tgz\n",
        "!pip install findspark\n",
        "!pip install sparkmagic\n",
        "!pip install pyspark\n",
        "! pip install pyspark --user\n",
        "! pip install seaborn --user\n",
        "! pip install plotly --user\n",
        "! pip install imageio --user\n",
        "! pip install folium --user"
      ],
      "metadata": {
        "id": "9Eo8fwt8OcMa"
      },
      "execution_count": 63,
      "outputs": []
    },
    {
      "cell_type": "code",
      "source": [
        "import pyspark\n",
        "from pyspark.sql import SQLContext\n",
        "from pyspark.sql import SparkSession\n",
        "from pyspark.sql.types import *\n",
        "import pyspark.sql.functions as F\n",
        "\n",
        "spark = SparkSession.builder.appName('bigdata-hw4').getOrCreate()\n",
        "sqlContext = SQLContext(spark)"
      ],
      "metadata": {
        "colab": {
          "base_uri": "https://localhost:8080/"
        },
        "id": "lwqTpkc3Ogz3",
        "outputId": "17e58309-6dee-48bd-d727-c7e5a8c1feab"
      },
      "execution_count": 64,
      "outputs": [
        {
          "output_type": "stream",
          "name": "stderr",
          "text": [
            "/usr/local/lib/python3.10/dist-packages/pyspark/sql/context.py:113: FutureWarning: Deprecated in 3.0.0. Use SparkSession.builder.getOrCreate() instead.\n",
            "  warnings.warn(\n"
          ]
        }
      ]
    },
    {
      "cell_type": "code",
      "source": [
        "%load_ext sparkmagic.magics"
      ],
      "metadata": {
        "id": "WAjmBWz7Oqs0"
      },
      "execution_count": 65,
      "outputs": []
    },
    {
      "cell_type": "code",
      "source": [
        "# Graph section\n",
        "import networkx as nx\n",
        "\n",
        "# SQLite RDBMS\n",
        "import sqlite3\n",
        "\n",
        "import os\n",
        "os.environ['SPARK_HOME'] = '/content/spark-3.1.2-bin-hadoop3.2'\n",
        "os.environ[\"JAVA_HOME\"] = \"/usr/lib/jvm/java-8-openjdk-amd64\""
      ],
      "metadata": {
        "id": "TfQ72cpUOr3l"
      },
      "execution_count": 66,
      "outputs": []
    },
    {
      "cell_type": "markdown",
      "source": [
        "## **2.1** Initializing Spark Data [Subtotal 2 Points]\n",
        "\n",
        "We have the spark setup ready, and we now need the data for our ML algorithms. We will use the data you processed in Part I, but in Spark."
      ],
      "metadata": {
        "id": "6F4x_ia7RGyp"
      }
    },
    {
      "cell_type": "markdown",
      "source": [
        "### **2.1.0** Converting the Pandas Dataframe into a Spark Dataframe [0 Points]\n",
        "\n",
        "Read the `encoded_df_properties` that you created in Part I into a Spark dataframe (`sdf`) and name the SDF as `properties_sdf`. \\\\\n",
        "**Note:** Just like Part I, the target variable (label) for this section will be `\"quality\"`."
      ],
      "metadata": {
        "id": "WYTG07Kq4E82"
      }
    },
    {
      "cell_type": "code",
      "source": [
        "#TODO: Read encoded_df_reservations into a Spark Dataframe called properties_sdf\n",
        "properties_sdf = spark.createDataFrame(encoded_properties_df)"
      ],
      "metadata": {
        "id": "UQtC3kw7rf1V"
      },
      "execution_count": 67,
      "outputs": []
    },
    {
      "cell_type": "code",
      "source": [
        "# TODO: Verify that the schema of your Spark dataframe matches the above\n",
        "#        Make sure to double-check that the target variable i.e. quality is of type \"double\"\n",
        "from pyspark.sql.functions import col\n",
        "properties_sdf = properties_sdf.withColumn(\"quality\", col(\"quality\").cast(\"double\"))"
      ],
      "metadata": {
        "id": "xL5S9baj1gLn"
      },
      "execution_count": 68,
      "outputs": []
    },
    {
      "cell_type": "markdown",
      "source": [
        "Print out the Dataframe Schema and verify the datatypes. If you did everything correctly so far, the schema should be:\n",
        "\n",
        "**Note:** Especially ensure that the target variable is of the datatype `double`. Cast it to the correct datatype, if needed."
      ],
      "metadata": {
        "id": "ywmJD03O0Zas"
      }
    },
    {
      "cell_type": "code",
      "source": [
        "# TODO: Verify that the schema of your Spark dataframe matches the above\n",
        "# Make sure to double-check that the target variable i.e. quality is of type \"double\"\n",
        "properties_sdf.printSchema()"
      ],
      "metadata": {
        "id": "NKzFimSKK_Qp",
        "colab": {
          "base_uri": "https://localhost:8080/"
        },
        "outputId": "6e19321e-ba40-4819-e01c-3082015d3cc7"
      },
      "execution_count": 69,
      "outputs": [
        {
          "output_type": "stream",
          "name": "stdout",
          "text": [
            "root\n",
            " |-- price: long (nullable = true)\n",
            " |-- size_in_sqft: long (nullable = true)\n",
            " |-- price_per_sqft: double (nullable = true)\n",
            " |-- no_of_bedrooms: long (nullable = true)\n",
            " |-- no_of_bathrooms: long (nullable = true)\n",
            " |-- quality: double (nullable = true)\n",
            " |-- maid_room: long (nullable = true)\n",
            " |-- unfurnished: long (nullable = true)\n",
            " |-- balcony: long (nullable = true)\n",
            " |-- barbecue_area: long (nullable = true)\n",
            " |-- built_in_wardrobes: long (nullable = true)\n",
            " |-- central_ac: long (nullable = true)\n",
            " |-- childrens_play_area: long (nullable = true)\n",
            " |-- childrens_pool: long (nullable = true)\n",
            " |-- concierge: long (nullable = true)\n",
            " |-- covered_parking: long (nullable = true)\n",
            " |-- kitchen_appliances: long (nullable = true)\n",
            " |-- lobby_in_building: long (nullable = true)\n",
            " |-- maid_service: long (nullable = true)\n",
            " |-- networked: long (nullable = true)\n",
            " |-- pets_allowed: long (nullable = true)\n",
            " |-- private_garden: long (nullable = true)\n",
            " |-- private_gym: long (nullable = true)\n",
            " |-- private_jacuzzi: long (nullable = true)\n",
            " |-- private_pool: long (nullable = true)\n",
            " |-- security: long (nullable = true)\n",
            " |-- shared_gym: long (nullable = true)\n",
            " |-- shared_pool: long (nullable = true)\n",
            " |-- shared_spa: long (nullable = true)\n",
            " |-- study: long (nullable = true)\n",
            " |-- vastu_compliant: long (nullable = true)\n",
            " |-- view_of_landmark: long (nullable = true)\n",
            " |-- view_of_water: long (nullable = true)\n",
            " |-- walk_in_closet: long (nullable = true)\n",
            "\n"
          ]
        }
      ]
    },
    {
      "cell_type": "markdown",
      "source": [
        "### **2.1.1** Setting Up a VectorAssembler [2 Points]\n",
        "\n",
        "Great! We have the processed data now. For Spark ML, we need to create a feature column which has all features concatenated as a list, and a single column for labels (which we already have!)\n",
        "We will use `VectorAssembler()` to create a feature vector from all our features, and we will call this vectorized variable as “features”.\n",
        "\n",
        "First, list all column names in `properties_sdf` and store them in a list variable called `all_columns`."
      ],
      "metadata": {
        "id": "X3WUlDEv46rH"
      }
    },
    {
      "cell_type": "code",
      "source": [
        "# TODO: store all column names in the data_sdf in a list called \"all_columns\"\n",
        "all_columns = properties_sdf.columns"
      ],
      "metadata": {
        "id": "yFoJ18QJLA9p"
      },
      "execution_count": 70,
      "outputs": []
    },
    {
      "cell_type": "markdown",
      "source": [
        "Create a list of column(s) you don't want to include as your features (i.e., `'quality', 'neighborhood'`). Name this list `drop_columns`."
      ],
      "metadata": {
        "id": "OAMDrTU157iA"
      }
    },
    {
      "cell_type": "code",
      "source": [
        "# TODO: Create \"drop_columns\"\n",
        "drop_columns = ['quality', 'neighborhood']"
      ],
      "metadata": {
        "id": "tbcp9QqH5_l0"
      },
      "execution_count": 71,
      "outputs": []
    },
    {
      "cell_type": "markdown",
      "source": [
        "Now, using `drop_columns`, create a list called `feature_columns` that only contains the names of the columns that would be used as features for our ML models."
      ],
      "metadata": {
        "id": "j56ev2Mr6MZN"
      }
    },
    {
      "cell_type": "code",
      "source": [
        "# TODO: Create the \"feature_columns\" list\n",
        "feature_columns = [col for col in all_columns if col not in drop_columns]"
      ],
      "metadata": {
        "id": "FGC2k4RXMVj6"
      },
      "execution_count": 72,
      "outputs": []
    },
    {
      "cell_type": "code",
      "source": [
        "# 2 points\n",
        "#Grader cell\n",
        "grader.grade(test_case_id = 'check_feature_columns', answer = feature_columns)"
      ],
      "metadata": {
        "id": "nyRU-NSLMYIZ",
        "colab": {
          "base_uri": "https://localhost:8080/"
        },
        "outputId": "4c1a67cb-de32-4990-d188-11a2e60baad1"
      },
      "execution_count": 73,
      "outputs": [
        {
          "output_type": "stream",
          "name": "stdout",
          "text": [
            "Correct! You earned 2/2 points. You are a star!\n",
            "\n",
            "Your submission has been successfully recorded in the gradebook.\n"
          ]
        }
      ]
    },
    {
      "cell_type": "markdown",
      "source": [
        "Finally, create a [VectorAssembler](https://spark.apache.org/docs/3.1.3/api/python/reference/api/pyspark.ml.feature.VectorAssembler.html) object with the columns that you want to use as features. Name your output column as `features` (i.e. they are the features that will be used for SparkML)."
      ],
      "metadata": {
        "id": "JFDTSMCM72uR"
      }
    },
    {
      "cell_type": "code",
      "source": [
        "# TODO: Import required library and create VectorAssembler object (to be used later)\n",
        "from pyspark.ml.feature import VectorAssembler\n",
        "\n",
        "assembler = VectorAssembler(inputCols=feature_columns, outputCol='features')"
      ],
      "metadata": {
        "id": "WmAZT38o7zxM"
      },
      "execution_count": 74,
      "outputs": []
    },
    {
      "cell_type": "markdown",
      "source": [
        "## **2.2** Preprocessing: Pipeline and Train-Test Split [3 Points]\n",
        "\n",
        "Now that we have a VectorAssembler object ready, let's use it on our Spark dataframe to get the concatenated features column. To do this, we implement a [Pipeline](https://spark.apache.org/docs/latest/api/python/reference/api/pyspark.ml.Pipeline.html), which can be used to streamline multiple preprocessing stages at once. For this data, we just need a single stage with the assembler, but you could have other stages before that where you perform operations on the data like converting categorical strings in the features to numeric values, or do feature scaling operations.\n",
        "\n",
        "We will create a pipeline with a single stage — the assembler. Fit the pipeline on `reservations_df` to create the transformed dataframe and name it `processed_reservations_sdf`.\n"
      ],
      "metadata": {
        "id": "WYgt35u-68XA"
      }
    },
    {
      "cell_type": "code",
      "source": [
        "# TODO: Import required libraries\n",
        "from pyspark.ml import Pipeline\n",
        "\n",
        "# TODO: Define a pipeline object\n",
        "pipeline = Pipeline(stages=[assembler])\n",
        "\n",
        "# TODO: Fit and transform the pipeline on the data and store the transformed sdf as \"processed_properties_sdf\"\n",
        "processed_properties_sdf = pipeline.fit(properties_sdf).transform(properties_sdf)"
      ],
      "metadata": {
        "id": "PozlPEwbMw9l"
      },
      "execution_count": 75,
      "outputs": []
    },
    {
      "cell_type": "markdown",
      "source": [
        "Now that we have the data in the format we need, we will create our train and test sets.\n",
        "\n",
        "Conduct a train-test split where 80% of the data is assigned to the training set while the remaining 20% is assigned to the testing set.\n",
        "\n",
        "- Name these sets as `train_sdf` and `test_sdf` respectively.\n",
        "- Set the variable `random_seed` to 42 and then add the argument `seed = random_seed` in the function to fix the random state in order to ensure consistency with our results."
      ],
      "metadata": {
        "id": "3LUua0RlNLpk"
      }
    },
    {
      "cell_type": "code",
      "source": [
        "# TODO: Assign appropriate value to the random_seed variable\n",
        "random_seed = 42\n",
        "\n",
        "# TODO: Do 80/20 train-test split with seed = random_seed and store them as \"train_sdf\" and \"test_sdf\"\n",
        "train_sdf, test_sdf = processed_properties_sdf.randomSplit([0.8, 0.2], seed=random_seed)"
      ],
      "metadata": {
        "id": "CXym9xONNrzB"
      },
      "execution_count": 76,
      "outputs": []
    },
    {
      "cell_type": "code",
      "source": [
        "# Grader (3 points)\n",
        "grader.grade(test_case_id = 'check_train_test_split_spark', answer = (train_sdf.count(), test_sdf.count(), random_seed))"
      ],
      "metadata": {
        "id": "b9eZhdFwLQsy",
        "colab": {
          "base_uri": "https://localhost:8080/"
        },
        "outputId": "54843464-0a5b-4b71-a878-bf9ab84f4ab9"
      },
      "execution_count": 77,
      "outputs": [
        {
          "output_type": "stream",
          "name": "stdout",
          "text": [
            "Correct! You earned 3/3 points. You are a star!\n",
            "\n",
            "Your submission has been successfully recorded in the gradebook.\n"
          ]
        }
      ]
    },
    {
      "cell_type": "markdown",
      "source": [
        "## **2.3** Modelling (SparkML) [Subtotal 30 Points]\n",
        "\n",
        "Time to do the cool stuff! We will work on various types of models using SparkML to see the difference in implementation from sklearn."
      ],
      "metadata": {
        "id": "ZlAv_PlBcYDr"
      }
    },
    {
      "cell_type": "markdown",
      "source": [
        "### **2.3.1** Vanilla Logistic Regression [6 Points]\n",
        "\n",
        "Let's train an **unregularized** Logistic Regression model to our data and try to predict whether the `booking_status` will be cancelled or not.\n",
        "\n",
        "This time, we will use \"Big\" data tools to help us build a Logistic Regression model for binary classification. Look up the documentation online and try to understand how to implement this.\n",
        "\n",
        "**Note**: Make sure to set the parameter `maxIter` to 5 for fast computation. For all logistic regression models, use `family='multinomial'`."
      ],
      "metadata": {
        "id": "0s65E3utg0Zo"
      }
    },
    {
      "cell_type": "code",
      "source": [
        "# TODO: Import required library for Logistic Regression\n",
        "from pyspark.ml.classification import LogisticRegression\n",
        "\n",
        "# TO-DO: Instantiate and fit Logistic Regression model to training data\n",
        "l_r = LogisticRegression(featuresCol='features', labelCol='quality', family='multinomial', maxIter=5)\n",
        "lr_model = l_r.fit(train_sdf)"
      ],
      "metadata": {
        "id": "IktoDMkWhn9p"
      },
      "execution_count": 78,
      "outputs": []
    },
    {
      "cell_type": "markdown",
      "source": [
        "Calculate the training accuracy using the model's summary and store it in a variable called `train_accuracy`."
      ],
      "metadata": {
        "id": "uQWTQGRjiy2A"
      }
    },
    {
      "cell_type": "code",
      "source": [
        "# TODO: Get training accuracy and store it as `train_accuracy`\n",
        "train_accuracy = lr_model.summary.accuracy"
      ],
      "metadata": {
        "id": "XjyYCYw6i1sD"
      },
      "execution_count": 79,
      "outputs": []
    },
    {
      "cell_type": "code",
      "source": [
        "train_accuracy"
      ],
      "metadata": {
        "id": "YDKeHAJ6LY2h",
        "colab": {
          "base_uri": "https://localhost:8080/"
        },
        "outputId": "88f77464-d9ab-4e41-f4a3-ea71a008e6e6"
      },
      "execution_count": 80,
      "outputs": [
        {
          "output_type": "execute_result",
          "data": {
            "text/plain": [
              "0.9406130268199234"
            ]
          },
          "metadata": {},
          "execution_count": 80
        }
      ]
    },
    {
      "cell_type": "markdown",
      "source": [
        "Now, let's find out how good the model actually is and see if it overfits to the training data.\n",
        "\n",
        "Predict the labels `\"quality\"` for your test data and store them as `predictions` _(Hint: it is called 'transform' in SparkML)_"
      ],
      "metadata": {
        "id": "C20Hy2qii_OO"
      }
    },
    {
      "cell_type": "code",
      "source": [
        "# TODO: Make predictions on testing set and store it as \"predictions\"\n",
        "predictions = lr_model.transform(test_sdf)"
      ],
      "metadata": {
        "id": "szq8zQ3QjPWp"
      },
      "execution_count": 81,
      "outputs": []
    },
    {
      "cell_type": "markdown",
      "source": [
        "To get the test accuracy, we will make use of a **confusion matrix**. It is used to consolidate the predictive performance of a model into a single table. In a binary classification scenario, it looks like this:"
      ],
      "metadata": {
        "id": "7lyQWxLqjzFB"
      }
    },
    {
      "cell_type": "markdown",
      "source": [
        "Given the confusion matrix, we can calculate various metrics such as accuracy, precision, recall, F1 score etc.\n",
        "\n",
        "For our task, we will calculate the test accuracy. The formula for this is: \\\\\n",
        "\n",
        "> Accuracy = $\\frac{TP + TN}{TP + FP + TN + FN}$"
      ],
      "metadata": {
        "id": "ZzEQ4ltcnKZg"
      }
    },
    {
      "cell_type": "markdown",
      "source": [
        "Evaluate the performance using the Confusion Matrix using [MulticlassMetrics](https://spark.apache.org/docs/latest/api/python/reference/api/pyspark.mllib.evaluation.MulticlassMetrics.html) object in the SparkML Regression library. Store the Confusion Matrix as an numpy array named  `confusion_matrix`. \\\\\n",
        "\n",
        "(*Ignore any warnings you may get*)"
      ],
      "metadata": {
        "id": "FBjkb5KAn2rl"
      }
    },
    {
      "cell_type": "code",
      "source": [
        "# TODO: Import required libraries\n",
        "from pyspark.ml.evaluation import MulticlassClassificationEvaluator\n",
        "from pyspark.mllib.evaluation import MulticlassMetrics\n",
        "import numpy as np\n",
        "\n",
        "# TODO: Select appropriate columns to use MulticlassMetrics\n",
        "# Hint: use the .rdd function when selecting the columns\n",
        "# to create the input to MuliclassMetrics\n",
        "prediction_and_label = predictions.select(\"prediction\", \"quality\").rdd.map(tuple)\n",
        "\n",
        "# TODO: Instantiate metrics objects\n",
        "metrics = MulticlassMetrics(prediction_and_label)\n",
        "\n",
        "# TODO: Create confusion matrix and store it as a numpy array named \"confusion_matrix\"\n",
        "confusion_matrix = metrics.confusionMatrix().toArray()"
      ],
      "metadata": {
        "id": "hudav4vrLkoR",
        "colab": {
          "base_uri": "https://localhost:8080/"
        },
        "outputId": "4f3d93a8-fb80-4d4d-cf1a-9edea1924926"
      },
      "execution_count": 82,
      "outputs": [
        {
          "output_type": "stream",
          "name": "stderr",
          "text": [
            "/usr/local/lib/python3.10/dist-packages/pyspark/sql/context.py:158: FutureWarning: Deprecated in 3.0.0. Use SparkSession.builder.getOrCreate() instead.\n",
            "  warnings.warn(\n"
          ]
        }
      ]
    },
    {
      "cell_type": "markdown",
      "source": [
        "Now, calculate the test accuracy using the Confusion Matrix obtained above and store it in a variable called `test_accuracy`."
      ],
      "metadata": {
        "id": "xWDnRN0upGh1"
      }
    },
    {
      "cell_type": "code",
      "source": [
        "#TODO: Calculate test accuracy using the confusion matrix and store it as \"test_accuracy\"\n",
        "correct_predictions = np.trace(confusion_matrix)\n",
        "total_samples = confusion_matrix.sum()\n",
        "\n",
        "test_accuracy = correct_predictions / total_samples\n",
        "test_accuracy"
      ],
      "metadata": {
        "id": "zAFs87WsLnYJ",
        "colab": {
          "base_uri": "https://localhost:8080/"
        },
        "outputId": "f96bda90-2b6e-4d15-afa0-50624d3de207"
      },
      "execution_count": 83,
      "outputs": [
        {
          "output_type": "execute_result",
          "data": {
            "text/plain": [
              "0.9026548672566371"
            ]
          },
          "metadata": {},
          "execution_count": 83
        }
      ]
    },
    {
      "cell_type": "code",
      "source": [
        "# 6 points\n",
        "#Grader cell\n",
        "grader.grade(test_case_id = 'check_unreg_logistic', answer = (train_accuracy, test_accuracy, confusion_matrix))"
      ],
      "metadata": {
        "id": "FJRYOCSzLoli",
        "colab": {
          "base_uri": "https://localhost:8080/"
        },
        "outputId": "97285120-b421-4725-a6ae-6e67e5efeb04"
      },
      "execution_count": 84,
      "outputs": [
        {
          "output_type": "stream",
          "name": "stdout",
          "text": [
            "Correct! You earned 6/6 points. You are a star!\n",
            "\n",
            "Your submission has been successfully recorded in the gradebook.\n"
          ]
        }
      ]
    },
    {
      "cell_type": "markdown",
      "source": [
        "### **2.3.2** Regularized Logistic Regression [8 Points]\n",
        "\n",
        "Now, we will add regularization – LASSO (L1), Ridge (L2) and elastic net (combination of L1 and L2), to avoid overfitting. You can play around with different regularization (regParam and elasticNetParam) hyperparameters when initializing the 3 different regularized logistic regression models.\n",
        "\n",
        "Compare these with each other and with the unregularized regression performed in 2.3.1.\n",
        "\n",
        "Make sure to evaluate the performance on test data using the same methodology as above (using a confusion matrix to calculate the accuracy).\n",
        "\n",
        "**Note**: Just like 2.3.1, set `maxIter` to 5."
      ],
      "metadata": {
        "id": "zu_wBe65VrW9"
      }
    },
    {
      "cell_type": "markdown",
      "source": [
        "#### (a) LASSO (L1)\n",
        "\n",
        "First, implement a LASSO Logistic Regression model using SparkML and call it `l1_model`, fit it on `train_sdf` and get predictions using `test_sdf`. Get the training accuracy and store it as `l1_train_accuracy`."
      ],
      "metadata": {
        "id": "fSEYNPEPYBJk"
      }
    },
    {
      "cell_type": "code",
      "source": [
        "# TODO: Instantiate LASSO/L1 regularized model as \"l1_model\"\n",
        "l1_model = LogisticRegression(featuresCol='features', labelCol='quality', maxIter=5, regParam=0.1, elasticNetParam=1, family='multinomial')\n",
        "\n",
        "# TODO: Fit and Transform using \"l1_model\"\n",
        "l1_model_fit = l1_model.fit(train_sdf)\n",
        "l1_predictions = l1_model_fit.transform(test_sdf)\n",
        "\n",
        "# TODO: Store training accuracy as \"l1_train_accuracy\"\n",
        "l1_train_accuracy = l1_model_fit.summary.accuracy\n",
        "\n",
        "l1_train_accuracy"
      ],
      "metadata": {
        "id": "MfTbTlY3Lq5h",
        "colab": {
          "base_uri": "https://localhost:8080/"
        },
        "outputId": "9251fed5-1cbb-407d-9521-f51b184529da"
      },
      "execution_count": 85,
      "outputs": [
        {
          "output_type": "execute_result",
          "data": {
            "text/plain": [
              "0.8320561941251596"
            ]
          },
          "metadata": {},
          "execution_count": 85
        }
      ]
    },
    {
      "cell_type": "markdown",
      "source": [
        "From the predictions, create a confusion matrix and use it to get the test accuracy. Store this accuracy value as `l1_test_accuracy`."
      ],
      "metadata": {
        "id": "YZTFIUbicwmh"
      }
    },
    {
      "cell_type": "code",
      "source": [
        "# TODO: Create the Confusion matrix\n",
        "prediction_and_label = l1_predictions.select(\"prediction\", \"quality\").rdd\n",
        "metrics_l1 = MulticlassMetrics(prediction_and_label)\n",
        "\n",
        "confusion_matrix_l1 = metrics_l1.confusionMatrix().toArray()\n",
        "\n",
        "# TODO: Calculate the test accuracy as done in the previous section. Store test accuracy as \"l1_test_accuracy\"\n",
        "l1_test_accuracy = metrics_l1.accuracy\n",
        "\n",
        "l1_test_accuracy, confusion_matrix_l1"
      ],
      "metadata": {
        "id": "ZJ2cQM7xLzry",
        "colab": {
          "base_uri": "https://localhost:8080/"
        },
        "outputId": "cd7c08b4-933e-44bf-94b4-535616b2e0ba"
      },
      "execution_count": 86,
      "outputs": [
        {
          "output_type": "execute_result",
          "data": {
            "text/plain": [
              "(0.8525073746312685,\n",
              " array([[ 59.,  25.,   0.,   0.],\n",
              "        [  1., 222.,   0.,   0.],\n",
              "        [  0.,  23.,   0.,   0.],\n",
              "        [  0.,   1.,   0.,   8.]]))"
            ]
          },
          "metadata": {},
          "execution_count": 86
        }
      ]
    },
    {
      "cell_type": "markdown",
      "source": [
        "#### (b) Ridge (L2)\n",
        "\n",
        "Next, implement a Ridge Logistic Regression model using SparkML and call it `l2_model`, fit it on `train_sdf` and get predictions using `test_sdf`. Get the training accuracy and store it as `l2_train_accuracy`."
      ],
      "metadata": {
        "id": "-O7Oq8KPdD9h"
      }
    },
    {
      "cell_type": "code",
      "source": [
        "# TODO: Instantiate Ridge/L2 regularized model as \"l2_model\"\n",
        "l2_model = LogisticRegression(featuresCol='features', labelCol='quality', maxIter=5, regParam=0.1, elasticNetParam=0.0, family='multinomial')\n",
        "\n",
        "# TODO: Fit and Transform using \"l2_model\"\n",
        "l2_model = l2_model.fit(train_sdf)\n",
        "l2_predictions = l2_model.transform(test_sdf)\n",
        "\n",
        "# TODO: Store training accuracy as \"l2_train_accuracy\"\n",
        "l2_train_accuracy = l2_model.summary.accuracy\n",
        "l2_train_accuracy"
      ],
      "metadata": {
        "id": "p1YTDFXOMCYf",
        "colab": {
          "base_uri": "https://localhost:8080/"
        },
        "outputId": "cccfd6ef-da35-4200-ee0a-b3ca6268c71d"
      },
      "execution_count": 87,
      "outputs": [
        {
          "output_type": "execute_result",
          "data": {
            "text/plain": [
              "0.9157088122605364"
            ]
          },
          "metadata": {},
          "execution_count": 87
        }
      ]
    },
    {
      "cell_type": "markdown",
      "source": [
        "From the predictions, create a confusion matrix and use it to get the test accuracy. Store this accuracy value as `l2_test_accuracy`."
      ],
      "metadata": {
        "id": "z6BD1lsvdjZS"
      }
    },
    {
      "cell_type": "code",
      "source": [
        "# TODO: Create the Confusion matrix\n",
        "pred_and_lab = l2_predictions.select(\"prediction\", \"quality\").rdd\n",
        "metrics_l2 = MulticlassMetrics(pred_and_lab)\n",
        "\n",
        "confusion_matrix_l2 = metrics_l2.confusionMatrix().toArray()\n",
        "\n",
        "# TODO: Calculate the test accuracy as done in the previous section. Store test accuracy as \"l2_test_accuracy\"\n",
        "l2_test_accuracy = metrics_l2.accuracy\n",
        "l2_test_accuracy, confusion_matrix_l2"
      ],
      "metadata": {
        "id": "p3TwzqJiMF86",
        "colab": {
          "base_uri": "https://localhost:8080/"
        },
        "outputId": "e860d525-e72f-4aca-a6b6-5546e8550e8f"
      },
      "execution_count": 88,
      "outputs": [
        {
          "output_type": "execute_result",
          "data": {
            "text/plain": [
              "(0.9203539823008849,\n",
              " array([[ 73.,  11.,   0.,   0.],\n",
              "        [  2., 219.,   1.,   1.],\n",
              "        [  0.,  10.,  12.,   1.],\n",
              "        [  0.,   0.,   1.,   8.]]))"
            ]
          },
          "metadata": {},
          "execution_count": 88
        }
      ]
    },
    {
      "cell_type": "markdown",
      "source": [
        "#### (c) Elastic Net\n",
        "\n",
        "Finally, implement an Elastic Net Logistic Regression model using SparkML and call it `en_model`, fit it on `train_sdf` and get predictions using `test_sdf`. Get the training accuracy and store it as `en_train_accuracy`."
      ],
      "metadata": {
        "id": "fUibpxvqeCsz"
      }
    },
    {
      "cell_type": "code",
      "source": [
        "# TODO: Instantiate Elastic Net regularized model as \"en_model\"\n",
        "en_model = LogisticRegression(featuresCol='features', labelCol='quality', maxIter=5, regParam=0.1, elasticNetParam=0.5, family='multinomial')\n",
        "\n",
        "# TODO: Fit and Transform using \"en_model\"\n",
        "en_model = en_model.fit(train_sdf)\n",
        "en_predictions = en_model.transform(test_sdf)\n",
        "\n",
        "# TODO: Store training accuracy as \"en_train_accuracy\"\n",
        "en_train_accuracy = en_model.summary.accuracy\n",
        "\n",
        "en_train_accuracy"
      ],
      "metadata": {
        "id": "O8WJJUSTMHch",
        "colab": {
          "base_uri": "https://localhost:8080/"
        },
        "outputId": "98c37da8-f95c-4a74-99d4-9f96699fdb7e"
      },
      "execution_count": 89,
      "outputs": [
        {
          "output_type": "execute_result",
          "data": {
            "text/plain": [
              "0.8607918263090677"
            ]
          },
          "metadata": {},
          "execution_count": 89
        }
      ]
    },
    {
      "cell_type": "markdown",
      "source": [
        "From the predictions, create a confusion matrix and use it to get the test accuracy. Store this accuracy value as `en_test_accuracy`."
      ],
      "metadata": {
        "id": "-Xge3cFxecaU"
      }
    },
    {
      "cell_type": "code",
      "source": [
        "# TO-DO: Create the Confusion matrix\n",
        "p_and_l = en_predictions.select(\"prediction\", \"quality\").rdd\n",
        "metrics_en = MulticlassMetrics(p_and_l)\n",
        "\n",
        "confusion_matrix_en = metrics_en.confusionMatrix().toArray()\n",
        "\n",
        "# TO-DO: Calculate the test accuracy as done in the previous section. Store test accuracy as \"en_test_accuracy\"\n",
        "en_test_accuracy = metrics_en.accuracy\n",
        "en_test_accuracy, confusion_matrix_en"
      ],
      "metadata": {
        "id": "cL6ubSekMK8i",
        "colab": {
          "base_uri": "https://localhost:8080/"
        },
        "outputId": "b88d8563-adfa-4930-977b-d84cf3c62e70"
      },
      "execution_count": 90,
      "outputs": [
        {
          "output_type": "execute_result",
          "data": {
            "text/plain": [
              "(0.8731563421828908,\n",
              " array([[ 68.,  16.,   0.,   0.],\n",
              "        [  3., 220.,   0.,   0.],\n",
              "        [  0.,  23.,   0.,   0.],\n",
              "        [  0.,   1.,   0.,   8.]]))"
            ]
          },
          "metadata": {},
          "execution_count": 90
        }
      ]
    },
    {
      "cell_type": "code",
      "source": [
        "#8 points\n",
        "#Grader cell\n",
        "grader.grade(test_case_id = 'check_reg_logistic', answer = (l1_model.getElasticNetParam(), l1_model.getRegParam(), l1_train_accuracy, l1_test_accuracy, l2_model.getElasticNetParam(), l2_model.getRegParam(), l2_train_accuracy, l2_test_accuracy, en_model.getElasticNetParam(), en_model.getRegParam(), en_train_accuracy, en_test_accuracy))"
      ],
      "metadata": {
        "id": "wiEhlN2kMPAB",
        "colab": {
          "base_uri": "https://localhost:8080/"
        },
        "outputId": "6f9eb978-d4c4-49aa-9798-8c6d5bb77c17"
      },
      "execution_count": 91,
      "outputs": [
        {
          "output_type": "stream",
          "name": "stdout",
          "text": [
            "Correct! You earned 8/8 points. You are a star!\n",
            "\n",
            "Your submission has been successfully recorded in the gradebook.\n"
          ]
        }
      ]
    },
    {
      "cell_type": "markdown",
      "source": [
        "### **2.3.3** Random Forest Classification [8 Points]\n",
        "\n",
        "If you are looking to win Kaggle competitions, you definitely must know about Random Forests, Boosted Trees, etc. These ensemble methods generalize and work surprisingly well for a lot of classification problems and sometimes for regression problems (though regression trees are not the focus of this course).\n",
        "\n",
        "Let's give it a go. Similar to what you did for the Logistic Regression model, create a Random Forest classifier model and name it `rf` and fit it to the training data. Call the fitted model `rf_model`.\n",
        "\n",
        "**Note1:** Set the `random_seed` to 42 and set the argument `seed = random_seed` while creating `rf` as a RandomForest object. \\\\\n",
        "**Note2:** Set `maxDepth` to 10 to find a good balance between performance and computation time."
      ],
      "metadata": {
        "id": "H8k-KqujfWbA"
      }
    },
    {
      "cell_type": "code",
      "source": [
        "# TODO: Import required libraries\n",
        "from pyspark.ml.classification import RandomForestClassifier\n",
        "\n",
        "\n",
        "# TODO: Set random_seed to 42\n",
        "random_seed = 42\n",
        "\n",
        "# TODO: Instantiate the RF Model and call it \"rf\", then fit it on the training data\n",
        "rf = RandomForestClassifier(labelCol=\"quality\", featuresCol=\"features\", seed=random_seed, maxDepth=10)\n",
        "rf_model = rf.fit(train_sdf)"
      ],
      "metadata": {
        "id": "J-rKH7Qh0m4H"
      },
      "execution_count": 92,
      "outputs": []
    },
    {
      "cell_type": "markdown",
      "source": [
        "This time, get predictions on both the training and testing sets, and store them as `train_pred` and `test_pred` respectively."
      ],
      "metadata": {
        "id": "M71HnmZ41eIy"
      }
    },
    {
      "cell_type": "code",
      "source": [
        "# TODO: Get predictions and save to \"train_pred\" and \"test_pred\" respectively\n",
        "train_pred = rf_model.transform(train_sdf)\n",
        "test_pred = rf_model.transform(test_sdf)"
      ],
      "metadata": {
        "id": "dzPe3ld01hhA"
      },
      "execution_count": 93,
      "outputs": []
    },
    {
      "cell_type": "markdown",
      "source": [
        "Evaluate using the accuracy metric again, similar to the previous sections.\n",
        "- Store the confusion matrices as `rf_train_cm` and `rf_test_cm` respectively.\n",
        "- Store the training and test accuracy as `rf_train_accuracy` and  `rf_test_accuracy` respectively."
      ],
      "metadata": {
        "id": "xcEQUtzP1tZ4"
      }
    },
    {
      "cell_type": "code",
      "source": [
        "# TODO: Evaluate the prediction accuracy for train set and call it \"rf_train_accuracy\"\n",
        "evaluator_train = MulticlassClassificationEvaluator(labelCol=\"quality\", predictionCol=\"prediction\", metricName=\"accuracy\")\n",
        "rf_train_labels_and_predictions = train_pred.select(\"quality\", \"prediction\").rdd.map(lambda lp: (float(lp.prediction), float(lp.quality)))\n",
        "rf_train_metrics = MulticlassMetrics(rf_train_labels_and_predictions)\n",
        "rf_train_cm = rf_train_metrics.confusionMatrix().toArray()\n",
        "rf_train_accuracy = evaluator_train.evaluate(train_pred)\n",
        "\n",
        "# TODO: Evaluate the prediction accuracy for test set and call it \"rf_test_accuracy\"\n",
        "evaluator_test = MulticlassClassificationEvaluator(labelCol=\"quality\", predictionCol=\"prediction\", metricName=\"accuracy\")\n",
        "rf_test_labels_and_predictions = test_pred.select(\"quality\", \"prediction\").rdd.map(lambda lp: (float(lp.prediction), float(lp.quality)))\n",
        "rf_test_metrics = MulticlassMetrics(rf_test_labels_and_predictions)\n",
        "rf_test_cm = rf_test_metrics.confusionMatrix().toArray()\n",
        "rf_test_accuracy = evaluator_test.evaluate(test_pred)"
      ],
      "metadata": {
        "id": "es9Wql3B14TV"
      },
      "execution_count": 94,
      "outputs": []
    },
    {
      "cell_type": "code",
      "source": [
        "# 8 points\n",
        "#Grader\n",
        "grader.grade(test_case_id = 'check_random_forest', answer = (rf_train_accuracy, train_pred.count(), rf_test_accuracy, test_pred.count(), rf_train_cm, rf_test_cm))"
      ],
      "metadata": {
        "id": "Vu-Sgki4Msgi",
        "colab": {
          "base_uri": "https://localhost:8080/"
        },
        "outputId": "4bd0bacb-fe35-4103-ea3a-6194dd9c43b4"
      },
      "execution_count": 95,
      "outputs": [
        {
          "output_type": "stream",
          "name": "stdout",
          "text": [
            "Correct! You earned 8/8 points. You are a star!\n",
            "\n",
            "Your submission has been successfully recorded in the gradebook.\n"
          ]
        }
      ]
    },
    {
      "cell_type": "markdown",
      "source": [
        "### **2.3.4** Dimensionality Reduction Using PCA [8 Points]\n",
        "\n",
        "We will again use the powerful PCA to reduce the dimensions and project the data onto a lower dimensional space and fit a logistic regression on the new projected data."
      ],
      "metadata": {
        "id": "n972zXod4DXF"
      }
    },
    {
      "cell_type": "markdown",
      "source": [
        "Initialize a PCA model on SparkML, where you select an appropriate number of dimensions, and call it `pca`. Then, fit the model on the training data and get the PCA features from the trained model.\n",
        "\n",
        "**Hint**: Choose `k` for the PCA model using the explained variance plot you made earlier in 1.4.2"
      ],
      "metadata": {
        "id": "LiL8evmIBhDL"
      }
    },
    {
      "cell_type": "code",
      "source": [
        "# TODO: Import required libraries\n",
        "from pyspark.ml.feature import PCA\n",
        "from pyspark.ml.linalg import Vectors\n",
        "from pyspark.ml import Pipeline\n",
        "from pyspark.ml.feature import StandardScaler\n",
        "\n",
        "# TODO: Perform intermediate steps to address scale-variance in PCA\n",
        "scaler = StandardScaler(inputCol=\"features\", outputCol=\"scaledFeatures\", withStd=True, withMean=True)\n",
        "\n",
        "# TODO: Instantiate PCA object as \"pca\" and then fit and transform.\n",
        "# Make sure you make a reasonable choice for the number of Principal Components\n",
        "pca = PCA(k=16, inputCol=\"scaledFeatures\", outputCol=\"pcaFeatures\")\n",
        "pipeline = Pipeline(stages=[scaler, pca])\n",
        "pca_model = pipeline.fit(train_sdf)\n",
        "train_pca_sdf = pca_model.transform(train_sdf)"
      ],
      "metadata": {
        "id": "J4t4b6RECbRl"
      },
      "execution_count": 96,
      "outputs": []
    },
    {
      "cell_type": "markdown",
      "source": [
        "Now, create a Logistic Regression model and train it using the PCA features."
      ],
      "metadata": {
        "id": "IFxyRkmTDBta"
      }
    },
    {
      "cell_type": "code",
      "source": [
        "# TODO: Instantiate Logistic Regression model and call the model object \"lr_model\"\n",
        "from pyspark.ml.classification import LogisticRegression\n",
        "from pyspark.ml import Pipeline\n",
        "\n",
        "lr_model = LogisticRegression(featuresCol=\"pcaFeatures\", labelCol=\"quality\", family='multinomial', maxIter=5)\n",
        "pipeline_lr = Pipeline(stages=[pca_model, lr_model])\n",
        "\n",
        "# TODO: Fit Logistic Regression Model and get predictions\n",
        "pipeline_model_lr = pipeline_lr.fit(train_sdf)\n",
        "\n",
        "test_pred = pipeline_model_lr.transform(test_sdf)"
      ],
      "metadata": {
        "id": "QdX0LisYDcb1"
      },
      "execution_count": 97,
      "outputs": []
    },
    {
      "cell_type": "markdown",
      "source": [
        "Calculate the training accuracy using the model's summary and store it in a variable called `train_accuracy_pca`."
      ],
      "metadata": {
        "id": "pz2c4099D_h-"
      }
    },
    {
      "cell_type": "code",
      "source": [
        "# TODO: Get training accuracy and store it as `train_accuracy_pca`\n",
        "lr_model = pipeline_model_lr.stages[-1]\n",
        "train_accuracy_pca = lr_model.summary.accuracy"
      ],
      "metadata": {
        "id": "ZqgCxBWfM3HS"
      },
      "execution_count": 98,
      "outputs": []
    },
    {
      "cell_type": "markdown",
      "source": [
        "\n",
        "Evaulate the test performance by creating a confusion matrix and call it `confusion_matrix_pca`. Then, calculate the test accuracy using the confusion matrix  and store it as `test_accuracy_pca`."
      ],
      "metadata": {
        "id": "DRTBu6AOEe-L"
      }
    },
    {
      "cell_type": "code",
      "source": [
        "# TODO: Create confusion matrix and store it as \"confusion_matrix_pca\"\n",
        "test_pred_rdd_pca = test_pred.select(\"prediction\", \"quality\").rdd.map(lambda row: (row[\"prediction\"], row[\"quality\"]))\n",
        "metrics_pca = MulticlassMetrics(test_pred_rdd_pca)\n",
        "confusion_matrix_pca = metrics_pca.confusionMatrix().toArray()\n",
        "\n",
        "# TODO: Calculate test accuracy and store it as \"test_accuracy_pca\"\n",
        "test_accuracy_pca = metrics_pca.accuracy"
      ],
      "metadata": {
        "id": "6AbNje50EU2a"
      },
      "execution_count": 99,
      "outputs": []
    },
    {
      "cell_type": "code",
      "source": [
        "# 8 points\n",
        "#Grader cell\n",
        "grader.grade(test_case_id = 'check_pca', answer = (pca.getK(), len(lr_model.coefficientMatrix.toArray()), train_accuracy_pca, test_accuracy_pca, confusion_matrix_pca))"
      ],
      "metadata": {
        "id": "RqqLdEouM7n5",
        "colab": {
          "base_uri": "https://localhost:8080/"
        },
        "outputId": "0706a2c1-01c8-40de-acf6-dbbde2da6c1b"
      },
      "execution_count": 100,
      "outputs": [
        {
          "output_type": "stream",
          "name": "stdout",
          "text": [
            "Correct! You earned 8/8 points. You are a star!\n",
            "\n",
            "Your submission has been successfully recorded in the gradebook.\n"
          ]
        }
      ]
    },
    {
      "cell_type": "markdown",
      "source": [
        "# Homework Submission\n",
        "\n",
        "Good job! You have finished the homework :) The submission instructions are as follows:\n",
        "\n",
        "* **Double check** that you have the correct PennID (all numbers) in the autograder.\n",
        "\n",
        "* **Triple check** that you fulfilled all the requirements mentioned in the beginning of the notebook.\n",
        "\n",
        "*  Go to the \"File\" tab at the top left of the Colab UI, click \"Download .ipynb\" and then \"Download .py\".  **Rename** these two files to `homework4.ipynb` and `homework4.py` respectively and upload them to Gradescope.\n",
        "\n",
        "* You must submit your notebook to receive credit. Post any issues with submission on Ed and make sure to keep in mind the late day policy.\n",
        "\n",
        "* After you submit your code, the teaching staff will manually grade your Colab notebook in order to validate the correctness of your code."
      ],
      "metadata": {
        "id": "jfH7LMHMGpgB"
      }
    }
  ]
}