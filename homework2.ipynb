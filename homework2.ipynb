{
  "cells": [
    {
      "cell_type": "markdown",
      "metadata": {
        "id": "wlv8esDGMj0h"
      },
      "source": [
        "# CIS 5450 Homework 2: SQL\n",
        "## Due: Wednesday, October 11 2023, 10:00 pm EST\n",
        "### Worth 100 points in total (90 Points Autograded + 10 Points Manually Graded)\n",
        "\n",
        "Welcome to Homework 2! By now, you should be familiar with the world of data science and the Pandas library. This assignment focuses on helping you get to grips with a new tool: SQL.\n",
        "\n",
        "Through this homework, we will be working with SQL (specifically **pandasql**) by exploring a [Yelp](https://www.kaggle.com/datasets/yelp-dataset/yelp-dataset/versions/6) dataset containing business, checkin, tip, and user data. We will also conduct some text analysis.\n",
        "\n",
        " <!-- We will finish off the homework with some text analysis. -->\n",
        "\n",
        "We are introducing a lot of new things in this homework, and this is often where students start to get lost. Thus, we **strongly** encourage you to review the slides/material as you work through this assignment.\n",
        "\n",
        "**Before you begin:**\n",
        "- Be sure to click \"Copy to Drive\" to make sure you're working on your own personal version of the homework\n",
        "- Check the **pinned FAQ post** on Ed for updates! If you have been stuck, chances are other students have also faced similar problems.\n",
        "- **WARNING:** You MUST check that your notebook displays ALL visualizations on the Gradescope preview AND verify that the autograder finishes running and gives you your expected score (not a 0). (Ed [#251](https://edstem.org/us/courses/44790/discussion/3426442)).\n",
        "  - **Penalty:** -10: if we have to resubmit your notebook to Gradescope for you after the deadline. (e.g. not naming your files correctly, not submitting `.py` and .`ipynb`, etc.).\n",
        "  - **Penalty:** -5: failing to restart and re-run your notebook and ensure that that all visualizations show up in the Gradescope preview of your `.ipynb` (see step 1 and 2 in screenshot below for how to check this) (e.g. `Large File Hidden Error`).\n",
        "  - **Note:** If your plot is not run or not present after we open your notebook, we will deduct the entire manually graded point value of the plot. (e.g. if your plot is worth 4 points, we will deduct 4 points).\n",
        "  - **Note:** If your `.py` file is hidden because it's too large, that's ok! We only care about your `.ipynb` file.\n",
        "\n"
      ]
    },
    {
      "cell_type": "markdown",
      "metadata": {
        "id": "W0hcZWDcqCUL"
      },
      "source": [
        "## Part 0: Libraries and Set Up Jargon (The usual wall of imports)"
      ]
    },
    {
      "cell_type": "code",
      "execution_count": null,
      "metadata": {
        "id": "EOhd4iaEONEK",
        "colab": {
          "base_uri": "https://localhost:8080/"
        },
        "outputId": "4e92ba4b-627a-4a84-a3e8-3851428f9ede"
      },
      "outputs": [
        {
          "output_type": "stream",
          "name": "stdout",
          "text": [
            "env: HW_ID=CIS5450_F23_HW2\n"
          ]
        }
      ],
      "source": [
        "%set_env HW_ID=CIS5450_F23_HW2"
      ]
    },
    {
      "cell_type": "code",
      "execution_count": null,
      "metadata": {
        "id": "brXQGz4QLIW2"
      },
      "outputs": [],
      "source": [
        "%%capture\n",
        "!pip install penngrader-client"
      ]
    },
    {
      "cell_type": "code",
      "execution_count": null,
      "metadata": {
        "id": "ylkUtozb2Oc8",
        "colab": {
          "base_uri": "https://localhost:8080/"
        },
        "outputId": "d956bab8-792e-4145-d656-5e7afa8e826b"
      },
      "outputs": [
        {
          "output_type": "stream",
          "name": "stdout",
          "text": [
            "Requirement already satisfied: sqlalchemy==1.4.46 in /usr/local/lib/python3.10/dist-packages (1.4.46)\n",
            "Requirement already satisfied: greenlet!=0.4.17 in /usr/local/lib/python3.10/dist-packages (from sqlalchemy==1.4.46) (3.0.0)\n",
            "Requirement already satisfied: pandasql in /usr/local/lib/python3.10/dist-packages (0.7.3)\n",
            "Requirement already satisfied: numpy in /usr/local/lib/python3.10/dist-packages (from pandasql) (1.23.5)\n",
            "Requirement already satisfied: pandas in /usr/local/lib/python3.10/dist-packages (from pandasql) (1.5.3)\n",
            "Requirement already satisfied: sqlalchemy in /usr/local/lib/python3.10/dist-packages (from pandasql) (1.4.46)\n",
            "Requirement already satisfied: python-dateutil>=2.8.1 in /usr/local/lib/python3.10/dist-packages (from pandas->pandasql) (2.8.2)\n",
            "Requirement already satisfied: pytz>=2020.1 in /usr/local/lib/python3.10/dist-packages (from pandas->pandasql) (2023.3.post1)\n",
            "Requirement already satisfied: greenlet!=0.4.17 in /usr/local/lib/python3.10/dist-packages (from sqlalchemy->pandasql) (3.0.0)\n",
            "Requirement already satisfied: six>=1.5 in /usr/local/lib/python3.10/dist-packages (from python-dateutil>=2.8.1->pandas->pandasql) (1.16.0)\n",
            "Requirement already satisfied: geopy in /usr/local/lib/python3.10/dist-packages (2.3.0)\n",
            "Requirement already satisfied: geographiclib<3,>=1.52 in /usr/local/lib/python3.10/dist-packages (from geopy) (2.0)\n",
            "Requirement already satisfied: kaleido in /usr/local/lib/python3.10/dist-packages (0.2.1)\n"
          ]
        }
      ],
      "source": [
        "!pip install sqlalchemy==1.4.46\n",
        "!pip install pandasql\n",
        "!pip install geopy\n",
        "!pip install -U kaleido"
      ]
    },
    {
      "cell_type": "code",
      "execution_count": null,
      "metadata": {
        "id": "LAXVD0Lo454x",
        "colab": {
          "base_uri": "https://localhost:8080/"
        },
        "outputId": "52f52e48-f8de-4ec0-f715-c1f46df7b7b6"
      },
      "outputs": [
        {
          "output_type": "stream",
          "name": "stderr",
          "text": [
            "[nltk_data] Downloading package punkt to /root/nltk_data...\n",
            "[nltk_data]   Package punkt is already up-to-date!\n"
          ]
        }
      ],
      "source": [
        "from penngrader.grader import *\n",
        "import pandas as pd\n",
        "import datetime as dt\n",
        "import geopy.distance as gp\n",
        "import matplotlib.image as mpimg\n",
        "import plotly.express as px\n",
        "import pandasql as ps #SQL on Pandas Dataframe\n",
        "import nltk\n",
        "nltk.download('punkt')\n",
        "\n",
        "from wordcloud import WordCloud\n",
        "from matplotlib.dates import date2num\n",
        "import matplotlib.pyplot as plt\n",
        "import math\n",
        "import re\n",
        "import json\n",
        "import os\n",
        "from collections import Counter\n",
        "import random"
      ]
    },
    {
      "cell_type": "code",
      "execution_count": null,
      "metadata": {
        "id": "0TmMEXVcwONB",
        "colab": {
          "base_uri": "https://localhost:8080/"
        },
        "outputId": "cbb8d5ed-8244-4659-aa42-19143ddf3bf3"
      },
      "outputs": [
        {
          "output_type": "stream",
          "name": "stdout",
          "text": [
            "File ‘yelp_business.csv’ already there; not retrieving.\n",
            "\n",
            "File ‘yelp_checkin.csv’ already there; not retrieving.\n",
            "\n",
            "File ‘yelp_tip.csv’ already there; not retrieving.\n",
            "\n",
            "File ‘yelp_user.csv’ already there; not retrieving.\n",
            "\n",
            "File ‘hotel_reviews.csv’ already there; not retrieving.\n",
            "\n"
          ]
        }
      ],
      "source": [
        "# Five datasets we're using\n",
        "! wget -nc https://storage.googleapis.com/penn-cis5450/yelp_business.csv\n",
        "! wget -nc https://storage.googleapis.com/penn-cis5450/yelp_checkin.csv\n",
        "! wget -nc https://storage.googleapis.com/penn-cis5450/yelp_tip.csv\n",
        "! wget -nc https://storage.googleapis.com/penn-cis5450/yelp_user.csv\n",
        "! wget -nc https://storage.googleapis.com/penn-cis5450/hotel_reviews.csv"
      ]
    },
    {
      "cell_type": "code",
      "execution_count": null,
      "metadata": {
        "id": "b5NogkmdhhQ7",
        "colab": {
          "base_uri": "https://localhost:8080/"
        },
        "outputId": "9e4219ab-e451-48f2-9341-6e1e3ec60511"
      },
      "outputs": [
        {
          "output_type": "stream",
          "name": "stdout",
          "text": [
            "1.5.3\n"
          ]
        }
      ],
      "source": [
        "print(pd.__version__ )"
      ]
    },
    {
      "cell_type": "markdown",
      "metadata": {
        "id": "TeyWoMn6pxSC"
      },
      "source": [
        "### PennGrader Setup"
      ]
    },
    {
      "cell_type": "code",
      "execution_count": null,
      "metadata": {
        "id": "H2DysIgZL2u-"
      },
      "outputs": [],
      "source": [
        "# PLEASE ENSURE YOUR PENN-ID IS ENTERED CORRECTLY.\n",
        "# IF NOT, THE AUTOGRADER WON'T KNOW WHO TO ASSIGN POINTS TO YOU IN OUR BACKEND\n",
        "# TODO: YOUR PENN-ID GOES HERE AS AN INTEGER\n",
        "STUDENT_ID = 21647464\n",
        "\n",
        "# You should also update this to a unique \"secret\" just for this homework, to\n",
        "# authenticate this is YOUR submission\n",
        "SECRET = \"Manas_LegionY540\""
      ]
    },
    {
      "cell_type": "markdown",
      "metadata": {
        "id": "KNFSUjDSHlUY"
      },
      "source": [
        "Leave this cell as-is..."
      ]
    },
    {
      "cell_type": "code",
      "execution_count": null,
      "metadata": {
        "id": "STmv3XDuHko3",
        "colab": {
          "base_uri": "https://localhost:8080/"
        },
        "outputId": "ac8daaf8-3565-4baf-804a-639921e8e757"
      },
      "outputs": [
        {
          "output_type": "stream",
          "name": "stdout",
          "text": [
            "Overwriting notebook-config.yaml\n"
          ]
        }
      ],
      "source": [
        "%%writefile notebook-config.yaml\n",
        "\n",
        "grader_api_url: 'https://23whrwph9h.execute-api.us-east-1.amazonaws.com/default/Grader23'\n",
        "grader_api_key: 'flfkE736fA6Z8GxMDJe2q8Kfk8UDqjsG3GVqOFOa'"
      ]
    },
    {
      "cell_type": "code",
      "execution_count": null,
      "metadata": {
        "id": "Fja4mIB1L8oI",
        "colab": {
          "base_uri": "https://localhost:8080/"
        },
        "outputId": "77071cbe-ba66-4154-bd19-a4bacfe66ff2"
      },
      "outputs": [
        {
          "output_type": "stream",
          "name": "stdout",
          "text": [
            "PennGrader initialized with Student ID: 21647464\n",
            "\n",
            "Make sure this correct or we will not be able to store your grade\n"
          ]
        }
      ],
      "source": [
        "grader = PennGrader('notebook-config.yaml', os.environ['HW_ID'], STUDENT_ID, SECRET)"
      ]
    },
    {
      "cell_type": "markdown",
      "metadata": {
        "id": "4w_ZD5UMfj26"
      },
      "source": [
        "# Yelp Dataset\n",
        "\n",
        "<br>\n",
        "<center><img src = \"https://static-prod.adweek.com/wp-content/uploads/2021/08/YelpLogoAugust2021.jpg\" width= \"500\" align =\"center\"/></center>\n",
        "<br>\n",
        "\n",
        "\n",
        "\n",
        "I'm sure you have used Yelp when searching for good restaurants or reliable local services, and with good reason. In this homework, we'll explore Yelp's extensive datasets to gain valuable insights into businesses and users on the platform. The data we will be using includes:\n",
        "\n",
        "* Business: data about businesses listed on Yelp\n",
        "* Check-in: data about check-ins made on businesses\n",
        "* Tip: data about tips that users left for each business\n",
        "* User: data about each user on Yelp including friends and number of reviews\n",
        "\n",
        "We'll be parsing this data into dataframes and relations, and then exploring how to query and assemble the tables into results. We will primarily be using PandaSQL, but for some of the initial questions, we will ask you to perform the same operations in Pandas as well, so as to familiarize you with the differences and similarities of the two.\n",
        "\n",
        "For the final part of this homework, we'll perform some text analysis on a hotel review dataset."
      ]
    },
    {
      "cell_type": "markdown",
      "metadata": {
        "id": "oENmSeFkFRCo"
      },
      "source": [
        "## Part 1: Load & Process our Datasets [12 points total]\n",
        "\n",
        "Before we get into the data, we first need to load and clean our datasets.\n",
        "\n",
        "# Metadata\n",
        "You'll be working with four CSV files:\n",
        "- `yelp_business.csv`\n",
        "- `yelp_checkin.csv`\n",
        "- `yelp_tip.csv`\n",
        "- `yelp_user.csv`\n",
        "\n",
        "The file `yelp_business.csv` contains data of businesses listed on Yelp such as name, address, stars, review count, etc.\n",
        "\n",
        "The file `yelp_checkin.csv` contains check-in data for businesses including day, hour, and number of people.\n",
        "\n",
        "The file `yelp_tip.csv` contains tips that each user left for each business.\n",
        "\n",
        "The file `yelp_user.csv` contains data of each user such as name, review count, friends, start date of membership, and etc.\n",
        "\n",
        "\n",
        "**TODO**:\n",
        "* Load `yelp_business.csv` and save the data to a dataframe called `business_df`.\n",
        "* Load `yelp_checkin.csv` and save the data to a dataframe called `checkin_df`.\n",
        "* Load `yelp_tip.csv` and save the data to a dataframe called `tip_df`.\n",
        "* Load `yelp_user.csv` and save the data to a dataframe called `user_df`.\n"
      ]
    },
    {
      "cell_type": "code",
      "execution_count": null,
      "metadata": {
        "id": "8ipfWu0afpCz"
      },
      "outputs": [],
      "source": [
        "# TODO: Import the datasets to pandas dataframes -- make sure the dataframes are named correctly!\n",
        "business_df = pd.read_csv('./yelp_business.csv')\n",
        "checkin_df = pd.read_csv('./yelp_checkin.csv')\n",
        "tip_df = pd.read_csv('./yelp_tip.csv')\n",
        "user_df = pd.read_csv('./yelp_user.csv')"
      ]
    },
    {
      "cell_type": "code",
      "execution_count": null,
      "metadata": {
        "id": "9z4IukuZpX3U",
        "colab": {
          "base_uri": "https://localhost:8080/",
          "height": 434
        },
        "outputId": "fef5ad8f-8dfd-4f7d-ac9a-a13ccef36456"
      },
      "outputs": [
        {
          "output_type": "execute_result",
          "data": {
            "text/plain": [
              "              business_id                        name neighborhood  \\\n",
              "0  FYWN1wneV18bWNgQjJ2GNg          \"Dental by Design\"          NaN   \n",
              "1  He-G7vWjzVUysIKrfNbPUQ       \"Stephen Szabo Salon\"          NaN   \n",
              "2  KQPW8lFf1y5BT2MxiSZ3QA     \"Western Motor Vehicle\"          NaN   \n",
              "3  8DShNS-LuFqpEWIp0HxijA          \"Sports Authority\"          NaN   \n",
              "4  PfOCPjBrlQAnz__NXj9h_w  \"Brick House Tavern + Tap\"          NaN   \n",
              "\n",
              "                            address            city state postal_code  \\\n",
              "0        \"4855 E Warner Rd, Ste B9\"       Ahwatukee    AZ       85044   \n",
              "1              \"3101 Washington Rd\"        McMurray    PA       15317   \n",
              "2          \"6025 N 27th Ave, Ste 1\"         Phoenix    AZ       85017   \n",
              "3  \"5000 Arizona Mills Cr, Ste 435\"           Tempe    AZ       85282   \n",
              "4                    \"581 Howe Ave\"  Cuyahoga Falls    OH       44221   \n",
              "\n",
              "    latitude   longitude  stars  review_count  is_open  \\\n",
              "0  33.330690 -111.978599    4.0            22        1   \n",
              "1  40.291685  -80.104900    3.0            11        1   \n",
              "2  33.524903 -112.115310    1.5            18        1   \n",
              "3  33.383147 -111.964725    3.0             9        0   \n",
              "4  41.119535  -81.475690    3.5           116        1   \n",
              "\n",
              "                                          categories  \n",
              "0  Dentists;General Dentistry;Health & Medical;Or...  \n",
              "1  Hair Stylists;Hair Salons;Men's Hair Salons;Bl...  \n",
              "2  Departments of Motor Vehicles;Public Services ...  \n",
              "3                            Sporting Goods;Shopping  \n",
              "4  American (New);Nightlife;Bars;Sandwiches;Ameri...  "
            ],
            "text/html": [
              "\n",
              "  <div id=\"df-43345301-0804-48c7-80ad-fdcaff36c1ef\" class=\"colab-df-container\">\n",
              "    <div>\n",
              "<style scoped>\n",
              "    .dataframe tbody tr th:only-of-type {\n",
              "        vertical-align: middle;\n",
              "    }\n",
              "\n",
              "    .dataframe tbody tr th {\n",
              "        vertical-align: top;\n",
              "    }\n",
              "\n",
              "    .dataframe thead th {\n",
              "        text-align: right;\n",
              "    }\n",
              "</style>\n",
              "<table border=\"1\" class=\"dataframe\">\n",
              "  <thead>\n",
              "    <tr style=\"text-align: right;\">\n",
              "      <th></th>\n",
              "      <th>business_id</th>\n",
              "      <th>name</th>\n",
              "      <th>neighborhood</th>\n",
              "      <th>address</th>\n",
              "      <th>city</th>\n",
              "      <th>state</th>\n",
              "      <th>postal_code</th>\n",
              "      <th>latitude</th>\n",
              "      <th>longitude</th>\n",
              "      <th>stars</th>\n",
              "      <th>review_count</th>\n",
              "      <th>is_open</th>\n",
              "      <th>categories</th>\n",
              "    </tr>\n",
              "  </thead>\n",
              "  <tbody>\n",
              "    <tr>\n",
              "      <th>0</th>\n",
              "      <td>FYWN1wneV18bWNgQjJ2GNg</td>\n",
              "      <td>\"Dental by Design\"</td>\n",
              "      <td>NaN</td>\n",
              "      <td>\"4855 E Warner Rd, Ste B9\"</td>\n",
              "      <td>Ahwatukee</td>\n",
              "      <td>AZ</td>\n",
              "      <td>85044</td>\n",
              "      <td>33.330690</td>\n",
              "      <td>-111.978599</td>\n",
              "      <td>4.0</td>\n",
              "      <td>22</td>\n",
              "      <td>1</td>\n",
              "      <td>Dentists;General Dentistry;Health &amp; Medical;Or...</td>\n",
              "    </tr>\n",
              "    <tr>\n",
              "      <th>1</th>\n",
              "      <td>He-G7vWjzVUysIKrfNbPUQ</td>\n",
              "      <td>\"Stephen Szabo Salon\"</td>\n",
              "      <td>NaN</td>\n",
              "      <td>\"3101 Washington Rd\"</td>\n",
              "      <td>McMurray</td>\n",
              "      <td>PA</td>\n",
              "      <td>15317</td>\n",
              "      <td>40.291685</td>\n",
              "      <td>-80.104900</td>\n",
              "      <td>3.0</td>\n",
              "      <td>11</td>\n",
              "      <td>1</td>\n",
              "      <td>Hair Stylists;Hair Salons;Men's Hair Salons;Bl...</td>\n",
              "    </tr>\n",
              "    <tr>\n",
              "      <th>2</th>\n",
              "      <td>KQPW8lFf1y5BT2MxiSZ3QA</td>\n",
              "      <td>\"Western Motor Vehicle\"</td>\n",
              "      <td>NaN</td>\n",
              "      <td>\"6025 N 27th Ave, Ste 1\"</td>\n",
              "      <td>Phoenix</td>\n",
              "      <td>AZ</td>\n",
              "      <td>85017</td>\n",
              "      <td>33.524903</td>\n",
              "      <td>-112.115310</td>\n",
              "      <td>1.5</td>\n",
              "      <td>18</td>\n",
              "      <td>1</td>\n",
              "      <td>Departments of Motor Vehicles;Public Services ...</td>\n",
              "    </tr>\n",
              "    <tr>\n",
              "      <th>3</th>\n",
              "      <td>8DShNS-LuFqpEWIp0HxijA</td>\n",
              "      <td>\"Sports Authority\"</td>\n",
              "      <td>NaN</td>\n",
              "      <td>\"5000 Arizona Mills Cr, Ste 435\"</td>\n",
              "      <td>Tempe</td>\n",
              "      <td>AZ</td>\n",
              "      <td>85282</td>\n",
              "      <td>33.383147</td>\n",
              "      <td>-111.964725</td>\n",
              "      <td>3.0</td>\n",
              "      <td>9</td>\n",
              "      <td>0</td>\n",
              "      <td>Sporting Goods;Shopping</td>\n",
              "    </tr>\n",
              "    <tr>\n",
              "      <th>4</th>\n",
              "      <td>PfOCPjBrlQAnz__NXj9h_w</td>\n",
              "      <td>\"Brick House Tavern + Tap\"</td>\n",
              "      <td>NaN</td>\n",
              "      <td>\"581 Howe Ave\"</td>\n",
              "      <td>Cuyahoga Falls</td>\n",
              "      <td>OH</td>\n",
              "      <td>44221</td>\n",
              "      <td>41.119535</td>\n",
              "      <td>-81.475690</td>\n",
              "      <td>3.5</td>\n",
              "      <td>116</td>\n",
              "      <td>1</td>\n",
              "      <td>American (New);Nightlife;Bars;Sandwiches;Ameri...</td>\n",
              "    </tr>\n",
              "  </tbody>\n",
              "</table>\n",
              "</div>\n",
              "    <div class=\"colab-df-buttons\">\n",
              "\n",
              "  <div class=\"colab-df-container\">\n",
              "    <button class=\"colab-df-convert\" onclick=\"convertToInteractive('df-43345301-0804-48c7-80ad-fdcaff36c1ef')\"\n",
              "            title=\"Convert this dataframe to an interactive table.\"\n",
              "            style=\"display:none;\">\n",
              "\n",
              "  <svg xmlns=\"http://www.w3.org/2000/svg\" height=\"24px\" viewBox=\"0 -960 960 960\">\n",
              "    <path d=\"M120-120v-720h720v720H120Zm60-500h600v-160H180v160Zm220 220h160v-160H400v160Zm0 220h160v-160H400v160ZM180-400h160v-160H180v160Zm440 0h160v-160H620v160ZM180-180h160v-160H180v160Zm440 0h160v-160H620v160Z\"/>\n",
              "  </svg>\n",
              "    </button>\n",
              "\n",
              "  <style>\n",
              "    .colab-df-container {\n",
              "      display:flex;\n",
              "      gap: 12px;\n",
              "    }\n",
              "\n",
              "    .colab-df-convert {\n",
              "      background-color: #E8F0FE;\n",
              "      border: none;\n",
              "      border-radius: 50%;\n",
              "      cursor: pointer;\n",
              "      display: none;\n",
              "      fill: #1967D2;\n",
              "      height: 32px;\n",
              "      padding: 0 0 0 0;\n",
              "      width: 32px;\n",
              "    }\n",
              "\n",
              "    .colab-df-convert:hover {\n",
              "      background-color: #E2EBFA;\n",
              "      box-shadow: 0px 1px 2px rgba(60, 64, 67, 0.3), 0px 1px 3px 1px rgba(60, 64, 67, 0.15);\n",
              "      fill: #174EA6;\n",
              "    }\n",
              "\n",
              "    .colab-df-buttons div {\n",
              "      margin-bottom: 4px;\n",
              "    }\n",
              "\n",
              "    [theme=dark] .colab-df-convert {\n",
              "      background-color: #3B4455;\n",
              "      fill: #D2E3FC;\n",
              "    }\n",
              "\n",
              "    [theme=dark] .colab-df-convert:hover {\n",
              "      background-color: #434B5C;\n",
              "      box-shadow: 0px 1px 3px 1px rgba(0, 0, 0, 0.15);\n",
              "      filter: drop-shadow(0px 1px 2px rgba(0, 0, 0, 0.3));\n",
              "      fill: #FFFFFF;\n",
              "    }\n",
              "  </style>\n",
              "\n",
              "    <script>\n",
              "      const buttonEl =\n",
              "        document.querySelector('#df-43345301-0804-48c7-80ad-fdcaff36c1ef button.colab-df-convert');\n",
              "      buttonEl.style.display =\n",
              "        google.colab.kernel.accessAllowed ? 'block' : 'none';\n",
              "\n",
              "      async function convertToInteractive(key) {\n",
              "        const element = document.querySelector('#df-43345301-0804-48c7-80ad-fdcaff36c1ef');\n",
              "        const dataTable =\n",
              "          await google.colab.kernel.invokeFunction('convertToInteractive',\n",
              "                                                    [key], {});\n",
              "        if (!dataTable) return;\n",
              "\n",
              "        const docLinkHtml = 'Like what you see? Visit the ' +\n",
              "          '<a target=\"_blank\" href=https://colab.research.google.com/notebooks/data_table.ipynb>data table notebook</a>'\n",
              "          + ' to learn more about interactive tables.';\n",
              "        element.innerHTML = '';\n",
              "        dataTable['output_type'] = 'display_data';\n",
              "        await google.colab.output.renderOutput(dataTable, element);\n",
              "        const docLink = document.createElement('div');\n",
              "        docLink.innerHTML = docLinkHtml;\n",
              "        element.appendChild(docLink);\n",
              "      }\n",
              "    </script>\n",
              "  </div>\n",
              "\n",
              "\n",
              "<div id=\"df-3f770c44-dc96-4519-a64b-12ac1922f981\">\n",
              "  <button class=\"colab-df-quickchart\" onclick=\"quickchart('df-3f770c44-dc96-4519-a64b-12ac1922f981')\"\n",
              "            title=\"Suggest charts.\"\n",
              "            style=\"display:none;\">\n",
              "\n",
              "<svg xmlns=\"http://www.w3.org/2000/svg\" height=\"24px\"viewBox=\"0 0 24 24\"\n",
              "     width=\"24px\">\n",
              "    <g>\n",
              "        <path d=\"M19 3H5c-1.1 0-2 .9-2 2v14c0 1.1.9 2 2 2h14c1.1 0 2-.9 2-2V5c0-1.1-.9-2-2-2zM9 17H7v-7h2v7zm4 0h-2V7h2v10zm4 0h-2v-4h2v4z\"/>\n",
              "    </g>\n",
              "</svg>\n",
              "  </button>\n",
              "\n",
              "<style>\n",
              "  .colab-df-quickchart {\n",
              "      --bg-color: #E8F0FE;\n",
              "      --fill-color: #1967D2;\n",
              "      --hover-bg-color: #E2EBFA;\n",
              "      --hover-fill-color: #174EA6;\n",
              "      --disabled-fill-color: #AAA;\n",
              "      --disabled-bg-color: #DDD;\n",
              "  }\n",
              "\n",
              "  [theme=dark] .colab-df-quickchart {\n",
              "      --bg-color: #3B4455;\n",
              "      --fill-color: #D2E3FC;\n",
              "      --hover-bg-color: #434B5C;\n",
              "      --hover-fill-color: #FFFFFF;\n",
              "      --disabled-bg-color: #3B4455;\n",
              "      --disabled-fill-color: #666;\n",
              "  }\n",
              "\n",
              "  .colab-df-quickchart {\n",
              "    background-color: var(--bg-color);\n",
              "    border: none;\n",
              "    border-radius: 50%;\n",
              "    cursor: pointer;\n",
              "    display: none;\n",
              "    fill: var(--fill-color);\n",
              "    height: 32px;\n",
              "    padding: 0;\n",
              "    width: 32px;\n",
              "  }\n",
              "\n",
              "  .colab-df-quickchart:hover {\n",
              "    background-color: var(--hover-bg-color);\n",
              "    box-shadow: 0 1px 2px rgba(60, 64, 67, 0.3), 0 1px 3px 1px rgba(60, 64, 67, 0.15);\n",
              "    fill: var(--button-hover-fill-color);\n",
              "  }\n",
              "\n",
              "  .colab-df-quickchart-complete:disabled,\n",
              "  .colab-df-quickchart-complete:disabled:hover {\n",
              "    background-color: var(--disabled-bg-color);\n",
              "    fill: var(--disabled-fill-color);\n",
              "    box-shadow: none;\n",
              "  }\n",
              "\n",
              "  .colab-df-spinner {\n",
              "    border: 2px solid var(--fill-color);\n",
              "    border-color: transparent;\n",
              "    border-bottom-color: var(--fill-color);\n",
              "    animation:\n",
              "      spin 1s steps(1) infinite;\n",
              "  }\n",
              "\n",
              "  @keyframes spin {\n",
              "    0% {\n",
              "      border-color: transparent;\n",
              "      border-bottom-color: var(--fill-color);\n",
              "      border-left-color: var(--fill-color);\n",
              "    }\n",
              "    20% {\n",
              "      border-color: transparent;\n",
              "      border-left-color: var(--fill-color);\n",
              "      border-top-color: var(--fill-color);\n",
              "    }\n",
              "    30% {\n",
              "      border-color: transparent;\n",
              "      border-left-color: var(--fill-color);\n",
              "      border-top-color: var(--fill-color);\n",
              "      border-right-color: var(--fill-color);\n",
              "    }\n",
              "    40% {\n",
              "      border-color: transparent;\n",
              "      border-right-color: var(--fill-color);\n",
              "      border-top-color: var(--fill-color);\n",
              "    }\n",
              "    60% {\n",
              "      border-color: transparent;\n",
              "      border-right-color: var(--fill-color);\n",
              "    }\n",
              "    80% {\n",
              "      border-color: transparent;\n",
              "      border-right-color: var(--fill-color);\n",
              "      border-bottom-color: var(--fill-color);\n",
              "    }\n",
              "    90% {\n",
              "      border-color: transparent;\n",
              "      border-bottom-color: var(--fill-color);\n",
              "    }\n",
              "  }\n",
              "</style>\n",
              "\n",
              "  <script>\n",
              "    async function quickchart(key) {\n",
              "      const quickchartButtonEl =\n",
              "        document.querySelector('#' + key + ' button');\n",
              "      quickchartButtonEl.disabled = true;  // To prevent multiple clicks.\n",
              "      quickchartButtonEl.classList.add('colab-df-spinner');\n",
              "      try {\n",
              "        const charts = await google.colab.kernel.invokeFunction(\n",
              "            'suggestCharts', [key], {});\n",
              "      } catch (error) {\n",
              "        console.error('Error during call to suggestCharts:', error);\n",
              "      }\n",
              "      quickchartButtonEl.classList.remove('colab-df-spinner');\n",
              "      quickchartButtonEl.classList.add('colab-df-quickchart-complete');\n",
              "    }\n",
              "    (() => {\n",
              "      let quickchartButtonEl =\n",
              "        document.querySelector('#df-3f770c44-dc96-4519-a64b-12ac1922f981 button');\n",
              "      quickchartButtonEl.style.display =\n",
              "        google.colab.kernel.accessAllowed ? 'block' : 'none';\n",
              "    })();\n",
              "  </script>\n",
              "</div>\n",
              "    </div>\n",
              "  </div>\n"
            ]
          },
          "metadata": {},
          "execution_count": 11
        }
      ],
      "source": [
        "# TODO: view business_df (just the first 5 rows with .head() is fine) to make sure the import was successful\n",
        "business_df.head(5)"
      ]
    },
    {
      "cell_type": "code",
      "execution_count": null,
      "metadata": {
        "id": "Zd7egLysp-BK",
        "colab": {
          "base_uri": "https://localhost:8080/",
          "height": 206
        },
        "outputId": "7001cc39-d24f-40fb-c6ea-1cadbaa3881c"
      },
      "outputs": [
        {
          "output_type": "execute_result",
          "data": {
            "text/plain": [
              "              business_id weekday   hour  checkins\n",
              "0  3Mc-LxcqeguOXOVT_2ZtCg     Tue   0:00        12\n",
              "1  SVFx6_epO22bZTZnKwlX7g     Wed   0:00         4\n",
              "2  vW9aLivd4-IorAfStzsHww     Tue  14:00         1\n",
              "3  tEzxhauTQddACyqdJ0OPEQ     Fri  19:00         1\n",
              "4  CEyZU32P-vtMhgqRCaXzMA     Tue  17:00         1"
            ],
            "text/html": [
              "\n",
              "  <div id=\"df-5581ad01-41a5-4d73-9630-ac6380711145\" class=\"colab-df-container\">\n",
              "    <div>\n",
              "<style scoped>\n",
              "    .dataframe tbody tr th:only-of-type {\n",
              "        vertical-align: middle;\n",
              "    }\n",
              "\n",
              "    .dataframe tbody tr th {\n",
              "        vertical-align: top;\n",
              "    }\n",
              "\n",
              "    .dataframe thead th {\n",
              "        text-align: right;\n",
              "    }\n",
              "</style>\n",
              "<table border=\"1\" class=\"dataframe\">\n",
              "  <thead>\n",
              "    <tr style=\"text-align: right;\">\n",
              "      <th></th>\n",
              "      <th>business_id</th>\n",
              "      <th>weekday</th>\n",
              "      <th>hour</th>\n",
              "      <th>checkins</th>\n",
              "    </tr>\n",
              "  </thead>\n",
              "  <tbody>\n",
              "    <tr>\n",
              "      <th>0</th>\n",
              "      <td>3Mc-LxcqeguOXOVT_2ZtCg</td>\n",
              "      <td>Tue</td>\n",
              "      <td>0:00</td>\n",
              "      <td>12</td>\n",
              "    </tr>\n",
              "    <tr>\n",
              "      <th>1</th>\n",
              "      <td>SVFx6_epO22bZTZnKwlX7g</td>\n",
              "      <td>Wed</td>\n",
              "      <td>0:00</td>\n",
              "      <td>4</td>\n",
              "    </tr>\n",
              "    <tr>\n",
              "      <th>2</th>\n",
              "      <td>vW9aLivd4-IorAfStzsHww</td>\n",
              "      <td>Tue</td>\n",
              "      <td>14:00</td>\n",
              "      <td>1</td>\n",
              "    </tr>\n",
              "    <tr>\n",
              "      <th>3</th>\n",
              "      <td>tEzxhauTQddACyqdJ0OPEQ</td>\n",
              "      <td>Fri</td>\n",
              "      <td>19:00</td>\n",
              "      <td>1</td>\n",
              "    </tr>\n",
              "    <tr>\n",
              "      <th>4</th>\n",
              "      <td>CEyZU32P-vtMhgqRCaXzMA</td>\n",
              "      <td>Tue</td>\n",
              "      <td>17:00</td>\n",
              "      <td>1</td>\n",
              "    </tr>\n",
              "  </tbody>\n",
              "</table>\n",
              "</div>\n",
              "    <div class=\"colab-df-buttons\">\n",
              "\n",
              "  <div class=\"colab-df-container\">\n",
              "    <button class=\"colab-df-convert\" onclick=\"convertToInteractive('df-5581ad01-41a5-4d73-9630-ac6380711145')\"\n",
              "            title=\"Convert this dataframe to an interactive table.\"\n",
              "            style=\"display:none;\">\n",
              "\n",
              "  <svg xmlns=\"http://www.w3.org/2000/svg\" height=\"24px\" viewBox=\"0 -960 960 960\">\n",
              "    <path d=\"M120-120v-720h720v720H120Zm60-500h600v-160H180v160Zm220 220h160v-160H400v160Zm0 220h160v-160H400v160ZM180-400h160v-160H180v160Zm440 0h160v-160H620v160ZM180-180h160v-160H180v160Zm440 0h160v-160H620v160Z\"/>\n",
              "  </svg>\n",
              "    </button>\n",
              "\n",
              "  <style>\n",
              "    .colab-df-container {\n",
              "      display:flex;\n",
              "      gap: 12px;\n",
              "    }\n",
              "\n",
              "    .colab-df-convert {\n",
              "      background-color: #E8F0FE;\n",
              "      border: none;\n",
              "      border-radius: 50%;\n",
              "      cursor: pointer;\n",
              "      display: none;\n",
              "      fill: #1967D2;\n",
              "      height: 32px;\n",
              "      padding: 0 0 0 0;\n",
              "      width: 32px;\n",
              "    }\n",
              "\n",
              "    .colab-df-convert:hover {\n",
              "      background-color: #E2EBFA;\n",
              "      box-shadow: 0px 1px 2px rgba(60, 64, 67, 0.3), 0px 1px 3px 1px rgba(60, 64, 67, 0.15);\n",
              "      fill: #174EA6;\n",
              "    }\n",
              "\n",
              "    .colab-df-buttons div {\n",
              "      margin-bottom: 4px;\n",
              "    }\n",
              "\n",
              "    [theme=dark] .colab-df-convert {\n",
              "      background-color: #3B4455;\n",
              "      fill: #D2E3FC;\n",
              "    }\n",
              "\n",
              "    [theme=dark] .colab-df-convert:hover {\n",
              "      background-color: #434B5C;\n",
              "      box-shadow: 0px 1px 3px 1px rgba(0, 0, 0, 0.15);\n",
              "      filter: drop-shadow(0px 1px 2px rgba(0, 0, 0, 0.3));\n",
              "      fill: #FFFFFF;\n",
              "    }\n",
              "  </style>\n",
              "\n",
              "    <script>\n",
              "      const buttonEl =\n",
              "        document.querySelector('#df-5581ad01-41a5-4d73-9630-ac6380711145 button.colab-df-convert');\n",
              "      buttonEl.style.display =\n",
              "        google.colab.kernel.accessAllowed ? 'block' : 'none';\n",
              "\n",
              "      async function convertToInteractive(key) {\n",
              "        const element = document.querySelector('#df-5581ad01-41a5-4d73-9630-ac6380711145');\n",
              "        const dataTable =\n",
              "          await google.colab.kernel.invokeFunction('convertToInteractive',\n",
              "                                                    [key], {});\n",
              "        if (!dataTable) return;\n",
              "\n",
              "        const docLinkHtml = 'Like what you see? Visit the ' +\n",
              "          '<a target=\"_blank\" href=https://colab.research.google.com/notebooks/data_table.ipynb>data table notebook</a>'\n",
              "          + ' to learn more about interactive tables.';\n",
              "        element.innerHTML = '';\n",
              "        dataTable['output_type'] = 'display_data';\n",
              "        await google.colab.output.renderOutput(dataTable, element);\n",
              "        const docLink = document.createElement('div');\n",
              "        docLink.innerHTML = docLinkHtml;\n",
              "        element.appendChild(docLink);\n",
              "      }\n",
              "    </script>\n",
              "  </div>\n",
              "\n",
              "\n",
              "<div id=\"df-dc4a32fe-352e-4eb8-883c-5e01913c534c\">\n",
              "  <button class=\"colab-df-quickchart\" onclick=\"quickchart('df-dc4a32fe-352e-4eb8-883c-5e01913c534c')\"\n",
              "            title=\"Suggest charts.\"\n",
              "            style=\"display:none;\">\n",
              "\n",
              "<svg xmlns=\"http://www.w3.org/2000/svg\" height=\"24px\"viewBox=\"0 0 24 24\"\n",
              "     width=\"24px\">\n",
              "    <g>\n",
              "        <path d=\"M19 3H5c-1.1 0-2 .9-2 2v14c0 1.1.9 2 2 2h14c1.1 0 2-.9 2-2V5c0-1.1-.9-2-2-2zM9 17H7v-7h2v7zm4 0h-2V7h2v10zm4 0h-2v-4h2v4z\"/>\n",
              "    </g>\n",
              "</svg>\n",
              "  </button>\n",
              "\n",
              "<style>\n",
              "  .colab-df-quickchart {\n",
              "      --bg-color: #E8F0FE;\n",
              "      --fill-color: #1967D2;\n",
              "      --hover-bg-color: #E2EBFA;\n",
              "      --hover-fill-color: #174EA6;\n",
              "      --disabled-fill-color: #AAA;\n",
              "      --disabled-bg-color: #DDD;\n",
              "  }\n",
              "\n",
              "  [theme=dark] .colab-df-quickchart {\n",
              "      --bg-color: #3B4455;\n",
              "      --fill-color: #D2E3FC;\n",
              "      --hover-bg-color: #434B5C;\n",
              "      --hover-fill-color: #FFFFFF;\n",
              "      --disabled-bg-color: #3B4455;\n",
              "      --disabled-fill-color: #666;\n",
              "  }\n",
              "\n",
              "  .colab-df-quickchart {\n",
              "    background-color: var(--bg-color);\n",
              "    border: none;\n",
              "    border-radius: 50%;\n",
              "    cursor: pointer;\n",
              "    display: none;\n",
              "    fill: var(--fill-color);\n",
              "    height: 32px;\n",
              "    padding: 0;\n",
              "    width: 32px;\n",
              "  }\n",
              "\n",
              "  .colab-df-quickchart:hover {\n",
              "    background-color: var(--hover-bg-color);\n",
              "    box-shadow: 0 1px 2px rgba(60, 64, 67, 0.3), 0 1px 3px 1px rgba(60, 64, 67, 0.15);\n",
              "    fill: var(--button-hover-fill-color);\n",
              "  }\n",
              "\n",
              "  .colab-df-quickchart-complete:disabled,\n",
              "  .colab-df-quickchart-complete:disabled:hover {\n",
              "    background-color: var(--disabled-bg-color);\n",
              "    fill: var(--disabled-fill-color);\n",
              "    box-shadow: none;\n",
              "  }\n",
              "\n",
              "  .colab-df-spinner {\n",
              "    border: 2px solid var(--fill-color);\n",
              "    border-color: transparent;\n",
              "    border-bottom-color: var(--fill-color);\n",
              "    animation:\n",
              "      spin 1s steps(1) infinite;\n",
              "  }\n",
              "\n",
              "  @keyframes spin {\n",
              "    0% {\n",
              "      border-color: transparent;\n",
              "      border-bottom-color: var(--fill-color);\n",
              "      border-left-color: var(--fill-color);\n",
              "    }\n",
              "    20% {\n",
              "      border-color: transparent;\n",
              "      border-left-color: var(--fill-color);\n",
              "      border-top-color: var(--fill-color);\n",
              "    }\n",
              "    30% {\n",
              "      border-color: transparent;\n",
              "      border-left-color: var(--fill-color);\n",
              "      border-top-color: var(--fill-color);\n",
              "      border-right-color: var(--fill-color);\n",
              "    }\n",
              "    40% {\n",
              "      border-color: transparent;\n",
              "      border-right-color: var(--fill-color);\n",
              "      border-top-color: var(--fill-color);\n",
              "    }\n",
              "    60% {\n",
              "      border-color: transparent;\n",
              "      border-right-color: var(--fill-color);\n",
              "    }\n",
              "    80% {\n",
              "      border-color: transparent;\n",
              "      border-right-color: var(--fill-color);\n",
              "      border-bottom-color: var(--fill-color);\n",
              "    }\n",
              "    90% {\n",
              "      border-color: transparent;\n",
              "      border-bottom-color: var(--fill-color);\n",
              "    }\n",
              "  }\n",
              "</style>\n",
              "\n",
              "  <script>\n",
              "    async function quickchart(key) {\n",
              "      const quickchartButtonEl =\n",
              "        document.querySelector('#' + key + ' button');\n",
              "      quickchartButtonEl.disabled = true;  // To prevent multiple clicks.\n",
              "      quickchartButtonEl.classList.add('colab-df-spinner');\n",
              "      try {\n",
              "        const charts = await google.colab.kernel.invokeFunction(\n",
              "            'suggestCharts', [key], {});\n",
              "      } catch (error) {\n",
              "        console.error('Error during call to suggestCharts:', error);\n",
              "      }\n",
              "      quickchartButtonEl.classList.remove('colab-df-spinner');\n",
              "      quickchartButtonEl.classList.add('colab-df-quickchart-complete');\n",
              "    }\n",
              "    (() => {\n",
              "      let quickchartButtonEl =\n",
              "        document.querySelector('#df-dc4a32fe-352e-4eb8-883c-5e01913c534c button');\n",
              "      quickchartButtonEl.style.display =\n",
              "        google.colab.kernel.accessAllowed ? 'block' : 'none';\n",
              "    })();\n",
              "  </script>\n",
              "</div>\n",
              "    </div>\n",
              "  </div>\n"
            ]
          },
          "metadata": {},
          "execution_count": 12
        }
      ],
      "source": [
        "# TODO: view checkin_df (just the first 5 rows with .head() is fine) to make sure the import was successful\n",
        "checkin_df.head(5)"
      ]
    },
    {
      "cell_type": "code",
      "execution_count": null,
      "metadata": {
        "id": "bNicxKmiqCic",
        "colab": {
          "base_uri": "https://localhost:8080/",
          "height": 206
        },
        "outputId": "2ddf8699-473f-4eb1-e1e3-f025ea29b3c0"
      },
      "outputs": [
        {
          "output_type": "execute_result",
          "data": {
            "text/plain": [
              "                                                text        date  likes  \\\n",
              "0  Great breakfast large portions and friendly wa...  2015-08-12      0   \n",
              "1  Nice place. Great staff.  A fixture in the tow...  2014-06-20      0   \n",
              "2                     Happy hour 5-7 Monday - Friday  2016-10-12      0   \n",
              "3  Parking is a premium, keep circling, you will ...  2017-01-28      0   \n",
              "4             Homemade pasta is the best in the area  2017-02-25      0   \n",
              "\n",
              "              business_id                 user_id  \n",
              "0  jH19V2I9fIslnNhDzPmdkA  ZcLKXikTHYOnYt5VYRO5sg  \n",
              "1  dAa0hB2yrnHzVmsCkN4YvQ  oaYhjqBbh18ZhU0bpyzSuw  \n",
              "2  dAa0hB2yrnHzVmsCkN4YvQ  ulQ8Nyj7jCUR8M83SUMoRQ  \n",
              "3  ESzO3Av0b1_TzKOiqzbQYQ  ulQ8Nyj7jCUR8M83SUMoRQ  \n",
              "4  k7WRPbDd7rztjHcGGkEjlw  ulQ8Nyj7jCUR8M83SUMoRQ  "
            ],
            "text/html": [
              "\n",
              "  <div id=\"df-16d1a463-fcd3-405b-a182-8607908b4a23\" class=\"colab-df-container\">\n",
              "    <div>\n",
              "<style scoped>\n",
              "    .dataframe tbody tr th:only-of-type {\n",
              "        vertical-align: middle;\n",
              "    }\n",
              "\n",
              "    .dataframe tbody tr th {\n",
              "        vertical-align: top;\n",
              "    }\n",
              "\n",
              "    .dataframe thead th {\n",
              "        text-align: right;\n",
              "    }\n",
              "</style>\n",
              "<table border=\"1\" class=\"dataframe\">\n",
              "  <thead>\n",
              "    <tr style=\"text-align: right;\">\n",
              "      <th></th>\n",
              "      <th>text</th>\n",
              "      <th>date</th>\n",
              "      <th>likes</th>\n",
              "      <th>business_id</th>\n",
              "      <th>user_id</th>\n",
              "    </tr>\n",
              "  </thead>\n",
              "  <tbody>\n",
              "    <tr>\n",
              "      <th>0</th>\n",
              "      <td>Great breakfast large portions and friendly wa...</td>\n",
              "      <td>2015-08-12</td>\n",
              "      <td>0</td>\n",
              "      <td>jH19V2I9fIslnNhDzPmdkA</td>\n",
              "      <td>ZcLKXikTHYOnYt5VYRO5sg</td>\n",
              "    </tr>\n",
              "    <tr>\n",
              "      <th>1</th>\n",
              "      <td>Nice place. Great staff.  A fixture in the tow...</td>\n",
              "      <td>2014-06-20</td>\n",
              "      <td>0</td>\n",
              "      <td>dAa0hB2yrnHzVmsCkN4YvQ</td>\n",
              "      <td>oaYhjqBbh18ZhU0bpyzSuw</td>\n",
              "    </tr>\n",
              "    <tr>\n",
              "      <th>2</th>\n",
              "      <td>Happy hour 5-7 Monday - Friday</td>\n",
              "      <td>2016-10-12</td>\n",
              "      <td>0</td>\n",
              "      <td>dAa0hB2yrnHzVmsCkN4YvQ</td>\n",
              "      <td>ulQ8Nyj7jCUR8M83SUMoRQ</td>\n",
              "    </tr>\n",
              "    <tr>\n",
              "      <th>3</th>\n",
              "      <td>Parking is a premium, keep circling, you will ...</td>\n",
              "      <td>2017-01-28</td>\n",
              "      <td>0</td>\n",
              "      <td>ESzO3Av0b1_TzKOiqzbQYQ</td>\n",
              "      <td>ulQ8Nyj7jCUR8M83SUMoRQ</td>\n",
              "    </tr>\n",
              "    <tr>\n",
              "      <th>4</th>\n",
              "      <td>Homemade pasta is the best in the area</td>\n",
              "      <td>2017-02-25</td>\n",
              "      <td>0</td>\n",
              "      <td>k7WRPbDd7rztjHcGGkEjlw</td>\n",
              "      <td>ulQ8Nyj7jCUR8M83SUMoRQ</td>\n",
              "    </tr>\n",
              "  </tbody>\n",
              "</table>\n",
              "</div>\n",
              "    <div class=\"colab-df-buttons\">\n",
              "\n",
              "  <div class=\"colab-df-container\">\n",
              "    <button class=\"colab-df-convert\" onclick=\"convertToInteractive('df-16d1a463-fcd3-405b-a182-8607908b4a23')\"\n",
              "            title=\"Convert this dataframe to an interactive table.\"\n",
              "            style=\"display:none;\">\n",
              "\n",
              "  <svg xmlns=\"http://www.w3.org/2000/svg\" height=\"24px\" viewBox=\"0 -960 960 960\">\n",
              "    <path d=\"M120-120v-720h720v720H120Zm60-500h600v-160H180v160Zm220 220h160v-160H400v160Zm0 220h160v-160H400v160ZM180-400h160v-160H180v160Zm440 0h160v-160H620v160ZM180-180h160v-160H180v160Zm440 0h160v-160H620v160Z\"/>\n",
              "  </svg>\n",
              "    </button>\n",
              "\n",
              "  <style>\n",
              "    .colab-df-container {\n",
              "      display:flex;\n",
              "      gap: 12px;\n",
              "    }\n",
              "\n",
              "    .colab-df-convert {\n",
              "      background-color: #E8F0FE;\n",
              "      border: none;\n",
              "      border-radius: 50%;\n",
              "      cursor: pointer;\n",
              "      display: none;\n",
              "      fill: #1967D2;\n",
              "      height: 32px;\n",
              "      padding: 0 0 0 0;\n",
              "      width: 32px;\n",
              "    }\n",
              "\n",
              "    .colab-df-convert:hover {\n",
              "      background-color: #E2EBFA;\n",
              "      box-shadow: 0px 1px 2px rgba(60, 64, 67, 0.3), 0px 1px 3px 1px rgba(60, 64, 67, 0.15);\n",
              "      fill: #174EA6;\n",
              "    }\n",
              "\n",
              "    .colab-df-buttons div {\n",
              "      margin-bottom: 4px;\n",
              "    }\n",
              "\n",
              "    [theme=dark] .colab-df-convert {\n",
              "      background-color: #3B4455;\n",
              "      fill: #D2E3FC;\n",
              "    }\n",
              "\n",
              "    [theme=dark] .colab-df-convert:hover {\n",
              "      background-color: #434B5C;\n",
              "      box-shadow: 0px 1px 3px 1px rgba(0, 0, 0, 0.15);\n",
              "      filter: drop-shadow(0px 1px 2px rgba(0, 0, 0, 0.3));\n",
              "      fill: #FFFFFF;\n",
              "    }\n",
              "  </style>\n",
              "\n",
              "    <script>\n",
              "      const buttonEl =\n",
              "        document.querySelector('#df-16d1a463-fcd3-405b-a182-8607908b4a23 button.colab-df-convert');\n",
              "      buttonEl.style.display =\n",
              "        google.colab.kernel.accessAllowed ? 'block' : 'none';\n",
              "\n",
              "      async function convertToInteractive(key) {\n",
              "        const element = document.querySelector('#df-16d1a463-fcd3-405b-a182-8607908b4a23');\n",
              "        const dataTable =\n",
              "          await google.colab.kernel.invokeFunction('convertToInteractive',\n",
              "                                                    [key], {});\n",
              "        if (!dataTable) return;\n",
              "\n",
              "        const docLinkHtml = 'Like what you see? Visit the ' +\n",
              "          '<a target=\"_blank\" href=https://colab.research.google.com/notebooks/data_table.ipynb>data table notebook</a>'\n",
              "          + ' to learn more about interactive tables.';\n",
              "        element.innerHTML = '';\n",
              "        dataTable['output_type'] = 'display_data';\n",
              "        await google.colab.output.renderOutput(dataTable, element);\n",
              "        const docLink = document.createElement('div');\n",
              "        docLink.innerHTML = docLinkHtml;\n",
              "        element.appendChild(docLink);\n",
              "      }\n",
              "    </script>\n",
              "  </div>\n",
              "\n",
              "\n",
              "<div id=\"df-8165eeb0-02fc-4ef5-b3df-6cb717b5820a\">\n",
              "  <button class=\"colab-df-quickchart\" onclick=\"quickchart('df-8165eeb0-02fc-4ef5-b3df-6cb717b5820a')\"\n",
              "            title=\"Suggest charts.\"\n",
              "            style=\"display:none;\">\n",
              "\n",
              "<svg xmlns=\"http://www.w3.org/2000/svg\" height=\"24px\"viewBox=\"0 0 24 24\"\n",
              "     width=\"24px\">\n",
              "    <g>\n",
              "        <path d=\"M19 3H5c-1.1 0-2 .9-2 2v14c0 1.1.9 2 2 2h14c1.1 0 2-.9 2-2V5c0-1.1-.9-2-2-2zM9 17H7v-7h2v7zm4 0h-2V7h2v10zm4 0h-2v-4h2v4z\"/>\n",
              "    </g>\n",
              "</svg>\n",
              "  </button>\n",
              "\n",
              "<style>\n",
              "  .colab-df-quickchart {\n",
              "      --bg-color: #E8F0FE;\n",
              "      --fill-color: #1967D2;\n",
              "      --hover-bg-color: #E2EBFA;\n",
              "      --hover-fill-color: #174EA6;\n",
              "      --disabled-fill-color: #AAA;\n",
              "      --disabled-bg-color: #DDD;\n",
              "  }\n",
              "\n",
              "  [theme=dark] .colab-df-quickchart {\n",
              "      --bg-color: #3B4455;\n",
              "      --fill-color: #D2E3FC;\n",
              "      --hover-bg-color: #434B5C;\n",
              "      --hover-fill-color: #FFFFFF;\n",
              "      --disabled-bg-color: #3B4455;\n",
              "      --disabled-fill-color: #666;\n",
              "  }\n",
              "\n",
              "  .colab-df-quickchart {\n",
              "    background-color: var(--bg-color);\n",
              "    border: none;\n",
              "    border-radius: 50%;\n",
              "    cursor: pointer;\n",
              "    display: none;\n",
              "    fill: var(--fill-color);\n",
              "    height: 32px;\n",
              "    padding: 0;\n",
              "    width: 32px;\n",
              "  }\n",
              "\n",
              "  .colab-df-quickchart:hover {\n",
              "    background-color: var(--hover-bg-color);\n",
              "    box-shadow: 0 1px 2px rgba(60, 64, 67, 0.3), 0 1px 3px 1px rgba(60, 64, 67, 0.15);\n",
              "    fill: var(--button-hover-fill-color);\n",
              "  }\n",
              "\n",
              "  .colab-df-quickchart-complete:disabled,\n",
              "  .colab-df-quickchart-complete:disabled:hover {\n",
              "    background-color: var(--disabled-bg-color);\n",
              "    fill: var(--disabled-fill-color);\n",
              "    box-shadow: none;\n",
              "  }\n",
              "\n",
              "  .colab-df-spinner {\n",
              "    border: 2px solid var(--fill-color);\n",
              "    border-color: transparent;\n",
              "    border-bottom-color: var(--fill-color);\n",
              "    animation:\n",
              "      spin 1s steps(1) infinite;\n",
              "  }\n",
              "\n",
              "  @keyframes spin {\n",
              "    0% {\n",
              "      border-color: transparent;\n",
              "      border-bottom-color: var(--fill-color);\n",
              "      border-left-color: var(--fill-color);\n",
              "    }\n",
              "    20% {\n",
              "      border-color: transparent;\n",
              "      border-left-color: var(--fill-color);\n",
              "      border-top-color: var(--fill-color);\n",
              "    }\n",
              "    30% {\n",
              "      border-color: transparent;\n",
              "      border-left-color: var(--fill-color);\n",
              "      border-top-color: var(--fill-color);\n",
              "      border-right-color: var(--fill-color);\n",
              "    }\n",
              "    40% {\n",
              "      border-color: transparent;\n",
              "      border-right-color: var(--fill-color);\n",
              "      border-top-color: var(--fill-color);\n",
              "    }\n",
              "    60% {\n",
              "      border-color: transparent;\n",
              "      border-right-color: var(--fill-color);\n",
              "    }\n",
              "    80% {\n",
              "      border-color: transparent;\n",
              "      border-right-color: var(--fill-color);\n",
              "      border-bottom-color: var(--fill-color);\n",
              "    }\n",
              "    90% {\n",
              "      border-color: transparent;\n",
              "      border-bottom-color: var(--fill-color);\n",
              "    }\n",
              "  }\n",
              "</style>\n",
              "\n",
              "  <script>\n",
              "    async function quickchart(key) {\n",
              "      const quickchartButtonEl =\n",
              "        document.querySelector('#' + key + ' button');\n",
              "      quickchartButtonEl.disabled = true;  // To prevent multiple clicks.\n",
              "      quickchartButtonEl.classList.add('colab-df-spinner');\n",
              "      try {\n",
              "        const charts = await google.colab.kernel.invokeFunction(\n",
              "            'suggestCharts', [key], {});\n",
              "      } catch (error) {\n",
              "        console.error('Error during call to suggestCharts:', error);\n",
              "      }\n",
              "      quickchartButtonEl.classList.remove('colab-df-spinner');\n",
              "      quickchartButtonEl.classList.add('colab-df-quickchart-complete');\n",
              "    }\n",
              "    (() => {\n",
              "      let quickchartButtonEl =\n",
              "        document.querySelector('#df-8165eeb0-02fc-4ef5-b3df-6cb717b5820a button');\n",
              "      quickchartButtonEl.style.display =\n",
              "        google.colab.kernel.accessAllowed ? 'block' : 'none';\n",
              "    })();\n",
              "  </script>\n",
              "</div>\n",
              "    </div>\n",
              "  </div>\n"
            ]
          },
          "metadata": {},
          "execution_count": 13
        }
      ],
      "source": [
        "# TODO: view tip_df (just the first 5 rows with .head() is fine) to make sure the import was successful\n",
        "tip_df.head(5)"
      ]
    },
    {
      "cell_type": "code",
      "execution_count": null,
      "metadata": {
        "id": "_00COZ1oqGNq",
        "colab": {
          "base_uri": "https://localhost:8080/",
          "height": 307
        },
        "outputId": "2c559be7-f942-49b4-97ee-124210991ae7"
      },
      "outputs": [
        {
          "output_type": "execute_result",
          "data": {
            "text/plain": [
              "                  user_id    name  review_count yelping_since  \\\n",
              "0  JJ-aSuM4pCFPdkfoZ34q0Q   Chris            10    2013-09-24   \n",
              "1  uUzsFQn_6cXDh6rPNGbIFA   Tiffy             1    2017-03-02   \n",
              "2  mBneaEEH5EMyxaVyqS-72A    Mark             6    2015-03-13   \n",
              "3  W5mJGs-dcDWRGEhAzUYtoA  Evelyn             3    2016-09-08   \n",
              "4  4E8--zUZO1Rr1IBK4_83fg    Lisa            11    2012-07-16   \n",
              "\n",
              "                                             friends  useful  funny  cool  \\\n",
              "0  0njfJmB-7n84DlIgUByCNw, rFn3Xe3RqHxRSxWOU19Gpg...       0      0     0   \n",
              "1                                               None       0      0     0   \n",
              "2                                               None       0      0     0   \n",
              "3                                               None       0      0     0   \n",
              "4                                               None       4      0     0   \n",
              "\n",
              "   fans elite  ...  compliment_more  compliment_profile  compliment_cute  \\\n",
              "0     0  None  ...                0                   0                0   \n",
              "1     0  None  ...                0                   0                0   \n",
              "2     0  None  ...                0                   0                0   \n",
              "3     0  None  ...                0                   0                0   \n",
              "4     0  None  ...                0                   0                0   \n",
              "\n",
              "   compliment_list  compliment_note  compliment_plain  compliment_cool  \\\n",
              "0                0                0                 0                0   \n",
              "1                0                0                 0                0   \n",
              "2                0                0                 0                0   \n",
              "3                0                0                 0                0   \n",
              "4                0                0                 0                0   \n",
              "\n",
              "   compliment_funny  compliment_writer  compliment_photos  \n",
              "0                 0                  0                  0  \n",
              "1                 0                  0                  0  \n",
              "2                 0                  0                  0  \n",
              "3                 0                  0                  0  \n",
              "4                 0                  1                  0  \n",
              "\n",
              "[5 rows x 22 columns]"
            ],
            "text/html": [
              "\n",
              "  <div id=\"df-c53f6f0d-279b-41b6-83d1-9189c4d5641b\" class=\"colab-df-container\">\n",
              "    <div>\n",
              "<style scoped>\n",
              "    .dataframe tbody tr th:only-of-type {\n",
              "        vertical-align: middle;\n",
              "    }\n",
              "\n",
              "    .dataframe tbody tr th {\n",
              "        vertical-align: top;\n",
              "    }\n",
              "\n",
              "    .dataframe thead th {\n",
              "        text-align: right;\n",
              "    }\n",
              "</style>\n",
              "<table border=\"1\" class=\"dataframe\">\n",
              "  <thead>\n",
              "    <tr style=\"text-align: right;\">\n",
              "      <th></th>\n",
              "      <th>user_id</th>\n",
              "      <th>name</th>\n",
              "      <th>review_count</th>\n",
              "      <th>yelping_since</th>\n",
              "      <th>friends</th>\n",
              "      <th>useful</th>\n",
              "      <th>funny</th>\n",
              "      <th>cool</th>\n",
              "      <th>fans</th>\n",
              "      <th>elite</th>\n",
              "      <th>...</th>\n",
              "      <th>compliment_more</th>\n",
              "      <th>compliment_profile</th>\n",
              "      <th>compliment_cute</th>\n",
              "      <th>compliment_list</th>\n",
              "      <th>compliment_note</th>\n",
              "      <th>compliment_plain</th>\n",
              "      <th>compliment_cool</th>\n",
              "      <th>compliment_funny</th>\n",
              "      <th>compliment_writer</th>\n",
              "      <th>compliment_photos</th>\n",
              "    </tr>\n",
              "  </thead>\n",
              "  <tbody>\n",
              "    <tr>\n",
              "      <th>0</th>\n",
              "      <td>JJ-aSuM4pCFPdkfoZ34q0Q</td>\n",
              "      <td>Chris</td>\n",
              "      <td>10</td>\n",
              "      <td>2013-09-24</td>\n",
              "      <td>0njfJmB-7n84DlIgUByCNw, rFn3Xe3RqHxRSxWOU19Gpg...</td>\n",
              "      <td>0</td>\n",
              "      <td>0</td>\n",
              "      <td>0</td>\n",
              "      <td>0</td>\n",
              "      <td>None</td>\n",
              "      <td>...</td>\n",
              "      <td>0</td>\n",
              "      <td>0</td>\n",
              "      <td>0</td>\n",
              "      <td>0</td>\n",
              "      <td>0</td>\n",
              "      <td>0</td>\n",
              "      <td>0</td>\n",
              "      <td>0</td>\n",
              "      <td>0</td>\n",
              "      <td>0</td>\n",
              "    </tr>\n",
              "    <tr>\n",
              "      <th>1</th>\n",
              "      <td>uUzsFQn_6cXDh6rPNGbIFA</td>\n",
              "      <td>Tiffy</td>\n",
              "      <td>1</td>\n",
              "      <td>2017-03-02</td>\n",
              "      <td>None</td>\n",
              "      <td>0</td>\n",
              "      <td>0</td>\n",
              "      <td>0</td>\n",
              "      <td>0</td>\n",
              "      <td>None</td>\n",
              "      <td>...</td>\n",
              "      <td>0</td>\n",
              "      <td>0</td>\n",
              "      <td>0</td>\n",
              "      <td>0</td>\n",
              "      <td>0</td>\n",
              "      <td>0</td>\n",
              "      <td>0</td>\n",
              "      <td>0</td>\n",
              "      <td>0</td>\n",
              "      <td>0</td>\n",
              "    </tr>\n",
              "    <tr>\n",
              "      <th>2</th>\n",
              "      <td>mBneaEEH5EMyxaVyqS-72A</td>\n",
              "      <td>Mark</td>\n",
              "      <td>6</td>\n",
              "      <td>2015-03-13</td>\n",
              "      <td>None</td>\n",
              "      <td>0</td>\n",
              "      <td>0</td>\n",
              "      <td>0</td>\n",
              "      <td>0</td>\n",
              "      <td>None</td>\n",
              "      <td>...</td>\n",
              "      <td>0</td>\n",
              "      <td>0</td>\n",
              "      <td>0</td>\n",
              "      <td>0</td>\n",
              "      <td>0</td>\n",
              "      <td>0</td>\n",
              "      <td>0</td>\n",
              "      <td>0</td>\n",
              "      <td>0</td>\n",
              "      <td>0</td>\n",
              "    </tr>\n",
              "    <tr>\n",
              "      <th>3</th>\n",
              "      <td>W5mJGs-dcDWRGEhAzUYtoA</td>\n",
              "      <td>Evelyn</td>\n",
              "      <td>3</td>\n",
              "      <td>2016-09-08</td>\n",
              "      <td>None</td>\n",
              "      <td>0</td>\n",
              "      <td>0</td>\n",
              "      <td>0</td>\n",
              "      <td>0</td>\n",
              "      <td>None</td>\n",
              "      <td>...</td>\n",
              "      <td>0</td>\n",
              "      <td>0</td>\n",
              "      <td>0</td>\n",
              "      <td>0</td>\n",
              "      <td>0</td>\n",
              "      <td>0</td>\n",
              "      <td>0</td>\n",
              "      <td>0</td>\n",
              "      <td>0</td>\n",
              "      <td>0</td>\n",
              "    </tr>\n",
              "    <tr>\n",
              "      <th>4</th>\n",
              "      <td>4E8--zUZO1Rr1IBK4_83fg</td>\n",
              "      <td>Lisa</td>\n",
              "      <td>11</td>\n",
              "      <td>2012-07-16</td>\n",
              "      <td>None</td>\n",
              "      <td>4</td>\n",
              "      <td>0</td>\n",
              "      <td>0</td>\n",
              "      <td>0</td>\n",
              "      <td>None</td>\n",
              "      <td>...</td>\n",
              "      <td>0</td>\n",
              "      <td>0</td>\n",
              "      <td>0</td>\n",
              "      <td>0</td>\n",
              "      <td>0</td>\n",
              "      <td>0</td>\n",
              "      <td>0</td>\n",
              "      <td>0</td>\n",
              "      <td>1</td>\n",
              "      <td>0</td>\n",
              "    </tr>\n",
              "  </tbody>\n",
              "</table>\n",
              "<p>5 rows × 22 columns</p>\n",
              "</div>\n",
              "    <div class=\"colab-df-buttons\">\n",
              "\n",
              "  <div class=\"colab-df-container\">\n",
              "    <button class=\"colab-df-convert\" onclick=\"convertToInteractive('df-c53f6f0d-279b-41b6-83d1-9189c4d5641b')\"\n",
              "            title=\"Convert this dataframe to an interactive table.\"\n",
              "            style=\"display:none;\">\n",
              "\n",
              "  <svg xmlns=\"http://www.w3.org/2000/svg\" height=\"24px\" viewBox=\"0 -960 960 960\">\n",
              "    <path d=\"M120-120v-720h720v720H120Zm60-500h600v-160H180v160Zm220 220h160v-160H400v160Zm0 220h160v-160H400v160ZM180-400h160v-160H180v160Zm440 0h160v-160H620v160ZM180-180h160v-160H180v160Zm440 0h160v-160H620v160Z\"/>\n",
              "  </svg>\n",
              "    </button>\n",
              "\n",
              "  <style>\n",
              "    .colab-df-container {\n",
              "      display:flex;\n",
              "      gap: 12px;\n",
              "    }\n",
              "\n",
              "    .colab-df-convert {\n",
              "      background-color: #E8F0FE;\n",
              "      border: none;\n",
              "      border-radius: 50%;\n",
              "      cursor: pointer;\n",
              "      display: none;\n",
              "      fill: #1967D2;\n",
              "      height: 32px;\n",
              "      padding: 0 0 0 0;\n",
              "      width: 32px;\n",
              "    }\n",
              "\n",
              "    .colab-df-convert:hover {\n",
              "      background-color: #E2EBFA;\n",
              "      box-shadow: 0px 1px 2px rgba(60, 64, 67, 0.3), 0px 1px 3px 1px rgba(60, 64, 67, 0.15);\n",
              "      fill: #174EA6;\n",
              "    }\n",
              "\n",
              "    .colab-df-buttons div {\n",
              "      margin-bottom: 4px;\n",
              "    }\n",
              "\n",
              "    [theme=dark] .colab-df-convert {\n",
              "      background-color: #3B4455;\n",
              "      fill: #D2E3FC;\n",
              "    }\n",
              "\n",
              "    [theme=dark] .colab-df-convert:hover {\n",
              "      background-color: #434B5C;\n",
              "      box-shadow: 0px 1px 3px 1px rgba(0, 0, 0, 0.15);\n",
              "      filter: drop-shadow(0px 1px 2px rgba(0, 0, 0, 0.3));\n",
              "      fill: #FFFFFF;\n",
              "    }\n",
              "  </style>\n",
              "\n",
              "    <script>\n",
              "      const buttonEl =\n",
              "        document.querySelector('#df-c53f6f0d-279b-41b6-83d1-9189c4d5641b button.colab-df-convert');\n",
              "      buttonEl.style.display =\n",
              "        google.colab.kernel.accessAllowed ? 'block' : 'none';\n",
              "\n",
              "      async function convertToInteractive(key) {\n",
              "        const element = document.querySelector('#df-c53f6f0d-279b-41b6-83d1-9189c4d5641b');\n",
              "        const dataTable =\n",
              "          await google.colab.kernel.invokeFunction('convertToInteractive',\n",
              "                                                    [key], {});\n",
              "        if (!dataTable) return;\n",
              "\n",
              "        const docLinkHtml = 'Like what you see? Visit the ' +\n",
              "          '<a target=\"_blank\" href=https://colab.research.google.com/notebooks/data_table.ipynb>data table notebook</a>'\n",
              "          + ' to learn more about interactive tables.';\n",
              "        element.innerHTML = '';\n",
              "        dataTable['output_type'] = 'display_data';\n",
              "        await google.colab.output.renderOutput(dataTable, element);\n",
              "        const docLink = document.createElement('div');\n",
              "        docLink.innerHTML = docLinkHtml;\n",
              "        element.appendChild(docLink);\n",
              "      }\n",
              "    </script>\n",
              "  </div>\n",
              "\n",
              "\n",
              "<div id=\"df-278ad38e-a5f4-4953-a003-61d79565e04a\">\n",
              "  <button class=\"colab-df-quickchart\" onclick=\"quickchart('df-278ad38e-a5f4-4953-a003-61d79565e04a')\"\n",
              "            title=\"Suggest charts.\"\n",
              "            style=\"display:none;\">\n",
              "\n",
              "<svg xmlns=\"http://www.w3.org/2000/svg\" height=\"24px\"viewBox=\"0 0 24 24\"\n",
              "     width=\"24px\">\n",
              "    <g>\n",
              "        <path d=\"M19 3H5c-1.1 0-2 .9-2 2v14c0 1.1.9 2 2 2h14c1.1 0 2-.9 2-2V5c0-1.1-.9-2-2-2zM9 17H7v-7h2v7zm4 0h-2V7h2v10zm4 0h-2v-4h2v4z\"/>\n",
              "    </g>\n",
              "</svg>\n",
              "  </button>\n",
              "\n",
              "<style>\n",
              "  .colab-df-quickchart {\n",
              "      --bg-color: #E8F0FE;\n",
              "      --fill-color: #1967D2;\n",
              "      --hover-bg-color: #E2EBFA;\n",
              "      --hover-fill-color: #174EA6;\n",
              "      --disabled-fill-color: #AAA;\n",
              "      --disabled-bg-color: #DDD;\n",
              "  }\n",
              "\n",
              "  [theme=dark] .colab-df-quickchart {\n",
              "      --bg-color: #3B4455;\n",
              "      --fill-color: #D2E3FC;\n",
              "      --hover-bg-color: #434B5C;\n",
              "      --hover-fill-color: #FFFFFF;\n",
              "      --disabled-bg-color: #3B4455;\n",
              "      --disabled-fill-color: #666;\n",
              "  }\n",
              "\n",
              "  .colab-df-quickchart {\n",
              "    background-color: var(--bg-color);\n",
              "    border: none;\n",
              "    border-radius: 50%;\n",
              "    cursor: pointer;\n",
              "    display: none;\n",
              "    fill: var(--fill-color);\n",
              "    height: 32px;\n",
              "    padding: 0;\n",
              "    width: 32px;\n",
              "  }\n",
              "\n",
              "  .colab-df-quickchart:hover {\n",
              "    background-color: var(--hover-bg-color);\n",
              "    box-shadow: 0 1px 2px rgba(60, 64, 67, 0.3), 0 1px 3px 1px rgba(60, 64, 67, 0.15);\n",
              "    fill: var(--button-hover-fill-color);\n",
              "  }\n",
              "\n",
              "  .colab-df-quickchart-complete:disabled,\n",
              "  .colab-df-quickchart-complete:disabled:hover {\n",
              "    background-color: var(--disabled-bg-color);\n",
              "    fill: var(--disabled-fill-color);\n",
              "    box-shadow: none;\n",
              "  }\n",
              "\n",
              "  .colab-df-spinner {\n",
              "    border: 2px solid var(--fill-color);\n",
              "    border-color: transparent;\n",
              "    border-bottom-color: var(--fill-color);\n",
              "    animation:\n",
              "      spin 1s steps(1) infinite;\n",
              "  }\n",
              "\n",
              "  @keyframes spin {\n",
              "    0% {\n",
              "      border-color: transparent;\n",
              "      border-bottom-color: var(--fill-color);\n",
              "      border-left-color: var(--fill-color);\n",
              "    }\n",
              "    20% {\n",
              "      border-color: transparent;\n",
              "      border-left-color: var(--fill-color);\n",
              "      border-top-color: var(--fill-color);\n",
              "    }\n",
              "    30% {\n",
              "      border-color: transparent;\n",
              "      border-left-color: var(--fill-color);\n",
              "      border-top-color: var(--fill-color);\n",
              "      border-right-color: var(--fill-color);\n",
              "    }\n",
              "    40% {\n",
              "      border-color: transparent;\n",
              "      border-right-color: var(--fill-color);\n",
              "      border-top-color: var(--fill-color);\n",
              "    }\n",
              "    60% {\n",
              "      border-color: transparent;\n",
              "      border-right-color: var(--fill-color);\n",
              "    }\n",
              "    80% {\n",
              "      border-color: transparent;\n",
              "      border-right-color: var(--fill-color);\n",
              "      border-bottom-color: var(--fill-color);\n",
              "    }\n",
              "    90% {\n",
              "      border-color: transparent;\n",
              "      border-bottom-color: var(--fill-color);\n",
              "    }\n",
              "  }\n",
              "</style>\n",
              "\n",
              "  <script>\n",
              "    async function quickchart(key) {\n",
              "      const quickchartButtonEl =\n",
              "        document.querySelector('#' + key + ' button');\n",
              "      quickchartButtonEl.disabled = true;  // To prevent multiple clicks.\n",
              "      quickchartButtonEl.classList.add('colab-df-spinner');\n",
              "      try {\n",
              "        const charts = await google.colab.kernel.invokeFunction(\n",
              "            'suggestCharts', [key], {});\n",
              "      } catch (error) {\n",
              "        console.error('Error during call to suggestCharts:', error);\n",
              "      }\n",
              "      quickchartButtonEl.classList.remove('colab-df-spinner');\n",
              "      quickchartButtonEl.classList.add('colab-df-quickchart-complete');\n",
              "    }\n",
              "    (() => {\n",
              "      let quickchartButtonEl =\n",
              "        document.querySelector('#df-278ad38e-a5f4-4953-a003-61d79565e04a button');\n",
              "      quickchartButtonEl.style.display =\n",
              "        google.colab.kernel.accessAllowed ? 'block' : 'none';\n",
              "    })();\n",
              "  </script>\n",
              "</div>\n",
              "    </div>\n",
              "  </div>\n"
            ]
          },
          "metadata": {},
          "execution_count": 14
        }
      ],
      "source": [
        "# TODO: view user_df (just the first 5 rows with .head() is fine) to make sure the import was successful\n",
        "user_df.head(5)"
      ]
    },
    {
      "cell_type": "markdown",
      "metadata": {
        "id": "kgRgNCSJquoB"
      },
      "source": [
        "### 1.1 Data Preprocessing\n",
        "\n",
        "Next, we are going to want to clean up our dataframes. We will start with cleaning up `business_df`."
      ]
    },
    {
      "cell_type": "markdown",
      "metadata": {
        "id": "CEh-87BqyD5z"
      },
      "source": [
        "#### 1.1.1 Cleaning `business_df` [4 points]\n",
        "\n",
        "`.info()` gives us meaningful information regarding columns, their types, and the amount of nulls, based on which we can now clean our dataframe.\n",
        "\n",
        "Perform these steps and save results on a new dataframe: `business_cleaned_df`\n",
        "\n",
        "**TODO**:\n",
        "* Copy `business_df` to the new dataframe called `business_cleaned_df`\n",
        "* Remove extra quotation marks from the entries in the columns `name` and `address` in `business_cleaned_df`\n",
        "* Convert the column `categories` into a list of strings\n",
        "* Drop `neighborhood` column from `business_cleaned_df`\n",
        "* Create a column called `is_restaurant` where the value is 1 if `'Restaurants'` is in the list in column `categories` and is 0 otherwise\n",
        "* Create individual rows for each category of each business instead of having a list of categories (Hint: explode)\n",
        "* Sort `business_cleaned_df` by `business_id` and `categories` respectively in an ascending order and reset index as well as drop old indices\n",
        "* Create a list called `business_category_list` containing all unique values found in column `categories` and sort the list in an alphabetical order\n",
        "\n",
        "After performing these steps, `business_cleaned_df` should have the following schema:\n",
        "\n",
        "**Final Schema**:\n",
        ">business_id | name | address | city | state | postal_code | latitude | longitude | stars | review_count | is_open | categories | is_restaurant\n",
        ">--- | --- | --- |--- | --- | --- | --- |--- | --- | --- |--- |--- |---\n",
        "\n",
        "### **NOTES: MAKE SURE TO ALWAYS RESET INDEX. OTHERWISE, YOU MIGHT GET AN INTERNAL SERVER ERROR WHEN RUNNING THE TEST CASES!!!**"
      ]
    },
    {
      "cell_type": "code",
      "execution_count": null,
      "metadata": {
        "id": "mxyBVlCLwWR4",
        "colab": {
          "base_uri": "https://localhost:8080/"
        },
        "outputId": "d519f391-1bbb-4e54-c328-2cadc17ada04"
      },
      "outputs": [
        {
          "output_type": "stream",
          "name": "stdout",
          "text": [
            "<class 'pandas.core.frame.DataFrame'>\n",
            "RangeIndex: 174567 entries, 0 to 174566\n",
            "Data columns (total 13 columns):\n",
            " #   Column        Non-Null Count   Dtype  \n",
            "---  ------        --------------   -----  \n",
            " 0   business_id   174567 non-null  object \n",
            " 1   name          174567 non-null  object \n",
            " 2   neighborhood  68015 non-null   object \n",
            " 3   address       174567 non-null  object \n",
            " 4   city          174566 non-null  object \n",
            " 5   state         174566 non-null  object \n",
            " 6   postal_code   173944 non-null  object \n",
            " 7   latitude      174566 non-null  float64\n",
            " 8   longitude     174566 non-null  float64\n",
            " 9   stars         174567 non-null  float64\n",
            " 10  review_count  174567 non-null  int64  \n",
            " 11  is_open       174567 non-null  int64  \n",
            " 12  categories    174567 non-null  object \n",
            "dtypes: float64(3), int64(2), object(8)\n",
            "memory usage: 17.3+ MB\n"
          ]
        }
      ],
      "source": [
        "# View info of business_df\n",
        "business_df.info()"
      ]
    },
    {
      "cell_type": "code",
      "execution_count": null,
      "metadata": {
        "id": "UBBLxYaz2QKh"
      },
      "outputs": [],
      "source": [
        "# TODO: Save business_df to business_cleaned_df\n",
        "business_cleaned_df = business_df.copy()"
      ]
    },
    {
      "cell_type": "code",
      "execution_count": null,
      "metadata": {
        "id": "hRhkZHBkq_sc"
      },
      "outputs": [],
      "source": [
        "# TODO: Remove extra quotations from name and address\n",
        "business_cleaned_df['name'] = business_cleaned_df['name'].str.replace('\"', '')\n",
        "business_cleaned_df['address'] = business_cleaned_df['address'].str.replace('\"', '')"
      ]
    },
    {
      "cell_type": "code",
      "execution_count": null,
      "metadata": {
        "id": "_HURPCdPrCuu"
      },
      "outputs": [],
      "source": [
        "# TODO: Convert categories into a list of strings\n",
        "business_cleaned_df['categories'] = business_cleaned_df['categories'].str.split(';').apply(lambda x: [category.strip() for category in x])"
      ]
    },
    {
      "cell_type": "code",
      "execution_count": null,
      "metadata": {
        "id": "Trab6sxo1YX6"
      },
      "outputs": [],
      "source": [
        "# TODO: Drop neighborhood column\n",
        "business_cleaned_df.drop('neighborhood', axis=1, inplace=True)"
      ]
    },
    {
      "cell_type": "code",
      "execution_count": null,
      "metadata": {
        "id": "x_1o_fZHJynx"
      },
      "outputs": [],
      "source": [
        "# TODO: Create a column called is_restaurant where the value is 1 if 'Restaurants' is within the list in the column categories and is 0 otherwise\n",
        "def is_restaurant(categories):\n",
        "    return 1 if 'Restaurants' in categories else 0\n",
        "\n",
        "business_cleaned_df['is_restaurant'] = business_cleaned_df['categories'].apply(is_restaurant)"
      ]
    },
    {
      "cell_type": "code",
      "execution_count": null,
      "metadata": {
        "id": "16XahuHoV8iD"
      },
      "outputs": [],
      "source": [
        "# TODO: Create individual rows for each category of each business (Hint: explode)\n",
        "business_cleaned_df = business_cleaned_df.explode('categories')\n",
        "business_cleaned_df.reset_index(drop=True, inplace=True)"
      ]
    },
    {
      "cell_type": "code",
      "execution_count": null,
      "metadata": {
        "id": "Qgg_aM2h1VLg"
      },
      "outputs": [],
      "source": [
        "# TODO: Sort business_id and categories by ascending order\n",
        "business_cleaned_df = business_cleaned_df.sort_values(by=['business_id', 'categories'], ascending=[True, True])\n",
        "business_cleaned_df.reset_index(drop=True, inplace=True)"
      ]
    },
    {
      "cell_type": "code",
      "execution_count": null,
      "metadata": {
        "id": "I029QC98IYrt"
      },
      "outputs": [],
      "source": [
        "# TODO: Create a list called business_category_list containing all unique values found in column categories and sort the list in an alphabetical order\n",
        "unique_categories = business_cleaned_df['categories'].unique()\n",
        "business_category_list = sorted(unique_categories)"
      ]
    },
    {
      "cell_type": "code",
      "execution_count": null,
      "metadata": {
        "id": "bXIx23EpWFTi",
        "colab": {
          "base_uri": "https://localhost:8080/"
        },
        "outputId": "159b6cbb-a91f-4664-f3d8-4fe1f3c26d27"
      },
      "outputs": [
        {
          "output_type": "stream",
          "name": "stdout",
          "text": [
            "Correct! You earned 4/4 points. You are a star!\n",
            "\n",
            "Your submission has been successfully recorded in the gradebook.\n"
          ]
        }
      ],
      "source": [
        "# 4 points\n",
        "grader.grade(test_case_id = 'test_cleaning_business', answer = (len(business_category_list), business_cleaned_df.head(5)))"
      ]
    },
    {
      "cell_type": "markdown",
      "metadata": {
        "id": "7Awewzgl3JYz"
      },
      "source": [
        "#### 1.1.2 Cleaning `checkin_df` [3 points]\n",
        "\n",
        "We will inspect `checkin_df` through the following steps:\n",
        "\n",
        "**TODO**:\n",
        "* Save `checkin_df` to the new dataframe called `checkin_cleaned_df`\n",
        "* Inspect the values in `weekday` column. Store the number of unique values for the column `weekday` in the variable called `weekday_count_checkin`\n",
        "* Inspect the values in `hour` column. Store the number of unique values for the column `hour` in the variable called `hour_count_checkin`\n",
        "* We would like to know the maximum number of check-ins received by a business in the dataframe. Store this value in the variable called `max_checkin_single`\n",
        "\n",
        "After performing these steps, `checkin_cleaned_df` should have the following schema (should be the same as `checkin_df`):\n",
        "\n",
        "**Final Schema**:\n",
        ">business_id | weekday | hour | checkins\n",
        ">--- | --- | --- |---"
      ]
    },
    {
      "cell_type": "code",
      "execution_count": null,
      "metadata": {
        "id": "Gnx3lUOr7Fhj",
        "colab": {
          "base_uri": "https://localhost:8080/"
        },
        "outputId": "1400f9bb-cf7b-4b6a-e0d9-7d1167673230"
      },
      "outputs": [
        {
          "output_type": "stream",
          "name": "stdout",
          "text": [
            "<class 'pandas.core.frame.DataFrame'>\n",
            "RangeIndex: 3911218 entries, 0 to 3911217\n",
            "Data columns (total 4 columns):\n",
            " #   Column       Dtype \n",
            "---  ------       ----- \n",
            " 0   business_id  object\n",
            " 1   weekday      object\n",
            " 2   hour         object\n",
            " 3   checkins     int64 \n",
            "dtypes: int64(1), object(3)\n",
            "memory usage: 119.4+ MB\n"
          ]
        }
      ],
      "source": [
        "# View info of checkin_df\n",
        "checkin_df.info()"
      ]
    },
    {
      "cell_type": "code",
      "execution_count": null,
      "metadata": {
        "id": "ZXAmSuLt3Ztl"
      },
      "outputs": [],
      "source": [
        "# TODO: Save checkin_df to checkin_cleaned_df\n",
        "checkin_cleaned_df = checkin_df.copy()"
      ]
    },
    {
      "cell_type": "code",
      "execution_count": null,
      "metadata": {
        "id": "ns-lrDAj7YAo"
      },
      "outputs": [],
      "source": [
        "# TODO: Store the number of unique values for the column weekday in the variable called weekday_count_checkin\n",
        "unique_weekdays = checkin_cleaned_df['weekday'].unique()\n",
        "weekday_count_checkin = len(unique_weekdays)"
      ]
    },
    {
      "cell_type": "code",
      "execution_count": null,
      "metadata": {
        "id": "ApV76mb430fR"
      },
      "outputs": [],
      "source": [
        "# TODO: Store the number of unique values for the column hour in the variable called hour_count_checkin\n",
        "unique_hours = checkin_cleaned_df['hour'].unique()\n",
        "hour_count_checkin = len(unique_hours)"
      ]
    },
    {
      "cell_type": "code",
      "execution_count": null,
      "metadata": {
        "id": "BBPBCQkk3lug"
      },
      "outputs": [],
      "source": [
        "# TODO: Store the maximum number of check-ins for a single business in the variable called max_checkin_single\n",
        "max_checkin_single = checkin_cleaned_df.groupby('business_id')['checkins'].sum().max()"
      ]
    },
    {
      "cell_type": "code",
      "execution_count": null,
      "metadata": {
        "id": "LEMGzLbvg-qv",
        "colab": {
          "base_uri": "https://localhost:8080/"
        },
        "outputId": "8d0452f8-6882-4fbd-bc37-31345ecbf92c"
      },
      "outputs": [
        {
          "output_type": "stream",
          "name": "stdout",
          "text": [
            "Correct! You earned 3/3 points. You are a star!\n",
            "\n",
            "Your submission has been successfully recorded in the gradebook.\n"
          ]
        }
      ],
      "source": [
        "# 3 points\n",
        "grader.grade(test_case_id = 'test_cleaning_checkin', answer = (weekday_count_checkin, hour_count_checkin, max_checkin_single))"
      ]
    },
    {
      "cell_type": "markdown",
      "metadata": {
        "id": "in0_6-2c3RMw"
      },
      "source": [
        "#### 1.1.3 Cleaning `tip_df` [2 points]\n",
        "\n",
        "We will clean `tip_df` through the following steps:\n",
        "\n",
        "**TODO**:\n",
        "* Save `tip_df` to the new dataframe called `tip_cleaned_df`\n",
        "* Drop all rows with NA\n",
        "* Convert the data type in `date` column from string to `datetime64[ns]` (Use default format: `'%Y-%m-%d'`)\n",
        "* Sort `tip_cleaned_df` by `business_id` and `user_id` in an ascending order and reset index\n",
        "\n",
        "After performing these steps, `tip_cleaned_df` should have the following schema (should be the same as `tip_df`):\n",
        "\n",
        "**Final Schema**:\n",
        ">text | date | likes | business_id | user_id\n",
        ">--- | --- | --- |--- |---"
      ]
    },
    {
      "cell_type": "code",
      "execution_count": null,
      "metadata": {
        "id": "YZ87eMU39B5q",
        "colab": {
          "base_uri": "https://localhost:8080/"
        },
        "outputId": "3b62ea67-fbb1-4e61-e0ae-46d484e9db5e"
      },
      "outputs": [
        {
          "output_type": "stream",
          "name": "stdout",
          "text": [
            "<class 'pandas.core.frame.DataFrame'>\n",
            "RangeIndex: 1098324 entries, 0 to 1098323\n",
            "Data columns (total 5 columns):\n",
            " #   Column       Non-Null Count    Dtype \n",
            "---  ------       --------------    ----- \n",
            " 0   text         1098322 non-null  object\n",
            " 1   date         1098324 non-null  object\n",
            " 2   likes        1098324 non-null  int64 \n",
            " 3   business_id  1098324 non-null  object\n",
            " 4   user_id      1098324 non-null  object\n",
            "dtypes: int64(1), object(4)\n",
            "memory usage: 41.9+ MB\n"
          ]
        }
      ],
      "source": [
        "# View info of tip_df\n",
        "tip_df.info()"
      ]
    },
    {
      "cell_type": "code",
      "execution_count": null,
      "metadata": {
        "id": "poCUWRqG87HD"
      },
      "outputs": [],
      "source": [
        "# TODO: Save tip_df to tip_cleaned_df\n",
        "tip_cleaned_df = tip_df.copy()"
      ]
    },
    {
      "cell_type": "code",
      "execution_count": null,
      "metadata": {
        "id": "qjffdTXX89y5"
      },
      "outputs": [],
      "source": [
        "# TODO: Drop rows with NA\n",
        "tip_cleaned_df.dropna(inplace=True)"
      ]
    },
    {
      "cell_type": "code",
      "execution_count": null,
      "metadata": {
        "id": "RTGj5K_289v_",
        "colab": {
          "base_uri": "https://localhost:8080/"
        },
        "outputId": "2a86ff80-e050-4c84-b3ea-78ab9f54a245"
      },
      "outputs": [
        {
          "output_type": "execute_result",
          "data": {
            "text/plain": [
              "text                   object\n",
              "date           datetime64[ns]\n",
              "likes                   int64\n",
              "business_id            object\n",
              "user_id                object\n",
              "dtype: object"
            ]
          },
          "metadata": {},
          "execution_count": 34
        }
      ],
      "source": [
        "# TODO: Convert the data in date column from string to datetime64[ns]\n",
        "tip_cleaned_df['date'] = pd.to_datetime(tip_cleaned_df['date'], format='%Y-%m-%d')\n",
        "tip_cleaned_df.dtypes"
      ]
    },
    {
      "cell_type": "code",
      "execution_count": null,
      "metadata": {
        "id": "AMXd21cJh7XB"
      },
      "outputs": [],
      "source": [
        "# TODO: Sort tip_cleaned_df by business_id in an ascending order and reset index\n",
        "tip_cleaned_df = tip_cleaned_df.sort_values(by=['business_id'], ascending=[True])\n",
        "tip_cleaned_df.reset_index(drop=True, inplace=True)"
      ]
    },
    {
      "cell_type": "code",
      "execution_count": null,
      "metadata": {
        "id": "yYPAMBN8hpWS",
        "colab": {
          "base_uri": "https://localhost:8080/"
        },
        "outputId": "0a90dbc3-7e15-4bdf-e9a0-acea41f926c0"
      },
      "outputs": [
        {
          "output_type": "stream",
          "name": "stdout",
          "text": [
            "Correct! You earned 2/2 points. You are a star!\n",
            "\n",
            "Your submission has been successfully recorded in the gradebook.\n"
          ]
        }
      ],
      "source": [
        "# 2 points\n",
        "grader.grade(test_case_id = 'test_cleaning_tip', answer = (tip_cleaned_df.head(5), len(tip_cleaned_df)))"
      ]
    },
    {
      "cell_type": "markdown",
      "metadata": {
        "id": "7lOZKViO3RWp"
      },
      "source": [
        "#### 1.1.4 Cleaning `user_df` [3 points]\n",
        "\n",
        "To understand what each column means, please refer to [this documentation](https://www.yelp.com/dataset/documentation/main) (Note that the original datasets were in JSON format).\n",
        "\n",
        "Perform these steps and save results on a new dataframe: `user_cleaned_df`\n",
        "\n",
        "**TODO**:\n",
        "* Save `user_df` to the new dataframe called `user_cleaned_df`\n",
        "* Create a column called `has_friend` which contains a value of 1 if the user has at least 1 friends and contains a value of 0 otherwise\n",
        "* Drop unwanted columns so we only have the following columns in `user_cleaned_df`: `user_id, name, review_count, yelping_since, friends, elite, average_stars, has_friend`\n",
        "* Sort `user_cleaned_df` by `user_id` in an ascending order and reset index\n",
        "\n",
        "After performing these steps, `user_cleaned_df` should have the following schema:\n",
        "\n",
        "**Final Schema**:\n",
        ">user_id | name | review_count | yelping_since | friends | elite | average_stars | has_friend\n",
        ">--- | --- | --- |--- | --- | --- |--- |---\n",
        "\n",
        "\n",
        "**Notes:**\n",
        "* Do not convert the `friends` column into a list of strings since the table is very large, and performing such an operation could lead to a depletion of your RAM. We will address this column later, but only on a smaller subset of the table.\n",
        "* `'friends'` column is of type string, and `'None'` should not be interpreted as `NA` but rather a string `'None'`"
      ]
    },
    {
      "cell_type": "code",
      "execution_count": null,
      "metadata": {
        "id": "dDfP5zGpMt7O",
        "colab": {
          "base_uri": "https://localhost:8080/"
        },
        "outputId": "d92510ad-68f9-4642-a71f-180f67f6f5fb"
      },
      "outputs": [
        {
          "output_type": "stream",
          "name": "stdout",
          "text": [
            "<class 'pandas.core.frame.DataFrame'>\n",
            "RangeIndex: 1326100 entries, 0 to 1326099\n",
            "Data columns (total 22 columns):\n",
            " #   Column              Non-Null Count    Dtype  \n",
            "---  ------              --------------    -----  \n",
            " 0   user_id             1326100 non-null  object \n",
            " 1   name                1325603 non-null  object \n",
            " 2   review_count        1326100 non-null  int64  \n",
            " 3   yelping_since       1326100 non-null  object \n",
            " 4   friends             1326100 non-null  object \n",
            " 5   useful              1326100 non-null  int64  \n",
            " 6   funny               1326100 non-null  int64  \n",
            " 7   cool                1326100 non-null  int64  \n",
            " 8   fans                1326100 non-null  int64  \n",
            " 9   elite               1326100 non-null  object \n",
            " 10  average_stars       1326100 non-null  float64\n",
            " 11  compliment_hot      1326100 non-null  int64  \n",
            " 12  compliment_more     1326100 non-null  int64  \n",
            " 13  compliment_profile  1326100 non-null  int64  \n",
            " 14  compliment_cute     1326100 non-null  int64  \n",
            " 15  compliment_list     1326100 non-null  int64  \n",
            " 16  compliment_note     1326100 non-null  int64  \n",
            " 17  compliment_plain    1326100 non-null  int64  \n",
            " 18  compliment_cool     1326100 non-null  int64  \n",
            " 19  compliment_funny    1326100 non-null  int64  \n",
            " 20  compliment_writer   1326100 non-null  int64  \n",
            " 21  compliment_photos   1326100 non-null  int64  \n",
            "dtypes: float64(1), int64(16), object(5)\n",
            "memory usage: 222.6+ MB\n"
          ]
        }
      ],
      "source": [
        "# View info of user_df\n",
        "user_df.info()"
      ]
    },
    {
      "cell_type": "code",
      "execution_count": null,
      "metadata": {
        "id": "gM_Ri0dt891T"
      },
      "outputs": [],
      "source": [
        "# TODO: Save user_df to user_cleaned_df\n",
        "user_cleaned_df = user_df.copy()"
      ]
    },
    {
      "cell_type": "code",
      "execution_count": null,
      "metadata": {
        "id": "p9FvvNaeUbot"
      },
      "outputs": [],
      "source": [
        "# TODO: Create a column called has_friend which contains a value of 1 if the user has friends and 0 otherwise\n",
        "user_cleaned_df['has_friend'] = user_cleaned_df['friends'].apply(lambda x: 1 if x != 'None' and len(x) > 0 else 0)"
      ]
    },
    {
      "cell_type": "code",
      "execution_count": null,
      "metadata": {
        "id": "XSvrCzREbBRH"
      },
      "outputs": [],
      "source": [
        "# TODO: Drop unwanted columns\n",
        "kept_cols = ['user_id', 'name', 'review_count', 'yelping_since', 'friends', 'elite', 'average_stars', 'has_friend']\n",
        "user_cleaned_df = user_cleaned_df[kept_cols]"
      ]
    },
    {
      "cell_type": "code",
      "execution_count": null,
      "metadata": {
        "id": "6iLZNXrKUvRR"
      },
      "outputs": [],
      "source": [
        "# TODO: Sort by user_id in an ascending order\n",
        "user_cleaned_df = user_cleaned_df.sort_values(by=['user_id'], ascending=[True])\n",
        "user_cleaned_df.reset_index(drop=True, inplace=True)"
      ]
    },
    {
      "cell_type": "code",
      "execution_count": null,
      "metadata": {
        "id": "FUy9fXMDk0q7",
        "colab": {
          "base_uri": "https://localhost:8080/"
        },
        "outputId": "1c7ed331-0276-4c45-8df7-c00b5953a9dc"
      },
      "outputs": [
        {
          "output_type": "stream",
          "name": "stdout",
          "text": [
            "Correct! You earned 3/3 points. You are a star!\n",
            "\n",
            "Your submission has been successfully recorded in the gradebook.\n"
          ]
        }
      ],
      "source": [
        "# 3 points\n",
        "grader.grade(test_case_id = 'test_cleaning_user', answer = (user_cleaned_df.head(5), len(user_cleaned_df)))"
      ]
    },
    {
      "cell_type": "markdown",
      "metadata": {
        "id": "kYp9fW_SvG3g"
      },
      "source": [
        "### 1.2 Your Sandbox\n",
        "\n",
        "`.info()` is just one of many basic tools that you can use for Exploratory Data Analysis (EDA). Instead of throwing you straight into the deep end, we wanted to give you a chance to take some time and explore the data on your own. **This section is not graded**, so for the speedrunners out there feel free to just jump in, but we wanted to at least give you a small space to utilize your EDA toolkit to familiarize yourself with all the data you just downloaded.\n",
        "\n",
        "Some suggestions to get you started:\n",
        "- `df.head()`\n",
        "- `df.describe()`\n",
        "- `Series.unique()`"
      ]
    },
    {
      "cell_type": "code",
      "execution_count": null,
      "metadata": {
        "id": "U429NTI5RY4a"
      },
      "outputs": [],
      "source": [
        "# Your EDA here! Feel free to add more cells"
      ]
    },
    {
      "cell_type": "markdown",
      "metadata": {
        "id": "uLO0ZpVr54ZS"
      },
      "source": [
        "## Part 2: Exploring the Data with PandasSQL (and Pandas) [74 points total]\n",
        "\n",
        "Now that you are familiar (or still unfamiliar) with the dataset, we will now introduce you to SQL, or more specifically **pandasql**: a package created to allow users to query pandas DataFrames with SQL statements.\n",
        "\n",
        "**Notes: Please note that in this part, the questions are not necessarily ordered by increasing difficulty, i.e., the first question may not necessarily be the easiest, and the difficulty level may vary.**"
      ]
    },
    {
      "cell_type": "markdown",
      "metadata": {
        "id": "2_1-ZcAko9e-"
      },
      "source": [
        "## 👇👇👇 IMPORTANT: Pay VERY CLOSE attention to this style guide! 👇👇👇\n",
        "\n",
        "The typical flow to use pandasql (aliased as `ps`) is as follows:\n",
        "1. Write a SQL query in the form of a string\n",
        "    - **String Syntax:** use triple quotes `\"\"\"<your query>\"\"\"` to write multi-line strings\n",
        "    - **Aliases are your friend:** if there are very long table names or you find yourself needed to declare the source (common during join tasks), it's almost always optimal to alias your tables with short INTUITIVE alias names\n",
        "    - **New Clauses New Line:** each of the main SQL clauses (`SELECT`, `FROM`, `WHERE`, etc.) should begin on a new line\n",
        "    - **Use Indentation:** if there are many components for a single clause, separate them out with new <ins>indented</ins> lines.\n",
        "\n",
        "    Example below:\n",
        "    ```SQL\n",
        "    \"\"\"\n",
        "    SELECT ltn.some_id, SUM(stn.some_value) AS total\n",
        "    FROM long_table_name AS ltn\n",
        "         INNER JOIN short_table_name AS stn\n",
        "            ON ltn.common_key = stn.common_key\n",
        "         INNER JOIN med_table_name AS mtn\n",
        "            ON ltn.other_key = mtn.other_key\n",
        "    WHERE ltn.col1 > value\n",
        "         AND stn.col2 <= another_value\n",
        "         AND mtn.col3 != something_else\n",
        "    GROUP BY ltn.some_id\n",
        "    ORDER BY total\n",
        "    \"\"\"\n",
        "    ```\n",
        "2. Run the query using **ps.sqldf(your_query, locals())**\n",
        "\n",
        "Pandasql is convenient in that it allows you to reference the dataframes that are currently defined in your notebook, so you will be able to fully utilize the dataframes that you have created above!\n",
        "\n",
        "Given that it is a brand new language, we wanted to give you a chance to directly compare the similarities/differences of the pandas that you already know and the SQL that you are about to learn. Thus, for each of the simpler queries, we may ask that you **look into the question twice: once with pandas and once with pandasql**. The SQL queries may take a minute to run, don't worry that is normal!"
      ]
    },
    {
      "cell_type": "markdown",
      "metadata": {
        "id": "sxy0N9pDZDE7"
      },
      "source": [
        "### 2.1 Location, Location, Location [22 points]\n",
        "\n",
        "In the world of real estate, the phrase \"location, location, location\" has long been a mantra, emphasizing the importance of where a property is situated. Surprisingly, this mantra holds true not just for real estate but also for the culinary world. When it comes to restaurants, location can make or break a business. In this analysis, we're going to take a deep dive into the intersection of restaurants and their locations."
      ]
    },
    {
      "cell_type": "markdown",
      "metadata": {
        "id": "0PfvXCpC6NB2"
      },
      "source": [
        "#### 2.1.1 What are the cities with the most restaurants? [6 points]\n",
        "\n",
        "The dataframe `business_cleaned_df` contains information of each business. We want to know the top 10 cities with the most **unique** restaurants. Note that we can distinguish restaurants by their `business_id`, i.e., `business_id` are unique to each restaurant.\n",
        "\n",
        "**TODO:**\n",
        "\n",
        "* Use `pandas` to find top 10 cities in the `city` and `state` column with the most restaurants. Note that you should also include `state` in groupby since city names could repeat, i.e., `city` together with `state` are unique\n",
        "* Include average stars of restaurants in each city in the column called `average_stars`\n",
        "* Order the resulting dataframe by the total number of restaurants, `restaurant_count`, in descending order\n",
        "* Save the result as `most_res_df` and don't forget to reset index\n",
        "\n",
        "**Final Schema**:\n",
        ">city | state | restaurant_count | average_stars\n",
        ">--- | --- | --- |---\n",
        "\n",
        "**Hint:**\n",
        "* There are two indicators whether the business is a restaurant or not:\n",
        "    * `is_restaurant` equals `1`\n",
        "    * `categories` equals `'Restaurants'`\n",
        "* Think about how we cleaned `business_df` to figure out the best way to filter the restaurants!"
      ]
    },
    {
      "cell_type": "code",
      "execution_count": null,
      "metadata": {
        "id": "zYybPj-tbf6t"
      },
      "outputs": [],
      "source": [
        "# TODO: Use pandas to find top 10 cities (including state) with the most restaurants. Also include average stars\n",
        "restaurant_df = business_cleaned_df[business_cleaned_df['is_restaurant'] == 1]\n",
        "unique_rest_df = restaurant_df.drop_duplicates(subset='business_id')\n",
        "city_restaurant_info = unique_rest_df.groupby(['city', 'state']).agg(\n",
        "    restaurant_count=pd.NamedAgg(column='business_id', aggfunc='count'),\n",
        "    average_stars=pd.NamedAgg(column='stars', aggfunc='mean')\n",
        ")\n",
        "most_res_df = city_restaurant_info.sort_values(by='restaurant_count', ascending=False)\n",
        "most_res_df = most_res_df.head(10)"
      ]
    },
    {
      "cell_type": "code",
      "execution_count": null,
      "metadata": {
        "id": "PZA_b2J7a1j4",
        "colab": {
          "base_uri": "https://localhost:8080/"
        },
        "outputId": "d9d9f991-f377-44db-86c2-d5acc4b8eea2"
      },
      "outputs": [
        {
          "output_type": "stream",
          "name": "stdout",
          "text": [
            "Correct! You earned 3/3 points. You are a star!\n",
            "\n",
            "Your submission has been successfully recorded in the gradebook.\n"
          ]
        }
      ],
      "source": [
        "# 3 points\n",
        "grader.grade(test_case_id = 'most_res_pd', answer = most_res_df)"
      ]
    },
    {
      "cell_type": "markdown",
      "metadata": {
        "id": "8WjJF8A3bl7W"
      },
      "source": [
        "**TODO:**\n",
        "* Now, use `pandasql` to find top 10 cities with the most restaurants\n",
        "* The result should be saved as `most_res_df_sql` and should be the same as the result from `pandas`\n",
        "\n",
        "**WARNING: DO NOT USE PANDAS FOR ALL SQL QUESTIONS! OTHERWISE, YOU WON'T RECEIVE CREDITS FOR ALL SQL QUESTIONS**"
      ]
    },
    {
      "cell_type": "code",
      "execution_count": null,
      "metadata": {
        "id": "XcHW1fe02LW_"
      },
      "outputs": [],
      "source": [
        "# TODO: Use SQL to find top 10 cities (including state) with the most restaurants. Also include average stars\n",
        "most_res_query = '''\n",
        "SELECT city, state, COUNT(business_id) AS restaurant_count, AVG(stars) AS average_stars\n",
        "FROM business_cleaned_df\n",
        "WHERE is_restaurant = 1\n",
        "  AND categories LIKE '%Restaurant%'\n",
        "GROUP BY city, state\n",
        "ORDER BY restaurant_count DESC\n",
        "LIMIT 10;\n",
        "'''\n",
        "most_res_df_sql = ps.sqldf(most_res_query, locals())"
      ]
    },
    {
      "cell_type": "code",
      "execution_count": null,
      "metadata": {
        "id": "cj_5REUcbrgd",
        "colab": {
          "base_uri": "https://localhost:8080/"
        },
        "outputId": "a4c413e9-96db-4a0a-8115-939c47064aa3"
      },
      "outputs": [
        {
          "output_type": "stream",
          "name": "stdout",
          "text": [
            "Correct! You earned 3/3 points. You are a star!\n",
            "\n",
            "Your submission has been successfully recorded in the gradebook.\n"
          ]
        }
      ],
      "source": [
        "# 3 points\n",
        "grader.grade(test_case_id = 'most_res_sql', answer = (most_res_df_sql, most_res_query))"
      ]
    },
    {
      "cell_type": "markdown",
      "metadata": {
        "id": "tzQWkRS5e3AZ"
      },
      "source": [
        "#### 2.1.2 Which cities have the highest average check-ins per restaurant? [8 points]\n",
        "\n",
        "The dataframe `checkin_cleaned_df` contains check-in information for each business. We want to know the top 15 cities with the highest average check-ins per restaurant.\n",
        "\n",
        "**TODO:**\n",
        "\n",
        "* Use `pandas` to find top 15 cities in the `city` and `state` column with the highest average check-ins per restaurant. Note that you should also include `state` in groupby since city names could repeat, i.e., `city` together with `state` are unique\n",
        "* Include average check-ins per restaurant in each city in the column called `avg_checkins`\n",
        "* Order the resulting dataframe by `avg_checkins` in descending order\n",
        "* Save the result as `most_checkin_df` and don't forget to reset index\n",
        "\n",
        "**Notes:**\n",
        "* Only consider businesses with check-in data in `checkin_cleaned_df`. Do not include businesses with no check-in data in the average.\n",
        "* One `business_id` can appear in more than one row in `business_cleaned_df` and `checkin_cleaned_df`. Think about how we can filter restaurants from other types of business without taking duplicates.\n",
        "\n",
        "**Final Schema**:\n",
        ">city | state | avg_checkins\n",
        ">--- | --- | ---"
      ]
    },
    {
      "cell_type": "code",
      "execution_count": null,
      "metadata": {
        "id": "Z0YxVrMKhFxQ"
      },
      "outputs": [],
      "source": [
        "# TODO: Use pandas to find 15 cities (including state) with highest average checkins per restaurant\n",
        "\n",
        "only_restaurants = business_cleaned_df[business_cleaned_df['is_restaurant'] == 1]\n",
        "checkins_per_business = checkin_cleaned_df[checkin_cleaned_df['business_id'].isin(only_restaurants['business_id'])]\n",
        "checkins_per_business = checkins_per_business.groupby('business_id')['checkins'].sum().reset_index()\n",
        "checkins_per_business\n",
        "merged_df = pd.merge(only_restaurants, checkins_per_business, on='business_id', how='inner')\n",
        "merged_df = merged_df.drop_duplicates(subset='business_id')\n",
        "\n",
        "avg_checkins_per_city = merged_df.groupby(['city', 'state'])['checkins'].mean().reset_index()\n",
        "avg_checkins_per_city.rename(columns={'checkins': 'avg_checkins'}, inplace=True)\n",
        "\n",
        "avg_checkins_per_city.sort_values(by='avg_checkins', ascending=False, inplace=True)\n",
        "\n",
        "most_checkin_df = avg_checkins_per_city.head(15)\n",
        "most_checkin_df.reset_index(drop=True, inplace=True)"
      ]
    },
    {
      "cell_type": "code",
      "execution_count": null,
      "metadata": {
        "id": "foHQPnHKeUZE",
        "colab": {
          "base_uri": "https://localhost:8080/"
        },
        "outputId": "8f61c047-0a08-401f-e9d1-9c0b58ab1887"
      },
      "outputs": [
        {
          "output_type": "stream",
          "name": "stdout",
          "text": [
            "Correct! You earned 4/4 points. You are a star!\n",
            "\n",
            "Your submission has been successfully recorded in the gradebook.\n"
          ]
        }
      ],
      "source": [
        "# 4 points\n",
        "grader.grade(test_case_id = 'most_checkin_pd', answer = most_checkin_df)"
      ]
    },
    {
      "cell_type": "markdown",
      "metadata": {
        "id": "MuWsyJiNhMl1"
      },
      "source": [
        "**TODO:**\n",
        "* Now, use `pandasql` to find top 15 cities with the highest average check-ins per restaurant\n",
        "* The result should be saved as `most_res_df_sql` and should be the same as the result from `pandas`"
      ]
    },
    {
      "cell_type": "code",
      "execution_count": null,
      "metadata": {
        "id": "A7UItnNw_Mg8"
      },
      "outputs": [],
      "source": [
        "# TODO: Use SQL to find 15 cities (including state) with highest average checkins per restaurant\n",
        "query = '''\n",
        "    SELECT *\n",
        "    FROM business_cleaned_df\n",
        "    WHERE is_restaurant = 1;\n",
        "'''\n",
        "restaurants_df = ps.sqldf(query, locals())\n",
        "\n",
        "query = '''\n",
        "    SELECT business_id, SUM(checkins) as total_checkins\n",
        "    FROM checkin_cleaned_df\n",
        "    WHERE business_id\n",
        "      IN (\n",
        "            SELECT business_id\n",
        "            FROM restaurants_df\n",
        "          )\n",
        "    GROUP BY business_id;\n",
        "'''\n",
        "checkins_per_business = ps.sqldf(query, locals())\n",
        "\n",
        "query = '''\n",
        "    SELECT r.*, c.total_checkins\n",
        "    FROM restaurants_df r\n",
        "      INNER JOIN checkins_per_business c\n",
        "        ON r.business_id = c.business_id;\n",
        "'''\n",
        "merged_df = ps.sqldf(query, locals())\n",
        "\n",
        "query = '''\n",
        "    SELECT *\n",
        "    FROM (\n",
        "        SELECT *, ROW_NUMBER() OVER (PARTITION BY business_id) as rn\n",
        "        FROM merged_df\n",
        "    ) tmp\n",
        "    WHERE rn = 1;\n",
        "'''\n",
        "merged_df_no_duplicates = ps.sqldf(query, locals())\n",
        "\n",
        "most_checkin_query = '''\n",
        "    SELECT city, state, AVG(total_checkins) as avg_checkins\n",
        "    FROM merged_df_no_duplicates\n",
        "    GROUP BY city, state\n",
        "    ORDER BY avg_checkins DESC\n",
        "    LIMIT 15;\n",
        "'''\n",
        "most_checkin_df_sql = ps.sqldf(most_checkin_query, locals())"
      ]
    },
    {
      "cell_type": "code",
      "execution_count": null,
      "metadata": {
        "id": "LSmvDc3xfPMk",
        "colab": {
          "base_uri": "https://localhost:8080/"
        },
        "outputId": "695edd3c-b7a0-43e3-c43c-8674c6a5c02c"
      },
      "outputs": [
        {
          "output_type": "stream",
          "name": "stdout",
          "text": [
            "Correct! You earned 4/4 points. You are a star!\n",
            "\n",
            "Your submission has been successfully recorded in the gradebook.\n"
          ]
        }
      ],
      "source": [
        "# 4 points\n",
        "grader.grade(test_case_id = 'most_checkin_sql', answer = (most_checkin_df_sql, most_checkin_query))"
      ]
    },
    {
      "cell_type": "markdown",
      "metadata": {
        "id": "DTZsT5z01eo9"
      },
      "source": [
        "#### 2.1.3 Which states have the most popular Thai restaurants? [8 points]\n",
        "We would like to know which state has the most popular Thai restaurants, which we will gauge using the number of reviews.\n",
        "\n",
        "**TODO:**\n",
        "* Use `business_cleaned_df` to find Thai restaurants with the highest `review_count` for each state\n",
        "* The resulting dataframe should include the `state` and `city` in which the restaurant is located, the `name` of the restaurant, the number of reviews in the `max_review` column, and the `stars` of the restaurant\n",
        "* If there are more than one Thai restaurants in the same state with the maximum number of reviews, include all of them in the resulting dataframe\n",
        "* Save the result as `popular_thai_df` and don't forget to reset index\n",
        "* Finally, order the resulting dataframe by `max_review` in a descending order and `name` in an ascending order respectively\n",
        "\n",
        "\n",
        "**Final Schema**:\n",
        ">state | city | name | max_review | stars\n",
        ">--- | --- | --- | --- | ---"
      ]
    },
    {
      "cell_type": "code",
      "execution_count": null,
      "metadata": {
        "id": "IDtHj_4H5AYC",
        "colab": {
          "base_uri": "https://localhost:8080/"
        },
        "outputId": "c45f57b7-d42c-4478-d839-5050185e9f6e"
      },
      "outputs": [
        {
          "output_type": "stream",
          "name": "stderr",
          "text": [
            "<ipython-input-52-3471d8869763>:9: FutureWarning: Not prepending group keys to the result index of transform-like apply. In the future, the group keys will be included in the index, regardless of whether the applied function returns a like-indexed object.\n",
            "To preserve the previous behavior, use\n",
            "\n",
            "\t>>> .groupby(..., group_keys=False)\n",
            "\n",
            "To adopt the future behavior and silence this warning, use \n",
            "\n",
            "\t>>> .groupby(..., group_keys=True)\n",
            "  popular_thai_df_inter = thai_restaurants_df.groupby(['state']).apply(max_statewise_reviews);\n",
            "<ipython-input-52-3471d8869763>:12: SettingWithCopyWarning: \n",
            "A value is trying to be set on a copy of a slice from a DataFrame\n",
            "\n",
            "See the caveats in the documentation: https://pandas.pydata.org/pandas-docs/stable/user_guide/indexing.html#returning-a-view-versus-a-copy\n",
            "  popular_thai_df.sort_values(by=['max_review', 'name'], ascending=[False, True], inplace=True)\n"
          ]
        }
      ],
      "source": [
        "# TODO: Use pandas to find Thai restaurants with highest review count for each state\n",
        "business_cleaned_df = business_cleaned_df[business_cleaned_df['is_restaurant'] == 1]\n",
        "thai_restaurants_df = business_cleaned_df[business_cleaned_df['categories'] == 'Thai']\n",
        "\n",
        "def max_statewise_reviews(x):\n",
        "    x['max_review'] = x['review_count'].max()\n",
        "    return x\n",
        "\n",
        "popular_thai_df_inter = thai_restaurants_df.groupby(['state']).apply(max_statewise_reviews);\n",
        "popular_thai_df_inter = popular_thai_df_inter[popular_thai_df_inter['review_count'] == popular_thai_df_inter['max_review']].reset_index(drop=True)\n",
        "popular_thai_df = popular_thai_df_inter[['state', 'city', 'name', 'max_review', 'stars']]\n",
        "popular_thai_df.sort_values(by=['max_review', 'name'], ascending=[False, True], inplace=True)\n",
        "popular_thai_df.reset_index(drop=True, inplace=True)"
      ]
    },
    {
      "cell_type": "code",
      "execution_count": null,
      "metadata": {
        "id": "P4GIspvOhjZ_",
        "colab": {
          "base_uri": "https://localhost:8080/"
        },
        "outputId": "c461b0ac-82c8-433d-d2b3-5dce57b65940"
      },
      "outputs": [
        {
          "output_type": "stream",
          "name": "stdout",
          "text": [
            "Correct! You earned 4/4 points. You are a star!\n",
            "\n",
            "Your submission has been successfully recorded in the gradebook.\n"
          ]
        }
      ],
      "source": [
        "# 4 points\n",
        "grader.grade(test_case_id = 'popular_thai_pd', answer = popular_thai_df)"
      ]
    },
    {
      "cell_type": "markdown",
      "metadata": {
        "id": "P8MNpEyE41Y0"
      },
      "source": [
        "**TODO:**\n",
        "* Now, use `pandasql` to find Thai restaurants with highest review count for each state\n",
        "* The result should be saved as `popular_thai_df_sql` and should be the same as the result from `pandas`"
      ]
    },
    {
      "cell_type": "code",
      "execution_count": null,
      "metadata": {
        "id": "tA7BsRmI3VaG",
        "colab": {
          "base_uri": "https://localhost:8080/",
          "height": 551
        },
        "outputId": "eb00565a-28e8-4649-beef-a2b149a98bb3"
      },
      "outputs": [
        {
          "output_type": "execute_result",
          "data": {
            "text/plain": [
              "   state         city                                  name  max_review  stars\n",
              "0     NV    Las Vegas                         Lotus of Siam        3964    4.0\n",
              "1     ON      Toronto             Pai Northern Thai Kitchen        1494    4.5\n",
              "2     PA   Pittsburgh                            Noodlehead         820    4.5\n",
              "3     AZ      Phoenix                            Clever Koi         689    4.0\n",
              "4     WI      Madison  Ha Long Bay Vietnamese & Thai Bistro         580    4.0\n",
              "5     NC    Charlotte                    Basil Thai Cuisine         487    3.5\n",
              "6     OH    Cleveland                             Siam Cafe         187    4.0\n",
              "7     IL    Champaign                            Thara Thai         172    4.0\n",
              "8     QC     Montréal                               ChuChai         171    4.0\n",
              "9     BW    Stuttgart                       Noodle 1 Dining         107    4.0\n",
              "10   MLN    Edinburgh                     Ting Thai Caravan          64    4.0\n",
              "11   EDH    Edinburgh                       Phuket Pavilion          58    4.5\n",
              "12   ELN  Musselburgh                            Lanna Thai           6    4.0\n",
              "13   CHE      Chester                           Ruan Orchid           6    4.0\n",
              "14    01         Moss                            Moss Sushi           5    4.0\n",
              "15   HLD    Inverness         The New Lanna Thai Restaurant           3    3.5"
            ],
            "text/html": [
              "\n",
              "  <div id=\"df-0c252d69-efce-4932-9951-9e5dbcc8342e\" class=\"colab-df-container\">\n",
              "    <div>\n",
              "<style scoped>\n",
              "    .dataframe tbody tr th:only-of-type {\n",
              "        vertical-align: middle;\n",
              "    }\n",
              "\n",
              "    .dataframe tbody tr th {\n",
              "        vertical-align: top;\n",
              "    }\n",
              "\n",
              "    .dataframe thead th {\n",
              "        text-align: right;\n",
              "    }\n",
              "</style>\n",
              "<table border=\"1\" class=\"dataframe\">\n",
              "  <thead>\n",
              "    <tr style=\"text-align: right;\">\n",
              "      <th></th>\n",
              "      <th>state</th>\n",
              "      <th>city</th>\n",
              "      <th>name</th>\n",
              "      <th>max_review</th>\n",
              "      <th>stars</th>\n",
              "    </tr>\n",
              "  </thead>\n",
              "  <tbody>\n",
              "    <tr>\n",
              "      <th>0</th>\n",
              "      <td>NV</td>\n",
              "      <td>Las Vegas</td>\n",
              "      <td>Lotus of Siam</td>\n",
              "      <td>3964</td>\n",
              "      <td>4.0</td>\n",
              "    </tr>\n",
              "    <tr>\n",
              "      <th>1</th>\n",
              "      <td>ON</td>\n",
              "      <td>Toronto</td>\n",
              "      <td>Pai Northern Thai Kitchen</td>\n",
              "      <td>1494</td>\n",
              "      <td>4.5</td>\n",
              "    </tr>\n",
              "    <tr>\n",
              "      <th>2</th>\n",
              "      <td>PA</td>\n",
              "      <td>Pittsburgh</td>\n",
              "      <td>Noodlehead</td>\n",
              "      <td>820</td>\n",
              "      <td>4.5</td>\n",
              "    </tr>\n",
              "    <tr>\n",
              "      <th>3</th>\n",
              "      <td>AZ</td>\n",
              "      <td>Phoenix</td>\n",
              "      <td>Clever Koi</td>\n",
              "      <td>689</td>\n",
              "      <td>4.0</td>\n",
              "    </tr>\n",
              "    <tr>\n",
              "      <th>4</th>\n",
              "      <td>WI</td>\n",
              "      <td>Madison</td>\n",
              "      <td>Ha Long Bay Vietnamese &amp; Thai Bistro</td>\n",
              "      <td>580</td>\n",
              "      <td>4.0</td>\n",
              "    </tr>\n",
              "    <tr>\n",
              "      <th>5</th>\n",
              "      <td>NC</td>\n",
              "      <td>Charlotte</td>\n",
              "      <td>Basil Thai Cuisine</td>\n",
              "      <td>487</td>\n",
              "      <td>3.5</td>\n",
              "    </tr>\n",
              "    <tr>\n",
              "      <th>6</th>\n",
              "      <td>OH</td>\n",
              "      <td>Cleveland</td>\n",
              "      <td>Siam Cafe</td>\n",
              "      <td>187</td>\n",
              "      <td>4.0</td>\n",
              "    </tr>\n",
              "    <tr>\n",
              "      <th>7</th>\n",
              "      <td>IL</td>\n",
              "      <td>Champaign</td>\n",
              "      <td>Thara Thai</td>\n",
              "      <td>172</td>\n",
              "      <td>4.0</td>\n",
              "    </tr>\n",
              "    <tr>\n",
              "      <th>8</th>\n",
              "      <td>QC</td>\n",
              "      <td>Montréal</td>\n",
              "      <td>ChuChai</td>\n",
              "      <td>171</td>\n",
              "      <td>4.0</td>\n",
              "    </tr>\n",
              "    <tr>\n",
              "      <th>9</th>\n",
              "      <td>BW</td>\n",
              "      <td>Stuttgart</td>\n",
              "      <td>Noodle 1 Dining</td>\n",
              "      <td>107</td>\n",
              "      <td>4.0</td>\n",
              "    </tr>\n",
              "    <tr>\n",
              "      <th>10</th>\n",
              "      <td>MLN</td>\n",
              "      <td>Edinburgh</td>\n",
              "      <td>Ting Thai Caravan</td>\n",
              "      <td>64</td>\n",
              "      <td>4.0</td>\n",
              "    </tr>\n",
              "    <tr>\n",
              "      <th>11</th>\n",
              "      <td>EDH</td>\n",
              "      <td>Edinburgh</td>\n",
              "      <td>Phuket Pavilion</td>\n",
              "      <td>58</td>\n",
              "      <td>4.5</td>\n",
              "    </tr>\n",
              "    <tr>\n",
              "      <th>12</th>\n",
              "      <td>ELN</td>\n",
              "      <td>Musselburgh</td>\n",
              "      <td>Lanna Thai</td>\n",
              "      <td>6</td>\n",
              "      <td>4.0</td>\n",
              "    </tr>\n",
              "    <tr>\n",
              "      <th>13</th>\n",
              "      <td>CHE</td>\n",
              "      <td>Chester</td>\n",
              "      <td>Ruan Orchid</td>\n",
              "      <td>6</td>\n",
              "      <td>4.0</td>\n",
              "    </tr>\n",
              "    <tr>\n",
              "      <th>14</th>\n",
              "      <td>01</td>\n",
              "      <td>Moss</td>\n",
              "      <td>Moss Sushi</td>\n",
              "      <td>5</td>\n",
              "      <td>4.0</td>\n",
              "    </tr>\n",
              "    <tr>\n",
              "      <th>15</th>\n",
              "      <td>HLD</td>\n",
              "      <td>Inverness</td>\n",
              "      <td>The New Lanna Thai Restaurant</td>\n",
              "      <td>3</td>\n",
              "      <td>3.5</td>\n",
              "    </tr>\n",
              "  </tbody>\n",
              "</table>\n",
              "</div>\n",
              "    <div class=\"colab-df-buttons\">\n",
              "\n",
              "  <div class=\"colab-df-container\">\n",
              "    <button class=\"colab-df-convert\" onclick=\"convertToInteractive('df-0c252d69-efce-4932-9951-9e5dbcc8342e')\"\n",
              "            title=\"Convert this dataframe to an interactive table.\"\n",
              "            style=\"display:none;\">\n",
              "\n",
              "  <svg xmlns=\"http://www.w3.org/2000/svg\" height=\"24px\" viewBox=\"0 -960 960 960\">\n",
              "    <path d=\"M120-120v-720h720v720H120Zm60-500h600v-160H180v160Zm220 220h160v-160H400v160Zm0 220h160v-160H400v160ZM180-400h160v-160H180v160Zm440 0h160v-160H620v160ZM180-180h160v-160H180v160Zm440 0h160v-160H620v160Z\"/>\n",
              "  </svg>\n",
              "    </button>\n",
              "\n",
              "  <style>\n",
              "    .colab-df-container {\n",
              "      display:flex;\n",
              "      gap: 12px;\n",
              "    }\n",
              "\n",
              "    .colab-df-convert {\n",
              "      background-color: #E8F0FE;\n",
              "      border: none;\n",
              "      border-radius: 50%;\n",
              "      cursor: pointer;\n",
              "      display: none;\n",
              "      fill: #1967D2;\n",
              "      height: 32px;\n",
              "      padding: 0 0 0 0;\n",
              "      width: 32px;\n",
              "    }\n",
              "\n",
              "    .colab-df-convert:hover {\n",
              "      background-color: #E2EBFA;\n",
              "      box-shadow: 0px 1px 2px rgba(60, 64, 67, 0.3), 0px 1px 3px 1px rgba(60, 64, 67, 0.15);\n",
              "      fill: #174EA6;\n",
              "    }\n",
              "\n",
              "    .colab-df-buttons div {\n",
              "      margin-bottom: 4px;\n",
              "    }\n",
              "\n",
              "    [theme=dark] .colab-df-convert {\n",
              "      background-color: #3B4455;\n",
              "      fill: #D2E3FC;\n",
              "    }\n",
              "\n",
              "    [theme=dark] .colab-df-convert:hover {\n",
              "      background-color: #434B5C;\n",
              "      box-shadow: 0px 1px 3px 1px rgba(0, 0, 0, 0.15);\n",
              "      filter: drop-shadow(0px 1px 2px rgba(0, 0, 0, 0.3));\n",
              "      fill: #FFFFFF;\n",
              "    }\n",
              "  </style>\n",
              "\n",
              "    <script>\n",
              "      const buttonEl =\n",
              "        document.querySelector('#df-0c252d69-efce-4932-9951-9e5dbcc8342e button.colab-df-convert');\n",
              "      buttonEl.style.display =\n",
              "        google.colab.kernel.accessAllowed ? 'block' : 'none';\n",
              "\n",
              "      async function convertToInteractive(key) {\n",
              "        const element = document.querySelector('#df-0c252d69-efce-4932-9951-9e5dbcc8342e');\n",
              "        const dataTable =\n",
              "          await google.colab.kernel.invokeFunction('convertToInteractive',\n",
              "                                                    [key], {});\n",
              "        if (!dataTable) return;\n",
              "\n",
              "        const docLinkHtml = 'Like what you see? Visit the ' +\n",
              "          '<a target=\"_blank\" href=https://colab.research.google.com/notebooks/data_table.ipynb>data table notebook</a>'\n",
              "          + ' to learn more about interactive tables.';\n",
              "        element.innerHTML = '';\n",
              "        dataTable['output_type'] = 'display_data';\n",
              "        await google.colab.output.renderOutput(dataTable, element);\n",
              "        const docLink = document.createElement('div');\n",
              "        docLink.innerHTML = docLinkHtml;\n",
              "        element.appendChild(docLink);\n",
              "      }\n",
              "    </script>\n",
              "  </div>\n",
              "\n",
              "\n",
              "<div id=\"df-a2f27ce6-ffab-47b9-be46-980cf7ad2aa8\">\n",
              "  <button class=\"colab-df-quickchart\" onclick=\"quickchart('df-a2f27ce6-ffab-47b9-be46-980cf7ad2aa8')\"\n",
              "            title=\"Suggest charts.\"\n",
              "            style=\"display:none;\">\n",
              "\n",
              "<svg xmlns=\"http://www.w3.org/2000/svg\" height=\"24px\"viewBox=\"0 0 24 24\"\n",
              "     width=\"24px\">\n",
              "    <g>\n",
              "        <path d=\"M19 3H5c-1.1 0-2 .9-2 2v14c0 1.1.9 2 2 2h14c1.1 0 2-.9 2-2V5c0-1.1-.9-2-2-2zM9 17H7v-7h2v7zm4 0h-2V7h2v10zm4 0h-2v-4h2v4z\"/>\n",
              "    </g>\n",
              "</svg>\n",
              "  </button>\n",
              "\n",
              "<style>\n",
              "  .colab-df-quickchart {\n",
              "      --bg-color: #E8F0FE;\n",
              "      --fill-color: #1967D2;\n",
              "      --hover-bg-color: #E2EBFA;\n",
              "      --hover-fill-color: #174EA6;\n",
              "      --disabled-fill-color: #AAA;\n",
              "      --disabled-bg-color: #DDD;\n",
              "  }\n",
              "\n",
              "  [theme=dark] .colab-df-quickchart {\n",
              "      --bg-color: #3B4455;\n",
              "      --fill-color: #D2E3FC;\n",
              "      --hover-bg-color: #434B5C;\n",
              "      --hover-fill-color: #FFFFFF;\n",
              "      --disabled-bg-color: #3B4455;\n",
              "      --disabled-fill-color: #666;\n",
              "  }\n",
              "\n",
              "  .colab-df-quickchart {\n",
              "    background-color: var(--bg-color);\n",
              "    border: none;\n",
              "    border-radius: 50%;\n",
              "    cursor: pointer;\n",
              "    display: none;\n",
              "    fill: var(--fill-color);\n",
              "    height: 32px;\n",
              "    padding: 0;\n",
              "    width: 32px;\n",
              "  }\n",
              "\n",
              "  .colab-df-quickchart:hover {\n",
              "    background-color: var(--hover-bg-color);\n",
              "    box-shadow: 0 1px 2px rgba(60, 64, 67, 0.3), 0 1px 3px 1px rgba(60, 64, 67, 0.15);\n",
              "    fill: var(--button-hover-fill-color);\n",
              "  }\n",
              "\n",
              "  .colab-df-quickchart-complete:disabled,\n",
              "  .colab-df-quickchart-complete:disabled:hover {\n",
              "    background-color: var(--disabled-bg-color);\n",
              "    fill: var(--disabled-fill-color);\n",
              "    box-shadow: none;\n",
              "  }\n",
              "\n",
              "  .colab-df-spinner {\n",
              "    border: 2px solid var(--fill-color);\n",
              "    border-color: transparent;\n",
              "    border-bottom-color: var(--fill-color);\n",
              "    animation:\n",
              "      spin 1s steps(1) infinite;\n",
              "  }\n",
              "\n",
              "  @keyframes spin {\n",
              "    0% {\n",
              "      border-color: transparent;\n",
              "      border-bottom-color: var(--fill-color);\n",
              "      border-left-color: var(--fill-color);\n",
              "    }\n",
              "    20% {\n",
              "      border-color: transparent;\n",
              "      border-left-color: var(--fill-color);\n",
              "      border-top-color: var(--fill-color);\n",
              "    }\n",
              "    30% {\n",
              "      border-color: transparent;\n",
              "      border-left-color: var(--fill-color);\n",
              "      border-top-color: var(--fill-color);\n",
              "      border-right-color: var(--fill-color);\n",
              "    }\n",
              "    40% {\n",
              "      border-color: transparent;\n",
              "      border-right-color: var(--fill-color);\n",
              "      border-top-color: var(--fill-color);\n",
              "    }\n",
              "    60% {\n",
              "      border-color: transparent;\n",
              "      border-right-color: var(--fill-color);\n",
              "    }\n",
              "    80% {\n",
              "      border-color: transparent;\n",
              "      border-right-color: var(--fill-color);\n",
              "      border-bottom-color: var(--fill-color);\n",
              "    }\n",
              "    90% {\n",
              "      border-color: transparent;\n",
              "      border-bottom-color: var(--fill-color);\n",
              "    }\n",
              "  }\n",
              "</style>\n",
              "\n",
              "  <script>\n",
              "    async function quickchart(key) {\n",
              "      const quickchartButtonEl =\n",
              "        document.querySelector('#' + key + ' button');\n",
              "      quickchartButtonEl.disabled = true;  // To prevent multiple clicks.\n",
              "      quickchartButtonEl.classList.add('colab-df-spinner');\n",
              "      try {\n",
              "        const charts = await google.colab.kernel.invokeFunction(\n",
              "            'suggestCharts', [key], {});\n",
              "      } catch (error) {\n",
              "        console.error('Error during call to suggestCharts:', error);\n",
              "      }\n",
              "      quickchartButtonEl.classList.remove('colab-df-spinner');\n",
              "      quickchartButtonEl.classList.add('colab-df-quickchart-complete');\n",
              "    }\n",
              "    (() => {\n",
              "      let quickchartButtonEl =\n",
              "        document.querySelector('#df-a2f27ce6-ffab-47b9-be46-980cf7ad2aa8 button');\n",
              "      quickchartButtonEl.style.display =\n",
              "        google.colab.kernel.accessAllowed ? 'block' : 'none';\n",
              "    })();\n",
              "  </script>\n",
              "</div>\n",
              "    </div>\n",
              "  </div>\n"
            ]
          },
          "metadata": {},
          "execution_count": 54
        }
      ],
      "source": [
        "# TODO: Use SQL to find Thai restaurants with highest review count for each state\n",
        "popular_thai_query = '''\n",
        "    SELECT DISTINCT state, city, name, MAX(review_count) as max_review, stars\n",
        "    FROM (SELECT *\n",
        "          FROM business_cleaned_df\n",
        "          WHERE categories LIKE '%Thai%' AND is_restaurant = 1\n",
        "          )\n",
        "    GROUP BY state\n",
        "    ORDER BY max_review DESC, name ASC\n",
        "'''\n",
        "popular_thai_df_sql = ps.sqldf(popular_thai_query, locals())\n",
        "popular_thai_df_sql"
      ]
    },
    {
      "cell_type": "code",
      "execution_count": null,
      "metadata": {
        "id": "CSs5AQ-oifCo",
        "colab": {
          "base_uri": "https://localhost:8080/"
        },
        "outputId": "652e572e-ac90-47da-e75a-35110c74517d"
      },
      "outputs": [
        {
          "output_type": "stream",
          "name": "stdout",
          "text": [
            "You earned 3/4 points.\n",
            "\n",
            "Dataframe is not correct; Don't worry, you can re-submit and we will keep only your latest score.\n"
          ]
        }
      ],
      "source": [
        "# 4 points\n",
        "grader.grade(test_case_id = 'popular_thai_sql', answer = (popular_thai_df_sql, popular_thai_query))"
      ]
    },
    {
      "cell_type": "markdown",
      "metadata": {
        "id": "_gVAIFiYMdpf"
      },
      "source": [
        "###2.2 Best Time to Visit Restaurant [14 points]"
      ]
    },
    {
      "cell_type": "markdown",
      "metadata": {
        "id": "tcFlnI8G9-T0"
      },
      "source": [
        "#### 2.2.1 Finding restaurants  [6 points]\n",
        "\n",
        "After working hard on this course, you were able to find a summer internship position in Phoenix, AZ. You want to explore food places and you decided to start with Italian restaurants. We will use `business_cleaned_df` to find the top 10 Italian restaurant in Phoenix, AZ that has the highest `review_count`.\n",
        "\n",
        "**TODO** (`pandas`):\n",
        "* Filter the `business_cleaned_df` on the given conditions.\n",
        "* Keep only `business_id`,`name`, `stars`, `review_count`, and `categories` for the final dataframe\n",
        "* Sort by the `review_count` descending order\n",
        "\n",
        "**Final Schema**:\n",
        ">business_id | name | stars | review_count | categories\n",
        ">--- | --- | --- | --- | ---"
      ]
    },
    {
      "cell_type": "code",
      "execution_count": null,
      "metadata": {
        "id": "ZedXYZ3q_UQm"
      },
      "outputs": [],
      "source": [
        "# TODO: Finding restaurants\n",
        "best_italian_df = business_cleaned_df[(business_cleaned_df['categories'] == 'Italian') &\n",
        "                                             (business_cleaned_df['city'] == 'Phoenix') &\n",
        "                                             (business_cleaned_df['state'] == 'AZ') &\n",
        "                                             (business_cleaned_df['is_restaurant'] == 1)]\n",
        "selected_columns = ['business_id', 'name', 'stars', 'review_count', 'categories']\n",
        "best_italian_df = best_italian_df[selected_columns]\n",
        "best_italian_df = best_italian_df.sort_values(by = ['review_count'],ascending=[False])\n",
        "best_italian_df.reset_index(drop=True, inplace=True)\n",
        "best_italian_df = best_italian_df.head(10)"
      ]
    },
    {
      "cell_type": "code",
      "execution_count": null,
      "metadata": {
        "id": "ZFjh-3hOHlx1",
        "colab": {
          "base_uri": "https://localhost:8080/"
        },
        "outputId": "ca6a410a-a6f2-44f1-9c2f-dc77d2755a09"
      },
      "outputs": [
        {
          "output_type": "stream",
          "name": "stdout",
          "text": [
            "Correct! You earned 2/2 points. You are a star!\n",
            "\n",
            "Your submission has been successfully recorded in the gradebook.\n"
          ]
        }
      ],
      "source": [
        "# 2 points\n",
        "grader.grade(test_case_id = 'test_italian', answer = best_italian_df)"
      ]
    },
    {
      "cell_type": "markdown",
      "metadata": {
        "id": "SY9roAN-KI32"
      },
      "source": [
        "**TO-DO** : Repeat the same using `business_cleaned_df` (only for this sql query) and `pandasql`, saving it as `best_italian_df_sql`.\n"
      ]
    },
    {
      "cell_type": "code",
      "execution_count": null,
      "metadata": {
        "id": "5bb4EFj__Upx"
      },
      "outputs": [],
      "source": [
        "# TODO: Use SQL to find top 10 Italian restaurants with highest review count in Pheonix, AZ\n",
        "best_italian_df_query = '''\n",
        "    SELECT business_id, name, stars, review_count, categories\n",
        "    FROM business_cleaned_df\n",
        "    WHERE categories = 'Italian' AND city = 'Phoenix' AND state = 'AZ'\n",
        "    ORDER BY review_count DESC\n",
        "    LIMIT 10;\n",
        "'''\n",
        "best_italian_df_sql = ps.sqldf(best_italian_df_query, locals())"
      ]
    },
    {
      "cell_type": "code",
      "execution_count": null,
      "metadata": {
        "id": "a3zXOF52FbHL",
        "colab": {
          "base_uri": "https://localhost:8080/"
        },
        "outputId": "8c212f73-570d-42a0-c285-6cfcfd0c9e28"
      },
      "outputs": [
        {
          "output_type": "stream",
          "name": "stdout",
          "text": [
            "Correct! You earned 4/4 points. You are a star!\n",
            "\n",
            "Your submission has been successfully recorded in the gradebook.\n"
          ]
        }
      ],
      "source": [
        "# 4 points\n",
        "grader.grade(test_case_id = 'test_italian_sql', answer = (best_italian_df_query,best_italian_df_sql))"
      ]
    },
    {
      "cell_type": "markdown",
      "metadata": {
        "id": "NTA-d4G5FbyQ"
      },
      "source": [
        "#### 2.2.2 Avoid Restaurant Traffic  [8 points]\n",
        "\n",
        "You visited one of the Italian restaurants from the 2.2.1 list. But, you weren't able to find a table to seat because the restaurant was very crowded at the time of your visit. Now, you want to try Burgers instead and want to find a better time to visit so you don't have to wait.\n",
        "\n",
        "* Use `business_cleaned_df` and to find the top 5 Burgers restaurant by review counts in Phoenix, AZ.\n",
        "\n",
        "* `checkin_cleaned_df` will be used to find the number of check-ins at specific day and hour.\n",
        "\n",
        "* Keep only the rows that have less than 5 checkins at given day and hour\n",
        "\n",
        "**Final Schema**:\n",
        ">name | address | city | state | stars | review_count | categories | weekday | hour | checkins\n",
        ">--- | --- | --- | ---  | --- | --- | --- | --- | --- | ---"
      ]
    },
    {
      "cell_type": "code",
      "execution_count": null,
      "metadata": {
        "id": "JFM3qeerFsXX",
        "colab": {
          "base_uri": "https://localhost:8080/"
        },
        "outputId": "e969eb17-2a96-4f43-85a4-706ce789a99d"
      },
      "outputs": [
        {
          "output_type": "stream",
          "name": "stderr",
          "text": [
            "<ipython-input-60-6eb6a255a428>:6: SettingWithCopyWarning: \n",
            "A value is trying to be set on a copy of a slice from a DataFrame\n",
            "\n",
            "See the caveats in the documentation: https://pandas.pydata.org/pandas-docs/stable/user_guide/indexing.html#returning-a-view-versus-a-copy\n",
            "  burger_restaurants_df.sort_values(by='review_count', ascending=False, inplace=True)\n"
          ]
        }
      ],
      "source": [
        "# TODO: Avoid Restaurant Traffic\n",
        "burger_restaurants_df = business_cleaned_df[\n",
        "    (business_cleaned_df['categories'] == 'Burgers') &\n",
        "    (business_cleaned_df['city'] == 'Phoenix') &\n",
        "    (business_cleaned_df['state'] == 'AZ')]\n",
        "burger_restaurants_df.sort_values(by='review_count', ascending=False, inplace=True)\n",
        "burger_restaurants_df = burger_restaurants_df.head(5)\n",
        "checkin_less_than_5 = checkin_cleaned_df[checkin_cleaned_df['checkins'] < 5]\n",
        "merged_df = pd.merge(burger_restaurants_df, checkin_less_than_5, on='business_id')\n",
        "best_burgers_df = merged_df[['name', 'address', 'city', 'state', 'stars', 'review_count', 'categories', 'weekday', 'hour', 'checkins']]\n",
        "best_burgers_df.reset_index(drop=True, inplace=True)"
      ]
    },
    {
      "cell_type": "code",
      "execution_count": null,
      "metadata": {
        "id": "UvRsM0zHHkyj",
        "colab": {
          "base_uri": "https://localhost:8080/"
        },
        "outputId": "2dc1ab1b-a8b5-4f71-d287-5be0b20e5945"
      },
      "outputs": [
        {
          "output_type": "stream",
          "name": "stdout",
          "text": [
            "Correct! You earned 3/3 points. You are a star!\n",
            "\n",
            "Your submission has been successfully recorded in the gradebook.\n"
          ]
        }
      ],
      "source": [
        "# 3 points\n",
        "grader.grade(test_case_id = 'test_burgers', answer = best_burgers_df)"
      ]
    },
    {
      "cell_type": "markdown",
      "metadata": {
        "id": "L5jZvklWZZDg"
      },
      "source": [
        "**TODO:**\n",
        "* Now, use `pandasql` to find the top 5 Burgers restaurants in Phoenix, AZ with less than 5 check-ins.\n",
        "* The result should be saved as `best_burgers_sql` and should be the same as the result from `pandas`"
      ]
    },
    {
      "cell_type": "code",
      "execution_count": null,
      "metadata": {
        "id": "76KJayxiCL_5"
      },
      "outputs": [],
      "source": [
        "# TODO: Use SQL to find the number of checkins that are less than 5 for\n",
        "# top 5 Burgers restaurants with highest review count\n",
        "best_burgers_query = '''\n",
        "    SELECT b.name, b.address, b.city, b.state, b.stars, b.review_count, b.categories, c.weekday, c.hour, c.checkins\n",
        "    FROM (\n",
        "          SELECT business_id, name, address, city, state, stars, review_count, categories\n",
        "          FROM business_cleaned_df\n",
        "          WHERE categories LIKE '%Burgers%' AND city = 'Phoenix' AND state = 'AZ'\n",
        "          ORDER BY review_count DESC\n",
        "          LIMIT 5\n",
        "    ) b\n",
        "    JOIN checkin_cleaned_df c ON b.business_id = c.business_id\n",
        "    WHERE c.checkins < 5;\n",
        "'''\n",
        "best_burgers_sql = ps.sqldf(best_burgers_query, locals())"
      ]
    },
    {
      "cell_type": "code",
      "execution_count": null,
      "metadata": {
        "id": "HwqmlLrBHj--",
        "colab": {
          "base_uri": "https://localhost:8080/"
        },
        "outputId": "d9a4a619-fff5-4fe1-91dc-dd631f25bc63"
      },
      "outputs": [
        {
          "output_type": "stream",
          "name": "stdout",
          "text": [
            "Correct! You earned 5/5 points. You are a star!\n",
            "\n",
            "Your submission has been successfully recorded in the gradebook.\n"
          ]
        }
      ],
      "source": [
        "# 5 points\n",
        "grader.grade(test_case_id = 'test_burgers_sql', answer = (best_burgers_query,best_burgers_sql))"
      ]
    },
    {
      "cell_type": "markdown",
      "metadata": {
        "id": "jcqNApWfXfI2"
      },
      "source": [
        "###2.3 Avid Yelpers [22 points]\n",
        "In this section we'll be taking a deeper dive into `user_cleaned_df`. We'll be focusing on Yelp users who are particularly active! In this digital age, even Yelp has a friends/follower count 😲. Let's see who's friends with who, and who reigns supreme on the newest social media platform -- Yelp!\n",
        "\n",
        "\n"
      ]
    },
    {
      "cell_type": "markdown",
      "metadata": {
        "id": "-HCFx2-2ZJfL"
      },
      "source": [
        "#### 2.3.1 Elite Yelp Reviewers [6 points]\n",
        "\n",
        "Use `user_cleaned_df` to find all elite Yelp users who have at least have one friend and have left at least 2000 reviews.\n",
        "\n",
        "**TODO:**\n",
        "* Filter for the above characteristics\n",
        "* Sort the dataframe by `review_count` in descending order, then by `yelping_since` in ascending order\n",
        "* Reset index\n",
        "* Save the resulting dataframe as `elite_user_df`\n",
        "\n",
        "**NOTE:**\n",
        "\n",
        "* Beware of the datatype of `elite` when dealing with not elite users\n",
        "\n",
        "**Final Schema**:\n",
        ">user_id | name | review_count | yelping_since | friends | elite | average_stars | has_friend |\n",
        ">--- | --- | --- | ---  | --- | --- | --- | --- |"
      ]
    },
    {
      "cell_type": "code",
      "execution_count": null,
      "metadata": {
        "id": "Sx7DZosudeao"
      },
      "outputs": [],
      "source": [
        "# TODO: Use pandas to find elite yelp reviewers\n",
        "user_filtered_df = user_cleaned_df[user_cleaned_df['elite']!='None']\n",
        "elite_user_df = user_filtered_df[(user_filtered_df['has_friend'] == 1) & (user_filtered_df['review_count'] >= 2000)]\n",
        "elite_user_df = elite_user_df.sort_values(by=['review_count', 'yelping_since'], ascending=[False, True])\n",
        "elite_user_df.reset_index(drop=True,inplace = True)"
      ]
    },
    {
      "cell_type": "code",
      "execution_count": null,
      "metadata": {
        "id": "OzFIQ8BJZ7xH",
        "colab": {
          "base_uri": "https://localhost:8080/"
        },
        "outputId": "f316e3b2-4fc4-4bcc-d390-792ba141e5d5"
      },
      "outputs": [
        {
          "output_type": "stream",
          "name": "stdout",
          "text": [
            "Correct! You earned 2/2 points. You are a star!\n",
            "\n",
            "Your submission has been successfully recorded in the gradebook.\n"
          ]
        }
      ],
      "source": [
        "# 2 points\n",
        "grader.grade(test_case_id = 'elite_user_pd', answer = (elite_user_df.head(), len(elite_user_df)))"
      ]
    },
    {
      "cell_type": "markdown",
      "metadata": {
        "id": "NlRa7pBcZTTc"
      },
      "source": [
        "**TODO:**\n",
        "* Now, use `pandasql` to find all elite Yelp users who have at least have one friend and have left at least 2000 reviews.\n",
        "* The result should be saved as `elite_user_df_sql` and should be the same as the result from `pandas`"
      ]
    },
    {
      "cell_type": "code",
      "execution_count": null,
      "metadata": {
        "id": "PeyNrNqNZy9I"
      },
      "outputs": [],
      "source": [
        "## TODO: Use SQL to find elite yelp reviewers\n",
        "elite_user_query = '''\n",
        "    SELECT *\n",
        "    FROM user_cleaned_df\n",
        "    WHERE (elite != 'None' AND LENGTH(elite) > 0)\n",
        "    AND has_friend = 1 AND review_count >= 2000\n",
        "    ORDER BY review_count DESC, yelping_since ASC;\n",
        "'''\n",
        "elite_user_df_sql = ps.sqldf(elite_user_query, locals())"
      ]
    },
    {
      "cell_type": "code",
      "execution_count": null,
      "metadata": {
        "id": "bWHC7dQZZ4V9",
        "colab": {
          "base_uri": "https://localhost:8080/"
        },
        "outputId": "190df2f6-6b96-4825-91b8-e882b16508ee"
      },
      "outputs": [
        {
          "output_type": "stream",
          "name": "stdout",
          "text": [
            "Correct! You earned 4/4 points. You are a star!\n",
            "\n",
            "Your submission has been successfully recorded in the gradebook.\n"
          ]
        }
      ],
      "source": [
        "# 4 points\n",
        "grader.grade(test_case_id = 'elite_user_sql', answer = (elite_user_df_sql.head(), elite_user_query, len(elite_user_df_sql)))"
      ]
    },
    {
      "cell_type": "markdown",
      "metadata": {
        "id": "wsyB903yjVTC"
      },
      "source": [
        "#### 2.3.2 Joining Users' Friends  [8 points]\n",
        "\n",
        "We now want to find the friends of all the elite users. Before we do any analysis, let's clean up the `friends` column.\n",
        "\n",
        "**TODO:**\n",
        "\n",
        "*   Use `elite_user_df` and create a new row for each friend an elite user has (hint split the strings then explode, make sure there is no trailing whitespace)\n",
        "*   This modified `elite_user_df` will be used for the rest of 2.3.2\n",
        "\n"
      ]
    },
    {
      "cell_type": "code",
      "execution_count": null,
      "metadata": {
        "id": "-VuBKBT3kTAu"
      },
      "outputs": [],
      "source": [
        "# TODO: Explode the friends column of elite_user_df\n",
        "elite_user_df['friends'] = elite_user_df['friends'].str.split(', ')\n",
        "elite_user_df = elite_user_df.explode('friends', ignore_index=True)\n",
        "elite_user_df['friends'] = elite_user_df['friends'].str.strip()"
      ]
    },
    {
      "cell_type": "markdown",
      "metadata": {
        "id": "SfvHA9vnaRIG"
      },
      "source": [
        "Now we will merge the friends' information in pandas.\n",
        "\n",
        "**TODO:**\n",
        "\n",
        "* Use `elite_user_df` and `user_cleaned_df` to join the friends' `name` and `average_stars`\n",
        "\n",
        "* Keep the elite user's `user_id`, `name`, and `average_stars`. You can drop all other columns\n",
        "\n",
        "* Rename the friend columns to `user_id_friend`, `name_friend`, and `average_stars_friend` (hint: check out the parameters of merge)\n",
        "* Sort the dataframe by `user_id` ascending, then by `user_id_friend` ascending\n",
        "* Save the resulting dataframe as `friends_df`\n",
        "\n",
        "**Final Schema**:\n",
        ">user_id | name | average_stars | user_id_friend | name_friend | average_stars_friend |\n",
        ">--- | --- | --- | ---  | --- |--- |"
      ]
    },
    {
      "cell_type": "code",
      "execution_count": null,
      "metadata": {
        "id": "TIS-6ru5mf46",
        "colab": {
          "base_uri": "https://localhost:8080/"
        },
        "outputId": "d3fa7cea-a33c-4db4-eb15-e635a74242fc"
      },
      "outputs": [
        {
          "output_type": "stream",
          "name": "stderr",
          "text": [
            "<ipython-input-69-5be7c01466e9>:4: SettingWithCopyWarning: \n",
            "A value is trying to be set on a copy of a slice from a DataFrame\n",
            "\n",
            "See the caveats in the documentation: https://pandas.pydata.org/pandas-docs/stable/user_guide/indexing.html#returning-a-view-versus-a-copy\n",
            "  friends_df.sort_values(by=['user_id', 'user_id_friend'], inplace=True)\n"
          ]
        }
      ],
      "source": [
        "# TODO: Use pandas to join elite yelp reviewers' friends\n",
        "friends_df = pd.merge(elite_user_df, user_cleaned_df, left_on='friends', right_on='user_id', suffixes=('', '_friend'))\n",
        "friends_df = friends_df[['user_id', 'name', 'average_stars', 'user_id_friend', 'name_friend', 'average_stars_friend']]\n",
        "friends_df.sort_values(by=['user_id', 'user_id_friend'], inplace=True)\n",
        "friends_df.reset_index(drop=True,inplace=True)"
      ]
    },
    {
      "cell_type": "code",
      "execution_count": null,
      "metadata": {
        "id": "BjZOKl1-rxhn",
        "colab": {
          "base_uri": "https://localhost:8080/"
        },
        "outputId": "13a5074c-4e3d-4a4b-c936-282095e67cc5"
      },
      "outputs": [
        {
          "output_type": "stream",
          "name": "stdout",
          "text": [
            "Correct! You earned 3/3 points. You are a star!\n",
            "\n",
            "Your submission has been successfully recorded in the gradebook.\n"
          ]
        }
      ],
      "source": [
        "# 2 points\n",
        "grader.grade(test_case_id = 'friends_join_pd', answer = (friends_df.head(10), len(friends_df)))"
      ]
    },
    {
      "cell_type": "markdown",
      "metadata": {
        "id": "BoKbu1lpaXpM"
      },
      "source": [
        "**TODO:**\n",
        "* Now, use `pandasql` to merge elite users' friends' information\n",
        "* The result should be saved as `friends_df_sql` and should be the same as the result from `pandas`"
      ]
    },
    {
      "cell_type": "code",
      "execution_count": null,
      "metadata": {
        "id": "s4Gm6lX6aZ33"
      },
      "outputs": [],
      "source": [
        "# TODO: Use SQL to join elite yelp reviewers' friends\n",
        "friends_join_query = '''\n",
        "        SELECT\n",
        "        elite_user_df.user_id AS user_id,\n",
        "        elite_user_df.name AS name,\n",
        "        elite_user_df.average_stars AS average_stars,\n",
        "        elite_user_df.friends AS user_id_friend,\n",
        "        user_cleaned_df.name AS name_friend,\n",
        "        user_cleaned_df.average_stars AS average_stars_friend\n",
        "    FROM\n",
        "        elite_user_df\n",
        "    LEFT JOIN\n",
        "        user_cleaned_df\n",
        "    ON\n",
        "        elite_user_df.friends = user_cleaned_df.user_id\n",
        "    WHERE\n",
        "        elite_user_df.friends IS NOT NULL AND user_cleaned_df.name IS NOT NULL AND user_cleaned_df.name != 'None'\n",
        "    ORDER BY\n",
        "        user_id, user_id_friend\n",
        "'''\n",
        "friends_df_sql = ps.sqldf(friends_join_query, locals())"
      ]
    },
    {
      "cell_type": "code",
      "execution_count": null,
      "metadata": {
        "id": "LkwENZSGsKae",
        "colab": {
          "base_uri": "https://localhost:8080/"
        },
        "outputId": "5602bfff-0b02-486d-f969-053af88d1560"
      },
      "outputs": [
        {
          "output_type": "stream",
          "name": "stdout",
          "text": [
            "Correct! You earned 5/5 points. You are a star!\n",
            "\n",
            "Your submission has been successfully recorded in the gradebook.\n"
          ]
        }
      ],
      "source": [
        "# 4 points\n",
        "grader.grade(test_case_id = 'friends_join_sql', answer = (friends_df_sql.head(), friends_join_query, len(friends_df_sql)))"
      ]
    },
    {
      "cell_type": "markdown",
      "metadata": {
        "id": "lR1S_9NLaVA5"
      },
      "source": [
        "#### 2.3.3 Do Friends Think Alike?  [8 points]\n",
        "\n",
        "Now that we joined all of the elite users' friends, we want to compare their average ratings. Let's take a look at the difference between elite users' average stars and the average of all their friends' stars.\n",
        "\n",
        "**TODO:**\n",
        "* Use `friends_df` to calculate the difference between each elite user's `average_stars` and the average of all of their friends' `average_stars` (`average_stars` - `average_stars_friend`). Name this column `average_stars_diff`\n",
        "\n",
        "* Save the results in `stars_diff_df`. Keep only the `user_id` and `average_stars_diff` columns.\n",
        "\n",
        "**Final Schema**:\n",
        ">user_id | average_stars_diff |\n",
        ">--- | --- |"
      ]
    },
    {
      "cell_type": "code",
      "execution_count": null,
      "metadata": {
        "id": "cwC9RNuZu6zC"
      },
      "outputs": [],
      "source": [
        "# TODO: Use pandas to calculate the difference in average_stars amongst a user and their friends\n",
        "friends_df['average_stars_diff'] = friends_df['average_stars'] - friends_df.groupby('user_id')['average_stars_friend'].transform('mean')\n",
        "stars_diff_df = friends_df[['user_id', 'average_stars_diff']].drop_duplicates()\n",
        "stars_diff_df.reset_index(drop=True,inplace=True)"
      ]
    },
    {
      "cell_type": "code",
      "execution_count": null,
      "metadata": {
        "id": "igCUulx6u9xw",
        "colab": {
          "base_uri": "https://localhost:8080/"
        },
        "outputId": "cc4a841b-514f-4def-b9a3-ceb8d7030d56"
      },
      "outputs": [
        {
          "output_type": "stream",
          "name": "stdout",
          "text": [
            "Correct! You earned 3/3 points. You are a star!\n",
            "\n",
            "Your submission has been successfully recorded in the gradebook.\n"
          ]
        }
      ],
      "source": [
        "# 2 points\n",
        "grader.grade(test_case_id = 'stars_diff_pd', answer = stars_diff_df)"
      ]
    },
    {
      "cell_type": "markdown",
      "metadata": {
        "id": "3tjX3_RFvAUA"
      },
      "source": [
        "**TODO:**\n",
        "* Now, use `pandasql` to to calculate the difference in `average_stars` amongst a user and their friends\n",
        "* The result should be saved as `stars_diff_df_sql` and should be the same as the result from `pandas`"
      ]
    },
    {
      "cell_type": "code",
      "execution_count": null,
      "metadata": {
        "id": "yu0J5UjlvCP_"
      },
      "outputs": [],
      "source": [
        "# TODO: Use SQL to calculate the difference in average_stars amongst a user and their friends\n",
        "stars_diff_query = '''\n",
        "    SELECT\n",
        "        user_id,\n",
        "        average_stars - AVG(average_stars_friend) AS average_stars_diff\n",
        "    FROM\n",
        "        friends_df\n",
        "    GROUP BY\n",
        "        user_id\n",
        "'''\n",
        "stars_diff_df_sql = ps.sqldf(stars_diff_query, locals())"
      ]
    },
    {
      "cell_type": "code",
      "execution_count": null,
      "metadata": {
        "id": "RkFjlcXKvE-a",
        "colab": {
          "base_uri": "https://localhost:8080/"
        },
        "outputId": "a0b578b2-910f-4b6c-cb4e-b6f9fa225765"
      },
      "outputs": [
        {
          "output_type": "stream",
          "name": "stdout",
          "text": [
            "Correct! You earned 5/5 points. You are a star!\n",
            "\n",
            "Your submission has been successfully recorded in the gradebook.\n"
          ]
        }
      ],
      "source": [
        "# 4 points\n",
        "grader.grade(test_case_id = 'stars_diff_sql', answer = (stars_diff_df_sql, stars_diff_query))"
      ]
    },
    {
      "cell_type": "markdown",
      "metadata": {
        "id": "bfKqHmW6zWil"
      },
      "source": [
        "###2.4 Restaurant Reviews [16 points]\n",
        "In this section we'll take a look at Yelp restaurant reviews. Who leaves these comments? What type of restaurants get the most reviews? Stay tuned.\n",
        "\n",
        "\n"
      ]
    },
    {
      "cell_type": "markdown",
      "metadata": {
        "id": "byfPwZkM0lWI"
      },
      "source": [
        "#### 2.4.1 Are reviewers on average positive or negative?  [8 points]\n",
        "\n",
        "Do people who leave **restaurant** reviews tend to be on average pessimistic or optimistic? Critical or soft? Let's take a look at the `average_stars` of users who leave Yelp reviews.\n",
        "\n",
        "**TODO:**\n",
        "* Use `tip_cleaned_df`,  `business_cleaned_df`, and `user_cleaned_df` to calculate the average rating of all Yelp reviewers in the dataset who have left a tip/review on a restaurant.\n",
        "* Make sure each user only appears once in the dataframe.\n",
        "\n",
        "* Save the results in `average_rating_tip_df`. This will be a one column, one row dataframe.\n",
        "\n",
        "**Final Schema**:\n",
        ">average_stars |\n",
        ">--- |"
      ]
    },
    {
      "cell_type": "code",
      "execution_count": null,
      "metadata": {
        "id": "c3IIaBWR1s1c",
        "colab": {
          "base_uri": "https://localhost:8080/",
          "height": 81
        },
        "outputId": "ca815ec7-d6da-48c2-b51c-35cd568ebfa5"
      },
      "outputs": [
        {
          "output_type": "execute_result",
          "data": {
            "text/plain": [
              "   average_stars\n",
              "0       3.782817"
            ],
            "text/html": [
              "\n",
              "  <div id=\"df-5ba77753-e63b-4a63-985d-e137ccf0c119\" class=\"colab-df-container\">\n",
              "    <div>\n",
              "<style scoped>\n",
              "    .dataframe tbody tr th:only-of-type {\n",
              "        vertical-align: middle;\n",
              "    }\n",
              "\n",
              "    .dataframe tbody tr th {\n",
              "        vertical-align: top;\n",
              "    }\n",
              "\n",
              "    .dataframe thead th {\n",
              "        text-align: right;\n",
              "    }\n",
              "</style>\n",
              "<table border=\"1\" class=\"dataframe\">\n",
              "  <thead>\n",
              "    <tr style=\"text-align: right;\">\n",
              "      <th></th>\n",
              "      <th>average_stars</th>\n",
              "    </tr>\n",
              "  </thead>\n",
              "  <tbody>\n",
              "    <tr>\n",
              "      <th>0</th>\n",
              "      <td>3.782817</td>\n",
              "    </tr>\n",
              "  </tbody>\n",
              "</table>\n",
              "</div>\n",
              "    <div class=\"colab-df-buttons\">\n",
              "\n",
              "  <div class=\"colab-df-container\">\n",
              "    <button class=\"colab-df-convert\" onclick=\"convertToInteractive('df-5ba77753-e63b-4a63-985d-e137ccf0c119')\"\n",
              "            title=\"Convert this dataframe to an interactive table.\"\n",
              "            style=\"display:none;\">\n",
              "\n",
              "  <svg xmlns=\"http://www.w3.org/2000/svg\" height=\"24px\" viewBox=\"0 -960 960 960\">\n",
              "    <path d=\"M120-120v-720h720v720H120Zm60-500h600v-160H180v160Zm220 220h160v-160H400v160Zm0 220h160v-160H400v160ZM180-400h160v-160H180v160Zm440 0h160v-160H620v160ZM180-180h160v-160H180v160Zm440 0h160v-160H620v160Z\"/>\n",
              "  </svg>\n",
              "    </button>\n",
              "\n",
              "  <style>\n",
              "    .colab-df-container {\n",
              "      display:flex;\n",
              "      gap: 12px;\n",
              "    }\n",
              "\n",
              "    .colab-df-convert {\n",
              "      background-color: #E8F0FE;\n",
              "      border: none;\n",
              "      border-radius: 50%;\n",
              "      cursor: pointer;\n",
              "      display: none;\n",
              "      fill: #1967D2;\n",
              "      height: 32px;\n",
              "      padding: 0 0 0 0;\n",
              "      width: 32px;\n",
              "    }\n",
              "\n",
              "    .colab-df-convert:hover {\n",
              "      background-color: #E2EBFA;\n",
              "      box-shadow: 0px 1px 2px rgba(60, 64, 67, 0.3), 0px 1px 3px 1px rgba(60, 64, 67, 0.15);\n",
              "      fill: #174EA6;\n",
              "    }\n",
              "\n",
              "    .colab-df-buttons div {\n",
              "      margin-bottom: 4px;\n",
              "    }\n",
              "\n",
              "    [theme=dark] .colab-df-convert {\n",
              "      background-color: #3B4455;\n",
              "      fill: #D2E3FC;\n",
              "    }\n",
              "\n",
              "    [theme=dark] .colab-df-convert:hover {\n",
              "      background-color: #434B5C;\n",
              "      box-shadow: 0px 1px 3px 1px rgba(0, 0, 0, 0.15);\n",
              "      filter: drop-shadow(0px 1px 2px rgba(0, 0, 0, 0.3));\n",
              "      fill: #FFFFFF;\n",
              "    }\n",
              "  </style>\n",
              "\n",
              "    <script>\n",
              "      const buttonEl =\n",
              "        document.querySelector('#df-5ba77753-e63b-4a63-985d-e137ccf0c119 button.colab-df-convert');\n",
              "      buttonEl.style.display =\n",
              "        google.colab.kernel.accessAllowed ? 'block' : 'none';\n",
              "\n",
              "      async function convertToInteractive(key) {\n",
              "        const element = document.querySelector('#df-5ba77753-e63b-4a63-985d-e137ccf0c119');\n",
              "        const dataTable =\n",
              "          await google.colab.kernel.invokeFunction('convertToInteractive',\n",
              "                                                    [key], {});\n",
              "        if (!dataTable) return;\n",
              "\n",
              "        const docLinkHtml = 'Like what you see? Visit the ' +\n",
              "          '<a target=\"_blank\" href=https://colab.research.google.com/notebooks/data_table.ipynb>data table notebook</a>'\n",
              "          + ' to learn more about interactive tables.';\n",
              "        element.innerHTML = '';\n",
              "        dataTable['output_type'] = 'display_data';\n",
              "        await google.colab.output.renderOutput(dataTable, element);\n",
              "        const docLink = document.createElement('div');\n",
              "        docLink.innerHTML = docLinkHtml;\n",
              "        element.appendChild(docLink);\n",
              "      }\n",
              "    </script>\n",
              "  </div>\n",
              "\n",
              "    </div>\n",
              "  </div>\n"
            ]
          },
          "metadata": {},
          "execution_count": 77
        }
      ],
      "source": [
        "# TODO: Use pandas to calculate the average ratings of users who leave Yelp reviews\n",
        "business_cleaned_df.reset_index(inplace=True,drop = True)\n",
        "merged_df = pd.merge(tip_cleaned_df, business_cleaned_df, on='business_id')\n",
        "merged_df = pd.merge(merged_df, user_cleaned_df, on='user_id')\n",
        "merged_df = merged_df.drop_duplicates(subset='user_id')\n",
        "average_rating = merged_df['average_stars'].mean()\n",
        "average_rating_tip_df = pd.DataFrame({'average_stars': [average_rating]})\n",
        "average_rating_tip_df"
      ]
    },
    {
      "cell_type": "code",
      "execution_count": null,
      "metadata": {
        "id": "2vn3Rt3k1sAG",
        "colab": {
          "base_uri": "https://localhost:8080/"
        },
        "outputId": "ea919143-9cd6-4f7c-ce6e-0292420ac361"
      },
      "outputs": [
        {
          "output_type": "stream",
          "name": "stdout",
          "text": [
            "Correct! You earned 3/3 points. You are a star!\n",
            "\n",
            "Your submission has been successfully recorded in the gradebook.\n"
          ]
        }
      ],
      "source": [
        "# 2 points\n",
        "grader.grade(test_case_id = 'average_rating_tip_pd', answer = average_rating_tip_df)"
      ]
    },
    {
      "cell_type": "markdown",
      "metadata": {
        "id": "7vzfOJUa3Kbs"
      },
      "source": [
        "**TODO:**\n",
        "* Now, use `pandasql` to to calculate the average ratings of users who leave Yelp reviews on restaurants\n",
        "* The result should be saved as `average_rating_tip_df_sql` and should be the same as the result from `pandas`\n",
        "\n",
        "(Don't worry this will take a minute)."
      ]
    },
    {
      "cell_type": "code",
      "execution_count": null,
      "metadata": {
        "id": "bSpp8Zna3OIp",
        "colab": {
          "base_uri": "https://localhost:8080/",
          "height": 81
        },
        "outputId": "dbc2685d-0ab4-44e9-c6a0-50294ca453f3"
      },
      "outputs": [
        {
          "output_type": "execute_result",
          "data": {
            "text/plain": [
              "   average_stars\n",
              "0       3.782817"
            ],
            "text/html": [
              "\n",
              "  <div id=\"df-103ab81f-6d03-4a82-9e67-ccb0dd7421af\" class=\"colab-df-container\">\n",
              "    <div>\n",
              "<style scoped>\n",
              "    .dataframe tbody tr th:only-of-type {\n",
              "        vertical-align: middle;\n",
              "    }\n",
              "\n",
              "    .dataframe tbody tr th {\n",
              "        vertical-align: top;\n",
              "    }\n",
              "\n",
              "    .dataframe thead th {\n",
              "        text-align: right;\n",
              "    }\n",
              "</style>\n",
              "<table border=\"1\" class=\"dataframe\">\n",
              "  <thead>\n",
              "    <tr style=\"text-align: right;\">\n",
              "      <th></th>\n",
              "      <th>average_stars</th>\n",
              "    </tr>\n",
              "  </thead>\n",
              "  <tbody>\n",
              "    <tr>\n",
              "      <th>0</th>\n",
              "      <td>3.782817</td>\n",
              "    </tr>\n",
              "  </tbody>\n",
              "</table>\n",
              "</div>\n",
              "    <div class=\"colab-df-buttons\">\n",
              "\n",
              "  <div class=\"colab-df-container\">\n",
              "    <button class=\"colab-df-convert\" onclick=\"convertToInteractive('df-103ab81f-6d03-4a82-9e67-ccb0dd7421af')\"\n",
              "            title=\"Convert this dataframe to an interactive table.\"\n",
              "            style=\"display:none;\">\n",
              "\n",
              "  <svg xmlns=\"http://www.w3.org/2000/svg\" height=\"24px\" viewBox=\"0 -960 960 960\">\n",
              "    <path d=\"M120-120v-720h720v720H120Zm60-500h600v-160H180v160Zm220 220h160v-160H400v160Zm0 220h160v-160H400v160ZM180-400h160v-160H180v160Zm440 0h160v-160H620v160ZM180-180h160v-160H180v160Zm440 0h160v-160H620v160Z\"/>\n",
              "  </svg>\n",
              "    </button>\n",
              "\n",
              "  <style>\n",
              "    .colab-df-container {\n",
              "      display:flex;\n",
              "      gap: 12px;\n",
              "    }\n",
              "\n",
              "    .colab-df-convert {\n",
              "      background-color: #E8F0FE;\n",
              "      border: none;\n",
              "      border-radius: 50%;\n",
              "      cursor: pointer;\n",
              "      display: none;\n",
              "      fill: #1967D2;\n",
              "      height: 32px;\n",
              "      padding: 0 0 0 0;\n",
              "      width: 32px;\n",
              "    }\n",
              "\n",
              "    .colab-df-convert:hover {\n",
              "      background-color: #E2EBFA;\n",
              "      box-shadow: 0px 1px 2px rgba(60, 64, 67, 0.3), 0px 1px 3px 1px rgba(60, 64, 67, 0.15);\n",
              "      fill: #174EA6;\n",
              "    }\n",
              "\n",
              "    .colab-df-buttons div {\n",
              "      margin-bottom: 4px;\n",
              "    }\n",
              "\n",
              "    [theme=dark] .colab-df-convert {\n",
              "      background-color: #3B4455;\n",
              "      fill: #D2E3FC;\n",
              "    }\n",
              "\n",
              "    [theme=dark] .colab-df-convert:hover {\n",
              "      background-color: #434B5C;\n",
              "      box-shadow: 0px 1px 3px 1px rgba(0, 0, 0, 0.15);\n",
              "      filter: drop-shadow(0px 1px 2px rgba(0, 0, 0, 0.3));\n",
              "      fill: #FFFFFF;\n",
              "    }\n",
              "  </style>\n",
              "\n",
              "    <script>\n",
              "      const buttonEl =\n",
              "        document.querySelector('#df-103ab81f-6d03-4a82-9e67-ccb0dd7421af button.colab-df-convert');\n",
              "      buttonEl.style.display =\n",
              "        google.colab.kernel.accessAllowed ? 'block' : 'none';\n",
              "\n",
              "      async function convertToInteractive(key) {\n",
              "        const element = document.querySelector('#df-103ab81f-6d03-4a82-9e67-ccb0dd7421af');\n",
              "        const dataTable =\n",
              "          await google.colab.kernel.invokeFunction('convertToInteractive',\n",
              "                                                    [key], {});\n",
              "        if (!dataTable) return;\n",
              "\n",
              "        const docLinkHtml = 'Like what you see? Visit the ' +\n",
              "          '<a target=\"_blank\" href=https://colab.research.google.com/notebooks/data_table.ipynb>data table notebook</a>'\n",
              "          + ' to learn more about interactive tables.';\n",
              "        element.innerHTML = '';\n",
              "        dataTable['output_type'] = 'display_data';\n",
              "        await google.colab.output.renderOutput(dataTable, element);\n",
              "        const docLink = document.createElement('div');\n",
              "        docLink.innerHTML = docLinkHtml;\n",
              "        element.appendChild(docLink);\n",
              "      }\n",
              "    </script>\n",
              "  </div>\n",
              "\n",
              "    </div>\n",
              "  </div>\n"
            ]
          },
          "metadata": {},
          "execution_count": 79
        }
      ],
      "source": [
        "# TODO: Use SQL to calculate the average ratings of users who leave Yelp reviews\n",
        "average_rating_tip_query = '''\n",
        "    SELECT\n",
        "        AVG(average_stars) AS average_stars\n",
        "    FROM (\n",
        "        SELECT DISTINCT t.user_id, u.average_stars\n",
        "        FROM tip_cleaned_df t\n",
        "        JOIN business_cleaned_df b ON t.business_id = b.business_id\n",
        "        JOIN user_cleaned_df u ON t.user_id = u.user_id\n",
        "    )\n",
        "'''\n",
        "average_rating_tip_df_sql = ps.sqldf(average_rating_tip_query, locals())\n",
        "average_rating_tip_df_sql"
      ]
    },
    {
      "cell_type": "code",
      "execution_count": null,
      "metadata": {
        "id": "IUR32DuY3S6l",
        "colab": {
          "base_uri": "https://localhost:8080/"
        },
        "outputId": "d29246aa-e6d3-4c06-9d79-270dd797e2cd"
      },
      "outputs": [
        {
          "output_type": "stream",
          "name": "stdout",
          "text": [
            "Correct! You earned 5/5 points. You are a star!\n",
            "\n",
            "Your submission has been successfully recorded in the gradebook.\n"
          ]
        }
      ],
      "source": [
        "# 4 points\n",
        "grader.grade(test_case_id = 'average_rating_tip_sql', answer = (average_rating_tip_df_sql, average_rating_tip_query))"
      ]
    },
    {
      "cell_type": "markdown",
      "metadata": {
        "id": "ukmSCzGb43Cb"
      },
      "source": [
        "#### 2.4.2 What type of restuarants get the most reviews in January?  [8 points]\n",
        "\n",
        "We want to find out which restaurant categories get the most reviews in January across all years.\n",
        "\n",
        "**TODO:**\n",
        "* Use `tip_cleaned_df` and `business_cleaned_df` to find the count of reviews for each category\n",
        "* Keep the categories that have more than 100 reviews\n",
        "* Sort the dataframe descending by count\n",
        "* Save the results in `category_tip_df`\n",
        "\n",
        "**Note:**\n",
        "* Some categoties with the restaurant tag may not seem related-- that's okay.\n",
        "* Take a look at [this documentation](https://docs.python.org/3/library/datetime.html) for help with datetime objects\n",
        "\n",
        "\n",
        "**Final Schema**:\n",
        ">categories |count |\n",
        ">--- |--- |"
      ]
    },
    {
      "cell_type": "code",
      "execution_count": null,
      "metadata": {
        "id": "E2Bk-PFh_ikl"
      },
      "outputs": [],
      "source": [
        "# TODO: Use pandas to calculate the count of restaurant reviews in January by category\n",
        "merged_df = pd.merge(tip_cleaned_df, business_cleaned_df, on='business_id')\n",
        "merged_df['date'] = pd.to_datetime(merged_df['date'])\n",
        "january_reviews_df = merged_df[merged_df['date'].dt.month == 1]\n",
        "category_tip_df = january_reviews_df.groupby('categories')['user_id'].count().reset_index()\n",
        "category_tip_df.rename(columns={'user_id': 'count'}, inplace=True)\n",
        "category_tip_df = category_tip_df[category_tip_df['count'] > 100]\n",
        "category_tip_df = category_tip_df.sort_values(by='count', ascending=False)\n",
        "category_tip_df.reset_index(drop=True,inplace=True)"
      ]
    },
    {
      "cell_type": "code",
      "execution_count": null,
      "metadata": {
        "id": "40luyvep_cNh",
        "colab": {
          "base_uri": "https://localhost:8080/"
        },
        "outputId": "f06862f3-4e31-43ee-dde0-0108dcf5d348"
      },
      "outputs": [
        {
          "output_type": "stream",
          "name": "stdout",
          "text": [
            "Correct! You earned 3/3 points. You are a star!\n",
            "\n",
            "Your submission has been successfully recorded in the gradebook.\n"
          ]
        }
      ],
      "source": [
        "# 2 points\n",
        "grader.grade(test_case_id = 'category_tip_pd', answer = category_tip_df)"
      ]
    },
    {
      "cell_type": "markdown",
      "metadata": {
        "id": "iRDgpMFV_N1Q"
      },
      "source": [
        "**TODO:**\n",
        "* Now, use `pandasql` to to calculate the count of restaurant reviews in January\n",
        "* The result should be saved as `category_tip_df_sql` and should be the same as the result from `pandas`\n",
        "* Hint: Try using the strftime function"
      ]
    },
    {
      "cell_type": "code",
      "execution_count": null,
      "metadata": {
        "id": "I2b6DakK5MFi"
      },
      "outputs": [],
      "source": [
        "# TODO: Use SQL to calculate the count of reviews in January by category\n",
        "category_tip_query = '''\n",
        "    SELECT categories, COUNT(user_id) AS count\n",
        "    FROM tip_cleaned_df\n",
        "    JOIN business_cleaned_df\n",
        "         ON tip_cleaned_df.business_id = business_cleaned_df.business_id\n",
        "    WHERE strftime('%m', date) = '01'\n",
        "    GROUP BY categories\n",
        "    HAVING COUNT(user_id) > 100\n",
        "    ORDER BY count DESC\n",
        "'''\n",
        "category_tip_df_sql = ps.sqldf(category_tip_query, locals())"
      ]
    },
    {
      "cell_type": "code",
      "execution_count": null,
      "metadata": {
        "id": "E79qunXN_GrW",
        "colab": {
          "base_uri": "https://localhost:8080/"
        },
        "outputId": "772a74ab-f065-41bd-96e7-a2b2fc459d4f"
      },
      "outputs": [
        {
          "output_type": "stream",
          "name": "stdout",
          "text": [
            "Correct! You earned 5/5 points. You are a star!\n",
            "\n",
            "Your submission has been successfully recorded in the gradebook.\n"
          ]
        }
      ],
      "source": [
        "# 4 points\n",
        "grader.grade(test_case_id = 'category_tip_sql', answer = (category_tip_df_sql, category_tip_query))"
      ]
    },
    {
      "cell_type": "markdown",
      "metadata": {
        "id": "4_X6JARTSI1E"
      },
      "source": [
        "## Part 3: Data Visualization [6 points total - manually graded]"
      ]
    },
    {
      "cell_type": "markdown",
      "metadata": {
        "id": "GBs4i670SJmY"
      },
      "source": [
        "You've done great work so far! Now let's create a couple visualizations to illustrate data we might be interested in.\n",
        "\n",
        "\n",
        "This section will be **manually graded**."
      ]
    },
    {
      "cell_type": "markdown",
      "metadata": {
        "id": "89ihkDOCSNE6"
      },
      "source": [
        "Begin by following the directions below to prepare the dataset for plotting"
      ]
    },
    {
      "cell_type": "code",
      "source": [
        "from datetime import datetime\n",
        "import seaborn as sns"
      ],
      "metadata": {
        "id": "Cy0E743dwT64"
      },
      "execution_count": null,
      "outputs": []
    },
    {
      "cell_type": "markdown",
      "source": [
        "For this part we will be using ``checkin_cleaned_df``"
      ],
      "metadata": {
        "id": "Hg2NQLybwX1p"
      }
    },
    {
      "cell_type": "code",
      "execution_count": null,
      "metadata": {
        "id": "j8xc3DELSOC-"
      },
      "outputs": [],
      "source": [
        "# Step 1 - using datetime functions, create a column called 'Time of Day' that has the time\n",
        "# (Hour:Minute) seen in the hour column\n",
        "\n",
        "# HINT: The date should be of type %H:%M, and once you've converted to datetime\n",
        "# you can use the .time() function to get the time of day\n",
        "checkin_cleaned_df = checkin_df.copy()\n",
        "checkin_cleaned_df['Time of Day'] = pd.to_datetime(checkin_cleaned_df['hour']).dt.strftime('%H:%M')"
      ]
    },
    {
      "cell_type": "code",
      "source": [
        "# Step 2 - Using the 'weekday' column, create a column called 'Day' which has the day\n",
        "# associated with the date (Monday, Tuesday, ..., Sunday). You can discard the\n",
        "# 'weekday' column once you're done.\n",
        "\n",
        "# Hint: You can try to come up with a way to map an abbreviated word to its full word.\n",
        "\n",
        "# Mon represents Monday, Tue represents Tuesday, ... , Sun represents Sunday\n",
        "\n",
        "# Use a lambda function to apply the mapping\n",
        "day_mapping = {\n",
        "    'Mon': 'Monday',\n",
        "    'Tue': 'Tuesday',\n",
        "    'Wed': 'Wednesday',\n",
        "    'Thu': 'Thursday',\n",
        "    'Fri': 'Friday',\n",
        "    'Sat': 'Saturday',\n",
        "    'Sun': 'Sunday'\n",
        "}\n",
        "\n",
        "checkin_cleaned_df['Day'] = checkin_cleaned_df['weekday'].apply(lambda x: day_mapping.get(x, 'Unknown'))\n",
        "checkin_cleaned_df.drop('weekday', axis=1, inplace=True)"
      ],
      "metadata": {
        "id": "2VjP3z3qwODK"
      },
      "execution_count": null,
      "outputs": []
    },
    {
      "cell_type": "code",
      "source": [
        "# Step 3 - Make a dataframe that just contains 'business_id', 'checkins', 'Time of Day', and 'Day'\n",
        "checkin_revamped = checkin_cleaned_df[['business_id','checkins','Time of Day','Day']]"
      ],
      "metadata": {
        "id": "Negr3ekNwMS1"
      },
      "execution_count": null,
      "outputs": []
    },
    {
      "cell_type": "markdown",
      "metadata": {
        "id": "pnuXupTuSSFR"
      },
      "source": [
        "Your dataset is now complete! For the first line plot, you will be visualizing the number of trips that occur during each hour of the day, for all 7 days. To do so, you will be creating 2 line charts using Seaborn (sns).\n",
        "\n",
        "### This is important: using only Matplotlib will NOT result in full credit\n",
        "\n",
        "It is crucial that **your first line graph** contains the following features:\n",
        "1. The X-axis should be labelled \"Time of Day\", is of type datetime and ranges from 00:00 (midnight) to 23:00 (11 pm)\n",
        "2. The Y-axis should be labelled \"Average Checkins\".\n",
        "3. There should be a title called \"Average Checkins of Restaurants for each Hour of Day\"\n",
        "4. There are 7 lines for each day of the week, clearly labeled and differentiated, **containing markers**.\n",
        "5. Again, must be completed using Seaborn (sns)\n"
      ]
    },
    {
      "cell_type": "code",
      "execution_count": null,
      "metadata": {
        "id": "mILxbpMOSVgq",
        "colab": {
          "base_uri": "https://localhost:8080/",
          "height": 573
        },
        "outputId": "6ab56102-41bd-4fcc-8628-755215615af7"
      },
      "outputs": [
        {
          "output_type": "display_data",
          "data": {
            "text/plain": [
              "<Figure size 1500x600 with 1 Axes>"
            ],
            "image/png": "[encoded data removed]"
          },
          "metadata": {}
        }
      ],
      "source": [
        "# First Plot:\n",
        "\n",
        "# Use the dataframe you generated from the previous step\n",
        "plot1_df = checkin_revamped\n",
        "\n",
        "# Now, alter this dataframe to have 3 columns, IN THIS ORDER:\n",
        "# 'day', 'Time of Day', 'Average Checkins'. Average Checkins is the mean checkins\n",
        "# for the particular hour of that day.\n",
        "plot1_df = plot1_df.groupby(['Day', 'Time of Day']).agg({'checkins': 'mean'}).reset_index()\n",
        "plot1_df.rename(columns={'checkins': 'Average Checkins'}, inplace=True)\n",
        "plot1_df\n",
        "# # Now just plot the graph\n",
        "sns.set(style=\"whitegrid\")\n",
        "\n",
        "plt.figure(figsize=(15, 6))\n",
        "ax = sns.lineplot(x='Time of Day', y='Average Checkins', data=plot1_df, markers=True, hue='Day', marker=\"o\", palette=\"tab10\")\n",
        "\n",
        "plt.xlabel('Time of Day')\n",
        "plt.ylabel('Average Checkins')\n",
        "plt.title('Average Checkins of Restaurants for each Hour of Day')\n",
        "\n",
        "plt.legend(title='Day', bbox_to_anchor=(1.05, 1), loc='upper left')\n",
        "plt.xticks(range(24))\n",
        "plt.tight_layout()\n",
        "plt.show()"
      ]
    },
    {
      "cell_type": "markdown",
      "metadata": {
        "id": "h-LfoueMmy_Z"
      },
      "source": [
        "Now merge with `checkins2` with `business_cleaned_df` to find the average of checkins each hours of day (`Time of Day`) to visit the American restaurant.\n",
        "\n",
        "For this part, you will need to clean `business_cleaned_df` to keep stores that are restaurant and category is American (New).\n",
        "\n",
        "As a reminder, **your second line graph** should contain the following features:\n",
        "1. The X-axis should be the same as last time\n",
        "2. The Y-axis should be labelled \"Average Checkins\".\n",
        "3. There should be a title called \"Average Checkins of American (New) Restaurants for each Hour of Day\"\n",
        "4. There are 7 lines for each of the 7 days"
      ]
    },
    {
      "cell_type": "code",
      "execution_count": null,
      "metadata": {
        "id": "L7TyEQ1tpuMs",
        "colab": {
          "base_uri": "https://localhost:8080/",
          "height": 573
        },
        "outputId": "edb62f56-660b-4c9a-b7f3-f7d53a4e6ec4"
      },
      "outputs": [
        {
          "output_type": "display_data",
          "data": {
            "text/plain": [
              "<Figure size 1500x600 with 1 Axes>"
            ],
            "image/png": "[encoded data removed]"
          },
          "metadata": {}
        }
      ],
      "source": [
        "# Second Plot:\n",
        "\n",
        "\n",
        "# Apply the filter for is_restaurant and categories\n",
        "american_new_restaurants = business_cleaned_df[\n",
        "    (business_cleaned_df['categories'] == 'American (New)') &\n",
        "    (business_cleaned_df['is_restaurant'] == 1)\n",
        "]\n",
        "\n",
        "plot2_df = pd.merge(american_new_restaurants, checkin_revamped, on='business_id', how='inner')\n",
        "\n",
        "# Now, alter this dataframe to have 3 columns, IN THIS ORDER:\n",
        "# 'day', 'Time of Day', 'Average Checkins'. Average Checkins is the mean duration checkins\n",
        "# for the particular hour of that day.\n",
        "plot2_df = plot2_df.groupby(['Day', 'Time of Day'])['checkins'].mean().reset_index()\n",
        "plot2_df = plot2_df.rename(columns={'checkins': 'Average Checkins'})\n",
        "\n",
        "# Now just plot the graph\n",
        "sns.set(style=\"whitegrid\")\n",
        "plt.figure(figsize=(15, 6))\n",
        "ax = sns.lineplot(x='Time of Day', y='Average Checkins', data=plot2_df, markers=True, hue='Day', marker=\"o\", palette=\"tab10\")\n",
        "\n",
        "plt.xlabel('Time of Day')\n",
        "plt.ylabel('Average Checkins')\n",
        "plt.title('Average Checkins of American (New) Restaurants for each Hour of Day')\n",
        "\n",
        "plt.legend(title='Day', bbox_to_anchor=(1.05, 1), loc='upper left')\n",
        "plt.xticks(range(24))\n",
        "plt.tight_layout()\n",
        "plt.show()"
      ]
    },
    {
      "cell_type": "markdown",
      "metadata": {
        "id": "PSIhhZUhRvul"
      },
      "source": [
        "## Part 4: Working with Text Data [8 points]\n",
        "\n",
        "Now, let's switch gears and try to text-based analysis. Textual data is complex, but can also be used to generate extremely interpretable results, making it both valuable and interesting.\n",
        "\n",
        "Throughout this section, we will attempt to answer the following question:\n",
        "\n",
        "**According to the `hotels_df` dataframe, what do the reviews for some of the most popular hotels in Europe look like?**"
      ]
    },
    {
      "cell_type": "code",
      "execution_count": null,
      "metadata": {
        "id": "YVfjaKb9TXgn"
      },
      "outputs": [],
      "source": [
        "# loading the dataset\n",
        "hotels_df = pd.read_csv('hotel_reviews.csv')\n",
        "hotels_df.rename(columns={'Positive_Review':'reviews'}, inplace=True)"
      ]
    },
    {
      "cell_type": "markdown",
      "metadata": {
        "id": "Q548FKXpRxa1"
      },
      "source": [
        "###4.1 Tokenizing the text [2 points]\n",
        "\n",
        "We are going to split the contents of the `reviews` column from `hotels_df` into a list of words. We will use the **nltk** library, which contains an extensive set of tools for text processing. Now, this homework would be interminably long if we went into all the details of nltk. Thus, we are only going to use the following components of the library:\n",
        "- `nltk.word_tokenize()`: a function used to tokenize text\n",
        "- `nltk.corpus.stopwords`: a list of commonly used words such as \"a\", \"an\",\"in\" that are often ignored in text analysis\n",
        "\n",
        "Note that for this question, we didn't have to clean the text data first as our original dataset was well-formatted. However, in practice, we would typically clean the text first using regular expressions (regex). Keep this in mind as you work on the project later on in the semester.\n",
        "\n",
        "**TODO:** Perform the following tasks:\n",
        "- Use **nltk.corpus.stopwords** to create a set containing the most common English stopwords.\n",
        "- Implement the function **tokenized_content(content)**, which takes in a string and does the following:\n",
        "1. Tokenize the text\n",
        "2. Keep tokens that only contain alphabetic characters (i.e. tokens with no punctuation)\n",
        "3. Convert each token to lowercase\n",
        "4. Remove stopwords (commonly used words such as \"a\", \"an\", \"in\")\n"
      ]
    },
    {
      "cell_type": "code",
      "execution_count": null,
      "metadata": {
        "id": "l6Dj7lK6RwJo",
        "colab": {
          "base_uri": "https://localhost:8080/"
        },
        "outputId": "e4f8514d-d3ab-4d99-93c1-1341256183c6"
      },
      "outputs": [
        {
          "output_type": "stream",
          "name": "stderr",
          "text": [
            "[nltk_data] Downloading package stopwords to /root/nltk_data...\n",
            "[nltk_data]   Package stopwords is already up-to-date!\n"
          ]
        }
      ],
      "source": [
        "import nltk\n",
        "from nltk.corpus import stopwords\n",
        "nltk.download('stopwords')\n",
        "stopwords = set(stopwords.words('english'))"
      ]
    },
    {
      "cell_type": "code",
      "execution_count": null,
      "metadata": {
        "id": "7i5GyzbTRze0"
      },
      "outputs": [],
      "source": [
        "# TODO: tokenize and flatten\n",
        "# (create a tokenized_content function that performs the steps listed above)\n",
        "\n",
        "def tokenized_content(content):\n",
        "  tokens = nltk.word_tokenize(content)\n",
        "  tokens = [token.lower() for token in tokens if token.isalpha() and token.lower() not in stopwords]\n",
        "  return tokens\n"
      ]
    },
    {
      "cell_type": "markdown",
      "metadata": {
        "id": "5l8v8TvpR2f0"
      },
      "source": [
        "**TODO**: Now perform the following tasks:\n",
        "- We are interested in reviews for the **most reviewed** hotel in `hotels_df`. Using Counter() to find this hotel is recommended. Store the name of the hotel in the `most_reviewed_hotel` variable, and use it to create `hotel_reviews_df`, a subset of `hotels_df` only containing instances from the hotel in question\n",
        "- From there, extract the `Positive_Review` column of `hotels_reviews_df` as a list called `reviews`.\n",
        "- Apply your `tokenize_content()` function to each item in the list `reviews`. Call the resultant list `top_tokens_list`.\n",
        "- Flatten the list `top_tokens_list`, and call the resultant list `top_tokens`. The autograder will be examining the contents of this list. (Flatten using list comprehension)\n",
        "\n",
        "For futher assistance, here is the documentation for Counter() objects:\n",
        "\n",
        "https://docs.python.org/2/library/collections.html#counter-objects"
      ]
    },
    {
      "cell_type": "code",
      "execution_count": null,
      "metadata": {
        "id": "8HEfBgrtR45L"
      },
      "outputs": [],
      "source": [
        "from collections import Counter\n",
        "# TODO: Find the most reviewed hotel, use that to make hotel_reviews_df,\n",
        "#       extract the reviews, use your function to make the token list, and flatten it\n",
        "hotel_counter = Counter(hotels_df['Hotel_Name'])\n",
        "most_reviewed_hotel = hotel_counter.most_common(1)[0][0]\n",
        "hotel_reviews_df = hotels_df[hotels_df['Hotel_Name'] == most_reviewed_hotel]\n",
        "reviews = hotel_reviews_df['reviews'].tolist()\n",
        "top_tokens_list = [tokenized_content(review) for review in reviews]\n",
        "top_tokens = [token for sublist in top_tokens_list for token in sublist]"
      ]
    },
    {
      "cell_type": "code",
      "execution_count": null,
      "metadata": {
        "id": "CygSPqFpR7bs",
        "colab": {
          "base_uri": "https://localhost:8080/"
        },
        "outputId": "71daebbc-9cd9-42ee-9910-e6b48bebe10b"
      },
      "outputs": [
        {
          "output_type": "stream",
          "name": "stdout",
          "text": [
            "Correct! You earned 2/2 points. You are a star!\n",
            "\n",
            "Your submission has been successfully recorded in the gradebook.\n"
          ]
        }
      ],
      "source": [
        "# 2 points\n",
        "grader.grade(test_case_id = 'test_top_tokens', answer = top_tokens)"
      ]
    },
    {
      "cell_type": "markdown",
      "metadata": {
        "id": "0kj3yR5lR8ol"
      },
      "source": [
        "\n",
        "### 4.2 Most Frequent Words [2 points]\n",
        "**TODO**: Now, find the 10 most common words amongst the content of `top_tokens`. Return this as a list of `(word, count)` tuples called `top_most_common`, in descending order of `count`.\n",
        "\n",
        "**Hint**: We again recommend using `Counter` in this question."
      ]
    },
    {
      "cell_type": "code",
      "execution_count": null,
      "metadata": {
        "id": "G0NA1buyR94q"
      },
      "outputs": [],
      "source": [
        "# TODO: Get top_most_common\n",
        "word_counts = Counter(top_tokens)\n",
        "top_most_common = word_counts.most_common(10)"
      ]
    },
    {
      "cell_type": "code",
      "execution_count": null,
      "metadata": {
        "id": "-2swTRq4R-3E",
        "colab": {
          "base_uri": "https://localhost:8080/"
        },
        "outputId": "add6d4d0-5f3a-43dd-edd6-ca6e5dc61392"
      },
      "outputs": [
        {
          "output_type": "stream",
          "name": "stdout",
          "text": [
            "Correct! You earned 2/2 points. You are a star!\n",
            "\n",
            "Your submission has been successfully recorded in the gradebook.\n"
          ]
        }
      ],
      "source": [
        "# 2 points\n",
        "grader.grade(test_case_id = 'test_top_most_common', answer = top_most_common)"
      ]
    },
    {
      "cell_type": "markdown",
      "metadata": {
        "id": "jkr6CWbaR_yt"
      },
      "source": [
        "### 4.3 Word Clouds [4 points - manually graded]\n",
        "\n",
        "Before we move on from this dataset, let's visualize our results using a word cloud.\n",
        "\n",
        "**TODO**: Create a word cloud containing all the words in the list `top_tokens` (created in part 4.1). [The WordCloud documentation](https://amueller.github.io/word_cloud/generated/wordcloud.WordCloud.html) contains instructions on how to do this.\n",
        "\n",
        "*Please make sure your wordcloud has a **lavender** background.*\n",
        "\n",
        "We will be going through your notebooks and **manually grading** your word cloud. This is worth 4 points."
      ]
    },
    {
      "cell_type": "code",
      "execution_count": null,
      "metadata": {
        "id": "ljvc8MUFSBWB",
        "colab": {
          "base_uri": "https://localhost:8080/",
          "height": 422
        },
        "outputId": "365736d0-9539-4e8f-e12b-db04474269c1"
      },
      "outputs": [
        {
          "output_type": "display_data",
          "data": {
            "text/plain": [
              "<Figure size 1000x500 with 1 Axes>"
            ],
            "image/png": "[encoded data removed]"
          },
          "metadata": {}
        }
      ],
      "source": [
        "# TODO: Generate your Word Cloud, making sure it meets the requirements above\n",
        "from wordcloud import WordCloud\n",
        "text = ' '.join(top_tokens)\n",
        "wordcloud = WordCloud(width=800, height=600, background_color='lavender').generate(text)\n",
        "\n",
        "plt.figure(figsize=(10, 5))\n",
        "plt.imshow(wordcloud, interpolation='bilinear')\n",
        "plt.axis('off')\n",
        "plt.show()"
      ]
    },
    {
      "cell_type": "markdown",
      "metadata": {
        "id": "W6qJd9XvSClI"
      },
      "source": [
        "# HW Submission\n",
        "\n",
        "<br>\n",
        "<center><img src = \"https://i.imgflip.com/79knab.jpg\" width= \"500\" align =\"center\"/></center>\n",
        "<br>\n",
        "\n",
        "Congratulations on finishing this homework! The good news is that similar to HW1, you basically know your score when you submit to Gradescope.\n",
        "However, this time, we will be manually grading your lineplots and wordclouds, so the autograder score is not final! Remember that we will also be checking for plagiarism, so please make sure to cite your sources (if any) by commenting the urls / links you looked at.\n",
        "\n",
        "Before you submit on Gradescope (you must submit your notebook to receive credit):\n",
        "\n",
        "1.   Please rerun your notebook on Colab by clicking \"Restart and Run-All\", and make sure there is nothing wrong with your notebook.\n",
        "2.   **Double check that you have the correct PennID (all numbers) saved in the autograder**.\n",
        "3. Make sure you've run all the PennGrader cells and have received a score.\n",
        "4. Go to the \"File\" tab at the top left, and click \"Download .ipynb\" + \"Download .py\". Please name the `.ipynb` and `.py` files **\"homework2.ipynb\"** and **\"homework2.py\"** respectively. Then, upload both the `.py` and `.ipynb` files to Gradescope.\n",
        "\n",
        "###Be sure to name your files correctly!!!\n",
        "\n",
        "**Please let the course staff know ASAP if you have any issues submitting.**"
      ]
    },
    {
      "cell_type": "code",
      "execution_count": null,
      "metadata": {
        "id": "j-Q0Tg58SDxh"
      },
      "outputs": [],
      "source": []
    }
  ],
  "metadata": {
    "colab": {
      "provenance": []
    },
    "kernelspec": {
      "display_name": "Python 3",
      "name": "python3"
    },
    "language_info": {
      "name": "python"
    }
  },
  "nbformat": 4,
  "nbformat_minor": 0
}
