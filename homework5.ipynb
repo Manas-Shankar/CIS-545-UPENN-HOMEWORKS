{
  "cells": [
    {
      "cell_type": "markdown",
      "metadata": {
        "id": "gpEx-Jd1pYlP"
      },
      "source": [
        "# CIS 5450 Homework 5: Deep Learning with Pytorch\n",
        "\n",
        "### Due Wednesday, November 29, 2023 10:00 PM EST\n",
        "\n",
        "Welcome to CIS 5450 Homework 5!\n",
        "\n",
        "In this homework, we will learn more about the 'new electricity' - Deep Learning (I didn't coin this, Andrew Ng did) ! There are many cool frameworks for building deep learning models - PyTorch, Tensorflow, Theano, MxNet. Since you will be working with Big Data in this course, you need a framework that scales well. Almost all of these have a multi-gpu support built in. In this assignment, we will be building neural networks in PyTorch to solve an interesting problem.\n",
        "\n",
        "Deep learning or neural network architectures have been used to solve a multitude of problems in various different fields like vision, natural language processing. So let's take a 'deep' dive into it.\n",
        "\n",
        "\n",
        "\n",
        "\n"
      ]
    },
    {
      "cell_type": "markdown",
      "metadata": {
        "id": "lhSzWDvPp030"
      },
      "source": [
        "## Why deep learning?\n",
        "\n",
        "\n",
        "*   It's coooool\n",
        "*   Everyone is talking about is these days, people like Siraj Raval can teach it in 5 mins (Check out his [YouTube channel](https://www.youtube.com/channel/UCWN3xxRkmTPmbKwht9FuE5A) for some comedy)\n",
        "*    Deep learning unlocks the treasure trove of unstructured big data for those with the imagination to use it\n",
        "*   Deep learning models have great representational power and are 'universal approximators'\n",
        "\n",
        "\n",
        "### Deep Learning Applications:\n",
        "\n",
        "\n",
        "Deep learning has significantly improved voice command systems (such as Siri and Alexa), as well as healthcare and image identification.\n",
        "\n",
        "Deep learning has applications across numerous industries, which is why experts think that this technology is the future of almost everything. There are truly deep learning technologies such as Google’s very human-like talking AI, a new theory that cracks the 'black box' of deep learning, and various budding ideas like this one about why human forgetting might be the key to AI. Here are some cool applications of deep learning -\n",
        "\n",
        "Here's a neural network detecting anomalies in Chest Xrays :\n",
        "\n",
        "\n",
        "\n",
        "\n",
        "<!-- ![alt text](https://imgur.com/HKPzrzP.jpg) -->\n",
        "\n",
        "Most humans can't tell that this is a case of Pleural Effusion {sounds like medical jargon to engineers like us} but this Neural Network model can detect it very well!\n",
        "\n",
        "Mask RCNNs in action for detecting objects on the road aiding a self driving vehicle's driving:\n",
        "\n",
        "Pretty cool, right? We will be applying CNNs to solve a cool image classification problem.\n"
      ]
    },
    {
      "cell_type": "markdown",
      "metadata": {
        "id": "ywLp-5aPgkjm"
      },
      "source": [
        "# Libraries and Setup Jargon (Total: 1 point)\n",
        "Run the following cells to set up the notebook.\n"
      ]
    },
    {
      "cell_type": "markdown",
      "metadata": {
        "id": "nNx7mL19gsHV"
      },
      "source": [
        "Please make sure you enter your **8 digit Penn ID** in the  student ID field below."
      ]
    },
    {
      "cell_type": "code",
      "execution_count": null,
      "metadata": {
        "id": "OtjibtD4lvxZ"
      },
      "outputs": [],
      "source": [
        "%%capture\n",
        "!pip install penngrader-client\n",
        "from penngrader.grader import *\n",
        "\n",
        "#PLEASE ENSURE YOUR PENN-ID IS ENTERED CORRECTLY. IF NOT, THE AUTOGRADER WON'T KNOW WHO\n",
        "#TO ASSIGN POINTS TO YOU IN OUR BACKEND\n",
        "\n",
        "STUDENT_ID = 21647464       # YOUR PENN-ID GOES HERE AS AN INTEGER"
      ]
    },
    {
      "cell_type": "code",
      "execution_count": null,
      "metadata": {
        "colab": {
          "base_uri": "https://localhost:8080/"
        },
        "id": "LsfyTveqgxss",
        "outputId": "c79e6c3e-c230-4d81-a2e4-efc88b5c46fb"
      },
      "outputs": [
        {
          "output_type": "stream",
          "name": "stdout",
          "text": [
            "Writing config.yaml\n"
          ]
        }
      ],
      "source": [
        "%%writefile config.yaml\n",
        "grader_api_url: 'https://23whrwph9h.execute-api.us-east-1.amazonaws.com/default/Grader23'\n",
        "grader_api_key: 'flfkE736fA6Z8GxMDJe2q8Kfk8UDqjsG3GVqOFOa'"
      ]
    },
    {
      "cell_type": "code",
      "execution_count": null,
      "metadata": {
        "id": "YQaH_xAag0BG",
        "colab": {
          "base_uri": "https://localhost:8080/"
        },
        "outputId": "3c3cfe7e-f1c9-4bfb-a62f-0253c531eb87"
      },
      "outputs": [
        {
          "output_type": "stream",
          "name": "stdout",
          "text": [
            "PennGrader initialized with Student ID: 21647464\n",
            "\n",
            "Make sure this correct or we will not be able to store your grade\n"
          ]
        }
      ],
      "source": [
        "grader = PennGrader('config.yaml', 'CIS5450_F23_HW5', STUDENT_ID, STUDENT_ID)"
      ]
    },
    {
      "cell_type": "markdown",
      "metadata": {
        "id": "RY5BOTyRg4Qf"
      },
      "source": [
        "## Import the required Libraries"
      ]
    },
    {
      "cell_type": "code",
      "execution_count": null,
      "metadata": {
        "id": "6diQ4Pfug3uw"
      },
      "outputs": [],
      "source": [
        "import pandas as pd\n",
        "import numpy as np\n",
        "import matplotlib.pyplot as plt\n",
        "import seaborn as sns\n",
        "from matplotlib import cm\n",
        "from sklearn.model_selection import train_test_split\n",
        "import torch\n",
        "import torchvision\n",
        "from torchvision import transforms, utils\n",
        "import torch.nn as nn\n",
        "import torch.optim as optim\n",
        "import torchvision.transforms as transforms\n",
        "from collections import Counter\n",
        "from PIL import Image\n",
        "from skimage import io, transform\n",
        "import os\n",
        "from torchvision.io import read_image\n",
        "from torch.utils.data import Dataset, DataLoader\n",
        "from collections import Counter\n",
        "from google.colab import drive\n",
        "from prophet import Prophet\n",
        "from statsmodels.tsa.arima.model import ARIMA"
      ]
    },
    {
      "cell_type": "markdown",
      "metadata": {
        "id": "xq7rZTSc0xoq"
      },
      "source": [
        "## Set up GPU capabilities (1 point)\n",
        "\n",
        "The cell below sets up a CUDA device to use with torch, if available to you.\n",
        "\n",
        "**Remeber to turn on the GPU for runtime in Colab**\n",
        "*   Go to Runtime -> Change runtime type --> GPU\n"
      ]
    },
    {
      "cell_type": "markdown",
      "metadata": {
        "id": "jUvWZZQE0xo8"
      },
      "source": [
        "Note that you can create a PyTorch tensor `T` that resides on the GPU using the command `T = torch.Tensor(..., device=cuda)`.\n",
        "You can also copy existing tensors to the GPU with the command `T = T.to(device)` (make sure to overwrite `T` with the result of this function call). If you do not have a GPU, these commands will still work.\n",
        "\n",
        "**NOTE**: The grader cell below is to check that you are using the GPU, since it is beneficial in later sections that require parallel computation on arrays (i.e., Section 2)."
      ]
    },
    {
      "cell_type": "code",
      "execution_count": null,
      "metadata": {
        "id": "9Gvv3LVN0xo-",
        "colab": {
          "base_uri": "https://localhost:8080/"
        },
        "outputId": "511b3e9d-e9bb-4e86-912a-715f624417cd"
      },
      "outputs": [
        {
          "output_type": "stream",
          "name": "stdout",
          "text": [
            "2.1.0+cu118\n",
            "cuda:0\n"
          ]
        }
      ],
      "source": [
        "# DO NOT MODIFY\n",
        "torch.manual_seed(42) # For grading consistency\n",
        "device = torch.device(\"cuda:0\" if torch.cuda.is_available() else \"cpu\")\n",
        "print(torch.__version__)\n",
        "print(device)"
      ]
    },
    {
      "cell_type": "code",
      "execution_count": null,
      "metadata": {
        "id": "ZO8Hr0MIw_KK",
        "colab": {
          "base_uri": "https://localhost:8080/"
        },
        "outputId": "a06d3468-9057-4fc4-9d8d-ec9ca315287f"
      },
      "outputs": [
        {
          "output_type": "execute_result",
          "data": {
            "text/plain": [
              "device(type='cuda', index=0)"
            ]
          },
          "metadata": {},
          "execution_count": 6
        }
      ],
      "source": [
        "device"
      ]
    },
    {
      "cell_type": "code",
      "execution_count": null,
      "metadata": {
        "id": "scjhlNsVadIi",
        "colab": {
          "base_uri": "https://localhost:8080/"
        },
        "outputId": "8079e94b-ddc8-438f-f60c-d81e7c9680be"
      },
      "outputs": [
        {
          "output_type": "stream",
          "name": "stdout",
          "text": [
            "Correct! You earned 1/1 points. You are a star!\n",
            "\n",
            "Your submission has been successfully recorded in the gradebook.\n"
          ]
        }
      ],
      "source": [
        "# Grader Cell (1 points)\n",
        "grader.grade(test_case_id = 'device', answer = str(device))"
      ]
    },
    {
      "cell_type": "markdown",
      "metadata": {
        "id": "pUAu-nqZABre"
      },
      "source": [
        "# **Part 1:** Data Preprocessing and Preparation for Modeling in `PyTorch` (Total: 14 points)\n",
        "\n",
        "In this homework we will tackle the problem of classifying images.\n",
        "\n",
        "Specifically, we would be looking at a somewhat famous dataset from Stanford.\n",
        "\n",
        "Dataset Citation:\n",
        "\n",
        "Yuval Netzer, Tao Wang, Adam Coates, Alessandro Bissacco, Bo Wu, Andrew Y. Ng Reading Digits in Natural Images with Unsupervised Feature Learning NIPS Workshop on Deep Learning and Unsupervised Feature Learning 2011."
      ]
    },
    {
      "cell_type": "markdown",
      "source": [],
      "metadata": {
        "id": "CWDDjhDZZS_Z"
      }
    },
    {
      "cell_type": "markdown",
      "metadata": {
        "id": "ui_5UjEFABr9"
      },
      "source": [
        "The dataset is called Street View House Numbers (or SVHN). The dataset consists of images of **house numbers**, taken from Google Street View. There are 10 classes, one for each digit (0-9).\n",
        "\n",
        "\n",
        "For more information about the dataset, please look [here](http://ufldl.stanford.edu/housenumbers/)\n",
        "\n",
        "There are 73,257 sample digits for training, 26,032 samples for testing, and 531131 extra samples because, well, why not I guess.\n",
        "\n",
        "In a future section (**after section 1.1.1**) we will downsample and train the model with 30,000 training samples and 5,000 testing samples. This is for two reasons: first, to avoid having long training time and potentially running out of GPU, and the second reason you will see after section 1.2.2\n",
        "\n",
        "\n",
        "We would be using this dataset to train 3 different models:\n",
        "\n",
        "1.   Logistic Regression\n",
        "2.   Feedforward (Fully-Connected) Neural Network (FNN)\n",
        "3.   Convolutional Neural Network (CNN)\n",
        "\n",
        "And analyze the difference between these models by looking at the test accuracy and loss."
      ]
    },
    {
      "cell_type": "markdown",
      "metadata": {
        "id": "r7fjLVpgABr9"
      },
      "source": [
        "## 1.1 Pytorch Dataset (Total: 4 points)\n",
        "\n",
        "To keep data loading consistent across different models, PyTorch provides two data primitives: `torch.utils.data.DataLoader` and `torch.utils.data.Dataset` that allow you to use pre-loaded datasets as well as your own data.\n",
        "\n",
        "`Dataset` stores the samples and their corresponding labels. And `DataLoader` wraps an iterable around the Dataset to enable easy access to the samples. More information and examples of the objects in action can be found **[here](https://pytorch.org/tutorials/beginner/basics/data_tutorial.html)**\n",
        "\n",
        "While Pytorch provides `Dataset` and `Dataloader` for some popular datasets (i.e., one can instantiate the objects and the data is ready to be analyzed in PyTorch Machine Learning pipeline), sometimes we need to define our own custom `Dataset` to process our dataset. The list of available built-in datasets PyTorch gave us can be found **[here](https://pytorch.org/vision/stable/datasets.html)**\n",
        "\n",
        "\n",
        "Diagram Reference: [Link](https://www.kaggle.com/code/uvxy1234/cifar-10-implementation-with-pytorch)"
      ]
    },
    {
      "cell_type": "markdown",
      "metadata": {
        "id": "2KPOeS2MABr-"
      },
      "source": [
        "Dataset class is defined with 3 components:\n",
        "\n",
        "1.   __init__ : setting up the parameters being used in the class (e.g., `transforms` which corresponds to the transformation being applied)\n",
        "2.   __len__ : so that len(dataset) returns the size of the dataset.\n",
        "3.   __getitem__ to support the indexing such that `dataset[i]` can be used to get `i`ith sample (in our case Image, label pair).\n",
        "\n",
        "To create a custom Dataset object, you would need overide above functions.\n",
        "\n",
        "Documentation for creating custom dataset can be found [here](https://pytorch.org/tutorials/beginner/data_loading_tutorial.html).\n",
        "\n",
        "Luckily, as MNIST is a classic image dataset, we do not need to worry about creating custom `Dataset` and `DataLoader` objects since they are all built into the PyTorch when you import that above.\n",
        "\n",
        "Complete the missing code in the two sections below.\n",
        "\n",
        "*   **1.1.1 Instantiate Train and Test Dataset.** $\\to$ Load and transform data such that it is ready to be passed into the model. Ensure the training dataset is of size 73257 and the testing dataset is of size 26032 for this step\n"
      ]
    },
    {
      "cell_type": "markdown",
      "metadata": {
        "id": "_KaEH3IfABr-"
      },
      "source": [
        "### 1.1.1 Instantiate Dataset (for train/test dataset) (4 points)\n",
        "\n",
        "One optional function in Dataset class is `transform`, where we can apply a transformation to the dataset before we load them as a dataloader.\n",
        "\n",
        "For example if we define a `Resize` function in transform, all of our dataset(images) would be resized to specified size passed in as an argument.\n",
        "\n",
        "---\n",
        "**TODO**: complete the code to apply following transformations (in order!!) by using `transforms.Compose` and save it to the variable `transform`:\n",
        "\n",
        "1.   Resize the image to 32 by 32 $\\to$ just to make sure they are really have size $32$x$32$\n",
        "2.   Convert the images to Tensor\n",
        "3.   Normalize the Tensor using, the means `[0.485, 0.456, 0.406]` and standard deviations `[0.229, 0.224, 0.225]`. We do this because these are color images, and so there are **three** color channels for which we need to normalize (r, g, b).\n",
        "---\n",
        "**Reccomandations**:\n",
        "\n",
        "1. We highly recommend looking at [PyTorch documentation](https://pytorch.org/vision/stable/transforms.html) and some [illustrations](https://pytorch.org/vision/stable/auto_examples/plot_transforms.html#sphx-glr-auto-examples-plot-transforms-py) before proceeding with the code\n",
        "\n",
        "2. Please review the the recitation notebook for detailed instructions on how to perform these operations.\n",
        "\n",
        "3. You might be asking, why we are using these two lists `[0.485, 0.456, 0.406]` and `[0.229, 0.224, 0.225]` to normalize the tensor? These two lists are the mean and the standard deviation of each dimension in the [ImageNet](https://www.image-net.org/index.php) dataset respectively. ImageNet has a total of 14,197,122 Images, so it makes sense to use these values for the respective RGB channels, especially since we are working with color images."
      ]
    },
    {
      "cell_type": "code",
      "execution_count": null,
      "metadata": {
        "id": "d4Cy6KgnABr-"
      },
      "outputs": [],
      "source": [
        "scale = 32\n",
        "\n",
        "# TODO\n",
        "transform = transforms.Compose([\n",
        "    transforms.Resize((scale, scale)),\n",
        "    transforms.ToTensor(),\n",
        "    transforms.Normalize([0.485, 0.456, 0.406], [0.229, 0.224, 0.225])\n",
        "])\n",
        "# END TODO"
      ]
    },
    {
      "cell_type": "markdown",
      "metadata": {
        "id": "bbF48VwuABr-"
      },
      "source": [
        "Now that we have defined the tranforms we are going to apply to the dataset, let's instantiate `Dataset` objects for both the training and testing sets using predefined PyTorch Dataset.\n",
        "\n",
        "Please refer to the documentation for SVHN, seen [here](https://pytorch.org/vision/stable/generated/torchvision.datasets.SVHN.html), and you will likely save yourself a lot of time by paying close attention to the parameters.\n",
        "\n",
        "---\n",
        "**TODO**:\n",
        "* Initiate the `Dataset` object for the training set as `train_dataset`\n",
        "\n",
        "* Initiate the `Dataset` object for the testing set as `test_dataset`\n",
        "---\n",
        "**Note**: When initiating the `Dataset` object for both training and testing sets, in addition to other arguments please set these arguments as follows:\n",
        "* `root = './data'`\n",
        "* `download = True`"
      ]
    },
    {
      "cell_type": "code",
      "execution_count": null,
      "metadata": {
        "id": "u3NY-T9uABr-",
        "colab": {
          "base_uri": "https://localhost:8080/"
        },
        "outputId": "22129b3c-f1cd-4e3f-af22-767352886cf5"
      },
      "outputs": [
        {
          "output_type": "stream",
          "name": "stdout",
          "text": [
            "Downloading http://ufldl.stanford.edu/housenumbers/train_32x32.mat to ./data/train_32x32.mat\n"
          ]
        },
        {
          "output_type": "stream",
          "name": "stderr",
          "text": [
            "100%|██████████| 182040794/182040794 [00:25<00:00, 7212134.72it/s] \n"
          ]
        },
        {
          "output_type": "stream",
          "name": "stdout",
          "text": [
            "Downloading http://ufldl.stanford.edu/housenumbers/test_32x32.mat to ./data/test_32x32.mat\n"
          ]
        },
        {
          "output_type": "stream",
          "name": "stderr",
          "text": [
            "100%|██████████| 64275384/64275384 [00:06<00:00, 9456086.79it/s] \n"
          ]
        }
      ],
      "source": [
        "# TODO\n",
        "from torchvision import datasets\n",
        "root = './data'\n",
        "download = True\n",
        "\n",
        "train_dataset = datasets.SVHN(root=root, split='train', download=download, transform=transform)\n",
        "test_dataset = datasets.SVHN(root=root, split='test', download=download, transform=transform)\n",
        "# TODO END"
      ]
    },
    {
      "cell_type": "code",
      "source": [
        "# Check the sizes of the training and test dataset and verify\n",
        "# they match the description at the beginning\n",
        "print(len(train_dataset))\n",
        "print(len(test_dataset))"
      ],
      "metadata": {
        "id": "M652RMyNZTAS",
        "colab": {
          "base_uri": "https://localhost:8080/"
        },
        "outputId": "35cca864-32a6-43a2-8a85-eedd5c46b380"
      },
      "execution_count": null,
      "outputs": [
        {
          "output_type": "stream",
          "name": "stdout",
          "text": [
            "73257\n",
            "26032\n"
          ]
        }
      ]
    },
    {
      "cell_type": "code",
      "execution_count": null,
      "metadata": {
        "id": "rWkvlsqDABr_",
        "colab": {
          "base_uri": "https://localhost:8080/"
        },
        "outputId": "5e80de74-041f-4c3b-cd42-001ccde597c0"
      },
      "outputs": [
        {
          "output_type": "stream",
          "name": "stdout",
          "text": [
            "Correct! You earned 4/4 points. You are a star!\n",
            "\n",
            "Your submission has been successfully recorded in the gradebook.\n"
          ]
        }
      ],
      "source": [
        "# Grader Cell (4 points)\n",
        "# DO NOT EDIT ANYTHING\n",
        "transforms_train = []\n",
        "for i in range(len(train_dataset.transform.transforms)):\n",
        "  transforms_train.append(str(train_dataset.transform.transforms[i]))\n",
        "transforms_test = []\n",
        "for i in range(len(test_dataset.transform.transforms)):\n",
        "  transforms_test.append(str(test_dataset.transform.transforms[i]))\n",
        "grader.grade(test_case_id = 'instantiate_dataset', answer = (transforms_train, transforms_test, len(train_dataset), len(test_dataset)))"
      ]
    },
    {
      "cell_type": "markdown",
      "metadata": {
        "id": "dM8Jtk0uABr_"
      },
      "source": [
        "**Hint:** For the above grader cell, part of the criterias we are checking is if the **transform** object is set up correctly."
      ]
    },
    {
      "cell_type": "markdown",
      "metadata": {
        "id": "asp-2shYABr_"
      },
      "source": [
        "## 1.2 Summarizing our Dataset (Total: 10 points)\n",
        "\n",
        "Getting a good sense of the dataset we are going to work on is always the first step you should take when implementing ML applications.\n",
        "\n",
        "In this section, we will be looking at the distribution of the dataset (e.g., how many instances belong to class with label `0`) and visualize what we are dealing with (i.e., plot out the sample images)"
      ]
    },
    {
      "cell_type": "markdown",
      "metadata": {
        "id": "Gth42e1eABr_"
      },
      "source": [
        "### 1.2.1 Looking at the distribution of labels (3 points)\n",
        "\n",
        "We can look at the distribution of labels by retrieving the labels of all possible instances of the subset of data pulled from `train_dataset` and `test_dataset` (i.e., `train_subset` and `test_subset`) for the training and testing data, respectively. We defined this in section `1.1.1`.\n",
        "\n",
        "---\n",
        "**TODO**\n",
        "* Train\n",
        "  * Get the number of unique labels in training dataset and save this quantity as the variable `train_num_labels`.\n",
        "  * Create a `DataLoader` called `train_loader_bar_plot` which takes as arguments the `train_dataset`, with the following parameters:\n",
        "    * `batch_size` = length of the `train_dataset`\n",
        "    * `shuffle = True`\n",
        "    * `num_workers = 0`\n",
        "  * Create a dictionary `train_dataset_dict` that contains the labels as keys and the number of images inside the label as values.\n",
        "* Test\n",
        "  * Get the number of unique labels in testing dataset and save this quantity as the variable `test_num_labels`.\n",
        "  * Create a `DataLoader` called `test_loader_bar_plot` which takes as arguments the `test_dataset`,  with the following parameters:\n",
        "    * `batch_size` = length of the `test_dataset`\n",
        "    * `shuffle = True`\n",
        "    * `num_workers = 0`\n",
        "  * Create a dictionary `test_dataset_dict` that contains the labels as keys and the number of images inside the label as values.\n",
        "---\n",
        "Please refer to **[this](https://pytorch.org/docs/stable/data.html#torch.utils.data.DataLoader)** for instantiating the `DataLoader`, which is similar to what we did in section `1.1.2`"
      ]
    },
    {
      "cell_type": "code",
      "execution_count": null,
      "metadata": {
        "id": "ldIRXCQmABr_",
        "colab": {
          "base_uri": "https://localhost:8080/"
        },
        "outputId": "f79f554d-3fdc-4079-f45b-9c0c06302bd3"
      },
      "outputs": [
        {
          "output_type": "stream",
          "name": "stdout",
          "text": [
            "{0: 4948, 1: 13861, 2: 10585, 3: 8497, 4: 7458, 5: 6882, 6: 5727, 7: 5595, 8: 5045, 9: 4659}\n"
          ]
        }
      ],
      "source": [
        "# TODO - TRAIN Data\n",
        "from torch.utils.data import DataLoader\n",
        "\n",
        "# Use the original train dataset to obtain the number of label classes train data\n",
        "train_num_labels = len(set(train_dataset.labels.tolist()))\n",
        "\n",
        "# Create dictionary for train dataset\n",
        "train_dataset_dict = {label: 0 for label in set(train_dataset.labels.tolist())}\n",
        "\n",
        "# Create training data dataloader\n",
        "train_loader_bar_plot = DataLoader(train_dataset, batch_size=len(train_dataset), shuffle=True, num_workers=0)\n",
        "\n",
        "for _, labels in train_loader_bar_plot:\n",
        "    for label in labels.tolist():\n",
        "        train_dataset_dict[label] += 1\n",
        "\n",
        "# END TODO\n",
        "\n",
        "print(train_dataset_dict)"
      ]
    },
    {
      "cell_type": "code",
      "execution_count": null,
      "metadata": {
        "id": "xuQyh4kFABsA",
        "colab": {
          "base_uri": "https://localhost:8080/"
        },
        "outputId": "30fc1f7c-2703-48a7-bddc-e0c4f2fd269e"
      },
      "outputs": [
        {
          "output_type": "stream",
          "name": "stdout",
          "text": [
            "{0: 1744, 1: 5099, 2: 4149, 3: 2882, 4: 2523, 5: 2384, 6: 1977, 7: 2019, 8: 1660, 9: 1595}\n"
          ]
        }
      ],
      "source": [
        "# TODO - TEST Data\n",
        "\n",
        "# Use the original test dataset to obtain the number of label classes in test data\n",
        "test_num_labels = len(set(test_dataset.labels.tolist()))\n",
        "\n",
        "# Create dictionary for test dataset\n",
        "test_dataset_dict = {label: 0 for label in set(test_dataset.labels.tolist())}\n",
        "\n",
        "# Create testing data dataloader\n",
        "test_loader_bar_plot = DataLoader(test_dataset, batch_size=len(test_dataset), shuffle=True, num_workers=0)\n",
        "\n",
        "for _, labels in test_loader_bar_plot:\n",
        "    for label in labels.tolist():\n",
        "        test_dataset_dict[label] += 1\n",
        "\n",
        "# END TODO\n",
        "\n",
        "print(test_dataset_dict)"
      ]
    },
    {
      "cell_type": "code",
      "execution_count": null,
      "metadata": {
        "id": "BLgq_-bVABsA",
        "colab": {
          "base_uri": "https://localhost:8080/"
        },
        "outputId": "6a44484b-9682-4e0a-9927-a10530724f9f"
      },
      "outputs": [
        {
          "output_type": "stream",
          "name": "stdout",
          "text": [
            "Correct! You earned 3/3 points. You are a star!\n",
            "\n",
            "Your submission has been successfully recorded in the gradebook.\n"
          ]
        }
      ],
      "source": [
        "#Grader Cell (3 points)\n",
        "grader.grade(test_case_id = 'dataset_dict', answer = (train_num_labels, train_dataset_dict, test_num_labels, test_dataset_dict))"
      ]
    },
    {
      "cell_type": "markdown",
      "metadata": {
        "id": "5R_yIBZIABsA"
      },
      "source": [
        "### 1.2.2 Visualize through bar charts (2 points - Manual Grading)\n",
        "\n",
        "Now we are going to visualize the distribution of labels using bar charts for both training and testing set which we store the distributions in their respective dictionary objects in section 1.2.1.\n",
        "\n",
        "---\n",
        "**TODO: You can use either `matplotlib` or `seaborn` for this section**\n",
        "* Create a barplot for the distributions of training labels using `train_dataset_dict` with x-axis label as `Labels` and y-axis label as `Frequency`, and title as \"Training set labels and corresponding frequencies\"\n",
        "* Create a barplot for the distributions of testing labels using `test_dataset_dict` with x-axis label as `Labels` and y-axis label as `Frequency`, and title as \"Testing set labels and corresponding frequencies\"\n",
        "* Add corresponding `labels` to the barplots (i.e., if label 1 has the count of 1200, \"1200\" should appear above the bar corresponding to label 1)\n",
        "-  To avoid \"File Too Large\" for submission, please set figure size to (8,6).\n",
        "---\n",
        "**NOTE**:\n",
        "\n",
        "* y-axis $\\to$ Number of data points\n",
        "* x-axis $\\to$ The integer value of the labels in the MNIST dataset"
      ]
    },
    {
      "cell_type": "code",
      "execution_count": null,
      "metadata": {
        "id": "tv0t3IA6ABsA",
        "colab": {
          "base_uri": "https://localhost:8080/",
          "height": 564
        },
        "outputId": "79d3b938-d53e-4e25-b974-e150e4f0fd08"
      },
      "outputs": [
        {
          "output_type": "display_data",
          "data": {
            "text/plain": [
              "<Figure size 800x600 with 1 Axes>"
            ],
            "image/png": "[encoded data removed]"
          },
          "metadata": {}
        }
      ],
      "source": [
        "# TODO: Create a barplot showing the distribution of the dataset\n",
        "# TRAIN Data\n",
        "\n",
        "plt.figure(figsize=(8, 6))\n",
        "\n",
        "train_plot = sns.barplot(x=list(train_dataset_dict.keys()), y=list(train_dataset_dict.values()))\n",
        "for i, val in enumerate(train_dataset_dict.values()):\n",
        "    train_plot.text(i, val, str(val), ha='center', va='bottom')\n",
        "\n",
        "plt.xlabel('Labels')\n",
        "plt.ylabel('Frequency')\n",
        "plt.title('Training set labels and corresponding frequencies')\n",
        "plt.show()"
      ]
    },
    {
      "cell_type": "code",
      "execution_count": null,
      "metadata": {
        "id": "Iy3II4AnABsB",
        "colab": {
          "base_uri": "https://localhost:8080/",
          "height": 564
        },
        "outputId": "7c2ddb4f-d768-4bec-efe6-b45430c87ef1"
      },
      "outputs": [
        {
          "output_type": "display_data",
          "data": {
            "text/plain": [
              "<Figure size 800x600 with 1 Axes>"
            ],
            "image/png": "[encoded data removed]"
          },
          "metadata": {}
        }
      ],
      "source": [
        "# TODO: Create a barplot showing the distribution of the dataset\n",
        "# TEST Data\n",
        "plt.figure(figsize=(8, 6))\n",
        "\n",
        "test_plot = sns.barplot(x=list(test_dataset_dict.keys()), y=list(test_dataset_dict.values()))\n",
        "for i, val in enumerate(test_dataset_dict.values()):\n",
        "    test_plot.text(i, val, str(val), ha='center', va='bottom')\n",
        "\n",
        "plt.xlabel('Labels')\n",
        "plt.ylabel('Frequency')\n",
        "plt.title('Testing set labels and corresponding frequencies')\n",
        "plt.show()"
      ]
    },
    {
      "cell_type": "markdown",
      "metadata": {
        "id": "Ea7fpC8CZTAW"
      },
      "source": [
        "### 1.2.3 Have equal spread of labels (5 points)\n",
        "\n",
        "As you have seen in the previous parts, some classes have much lower representation in the dataset than others; this might cause issues as our dataset is currently skewed, meaning that the classes do not all have an equally likely chance of being selected randomly. We will change that in this section.\n",
        "\n",
        "Recall that for our models we want **30,000** training images in our training data and **5,000** testing images in our testing data. In each dataset we want all our classes to have the same number of images.\n",
        "\n",
        "These are the TODOs for this question:\n",
        "* Downsample training by getting 30,000 images of the training data, with an equal representation for each class. Specify this dataframe as `train_subset`\n",
        "* Downsample testing by getting 5,000 images of the training data, with an equal representation for each class. Specify this dataframe as `test_subset`\n",
        "\n",
        "**Hints**:\n",
        "* Check out [`torch.utils.data.Subset`](https://pytorch.org/docs/stable/data.html#torch.utils.data.Subset) for downsampling the dataset.\n",
        "* When thinking about your function for getting the indices of a certain class (digit), think about how you were able to obtain that information in part 1.2.2\n",
        "\n"
      ]
    },
    {
      "cell_type": "code",
      "execution_count": null,
      "metadata": {
        "id": "lrxFMF4SZTAW"
      },
      "outputs": [],
      "source": [
        "torch.manual_seed(42)\n",
        "\n",
        "images_per_class_train = 30000 // len(set(train_dataset.labels.tolist()))\n",
        "# TODO: get 30000 indices for training data, with\n",
        "# an equal number of images for each class\n",
        "train_indices = []\n",
        "\n",
        "# for label in set(train_dataset.labels.tolist()):\n",
        "#     indices = [i for i, lbl in enumerate(train_dataset.labels.tolist()) if lbl == label]\n",
        "#     train_indices.extend(indices[:images_per_class_train])\n",
        "\n",
        "\n",
        "# Optional: you can use train_count_dict to keep track of the\n",
        "# counts (value) for each class (key). You are not required to use\n",
        "# this if you think of an alternate method\n",
        "train_count_dict = {label: 0 for label in set(train_dataset.labels.tolist())}\n",
        "\n",
        "for i, label in enumerate(train_dataset.labels.tolist()):\n",
        "    if train_count_dict[label] < images_per_class_train:\n",
        "        train_indices.append(i)\n",
        "        train_count_dict[label] += 1\n",
        "\n",
        "# Optional: one strategy might be iterating through each image\n",
        "# and stopping the loop when you have the right amount of images\n",
        "# for each class, storing the indices in train_indices.  You are\n",
        "# not required to implement this idea.\n",
        "\n",
        "\n",
        "\n",
        "# End TODO"
      ]
    },
    {
      "cell_type": "code",
      "source": [
        "torch.manual_seed(42)\n",
        "\n",
        "# TODO: get 5000 indices for testing data, with\n",
        "# an equal number of images for each class\n",
        "images_per_class_test = 5000 // len(set(test_dataset.labels.tolist()))\n",
        "test_indices = []\n",
        "\n",
        "\n",
        "# Optional: you can use test_count_dict to keep track of the\n",
        "# counts (value) for each class (key). You are not required to use\n",
        "# this if you think of an alternate method\n",
        "test_count_dict = {label: 0 for label in set(test_dataset.labels.tolist())}\n",
        "\n",
        "for i, label in enumerate(test_dataset.labels.tolist()):\n",
        "    if test_count_dict[label] < images_per_class_test:\n",
        "        test_indices.append(i)\n",
        "        test_count_dict[label] += 1\n",
        "\n",
        "# Optional: one strategy might be iterating through each image\n",
        "# and stopping the loop when you have the right amount of images\n",
        "# for each class, storing the indices in test_indices.  You are\n",
        "# not required to implement this idea.\n",
        "\n",
        "\n",
        "# End TODO"
      ],
      "metadata": {
        "id": "Iqn-F8L_BBqs"
      },
      "execution_count": null,
      "outputs": []
    },
    {
      "cell_type": "code",
      "source": [
        "# TODO: create subsets of the training and testing data\n",
        "from torch.utils.data import Subset\n",
        "\n",
        "train_subset = Subset(train_dataset, train_indices)\n",
        "test_subset = Subset(test_dataset, test_indices)\n",
        "\n",
        "# End TODO"
      ],
      "metadata": {
        "id": "5kxD9B2JZTAW"
      },
      "execution_count": null,
      "outputs": []
    },
    {
      "cell_type": "markdown",
      "source": [
        "Create `train_subset_dict` and `test_subset_dict` using a similar process from 1.2.1"
      ],
      "metadata": {
        "id": "8Va1WivSWwlZ"
      }
    },
    {
      "cell_type": "code",
      "source": [
        "test_loader_bar_plot = DataLoader(test_subset, batch_size=len(test_subset), shuffle=True, num_workers=0)\n",
        "train_loader_bar_plot = DataLoader(train_subset, batch_size=len(train_subset), shuffle=True, num_workers=0)\n",
        "\n",
        "train_subset_dict = dict()\n",
        "for data, labels in train_loader_bar_plot:\n",
        "    for label in set(labels.tolist()):\n",
        "        count = labels.tolist().count(label)\n",
        "        train_subset_dict[label] = count\n",
        "\n",
        "test_subset_dict = dict()\n",
        "for data, labels in test_loader_bar_plot:\n",
        "    for label in set(labels.tolist()):\n",
        "        count = labels.tolist().count(label)\n",
        "        test_subset_dict[label] = count\n",
        "\n",
        "# TODO: verify the number of images are equal for every class\n",
        "train_equal_counts = all(count == 3000 for count in train_subset_dict.values())\n",
        "test_equal_counts = all(count == 500 for count in test_subset_dict.values())\n",
        "\n",
        "print(train_equal_counts, test_equal_counts)\n",
        "\n",
        "# END TODO"
      ],
      "metadata": {
        "id": "fvs3wVcnZTAX",
        "colab": {
          "base_uri": "https://localhost:8080/"
        },
        "outputId": "b5eff36c-4eaf-4725-d676-4962d7bbfd96"
      },
      "execution_count": null,
      "outputs": [
        {
          "output_type": "stream",
          "name": "stdout",
          "text": [
            "True True\n"
          ]
        }
      ]
    },
    {
      "cell_type": "code",
      "source": [
        "# Optional: Create barplots to verify your downsampled dataframes here\n",
        "import matplotlib.pyplot as plt\n",
        "import seaborn as sns\n",
        "\n",
        "plt.figure(figsize=(8, 6))\n",
        "\n",
        "sns.barplot(x=list(train_subset_dict.keys()), y=list(train_subset_dict.values()))\n",
        "plt.xlabel('Labels')\n",
        "plt.ylabel('Frequency')\n",
        "plt.title('Downsampled Training Subset: Labels and Frequencies')\n",
        "plt.show()\n",
        "\n",
        "plt.figure(figsize=(8, 6))\n",
        "\n",
        "sns.barplot(x=list(test_subset_dict.keys()), y=list(test_subset_dict.values()))\n",
        "plt.xlabel('Labels')\n",
        "plt.ylabel('Frequency')\n",
        "plt.title('Downsampled Testing Subset: Labels and Frequencies')\n",
        "plt.show()\n"
      ],
      "metadata": {
        "id": "Fz-2i2u5ZTAX",
        "colab": {
          "base_uri": "https://localhost:8080/",
          "height": 1000
        },
        "outputId": "d7aa9de1-022a-4c8b-d11e-1684049b1119"
      },
      "execution_count": null,
      "outputs": [
        {
          "output_type": "display_data",
          "data": {
            "text/plain": [
              "<Figure size 800x600 with 1 Axes>"
            ],
            "image/png": "[encoded data removed]"
          },
          "metadata": {}
        },
        {
          "output_type": "display_data",
          "data": {
            "text/plain": [
              "<Figure size 800x600 with 1 Axes>"
            ],
            "image/png": "[encoded data removed]"
          },
          "metadata": {}
        }
      ]
    },
    {
      "cell_type": "code",
      "source": [
        "#Grader Cell (3 points)\n",
        "grader.grade(test_case_id = 'subset', answer = (train_subset_dict, test_subset_dict))"
      ],
      "metadata": {
        "id": "WeOy70k86DAK",
        "colab": {
          "base_uri": "https://localhost:8080/"
        },
        "outputId": "242fcc2e-6c83-4a58-eb41-fd8445872df5"
      },
      "execution_count": null,
      "outputs": [
        {
          "output_type": "stream",
          "name": "stdout",
          "text": [
            "Correct! You earned 3/3 points. You are a star!\n",
            "\n",
            "Your submission has been successfully recorded in the gradebook.\n"
          ]
        }
      ]
    },
    {
      "cell_type": "markdown",
      "metadata": {
        "id": "k1-CdaxjABsC"
      },
      "source": [
        "Now that we have `train_subset` and `test_subset`, let's create dataloaders using these two datasets.\n",
        "\n",
        "You can load the dataset into dataloaders using the `DataLoaders` object. Please refer to the documentation [here](https://pytorch.org/docs/stable/data.html#torch.utils.data.DataLoader).\n",
        "\n",
        "---\n",
        "**TODO**:\n",
        "* Initialize the `DataLoader` object for `train_subset` as `train_loader`\n",
        "* Initialize the `DataLoader` object for `test_subset` as `test_loader`\n",
        "---\n",
        "\n",
        "**NOTE**: set the `batch_size` equal to the previously-defined variable `batch`, set `shuffle` to `True`, and `num_workers` as 0.\n"
      ]
    },
    {
      "cell_type": "code",
      "execution_count": null,
      "metadata": {
        "id": "w7jfaN8rABsC"
      },
      "outputs": [],
      "source": [
        "batch = 64\n",
        "\n",
        "# TODO\n",
        "train_loader = DataLoader(train_subset, batch_size=batch, shuffle=True, num_workers=0)\n",
        "test_loader = DataLoader(test_subset, batch_size=batch, shuffle=True, num_workers=0)\n",
        "# TODO END"
      ]
    },
    {
      "cell_type": "code",
      "execution_count": null,
      "metadata": {
        "id": "XDgGRC-4ABsC",
        "colab": {
          "base_uri": "https://localhost:8080/"
        },
        "outputId": "8683b815-d910-498e-8461-05509065cba0"
      },
      "outputs": [
        {
          "output_type": "stream",
          "name": "stdout",
          "text": [
            "Correct! You earned 2/2 points. You are a star!\n",
            "\n",
            "Your submission has been successfully recorded in the gradebook.\n"
          ]
        }
      ],
      "source": [
        "#Grader Cell (2 points)\n",
        "# DO NOT EDIT ANYTHING\n",
        "trainLoaderCheck = [getattr(train_loader, \"batch_size\"),\n",
        "                    str(type(train_loader)),\n",
        "                    len(getattr(train_loader, \"dataset\")),\n",
        "                    str(getattr(train_loader, \"sampler\")),\n",
        "                    getattr(train_loader, \"num_workers\")]\n",
        "testLoaderCheck = [getattr(test_loader, \"batch_size\"),\n",
        "                    str(type(test_loader)),\n",
        "                    len(getattr(test_loader, \"dataset\")),\n",
        "                    str(getattr(test_loader, \"sampler\")),\n",
        "                    getattr(test_loader, \"num_workers\")]\n",
        "grader.grade(test_case_id = 'check_dataloader', answer = (trainLoaderCheck, testLoaderCheck))"
      ]
    },
    {
      "cell_type": "markdown",
      "metadata": {
        "id": "efWfR1ZFvFGw"
      },
      "source": [
        "# **Part 2:** Classification Models (Total: 77 points)\n",
        "\n",
        "We now have the data needed to train a multi-class object classifier. We will start simple with a logistic regression classifier as a baseline for our performance, before we move onto more complex neural networks.\n",
        "\n",
        "In this case, we are looking at the remaining part in the pipeline which were grayed out before as follows:\n",
        "\n",
        "\n",
        "Diagram Reference: [Link](https://www.kaggle.com/code/uvxy1234/cifar-10-implementation-with-pytorch)"
      ]
    },
    {
      "cell_type": "markdown",
      "metadata": {
        "id": "GIytVVJbm3Ih"
      },
      "source": [
        "## 2.1 Multimonial Logical Logistic Regression - Baseline (Total: 13 points)\n",
        "\n",
        "Let's first try solving this problem with a Multimonial Logistic Regression classifier.\n",
        "\n",
        "We want to use a Multimonial Logistic Regression, since we're looking to predict between 10 different classes/digits.\n",
        "\n",
        "We will define a logistic regression model in Pytorch and train it on our training set and evaluate the performance on the test set.\n",
        "\n",
        "Logistic regression can be modelled as a function that can take in any number of inputs and constrain the output to be between 0 and 1. This means we can think of Logistic Regression as a one-layer neural network without hidden layers with some activation function. Think about how working with multiple classes may require you to think past a traditional Logistic Regression Model to optimize on performance!\n"
      ]
    },
    {
      "cell_type": "markdown",
      "metadata": {
        "id": "7MFlH2eL9NJ2"
      },
      "source": [
        "Diagram Reference: [Link](https://stats.stackexchange.com/questions/366707/a-logistic-regression-with-neural-network-mindset-vs-a-shallow-neural-network)"
      ]
    },
    {
      "cell_type": "markdown",
      "metadata": {
        "id": "5cVmxiP0m3In"
      },
      "source": [
        "### 2.1.1 Logistic Regression Model Architecture (5 points)\n",
        "\n",
        "We will define our first model in Pytorch. Read up about how to define and use layers in a Pytorch neural network [here](https://pytorch.org/tutorials/beginner/basics/buildmodel_tutorial.html).\n",
        "\n",
        "Our first model is a logistic regression model with the number of outputs equal to the number of classes in the model. Please implement the constructor for the `LogReg` class (the `__init__` function below) with the definition of the logistic regression model.\n",
        "\n",
        "When implementing this section, please think about what activation function would be most appropriate for logistic regression.\n",
        "\n",
        "Note that each data sample is in the shape (3, 32, 32). The goal of our architecture is to flatten each image completely.\n",
        "\n",
        "In addition, when constructing your architecture, be mindful of what your input and output dimensions should be for `in_features` and `out_features` based off the image dimensions!"
      ]
    },
    {
      "cell_type": "code",
      "execution_count": null,
      "metadata": {
        "id": "8vIXliDkm3Io"
      },
      "outputs": [],
      "source": [
        "import torch.nn.functional as F\n",
        "class LogReg(nn.Module):\n",
        "    def __init__(self):\n",
        "        super().__init__()\n",
        "        # TODO: initialize the neural network layers\n",
        "        self.flatten = nn.Flatten(start_dim=1, end_dim=-1)\n",
        "        self.linear = nn.Linear(3*32 * 32, 10)\n",
        "        # END TODO\n",
        "\n",
        "    def forward(self, x):\n",
        "        # TODO: implement the operations on input data\n",
        "        # Hint: think of the neural network architecture for logistic regression\n",
        "        x = self.flatten(x)\n",
        "        x = self.linear(x)\n",
        "        # END TODO\n",
        "        return x"
      ]
    },
    {
      "cell_type": "markdown",
      "metadata": {
        "id": "Hd5MCDQtm3Ip"
      },
      "source": [
        "Let's print the model summary"
      ]
    },
    {
      "cell_type": "code",
      "execution_count": null,
      "metadata": {
        "id": "BkIy0N4Wm3Iq",
        "colab": {
          "base_uri": "https://localhost:8080/"
        },
        "outputId": "010f9c18-0339-40ef-be69-4cda502594c6"
      },
      "outputs": [
        {
          "output_type": "execute_result",
          "data": {
            "text/plain": [
              "LogReg(\n",
              "  (flatten): Flatten(start_dim=1, end_dim=-1)\n",
              "  (linear): Linear(in_features=3072, out_features=10, bias=True)\n",
              ")"
            ]
          },
          "metadata": {},
          "execution_count": 26
        }
      ],
      "source": [
        "LogReg()"
      ]
    },
    {
      "cell_type": "code",
      "execution_count": null,
      "metadata": {
        "id": "aDks46ZVm3Ir",
        "colab": {
          "base_uri": "https://localhost:8080/"
        },
        "outputId": "74d9cc2c-8832-4ed6-ee0c-63875d7f6918"
      },
      "outputs": [
        {
          "output_type": "stream",
          "name": "stdout",
          "text": [
            "Correct! You earned 5/5 points. You are a star!\n",
            "\n",
            "Your submission has been successfully recorded in the gradebook.\n"
          ]
        }
      ],
      "source": [
        "#Grader Cell (5 points)\n",
        "grader.grade(test_case_id = 'logistic_regression_model', answer = str(LogReg()))"
      ]
    },
    {
      "cell_type": "markdown",
      "metadata": {
        "id": "PeRosrvOpGBj"
      },
      "source": [
        "**Notes:** Getting full credit for the above test case doesn't necessarily ensure that your model will perform well on the test dataset as it only evaluates the structure of your neural network.\n",
        "\n",
        "If you don't achieve complete credit for accuracy and loss on the test dataset, you may need to modify your architecture."
      ]
    },
    {
      "cell_type": "markdown",
      "metadata": {
        "id": "jesvQ9qBm3Ir"
      },
      "source": [
        "### 2.1.2 Training Logistic Regression Model (4 points)\n",
        "---\n",
        "**TODOs:**\n",
        "1.   Instantiate the Logistic regression to the variable `logreg`. Make sure to send this to the GPU device -- please consult the [Module 20 slides](https://docs.google.com/presentation/d/1pw9cFO30U_kI47JUZIW9COLAkM8BE8wr/edit?usp=sharing&ouid=115607071793138372214&rtpof=true&sd=true) for a primer on how to do this.\n",
        "\n",
        "2.   Set the loss criterion as `CrossEntropyLoss` (you can look up the documentation [here](https://pytorch.org/docs/stable/nn.html#loss-functions)). Note that softmax is already built into CrossEntropyLoss so if you use CrossEntropyLoss as the loss criterion, you don't need to add an additional softmax layer.\n",
        "\n",
        "3.   Fill in the missing parts in the training loop (see `#TODO` comments below)\n",
        "4.   Save the Training Accuracy for every epoch into the variable `acc_LIST_log`.\n",
        "5.   Save the Average Loss for every epoch into the variable `loss_LIST_log`.\n",
        "---\n",
        "The optimizer is set as Adam -- **please do not modify the optimizer**.\n",
        "\n",
        "Hint: Remember to update the weights correctly by backpropagation, please zero out the gradients by calling `optimizer.zero_grad()` every time you call `backward()`.\n",
        "\n",
        "**Note: If the loss went up during the training, there is something wrong with the model, so you should check if the model is implemented correctly**"
      ]
    },
    {
      "cell_type": "code",
      "execution_count": null,
      "metadata": {
        "id": "tmdlh86xm3Ir",
        "colab": {
          "base_uri": "https://localhost:8080/"
        },
        "outputId": "222256ad-77cd-493d-ec1f-a05a19554601"
      },
      "outputs": [
        {
          "output_type": "stream",
          "name": "stdout",
          "text": [
            "The loss for Epoch 0 is: 2.295919345131815, Accuracy = 15.076666666666666\n",
            "The loss for Epoch 1 is: 2.25228171663752, Accuracy = 19.813333333333333\n",
            "The loss for Epoch 2 is: 2.2379907209481766, Accuracy = 21.12333333333333\n",
            "The loss for Epoch 3 is: 2.2283381088964465, Accuracy = 22.13\n",
            "The loss for Epoch 4 is: 2.2235776351204812, Accuracy = 22.726666666666667\n",
            "The loss for Epoch 5 is: 2.21515231295181, Accuracy = 23.513333333333332\n",
            "The loss for Epoch 6 is: 2.211619749252222, Accuracy = 23.743333333333332\n",
            "The loss for Epoch 7 is: 2.2105683266226923, Accuracy = 23.880000000000003\n",
            "The loss for Epoch 8 is: 2.205249264296184, Accuracy = 23.96\n",
            "The loss for Epoch 9 is: 2.2033094424428716, Accuracy = 24.57\n",
            "CPU times: user 1min 37s, sys: 1.31 s, total: 1min 38s\n",
            "Wall time: 1min 46s\n"
          ]
        }
      ],
      "source": [
        "%%time\n",
        "# Sending the data to device (CPU or GPU)\n",
        "# TODO: (1) instantiate the logistic regression to variable logreg, (2) set the loss criterion as CrossEntropyLoss\n",
        "logreg = LogReg()\n",
        "logreg.to(device='cuda:0')\n",
        "\n",
        "criterion = nn.CrossEntropyLoss()\n",
        "# END TODO\n",
        "optimizer = optim.Adam(logreg.parameters(), lr=1e-4) #lr - learning step\n",
        "epoch = 10\n",
        "\n",
        "loss_LIST_log = []\n",
        "acc_LIST_log = []\n",
        "\n",
        "# Train the Logistic Regression\n",
        "for epoch in range(epoch):\n",
        "  running_loss = 0.0\n",
        "  correct = 0\n",
        "  total = 0\n",
        "  for inputs, labels in train_loader:\n",
        "      labels = labels.type(torch.LongTensor) # Cast to Float\n",
        "      inputs, labels = inputs.to(device), labels.to(device)\n",
        "      # TODO\n",
        "      # Step 1: Reset the optimizer tensor gradient every mini-batch\n",
        "      optimizer.zero_grad()\n",
        "      # Step 2: Feed the network the train data\n",
        "      outputs = logreg(inputs)\n",
        "      # Step 3: Get the prediction using argmax\n",
        "      _, predicted = torch.max(outputs.data, 1)\n",
        "      # Step 4: Find average loss for one mini-batch of inputs\n",
        "      loss = criterion(outputs, labels)\n",
        "      # Step 5: Do a back propagation\n",
        "      loss.backward()\n",
        "      # Step 6: Update the weight using the gradients from back propagation by learning step\n",
        "      optimizer.step()\n",
        "      # Step 7: Get loss and add to accumulated loss for each epoch\n",
        "      running_loss += loss.item()\n",
        "      # Step 8: Get number of correct prediction and add to correct and total\n",
        "      # Hint: we need to detach the numbers from GPU to CPU, which stores accuracy and loss\n",
        "      correct += (predicted == labels).sum().item()\n",
        "      total += labels.size(0)\n",
        "\n",
        "  # Step 9: Calculate training accuracy for each epoch and add to acc_LIST_log\n",
        "  accuracy = (correct / total) * 100\n",
        "  acc_LIST_log.append(accuracy)\n",
        "  # Step 10: Get average loss for each epoch and add to loss_LIST_log\n",
        "  average_loss = running_loss / len(train_loader)\n",
        "  loss_LIST_log.append(average_loss)\n",
        "  # END TODO\n",
        "\n",
        "  # print statistics\n",
        "  print(\"The loss for Epoch {} is: {}, Accuracy = {}\".format(epoch, running_loss/len(train_loader), accuracy))"
      ]
    },
    {
      "cell_type": "code",
      "source": [
        "# (if applicable)\n",
        "# In order to pass the AutoGrader, every element in \"acc_LIST_log\" should be a float.\n",
        "# If the elements are of type \"Tensor\", convert each element into type FLOAT by using .item() or .tolist()\n",
        "# To check if each element is a Tensor, print out \"acc_LIST_log\" and see if there is a Tensor() wrapped around each element.\n",
        "acc_LIST_log"
      ],
      "metadata": {
        "id": "SB9RkZLJj1qm",
        "colab": {
          "base_uri": "https://localhost:8080/"
        },
        "outputId": "fb8e9a2a-9309-4252-9613-18434bbadecb"
      },
      "execution_count": null,
      "outputs": [
        {
          "output_type": "execute_result",
          "data": {
            "text/plain": [
              "[15.076666666666666,\n",
              " 19.813333333333333,\n",
              " 21.12333333333333,\n",
              " 22.13,\n",
              " 22.726666666666667,\n",
              " 23.513333333333332,\n",
              " 23.743333333333332,\n",
              " 23.880000000000003,\n",
              " 23.96,\n",
              " 24.57]"
            ]
          },
          "metadata": {},
          "execution_count": 29
        }
      ]
    },
    {
      "cell_type": "code",
      "execution_count": null,
      "metadata": {
        "id": "8a3mQpqtFqd6",
        "colab": {
          "base_uri": "https://localhost:8080/"
        },
        "outputId": "96b12970-d3ee-4c3d-e371-c073b43e456e"
      },
      "outputs": [
        {
          "output_type": "stream",
          "name": "stdout",
          "text": [
            "Correct! You earned 4/4 points. You are a star!\n",
            "\n",
            "Your submission has been successfully recorded in the gradebook.\n"
          ]
        }
      ],
      "source": [
        "# Grader Cell (4 points)\n",
        "grader.grade(test_case_id = 'log_train_loss', answer = (acc_LIST_log, loss_LIST_log))"
      ]
    },
    {
      "cell_type": "markdown",
      "metadata": {
        "id": "e0LrNmOvm3Is"
      },
      "source": [
        "### 2.1.3 Plotting Training Accuracy vs Epochs for Logistic Regression (2 points - Manually Graded)\n",
        "\n",
        "---\n",
        "**TODO:**\n",
        "\n",
        "Plot the training accuracy vs epochs.\n",
        "\n",
        "Chart Specifications:\n",
        "1. The accuracy should be in the y-axis and epochs in x-axis.\n",
        "2. Add chart title.\n",
        "3. Epoch label should start with 1 (for audience interpretability).\n",
        "4. To avoid \"File Too Large\" for submission, please set figure size to (5,3).\n",
        "---"
      ]
    },
    {
      "cell_type": "code",
      "execution_count": null,
      "metadata": {
        "id": "2VpyKMjem3Is",
        "colab": {
          "base_uri": "https://localhost:8080/",
          "height": 333
        },
        "outputId": "9687d210-fa08-42e4-b975-312932d64f6e"
      },
      "outputs": [
        {
          "output_type": "display_data",
          "data": {
            "text/plain": [
              "<Figure size 500x300 with 1 Axes>"
            ],
            "image/png": "[encoded data removed]"
          },
          "metadata": {}
        }
      ],
      "source": [
        "import matplotlib.pyplot as plt\n",
        "import seaborn as sns\n",
        "\n",
        "# TODO\n",
        "plt.figure(figsize=(5, 3))\n",
        "plt.plot(range(1, len(acc_LIST_log) + 1), acc_LIST_log, marker='o')\n",
        "plt.title('Training Accuracy vs Epochs for Logistic Regression')\n",
        "plt.xlabel('Epochs')\n",
        "plt.ylabel('Training Accuracy')\n",
        "plt.grid(True)\n",
        "plt.show()\n",
        "# END TODO\n"
      ]
    },
    {
      "cell_type": "markdown",
      "metadata": {
        "id": "IrJ6qz4Rm3It"
      },
      "source": [
        "### 2.1.4 Logistic Regression Model Accuracy (2 points)\n",
        "\n",
        "Calculate the Test Accuracy for the Logistic Regression Model we trained above.\n",
        "\n",
        "This should be similar to how we calculated training accuracy above."
      ]
    },
    {
      "cell_type": "code",
      "execution_count": null,
      "metadata": {
        "id": "sbAYsblXm3It",
        "colab": {
          "base_uri": "https://localhost:8080/"
        },
        "outputId": "0865e35c-705e-4127-803b-84936612311f"
      },
      "outputs": [
        {
          "output_type": "stream",
          "name": "stdout",
          "text": [
            "Test Accuracy: 18.5%\n"
          ]
        }
      ],
      "source": [
        "total = 0\n",
        "correct = 0\n",
        "with torch.no_grad():\n",
        "    for images, labels in test_loader:\n",
        "        labels = labels.type(torch.LongTensor) # Cast to Float\n",
        "        images, labels = images.to(device), labels.to(device)\n",
        "\n",
        "        # TODO\n",
        "        # Get the output\n",
        "        outputs = logreg(images)\n",
        "        # Get the prediction using argmax\n",
        "        _, predicted = torch.max(outputs.data, 1)\n",
        "        # Get number of correct prediction and add to correct and total\n",
        "        correct += (predicted == labels).sum().item()\n",
        "        total += labels.size(0)\n",
        "# Calculate test accuracy for logistic regression (should multiple by 100)\n",
        "test_acc_log = (correct / total) * 100\n",
        "\n",
        "# TODO END\n",
        "print('Test Accuracy: {}%'.format(test_acc_log))"
      ]
    },
    {
      "cell_type": "code",
      "execution_count": null,
      "metadata": {
        "id": "Yw84YwDSm3Iu",
        "colab": {
          "base_uri": "https://localhost:8080/"
        },
        "outputId": "5e43ae92-7cad-42c1-edc9-f2b3d396e314"
      },
      "outputs": [
        {
          "output_type": "stream",
          "name": "stdout",
          "text": [
            "Correct! You earned 2/2 points. You are a star!\n",
            "\n",
            "Your submission has been successfully recorded in the gradebook.\n"
          ]
        }
      ],
      "source": [
        "#Grader Cell (2 points)\n",
        "grader.grade(test_case_id = 'logistic_regression_test_acc', answer = test_acc_log)"
      ]
    },
    {
      "cell_type": "markdown",
      "metadata": {
        "id": "3YxGiHhWHM6b"
      },
      "source": [
        "## 2.2 Feedforward Neural Networks (Total: 25 points)\n"
      ]
    },
    {
      "cell_type": "markdown",
      "metadata": {
        "id": "iCEd-Lj_9pGc"
      },
      "source": [
        "Diagram reference: [Link](https://en.wikipedia.org/wiki/Feedforward_neural_network)"
      ]
    },
    {
      "cell_type": "markdown",
      "source": [
        "**NOTE:** For 2.2 and 2.3, getting full points on the autograder for certain test cases may not be indicative of correctness; there may be slight inaccuracies in how your structured/architectured your model, or errors in your forwards. Losing points in the autograder can most likely be attributed to this."
      ],
      "metadata": {
        "id": "JN2g-t5cZugN"
      }
    },
    {
      "cell_type": "markdown",
      "metadata": {
        "id": "ycezEPcWm3Iv"
      },
      "source": [
        "\n",
        "Since logistic regression isn't that great at the classification problem above, we need more representation power in our model. We will now define a feedforward neural network.\n",
        "\n",
        "For this section, we're going to first create three different types of data inputs to analyze the performance in each.\n",
        "\n",
        "\n",
        "\n",
        "1.   First, we're going to analyze how well the *FNN* model will perform for a data input that only inludes data for the **red pixel values**. Since the shape of each one of our samples is (3, 32, 32), we're going to condense this down to (1, 32, 32) using a model architecture that can handle this new shape.\n",
        "2.   Second, we're going to analyze the performance of an *FNN* model on a data input that only includes data for the **grayscale values** of the image. As a reminder, the grayscale value of a pixel are calculated from the the average of the red, green, and blue pixel values. The shape of each sample should be (1, 32, 32)\n",
        "3. Finally, we'll use all of our inputs without modification to see how our *FNN* model performs with all data. We'll need to create a different architecture to handle the different sample size, but the original data loaders can be used.\n",
        "\n",
        "For each of these steps, think about the **relative information loss** between each data input and how you think that might affect the model.\n",
        "\n",
        "\n",
        "### 2.2.1 FNN Preprocessing Helper Functions (2 points)\n",
        "\n",
        "To simulate the first two, fill in the following functions that can convert a raw data sample of shape (batch_size, channels, 32, 32) to 1. contrained to only red values (index 0) and 2. gray scale values (averaged).\n",
        "\n",
        "For both functions, the datatype should be a tensor.\n"
      ]
    },
    {
      "cell_type": "markdown",
      "metadata": {
        "id": "QfbU0GmSm3Iv"
      },
      "source": [
        "### 2.2.1 Feedforward Neural Network Model Architecture (10 points)"
      ]
    },
    {
      "cell_type": "code",
      "source": [
        "def raw_sample_to_red(sample):\n",
        "  # TODO: Fill in the logic to convert an input tensor of shape (batch_size, 3, 32, 32) to just contain the red values\n",
        "  red_values = sample[:, 0:1, :, :]\n",
        "  return red_values\n",
        "\n",
        "def raw_sample_to_grayscale(sample):\n",
        "  # TODO: Fill in the logic to convert an input tensor of shape (batch_size, 3, 32, 32) to just contain the grey scale values\n",
        "  grayscale_values = torch.mean(sample, dim=1, keepdim=True)\n",
        "  return grayscale_values\n"
      ],
      "metadata": {
        "id": "zeydGGFYPiYz"
      },
      "execution_count": null,
      "outputs": []
    },
    {
      "cell_type": "code",
      "source": [
        "# DO NOT EDIT\n",
        "dummy_data = torch.rand(1, 3, 32, 32)\n",
        "dummy_input = dummy_data[0, :, 0, 0].tolist()\n",
        "red_output = raw_sample_to_red(dummy_data)[0, 0, 0, 0].item()\n",
        "gray_output = round(raw_sample_to_grayscale(dummy_data)[0, 0, 0, 0].item(), 4)\n",
        "\n",
        "# Grader Cell (2 points)\n",
        "grader.grade(test_case_id = 'feedforward_preprocess_helpers', answer = (dummy_input, red_output, gray_output))"
      ],
      "metadata": {
        "id": "nstGSd4bPwQN",
        "colab": {
          "base_uri": "https://localhost:8080/"
        },
        "outputId": "6efcd011-fb49-454b-bd27-9bdb1bef5bdd"
      },
      "execution_count": null,
      "outputs": [
        {
          "output_type": "stream",
          "name": "stdout",
          "text": [
            "Correct! You earned 2/2 points. You are a star!\n",
            "\n",
            "Your submission has been successfully recorded in the gradebook.\n"
          ]
        }
      ]
    },
    {
      "cell_type": "markdown",
      "source": [
        "### 2.2.2 Feedforward Neural Network Model Architecture (4 points)\n",
        "\n",
        "Now, complete the *FNN* class below to define a feedforward neural network architecture with **only 1 hidden layers with ```out_features``` of 256**. Note that the last layer must have the same number of classes as the output size! Also, note that this architecture will be using the shapes **(1, 32, 32)** to accomadate for the first two types of data.\n",
        "\n",
        "When implementing this model, please think about what activation function would be most appropriate for each layer in this classifier.\n",
        "\n",
        "Note: Receiving full credit for this section won't guarantee that future sections will work as intended! We're primarily testing that you have all the required components in your architecture!\n"
      ],
      "metadata": {
        "id": "Lsgte_E_PyT_"
      }
    },
    {
      "cell_type": "code",
      "execution_count": null,
      "metadata": {
        "id": "7ZVvgyJVm3Iv"
      },
      "outputs": [],
      "source": [
        "class FNN(nn.Module):\n",
        "    def __init__(self):\n",
        "        super().__init__()\n",
        "        # TODO: initialize the neural network layers\n",
        "        self.flatten = nn.Flatten(start_dim=1, end_dim=3)\n",
        "        self.fc1 = nn.Linear(1 * 32 * 32, 256)\n",
        "        self.relu = nn.ReLU()\n",
        "        self.fc2 = nn.Linear(256, 10)\n",
        "        # END TODO\n",
        "\n",
        "    def forward(self, x):\n",
        "        # TODO: implement the operations on input data\n",
        "        # Hint: think of the neural network architecture for FNN\n",
        "        x = self.flatten(x)\n",
        "        x = self.fc1(x)\n",
        "        x = self.relu(x)\n",
        "        outputs = self.fc2(x)\n",
        "        # END TODO\n",
        "        return outputs"
      ]
    },
    {
      "cell_type": "markdown",
      "metadata": {
        "id": "5rvgkSaTm3Iw"
      },
      "source": [
        "Let's print the model summary"
      ]
    },
    {
      "cell_type": "code",
      "execution_count": null,
      "metadata": {
        "id": "g8Voqj1-m3Iw",
        "colab": {
          "base_uri": "https://localhost:8080/"
        },
        "outputId": "8a2341f2-3563-4dbb-d504-c990346cb191"
      },
      "outputs": [
        {
          "output_type": "execute_result",
          "data": {
            "text/plain": [
              "FNN(\n",
              "  (flatten): Flatten(start_dim=1, end_dim=3)\n",
              "  (fc1): Linear(in_features=1024, out_features=256, bias=True)\n",
              "  (relu): ReLU()\n",
              "  (fc2): Linear(in_features=256, out_features=10, bias=True)\n",
              ")"
            ]
          },
          "metadata": {},
          "execution_count": 37
        }
      ],
      "source": [
        "FNN()"
      ]
    },
    {
      "cell_type": "code",
      "execution_count": null,
      "metadata": {
        "id": "fj0GVHf5m3Iw",
        "colab": {
          "base_uri": "https://localhost:8080/"
        },
        "outputId": "811c7c3f-8af2-42c7-8f81-298d4c9d915b"
      },
      "outputs": [
        {
          "output_type": "stream",
          "name": "stdout",
          "text": [
            "Correct! You earned 4/4 points. You are a star!\n",
            "\n",
            "Your submission has been successfully recorded in the gradebook.\n"
          ]
        }
      ],
      "source": [
        "#Grader Cell (4 points)\n",
        "grader.grade(test_case_id = 'feedforward_nn_model', answer = str(FNN()))"
      ]
    },
    {
      "cell_type": "markdown",
      "metadata": {
        "id": "Dy7YoUqmurFM"
      },
      "source": [
        "**Notes:** Getting full credit for the above test case doesn't necessarily ensure that your model will perform well on the test dataset as it only evaluates the structure of your neural network.\n",
        "\n",
        "If you don't achieve complete credit for accuracy and loss on the test dataset, you may need to modify your architecture such as increasing the number of hidden layers or the number of neurons in each layer."
      ]
    },
    {
      "cell_type": "markdown",
      "metadata": {
        "id": "JUaHAHLum3Iw"
      },
      "source": [
        "### 2.2.3 Training FNN Model (11 points)\n",
        "---\n",
        "TODOs\n",
        "1.   Instantiate an FNN model to the variable `fnn_red` (make sure to send this to the device env)\n",
        "2.   Set the loss criterion to be `CrossEntropyLoss` (you can look up the documentation [here](https://pytorch.org/docs/stable/nn.html#loss-functions))\n",
        "3.   Fill in the missing parts in the training loop below.\n",
        "4.   Note, make sure you are using your raw_sample_to_red() helper function to convert each raw input into our desired form\n",
        "5.   Save the Training Accuracy for every epoch into `acc_LIST_FNN_red`\n",
        "6.   Save the Average Loss for every epoch into `loss_LIST_FNN_red`\n",
        "---\n",
        "The optimizer is set as Adam -- **please do not modify the optimizer**.\n",
        "\n",
        "Hint: Remember to update the weights correctly by backpropagation, please zero out the gradients by calling `optimizer.zero_grad()` every time you call `backward()`.\n",
        "\n",
        "**Note 1**: If the loss went up during the training, there is something wrong with the model, so you should check if the model is implemented correctly.\n",
        "\n",
        "**Note 2**: Typical training time could around 5 mins.\n",
        "\n",
        "\n",
        "\n",
        "Note: `acc_LIST_FNN_red` should be of type floats, instead of tensors."
      ]
    },
    {
      "cell_type": "code",
      "execution_count": null,
      "metadata": {
        "id": "WSechmCnm3Ix",
        "colab": {
          "base_uri": "https://localhost:8080/"
        },
        "outputId": "c5b9a14c-9cd2-41b7-a58b-7ca9502fe783"
      },
      "outputs": [
        {
          "output_type": "stream",
          "name": "stdout",
          "text": [
            "The loss for Epoch 0 is: 2.0103579055525853, Accuracy = 37.95666666666666\n",
            "The loss for Epoch 1 is: 1.4698810252045262, Accuracy = 60.39\n",
            "The loss for Epoch 2 is: 1.23187894061176, Accuracy = 65.83\n",
            "The loss for Epoch 3 is: 1.1116989260035028, Accuracy = 68.21000000000001\n",
            "The loss for Epoch 4 is: 1.0337814829751117, Accuracy = 70.27\n",
            "The loss for Epoch 5 is: 0.9731620589553166, Accuracy = 71.86333333333333\n",
            "The loss for Epoch 6 is: 0.9224945304236178, Accuracy = 73.17666666666666\n",
            "The loss for Epoch 7 is: 0.8813784212700085, Accuracy = 74.52666666666666\n",
            "The loss for Epoch 8 is: 0.8436915799498812, Accuracy = 75.68\n",
            "The loss for Epoch 9 is: 0.8125565810117132, Accuracy = 76.48\n",
            "CPU times: user 1min 38s, sys: 667 ms, total: 1min 39s\n",
            "Wall time: 1min 39s\n"
          ]
        }
      ],
      "source": [
        "%%time\n",
        "import torch.optim as optim\n",
        "# Sending the data to device (CPU or GPU)\n",
        "# TODO\n",
        "\n",
        "# Step 1: instantiate the FNN model to variable fnn_red\n",
        "fnn_red = FNN().to(device)\n",
        "# Step 2: set the loss criterion as CrossEntropyLoss\n",
        "criterion = nn.CrossEntropyLoss()\n",
        "# END TODO\n",
        "optimizer = optim.Adam(fnn_red.parameters(), lr=1e-4) #lr - learning step\n",
        "epoch = 10\n",
        "\n",
        "acc_LIST_FNN_red = []\n",
        "loss_LIST_FNN_red = []\n",
        "\n",
        "# Train the FNN\n",
        "for epoch in range(epoch):\n",
        "  running_loss = 0.0\n",
        "  correct = 0\n",
        "  total = 0\n",
        "  for inputs, labels in train_loader:\n",
        "      labels = labels.type(torch.LongTensor) # Cast to Long\n",
        "      inputs, labels = inputs.to(device), labels.to(device)\n",
        "\n",
        "      # TODO\n",
        "      # Step 1: Reset the optimizer tensor gradient every mini-batch\n",
        "      optimizer.zero_grad()\n",
        "      # Step 2: Feed the network the train data (use helper)\n",
        "      inputs_red = raw_sample_to_red(inputs)\n",
        "      outputs = fnn_red(inputs_red)\n",
        "      # Step 3: Get the prediction using argmax\n",
        "      _, predicted = torch.max(outputs.data, 1)\n",
        "      # Step 4: Find average loss for one mini-batch of inputs\n",
        "      loss = criterion(outputs, labels)\n",
        "      # Step 5: Do a back propagation\n",
        "      loss.backward()\n",
        "      # Step 6: Update the weight using the gradients from back propagation by learning step\n",
        "      optimizer.step()\n",
        "      # Step 7: Get loss and add to accumulated loss for each epoch\n",
        "      running_loss += loss.item()\n",
        "      # Step 8: Get number of correct prediction and add to correct and total\n",
        "      # Hint: we need to detach the numbers from GPU to CPU, which stores accuracy and loss\n",
        "      correct += (predicted == labels).sum().item()\n",
        "      total += labels.size(0)\n",
        "\n",
        "  # Step 9: Calculate training accuracy for each epoch and add to acc_LIST_FNN_red\n",
        "  accuracy = correct / total * 100\n",
        "  acc_LIST_FNN_red.append(accuracy)\n",
        "  # Step 10: Get average loss for each epoch and add to loss_LIST_FNN_red\n",
        "  avg_loss = running_loss / len(train_loader)\n",
        "  loss_LIST_FNN_red.append(avg_loss)\n",
        "\n",
        "  # END TODO\n",
        "\n",
        "  # print statistics\n",
        "  print(\"The loss for Epoch {} is: {}, Accuracy = {}\".format(epoch, running_loss/len(train_loader), accuracy))"
      ]
    },
    {
      "cell_type": "markdown",
      "source": [
        "Nice, you should see here that the accuracy of our model is significantly improved by adding an additional hidden layer to our architecture when we use an FNN model. Can we do better? Let's create a second training loop, but this time, we'll use our grayscale helper instead.\n",
        "\n",
        "\n",
        "\n",
        "1.   This time, initialize your model to the variable `fnn_gray`\n",
        "2.   Use the same criterion, and training loop parameters as last time.\n",
        "3.   Use our newly defined `raw_sample_to_grayscale` helper to convert to grayscale inputs.\n",
        "4.   Save the accuracy and loss to `acc_LIST_FNN_gray` and `loss_LIST_FNN_gray`"
      ],
      "metadata": {
        "id": "gLh1a4XVQupr"
      }
    },
    {
      "cell_type": "code",
      "source": [
        "%%time\n",
        "# Sending the data to device (CPU or GPU)\n",
        "# TODO\n",
        "\n",
        "# Step 1: instantiate the FNN model to variable fnn_gray\n",
        "fnn_gray = FNN().to(device)\n",
        "# Step 2: set the loss criterion as CrossEntropyLoss\n",
        "criterion = nn.CrossEntropyLoss()\n",
        "# END TODO\n",
        "optimizer = optim.Adam(fnn_gray.parameters(), lr=1e-4) #lr - learning step\n",
        "epoch = 10\n",
        "\n",
        "acc_LIST_FNN_gray = []\n",
        "loss_LIST_FNN_gray = []\n",
        "\n",
        "# Train the FNN\n",
        "for epoch in range(epoch):\n",
        "  running_loss = 0.0\n",
        "  correct = 0\n",
        "  total = 0\n",
        "  for inputs, labels in train_loader:\n",
        "      labels = labels.type(torch.LongTensor) # Cast to Long\n",
        "      inputs, labels = inputs.to(device), labels.to(device)\n",
        "\n",
        "      # TODO\n",
        "      # Step 1: Reset the optimizer tensor gradient every mini-batch\n",
        "      optimizer.zero_grad()\n",
        "      # Step 2: Feed the network the train data (use helper)\n",
        "      inputs_gray = raw_sample_to_grayscale(inputs)\n",
        "      outputs = fnn_gray(inputs_gray)\n",
        "      # Step 3: Get the prediction using argmax\n",
        "      _, predicted = torch.max(outputs.data, 1)\n",
        "      # Step 4: Find average loss for one mini-batch of inputs\n",
        "      loss = criterion(outputs, labels)\n",
        "      # Step 5: Do a back propagation\n",
        "      loss.backward()\n",
        "      # Step 6: Update the weight using the gradients from back propagation by learning step\n",
        "      optimizer.step()\n",
        "      # Step 7: Get loss and add to accumulated loss for each epoch\n",
        "      running_loss += loss.item()\n",
        "      # Step 8: Get number of correct prediction and add to correct and total\n",
        "      # Hint: we need to detach the numbers from GPU to CPU, which stores accuracy and loss\n",
        "      correct += (predicted == labels).sum().item()\n",
        "      total += labels.size(0)\n",
        "  # Step 9: Calculate training accuracy for each epoch and add to acc_LIST_FNN_gray\n",
        "  accuracy = correct / total * 100\n",
        "  acc_LIST_FNN_gray.append(accuracy)\n",
        "  # Step 10: Get average loss for each epoch and add to loss_LIST_FNN_gray\n",
        "  avg_loss = running_loss / len(train_loader)\n",
        "  loss_LIST_FNN_gray.append(avg_loss)\n",
        "  # END TODO\n",
        "\n",
        "  # print statistics\n",
        "  print(\"The loss for Epoch {} is: {}, Accuracy = {}\".format(epoch, running_loss/len(train_loader), accuracy))\n"
      ],
      "metadata": {
        "id": "HsvJJhlXQ1MA",
        "colab": {
          "base_uri": "https://localhost:8080/"
        },
        "outputId": "cc0fc459-a496-4a72-c777-54cc7d31fffc"
      },
      "execution_count": null,
      "outputs": [
        {
          "output_type": "stream",
          "name": "stdout",
          "text": [
            "The loss for Epoch 0 is: 2.039449532403112, Accuracy = 36.413333333333334\n",
            "The loss for Epoch 1 is: 1.4906424134016545, Accuracy = 60.83666666666666\n",
            "The loss for Epoch 2 is: 1.2351052219679615, Accuracy = 65.99333333333334\n",
            "The loss for Epoch 3 is: 1.1075440171176691, Accuracy = 68.91666666666667\n",
            "The loss for Epoch 4 is: 1.0247967344865616, Accuracy = 70.63666666666667\n",
            "The loss for Epoch 5 is: 0.9626367332965835, Accuracy = 72.47333333333333\n",
            "The loss for Epoch 6 is: 0.911181133820304, Accuracy = 73.78\n",
            "The loss for Epoch 7 is: 0.8680076773232742, Accuracy = 75.02666666666667\n",
            "The loss for Epoch 8 is: 0.8299430458784611, Accuracy = 76.23666666666666\n",
            "The loss for Epoch 9 is: 0.7954393402218565, Accuracy = 77.27666666666667\n",
            "CPU times: user 1min 40s, sys: 643 ms, total: 1min 40s\n",
            "Wall time: 1min 41s\n"
          ]
        }
      ]
    },
    {
      "cell_type": "markdown",
      "source": [
        "### 2.2.4 Feed Forward Network on Raw Inputs Architecture (4 points)\n",
        "\n",
        "\n",
        "Finally, let's see how the model fares with the normal raw inputs. Note the raw inputs have a different sample shape (3, 32, 32), so we'll first need to define a new model architecture to handle this.\n",
        "\n",
        "Fill in the rest of the code for the model architecture below. The only thing you should be changing is the shape of the data that gets passed through the model"
      ],
      "metadata": {
        "id": "4hTVoOhJRHur"
      }
    },
    {
      "cell_type": "code",
      "source": [
        "class FNN_RAW(nn.Module):\n",
        "    def __init__(self):\n",
        "        super().__init__()\n",
        "        # TODO: initialize the neural network layers\n",
        "        self.flatten = nn.Flatten(start_dim=1, end_dim=3)\n",
        "        self.fc1 = nn.Linear(3 * 32 * 32, 256)\n",
        "        self.relu = nn.ReLU()\n",
        "        self.fc2 = nn.Linear(256, 10)\n",
        "        # END TODO\n",
        "\n",
        "    def forward(self, x):\n",
        "        # TODO: implement the operations on input data\n",
        "        x = self.flatten(x)\n",
        "        x = self.fc1(x)\n",
        "        x = self.relu(x)\n",
        "        outputs = self.fc2(x)\n",
        "        # END TODO\n",
        "        return outputs"
      ],
      "metadata": {
        "id": "r45_JEyPRJp5"
      },
      "execution_count": null,
      "outputs": []
    },
    {
      "cell_type": "markdown",
      "source": [
        "Let's print the model summary"
      ],
      "metadata": {
        "id": "so-k3qxKROum"
      }
    },
    {
      "cell_type": "code",
      "source": [
        "FNN_RAW()"
      ],
      "metadata": {
        "id": "14W4qndiRQW5",
        "colab": {
          "base_uri": "https://localhost:8080/"
        },
        "outputId": "1c8d9e0e-19a6-4d2d-c41d-1f01f08656c6"
      },
      "execution_count": null,
      "outputs": [
        {
          "output_type": "execute_result",
          "data": {
            "text/plain": [
              "FNN_RAW(\n",
              "  (flatten): Flatten(start_dim=1, end_dim=3)\n",
              "  (fc1): Linear(in_features=3072, out_features=256, bias=True)\n",
              "  (relu): ReLU()\n",
              "  (fc2): Linear(in_features=256, out_features=10, bias=True)\n",
              ")"
            ]
          },
          "metadata": {},
          "execution_count": 42
        }
      ]
    },
    {
      "cell_type": "code",
      "source": [
        "#Grader Cell (4 points)\n",
        "grader.grade(test_case_id = 'feedforward_nn_model_raw', answer = str(FNN_RAW()))"
      ],
      "metadata": {
        "id": "OU01agLURRs7",
        "colab": {
          "base_uri": "https://localhost:8080/"
        },
        "outputId": "149f3fb2-638d-49bb-c445-2c3b5bd508a9"
      },
      "execution_count": null,
      "outputs": [
        {
          "output_type": "stream",
          "name": "stdout",
          "text": [
            "Correct! You earned 4/4 points. You are a star!\n",
            "\n",
            "Your submission has been successfully recorded in the gradebook.\n"
          ]
        }
      ]
    },
    {
      "cell_type": "markdown",
      "source": [
        "And now, let's define one last training loop to take in the raw data. The training loop should be largely identical to the previous two training loops created. We do not need a helper function to preprocess any training samples.\n",
        "\n",
        "\n",
        "1.   Define a new FNN model using the `FNN_RAW` class defined above and save the model as `fnn`\n",
        "2.   Use the same criterion and parameters as before.\n",
        "3.   Save the accuracy and loss to `acc_LIST_FNN` and `loss_LIST_FNN` respectively\n",
        "\n"
      ],
      "metadata": {
        "id": "7m0r-S9iRTbR"
      }
    },
    {
      "cell_type": "code",
      "source": [
        "%%time\n",
        "# Sending the data to device (CPU or GPU)\n",
        "# TODO\n",
        "\n",
        "# Step 1: instantiate the FNN model to variable fnn\n",
        "fnn = FNN_RAW().to(device)\n",
        "# Step 2: set the loss criterion as CrossEntropyLoss\n",
        "criterion = nn.CrossEntropyLoss()\n",
        "# END TODO\n",
        "optimizer = optim.Adam(fnn.parameters(), lr=1e-4) #lr - learning step\n",
        "epoch = 10\n",
        "\n",
        "acc_LIST_FNN = []\n",
        "loss_LIST_FNN = []\n",
        "\n",
        "# Train the FNN\n",
        "for epoch in range(epoch):\n",
        "  running_loss = 0.0\n",
        "  correct = 0\n",
        "  total = 0\n",
        "  for inputs, labels in train_loader:\n",
        "      labels = labels.type(torch.LongTensor) # Cast to Long\n",
        "      inputs, labels = inputs.to(device), labels.to(device)\n",
        "\n",
        "      # TODO\n",
        "      # Step 1: Reset the optimizer tensor gradient every mini-batch\n",
        "      optimizer.zero_grad()\n",
        "      # Step 2: Feed the network the train data\n",
        "      outputs = fnn(inputs)\n",
        "      # Step 3: Get the prediction using argmax\n",
        "      _, predicted = torch.max(outputs.data, 1)\n",
        "      # Step 4: Find average loss for one mini-batch of inputs\n",
        "      loss = criterion(outputs, labels)\n",
        "      # Step 5: Do a back propagation\n",
        "      loss.backward()\n",
        "      # Step 6: Update the weight using the gradients from back propagation by learning step\n",
        "      optimizer.step()\n",
        "      # Step 7: Get loss and add to accumulated loss for each epoch\n",
        "      running_loss += loss.item()\n",
        "      # Step 8: Get number of correct prediction and add to correct and total\n",
        "      # Hint: we need to detach the numbers from GPU to CPU, which stores accuracy and loss\n",
        "      correct += (predicted == labels).sum().item()\n",
        "      total += labels.size(0)\n",
        "\n",
        "  # Step 9: Calculate training accuracy for each epoch and add to acc_LIST_FNN\n",
        "  accuracy = correct / total * 100\n",
        "  acc_LIST_FNN.append(accuracy)\n",
        "  # Step 10: Get average loss for each epoch and add to loss_LIST_FNN\n",
        "  avg_loss = running_loss / len(train_loader)\n",
        "  loss_LIST_FNN.append(avg_loss)\n",
        "  # END TODO\n",
        "\n",
        "  # print statistics\n",
        "  print(\"The loss for Epoch {} is: {}, Accuracy = {}\".format(epoch, running_loss/len(train_loader), accuracy))\n"
      ],
      "metadata": {
        "id": "666p7SSaRWIh",
        "colab": {
          "base_uri": "https://localhost:8080/"
        },
        "outputId": "c40ff5bb-b8ad-4878-864f-4bb33120f359"
      },
      "execution_count": null,
      "outputs": [
        {
          "output_type": "stream",
          "name": "stdout",
          "text": [
            "The loss for Epoch 0 is: 1.7794604499711157, Accuracy = 45.656666666666666\n",
            "The loss for Epoch 1 is: 1.2105664485044825, Accuracy = 65.98666666666666\n",
            "The loss for Epoch 2 is: 1.040876153562623, Accuracy = 69.83\n",
            "The loss for Epoch 3 is: 0.9431669761631281, Accuracy = 72.54\n",
            "The loss for Epoch 4 is: 0.8755314868650457, Accuracy = 74.30333333333333\n",
            "The loss for Epoch 5 is: 0.8136615631168586, Accuracy = 76.21\n",
            "The loss for Epoch 6 is: 0.7685020515151115, Accuracy = 77.62\n",
            "The loss for Epoch 7 is: 0.7229146862716309, Accuracy = 79.13333333333334\n",
            "The loss for Epoch 8 is: 0.6895543358473382, Accuracy = 80.24\n",
            "The loss for Epoch 9 is: 0.6563546832309348, Accuracy = 81.0\n",
            "CPU times: user 1min 39s, sys: 658 ms, total: 1min 39s\n",
            "Wall time: 1min 40s\n"
          ]
        }
      ]
    },
    {
      "cell_type": "markdown",
      "source": [
        "Now, let's compile together all of our training results from our three models"
      ],
      "metadata": {
        "id": "rE0JAeF_RvjK"
      }
    },
    {
      "cell_type": "code",
      "source": [
        "# (if applicable)\n",
        "# In order to pass the AutoGrader, every element in “acc_LIST_FNN”, \"acc_LIST_FNN_red\", and \"acc_LIST_FNN_gray\" should be a float.\n",
        "# If the elements are of type “Tensor”, convert each element into type FLOAT by using .item() or .tolist()\n",
        "# To check if each element is a Tensor, print out “acc_LIST_FNN” and see if there is a Tensor() wrapped around each element.\n",
        "print(acc_LIST_FNN_red)\n",
        "print(acc_LIST_FNN_gray)\n",
        "print(acc_LIST_FNN)"
      ],
      "metadata": {
        "id": "K4uVb6MTj6ue",
        "colab": {
          "base_uri": "https://localhost:8080/"
        },
        "outputId": "2218eaab-3a91-4807-8b78-7fd2f2042f1f"
      },
      "execution_count": null,
      "outputs": [
        {
          "output_type": "stream",
          "name": "stdout",
          "text": [
            "[37.95666666666666, 60.39, 65.83, 68.21000000000001, 70.27, 71.86333333333333, 73.17666666666666, 74.52666666666666, 75.68, 76.48]\n",
            "[36.413333333333334, 60.83666666666666, 65.99333333333334, 68.91666666666667, 70.63666666666667, 72.47333333333333, 73.78, 75.02666666666667, 76.23666666666666, 77.27666666666667]\n",
            "[45.656666666666666, 65.98666666666666, 69.83, 72.54, 74.30333333333333, 76.21, 77.62, 79.13333333333334, 80.24, 81.0]\n"
          ]
        }
      ]
    },
    {
      "cell_type": "code",
      "execution_count": null,
      "metadata": {
        "id": "A2AHGUxHKI1_",
        "colab": {
          "base_uri": "https://localhost:8080/"
        },
        "outputId": "42860175-b845-4c47-f817-e34c21bd0d9f"
      },
      "outputs": [
        {
          "output_type": "stream",
          "name": "stdout",
          "text": [
            "Correct! You earned 11/11 points. You are a star!\n",
            "\n",
            "Your submission has been successfully recorded in the gradebook.\n"
          ]
        }
      ],
      "source": [
        "#Grader Cell (11 points)\n",
        "grader.grade(test_case_id = 'fnn_train_loss', answer = (acc_LIST_FNN_red, loss_LIST_FNN_red, acc_LIST_FNN_gray, loss_LIST_FNN_gray, acc_LIST_FNN, loss_LIST_FNN))"
      ]
    },
    {
      "cell_type": "markdown",
      "metadata": {
        "id": "DY0zMmGAm3Ix"
      },
      "source": [
        "### 2.2.5 Plotting Training Accuracy vs Epochs FNN (2 points - Manually Graded)\n",
        "\n",
        "---\n",
        "**TODO:**\n",
        "\n",
        "Plot the training accuracy vs epochs for all three models. Make sure there is some way to distinguish the three models (by color) and a key to distinguish each line.\n",
        "\n",
        "Chart Specifications:\n",
        "1. The accuracy should be in the y-axis and epochs in x-axis.\n",
        "2. Add chart title.\n",
        "3. Epoch label should start with 1 (for audience interpretability).\n",
        "4. To avoid \"File Too Large\" for submission, please set figure size to (5,3).\n",
        "---"
      ]
    },
    {
      "cell_type": "code",
      "execution_count": null,
      "metadata": {
        "id": "vIGWgoY3m3Ix",
        "colab": {
          "base_uri": "https://localhost:8080/",
          "height": 333
        },
        "outputId": "4f95b84a-bbbb-4c1f-9559-32b3e020c74a"
      },
      "outputs": [
        {
          "output_type": "display_data",
          "data": {
            "text/plain": [
              "<Figure size 500x300 with 1 Axes>"
            ],
            "image/png": "[encoded data removed]"
          },
          "metadata": {}
        }
      ],
      "source": [
        "import matplotlib.pyplot as plt\n",
        "import seaborn as sns\n",
        "\n",
        "# TODO\n",
        "epochs = list(range(1, 11))\n",
        "plt.figure(figsize=(5, 3))\n",
        "plt.plot(epochs, acc_LIST_FNN_red, label='FNN (Red Pixels)', marker='o', color='red')\n",
        "plt.plot(epochs, acc_LIST_FNN_gray, label='FNN (Grayscale)', marker='o', color='gray')\n",
        "plt.plot(epochs, acc_LIST_FNN, label='FNN (Raw Data)', marker='o', color='purple')\n",
        "\n",
        "plt.title('Training Accuracy vs Epochs')\n",
        "plt.xlabel('Epochs')\n",
        "plt.ylabel('Accuracy')\n",
        "plt.legend()\n",
        "plt.show()\n",
        "# END TODO"
      ]
    },
    {
      "cell_type": "markdown",
      "metadata": {
        "id": "_LCcYIAWm3Iy"
      },
      "source": [
        "### 2.2.6 FNN Model Accuracy (2 points)\n",
        "\n",
        "Calculate the Test Accuracy for the three FNN Model we trained above (the technique for doing this is the same as computing the test accuracy for the logistic regression classifier above).\n",
        "\n",
        "Remember, your models should be named `fnn`, `fnn_red`, and `fnn_gray`, and make sure to use the same respective helper function to process the test data set as well.\n",
        "\n",
        "Save your correct to their respective variables as well."
      ]
    },
    {
      "cell_type": "code",
      "execution_count": null,
      "metadata": {
        "id": "WAyibXsEm3Iy",
        "colab": {
          "base_uri": "https://localhost:8080/"
        },
        "outputId": "146f258f-cd9e-4e69-9caf-4f13d0f9b0f4"
      },
      "outputs": [
        {
          "output_type": "stream",
          "name": "stdout",
          "text": [
            "Test Accuracy (Red Values Only): 71.38\n",
            "Test Accuracy (Grayscale Values Only): 70.88\n",
            "Test Accuracy (All Values): 74.82\n"
          ]
        }
      ],
      "source": [
        "total = 0\n",
        "correct_fnn = 0\n",
        "correct_fnn_red = 0\n",
        "correct_fnn_gray = 0\n",
        "with torch.no_grad():\n",
        "    for images, labels in test_loader:\n",
        "        labels = labels.type(torch.LongTensor) # Cast to Float\n",
        "        images, labels = images.to(device), labels.to(device)\n",
        "\n",
        "        # TODO\n",
        "        # Get the output\n",
        "        total += labels.size(0)\n",
        "        outputs_fnn = fnn(images)\n",
        "\n",
        "        inputs_red = raw_sample_to_red(images)\n",
        "        outputs_fnn_red = fnn_red(inputs_red)\n",
        "\n",
        "        inputs_gray = raw_sample_to_grayscale(images)\n",
        "        outputs_fnn_gray = fnn_gray(inputs_gray)\n",
        "\n",
        "        # Get the prediction using argmax\n",
        "        _, predicted_fnn = torch.max(outputs_fnn, 1)\n",
        "        _, predicted_fnn_red = torch.max(outputs_fnn_red, 1)\n",
        "        _, predicted_fnn_gray = torch.max(outputs_fnn_gray, 1)\n",
        "\n",
        "        # Get number of correct prediction and add to correct and total\n",
        "        correct_fnn += (predicted_fnn == labels).sum().item()\n",
        "        correct_fnn_red += (predicted_fnn_red == labels).sum().item()\n",
        "        correct_fnn_gray += (predicted_fnn_gray == labels).sum().item()\n",
        "\n",
        "\n",
        "# Calculate test accuracy for FNN (should multiple by 100)\n",
        "test_acc_FNN = (correct_fnn / total) * 100\n",
        "test_acc_FNN_red = (correct_fnn_red / total) * 100\n",
        "test_acc_FNN_gray = (correct_fnn_gray / total) * 100\n",
        "\n",
        "# TODO END\n",
        "print('Test Accuracy (Red Values Only): ' + str(test_acc_FNN_red))\n",
        "print('Test Accuracy (Grayscale Values Only): ' + str(test_acc_FNN_gray))\n",
        "print('Test Accuracy (All Values): ' + str(test_acc_FNN))\n"
      ]
    },
    {
      "cell_type": "code",
      "execution_count": null,
      "metadata": {
        "id": "ypTvmlYNm3Iy",
        "colab": {
          "base_uri": "https://localhost:8080/"
        },
        "outputId": "ea43a870-f4bc-442f-8fbc-6c48a5388077"
      },
      "outputs": [
        {
          "output_type": "stream",
          "name": "stdout",
          "text": [
            "Correct! You earned 2/2 points. You are a star!\n",
            "\n",
            "Your submission has been successfully recorded in the gradebook.\n"
          ]
        }
      ],
      "source": [
        "#Grader Cell (2 points)\n",
        "grader.grade(test_case_id = 'feedforward_nn_acc', answer = (test_acc_FNN_red, loss_LIST_FNN_red, test_acc_FNN_gray, loss_LIST_FNN_gray, test_acc_FNN, loss_LIST_FNN))"
      ]
    },
    {
      "cell_type": "markdown",
      "metadata": {
        "id": "9gnLzDIWGiYv"
      },
      "source": [
        "##2.3 \"Convoluted\" Convolutional Neural Networks (Total: 29 points)\n",
        "So, what are CNNs?\n",
        "\n",
        "Convolutional Neural Networks are very similar to Feedforward Neural Networks from the previous section: they are made up of neurons that have learnable weights and biases. Each neuron receives some inputs, performs a dot product and optionally follows it with a non-linearity. The whole network still expresses a single differentiable score function: from the raw image pixels on one end to class scores at the other.\n",
        "\n",
        "So what changes? ConvNet architectures make the explicit assumption that the inputs are images, which allows us to encode certain properties into the architecture. These then make the forward function more efficient to implement and vastly reduce the amount of parameters in the network.\n",
        "\n",
        "If you wanna know more about how CNNs function and see some cool visualizations, we would highly recommend this [page](https://cs231n.github.io/convolutional-networks/)\n"
      ]
    },
    {
      "cell_type": "markdown",
      "metadata": {
        "id": "QQoCe9-I-juy"
      },
      "source": [
        "Diagram Reference: [Link](https://www.analyticsvidhya.com/blog/2020/10/what-is-the-convolutional-neural-network-architecture/)"
      ]
    },
    {
      "cell_type": "markdown",
      "metadata": {
        "id": "TrflHaqht5dV"
      },
      "source": [
        "We will define the architecture for the CNN we will be using. The components of a CNNs are as follows:\n",
        "\n",
        "*   Convolutional Layers\n",
        "*   Pooling Layers\n",
        "*   Linear Layers\n",
        "*   Activation Functions\n",
        "\n",
        "Define a CNN model with Pytorch that contains one or more blocks, where **each block** consists of a **convolutional layer** followed by an **activation function** and a **max pool**. (For this assignment, we discourage adding three or more layers.)\n",
        "\n",
        "Then, **flatten** the output from the convolutional layers, and pass it through one or more fully connected or 'dense' layers and activation functions after all but the last layer. Note that the output shape from the last layer must be the same as the number of classes."
      ]
    },
    {
      "cell_type": "markdown",
      "metadata": {
        "id": "5hZ19uCgt5dV"
      },
      "source": [
        "### 2.3.0 Calculating Output Dimensions of Convolution and Pooling Layers (1 Point)"
      ]
    },
    {
      "cell_type": "markdown",
      "metadata": {
        "id": "QWTpcdqnt5dW"
      },
      "source": [
        "Before we start building the architecture, it's important to understand the dimensions of the feature maps produced in each of the convolution and pooling layers. We want to keep track of this information as once we get to the fully-connected layers, we need to specify the number of input parameters.\n",
        "\n",
        "Let's first build a function that will help us calculate the dimensions based on the input parameters.\n",
        "\n",
        "\n",
        "Since we are working with squared image, we will build just one function that can be used to calculate both the H (height) and W (width) of the feature map.\n",
        "\n",
        "Below is the function used to calculate the output dimension of the feature map:\n",
        "\n",
        "\n",
        "Diagram Reference: [Link](https://pytorch.org/docs/stable/generated/torch.nn.Conv2d.html)"
      ]
    },
    {
      "cell_type": "markdown",
      "metadata": {
        "id": "7MPO8gBqecED"
      },
      "source": [
        "---\n",
        "**TODO:**\n",
        "\n",
        "Build the **feature_map_dim** function, which takes in the following four parameters and return the dimension of the output feature map.\n",
        "\n",
        "- **input_dim**: height/width of the input image\n",
        "\n",
        "- **kernel_size**: size of the convolving kernel (aka. filter)\n",
        "\n",
        "- **padding**: padding added to all four sides of the input in order to preserve the edges/borders\n",
        "\n",
        "- **stride**: Stride of the convolution, or how many shifts per kernel\n",
        "  \n",
        "ROUND DOWN if the result if a fraction.\n",
        "\n",
        "---\n",
        "\n",
        "Notice there is another parameter, \"dilation\", which is the spacing between kernel elements. We have not covered this in class; simply set it to 1.\n"
      ]
    },
    {
      "cell_type": "code",
      "execution_count": null,
      "metadata": {
        "id": "A3drwoLht5dX"
      },
      "outputs": [],
      "source": [
        "import math\n",
        "\n",
        "def feature_map_dim(input_dim, padding, kernel_size, stride):\n",
        "  '''\n",
        "  The function takes in the following four parameters and return the dimension of the output feature map.\n",
        "\n",
        "  input_dim: height/width of the input image\n",
        "  kernel_size: size of the convolving kernel (aka. filter)\n",
        "  padding: padding added to all four sides of the input in order to preserve the edges/borders\n",
        "  stride: Stride of the convolution, or how many shifts per kernel\n",
        "\n",
        "  ROUND DOWN if the result if a fraction.\n",
        "\n",
        "  Notice there is another parameter, \"dilation\", which is the spacing between kernel elements. We have not covered this in class; simply set it to 1\n",
        "  '''\n",
        "  ## TODO:\n",
        "  output_dim = math.floor((input_dim + 2 * padding - kernel_size) / stride) + 1\n",
        "  return output_dim\n",
        "\n",
        "  ## END TODO"
      ]
    },
    {
      "cell_type": "code",
      "execution_count": null,
      "metadata": {
        "id": "0Mtd0hHTt5dY",
        "colab": {
          "base_uri": "https://localhost:8080/"
        },
        "outputId": "09b88c50-12de-4751-f84b-443d2d0586a2"
      },
      "outputs": [
        {
          "output_type": "stream",
          "name": "stdout",
          "text": [
            "Correct! You earned 1/1 points. You are a star!\n",
            "\n",
            "Your submission has been successfully recorded in the gradebook.\n"
          ]
        }
      ],
      "source": [
        "#Grader Cell (1 point)\n",
        "grader.grade(test_case_id = 'test_func_feature_map_dim', answer = (feature_map_dim))"
      ]
    },
    {
      "cell_type": "markdown",
      "metadata": {
        "id": "NrNiZOMc49uR"
      },
      "source": [
        "### 2.3.1 Create your own custom Convolutional Neural Network Architecture (8 points)"
      ]
    },
    {
      "cell_type": "markdown",
      "metadata": {
        "id": "1GyB2KOe5NFL"
      },
      "source": [
        "For this section, you will be creating your own custom Convolutional Neural Network Architecture for this dataset. Typically, this would mean defining your neural network architecture within your `__init__` function of your Neural Network class. Within this initializer, you would define the individual layers of the network, which would typically consist of some number of `convolutional layers`, some number of `fully connected layers`, and other types of layers such as `pooling layers` and `dropout layers`.\n",
        "\n",
        "One thing that you will need to pay attention to is how exactly the data is being input to your Convolutional Neural Network. That is, what are the input dimensions, and how does the dimensions of the data change as it is propagated through the network. Note that your choice of layering and the order of layers will determine the corresponding input and output dimensions of each layer."
      ]
    },
    {
      "cell_type": "markdown",
      "metadata": {
        "id": "cW9fhwPE5I3T"
      },
      "source": [
        "---\n",
        "**TODOs:**\n",
        "\n",
        "`def __init__(self)`::\n",
        "1.  Initialize some number of `convolutional blocks` (consists of a convolution layer, an activation function, and a Pooling layer)\n",
        "\n",
        "2. `Flatten` the output of the convolution to a tensor\n",
        "\n",
        "3. Initialize some number of `fully-connected layers`\n",
        "\n",
        "`def forward(self, x)`:\n",
        "4. Build the `forward` function/path with the layers initialized in `__init__` function.\n",
        "\n",
        "---\n",
        "\n",
        "- **Note:** While parameters of convolution layers tend to vary, it is possible to use the same pooling layer and activation function in each block. If you intend to use the same parameters for these two elements, then only 1 pooling layer and 1 activation function needs to be initialized.\n",
        "- **Hint 1**: Use the `feature_map_dim` function, and the input_dim and output_dim comments to help you keep track of the input/output dimensions of each layer. Speficially, for each layer you include in your model, make sure to understand what the input dimensions would be, how that changes as you apply each layer to the next layer's input.\n",
        "- **Hint 2**: The parameters you've calculated is particularly useful for the input dimensions for the linear layer in the first fully-connected layer.\n",
        "- **Hint 3**: The final fully-connected layer's output dimension should be the same as the number of classes in our dataset\n"
      ]
    },
    {
      "cell_type": "code",
      "source": [
        "class CNN(nn.Module):\n",
        "    def __init__(self):\n",
        "        super().__init__()\n",
        "\n",
        "        self.conv1 = nn.Conv2d(in_channels=3, out_channels=32, kernel_size=3, stride=1, padding=1)\n",
        "        self.pool1 =  nn.MaxPool2d(kernel_size=2, stride=2)\n",
        "\n",
        "        conv1_dim = feature_map_dim(32,1,3,1)\n",
        "        pool1_dim = feature_map_dim(conv1_dim,0,2,2)\n",
        "\n",
        "        self.conv2 = nn.Conv2d(in_channels=32, out_channels=64, kernel_size=3, stride=1, padding=1)\n",
        "        self.pool2 =  nn.MaxPool2d(kernel_size=2, stride=2)\n",
        "\n",
        "        conv2_dim = feature_map_dim(pool1_dim,1,3,1)\n",
        "        pool2_dim = feature_map_dim(conv2_dim,0,2,2)\n",
        "\n",
        "        self.relu = nn.ReLU()\n",
        "\n",
        "        self.fc1_in_features = 64 * pool2_dim * pool2_dim\n",
        "        self.flatten = nn.Flatten(start_dim=1)\n",
        "        self.fc1 = nn.Linear(self.fc1_in_features, 128)\n",
        "\n",
        "        self.fc2_out_features = 10\n",
        "        self.fc2 = nn.Linear(128, self.fc2_out_features)\n",
        "\n",
        "    def forward(self, x):\n",
        "        x = self.relu(self.conv1(x))\n",
        "        x = self.pool1(x)\n",
        "\n",
        "        x = self.relu(self.conv2(x))\n",
        "        x = self.pool2(x)\n",
        "\n",
        "        x = self.flatten(x)\n",
        "        x = self.relu(self.fc1(x))\n",
        "\n",
        "        x = self.fc2(x)\n",
        "\n",
        "        return x"
      ],
      "metadata": {
        "id": "0pLMEFjF8NhO"
      },
      "execution_count": null,
      "outputs": []
    },
    {
      "cell_type": "code",
      "source": [
        "CNN()"
      ],
      "metadata": {
        "id": "ujHmdgFa870L",
        "colab": {
          "base_uri": "https://localhost:8080/"
        },
        "outputId": "e18c9bf7-fac1-4c51-839a-59e85cdb91bf"
      },
      "execution_count": null,
      "outputs": [
        {
          "output_type": "execute_result",
          "data": {
            "text/plain": [
              "CNN(\n",
              "  (conv1): Conv2d(3, 32, kernel_size=(3, 3), stride=(1, 1), padding=(1, 1))\n",
              "  (pool1): MaxPool2d(kernel_size=2, stride=2, padding=0, dilation=1, ceil_mode=False)\n",
              "  (conv2): Conv2d(32, 64, kernel_size=(3, 3), stride=(1, 1), padding=(1, 1))\n",
              "  (pool2): MaxPool2d(kernel_size=2, stride=2, padding=0, dilation=1, ceil_mode=False)\n",
              "  (relu): ReLU()\n",
              "  (flatten): Flatten(start_dim=1, end_dim=-1)\n",
              "  (fc1): Linear(in_features=4096, out_features=128, bias=True)\n",
              "  (fc2): Linear(in_features=128, out_features=10, bias=True)\n",
              ")"
            ]
          },
          "metadata": {},
          "execution_count": 90
        }
      ]
    },
    {
      "cell_type": "code",
      "source": [
        "# DO NOT EDIT\n",
        "grader.grade(test_case_id = 'cnn_model', answer = str(CNN()))"
      ],
      "metadata": {
        "id": "b7Lk1f4z8R61",
        "colab": {
          "base_uri": "https://localhost:8080/"
        },
        "outputId": "f0397d1a-44ea-436a-c7d1-c3b84dd387b1"
      },
      "execution_count": null,
      "outputs": [
        {
          "output_type": "stream",
          "name": "stdout",
          "text": [
            "Correct! You earned 8/8 points. You are a star!\n",
            "\n",
            "Your submission has been successfully recorded in the gradebook.\n"
          ]
        }
      ]
    },
    {
      "cell_type": "markdown",
      "metadata": {
        "id": "6O2dxIV5t5da"
      },
      "source": [
        "### 2.3.2 Training CNN Model (8 Points)\n",
        "\n",
        "---\n",
        "**TODOs**\n",
        "1.   Instantiate the CNN to the variable `cnn` (make sure to send this to the device env)\n",
        "2.   Set the criterion as a CrossEntropyLoss (you can look up the documentation [here](https://pytorch.org/docs/stable/nn.html#loss-functions))\n",
        "3.   Fill in the missing parts in the training loop.\n",
        "4.   Calculate training accuracy for each epoch (should multiply by 100 to get percentage), store in variable called `accuracy`.\n",
        "5.   Save the Training Accuracy for every epoch into `acc_LIST_CNN`\n",
        "6.   Save the Average Loss for every epoch into `loss_LIST_CNN`\n",
        "\n",
        "**Please do not modify the following set ups: **\n",
        "Optimizer: The optimizer is set as \"Adam\".\n",
        "Epoch: The epoch is set to \"10\".\n",
        "\n",
        "---\n",
        "\n",
        "**Hint:** Remember to update the weights correctly by backpropagation, please zero out the gradients by calling `optimizer.zero_grad()` every time you call `backward()`.  Please review the `Recitation 10` notebook for detailed instructions on how to perform these operations.\n",
        "\n",
        "**Note 1**: If the loss went up during the training, there is something wrong with the model, so you should check if the model is implemented correctly.\n",
        "\n",
        "**Note 2**: Typical training time takes between 5 - 10 mins.\n",
        "\n",
        "**Note 3**: `acc_LIST_CNN` and `loss_LIST_CNN` should contain data of type float not tensor."
      ]
    },
    {
      "cell_type": "code",
      "execution_count": null,
      "metadata": {
        "id": "lW3e2k4Vt5da",
        "colab": {
          "base_uri": "https://localhost:8080/"
        },
        "outputId": "bac6e284-2fe5-4f2f-a4f8-75b8149dc10c"
      },
      "outputs": [
        {
          "output_type": "stream",
          "name": "stdout",
          "text": [
            "The loss for Epoch 0 is: 2.1489926492735774, Accuracy = 26.413333333333334\n",
            "The loss for Epoch 1 is: 1.2646309463962564, Accuracy = 64.28333333333333\n",
            "The loss for Epoch 2 is: 0.8596866168955496, Accuracy = 76.13333333333333\n",
            "The loss for Epoch 3 is: 0.7205570833896523, Accuracy = 79.77333333333333\n",
            "The loss for Epoch 4 is: 0.6519282803987898, Accuracy = 81.91000000000001\n",
            "The loss for Epoch 5 is: 0.6076277962117307, Accuracy = 82.88333333333333\n",
            "The loss for Epoch 6 is: 0.577636934769179, Accuracy = 83.78\n",
            "The loss for Epoch 7 is: 0.5512511285065588, Accuracy = 84.55333333333334\n",
            "The loss for Epoch 8 is: 0.5308986281725898, Accuracy = 85.07666666666667\n",
            "The loss for Epoch 9 is: 0.5111710617283006, Accuracy = 85.78\n",
            "CPU times: user 1min 39s, sys: 857 ms, total: 1min 40s\n",
            "Wall time: 1min 44s\n"
          ]
        }
      ],
      "source": [
        "%%time\n",
        "# Sending the data to device (CPU or GPU)\n",
        "# TODO (1 of 2)\n",
        "# Step 1: instantiate the CNN model to variable cnn\n",
        "cnn = CNN()\n",
        "cnn.to(device)\n",
        "# Step 2: set the loss criterion as CrossEntropyLoss\n",
        "criterion = nn.CrossEntropyLoss()\n",
        "# END TODO\n",
        "optimizer = optim.Adam(cnn.parameters(), lr=1e-4) #lr - learning step\n",
        "epoch = 10\n",
        "\n",
        "acc_LIST_CNN = []\n",
        "loss_LIST_CNN = []\n",
        "\n",
        "# Train the CNN\n",
        "for epoch in range(epoch):\n",
        "  running_loss = 0.0\n",
        "  correct = 0\n",
        "  total = 0\n",
        "  for inputs, labels in train_loader:\n",
        "      labels = labels.type(torch.LongTensor) # Cast to Float\n",
        "      inputs, labels = inputs.to(device), labels.to(device)\n",
        "      ## TODO (2 of 2)\n",
        "      # Step 1: Reset the optimizer tensor gradient every mini-batch\n",
        "      optimizer.zero_grad()\n",
        "      # Step 2: Feed the network the train data\n",
        "      outputs = cnn(inputs)\n",
        "      # Step 3: Get the prediction using argmax\n",
        "      _, predicted = torch.max(outputs.data, 1)\n",
        "      # Step 4: Find average loss for one mini-batch of inputs\n",
        "      loss = criterion(outputs, labels)\n",
        "      # Step 5: Do a back propagation\n",
        "      loss.backward()\n",
        "      # Step 6: Update the weight using the gradients from back propagation by learning step\n",
        "      optimizer.step()\n",
        "      # Step 7: Get loss and add to accumulated loss for each epoch\n",
        "      running_loss += loss.item()\n",
        "      # Step 8: Get number of correct prediction and increment the number of correct and total predictions after this batch\n",
        "      # Hint: we need to detach the numbers from GPU to CPU, which stores accuracy and loss\n",
        "      total += labels.size(0)\n",
        "      correct += (predicted == labels).sum().item()\n",
        "\n",
        "  # Step 9: Calculate training accuracy for each epoch (should multiply by 100 to get percentage), store in variable called 'accuracy', and add to acc_LIST_CNN\n",
        "  accuracy = 100 * (correct / total)\n",
        "  acc_LIST_CNN.append(accuracy)\n",
        "  # Step 10: Get average loss for each epoch and add to loss_LIST_CNN\n",
        "  avg_loss = running_loss / len(train_loader)\n",
        "  loss_LIST_CNN.append(avg_loss)\n",
        "  # END TODO\n",
        "\n",
        "  # print statistics\n",
        "  print(\"The loss for Epoch {} is: {}, Accuracy = {}\".format(epoch, running_loss/len(train_loader), accuracy))\n"
      ]
    },
    {
      "cell_type": "code",
      "source": [
        "# (if applicable)\n",
        "# In order to pass the AutoGrader, every element in \"acc_LIST_CNN\" should be a float.\n",
        "# If the elements are of type \"Tensor\", convert each element into type FLOAT by using .item() or .tolist()\n",
        "# To check if each element is a Tensor, print out \"acc_LIST_CNN\" and see if there is a Tensor() wrapped around each element.\n",
        "acc_LIST_CNN"
      ],
      "metadata": {
        "id": "HsXvPk9LkBXk",
        "colab": {
          "base_uri": "https://localhost:8080/"
        },
        "outputId": "2c3536dd-9bb7-437c-eb5a-17593ad3ffbe"
      },
      "execution_count": null,
      "outputs": [
        {
          "output_type": "execute_result",
          "data": {
            "text/plain": [
              "[26.413333333333334,\n",
              " 64.28333333333333,\n",
              " 76.13333333333333,\n",
              " 79.77333333333333,\n",
              " 81.91000000000001,\n",
              " 82.88333333333333,\n",
              " 83.78,\n",
              " 84.55333333333334,\n",
              " 85.07666666666667,\n",
              " 85.78]"
            ]
          },
          "metadata": {},
          "execution_count": 59
        }
      ]
    },
    {
      "cell_type": "code",
      "execution_count": null,
      "metadata": {
        "id": "oZ9IAUWnnO0o",
        "colab": {
          "base_uri": "https://localhost:8080/"
        },
        "outputId": "2d97f38b-2c77-4bd1-e857-0f5bd0f9ac3a"
      },
      "outputs": [
        {
          "output_type": "stream",
          "name": "stdout",
          "text": [
            "Correct! You earned 10/10 points. You are a star!\n",
            "\n",
            "Your submission has been successfully recorded in the gradebook.\n"
          ]
        }
      ],
      "source": [
        "#Grader Cell (10 points)\n",
        "grader.grade(test_case_id = 'cnn_train_loss', answer = (acc_LIST_CNN, loss_LIST_CNN))"
      ]
    },
    {
      "cell_type": "markdown",
      "metadata": {
        "id": "wPowtEwjt5db"
      },
      "source": [
        "### 2.3.3 Plotting Training Accuracy vs Epochs CNN (2 points - Manually Graded)\n",
        "\n",
        "---\n",
        "**TODO:**\n",
        "\n",
        "Plot the training accuracy vs epochs.\n",
        "\n",
        "Chart Specifications:\n",
        "1. The accuracy should be in the y-axis and epochs in x-axis.\n",
        "2. Add chart title.\n",
        "3. Epoch label should start with 1 (for audience interpretability).\n",
        "4. To avoid \"File Too Large\" for submission, please set figure size to (5,3).\n",
        "---"
      ]
    },
    {
      "cell_type": "code",
      "execution_count": null,
      "metadata": {
        "id": "pBZOYpJJt5db",
        "colab": {
          "base_uri": "https://localhost:8080/",
          "height": 333
        },
        "outputId": "1b7e56c7-a606-40e4-d727-ff02756622db"
      },
      "outputs": [
        {
          "output_type": "display_data",
          "data": {
            "text/plain": [
              "<Figure size 500x300 with 1 Axes>"
            ],
            "image/png": "[encoded data removed]"
          },
          "metadata": {}
        }
      ],
      "source": [
        "import matplotlib.pyplot as plt\n",
        "import seaborn as sns\n",
        "\n",
        "# TODO\n",
        "plt.figure(figsize=(5, 3))\n",
        "plt.plot(range(1, 11), acc_LIST_CNN, marker='o')\n",
        "plt.title('Training Accuracy vs Epochs (CNN)')\n",
        "plt.xlabel('Epochs')\n",
        "plt.ylabel('Accuracy')\n",
        "plt.show()\n",
        "# END TODO"
      ]
    },
    {
      "cell_type": "markdown",
      "metadata": {
        "id": "wCBs-UQ0t5db"
      },
      "source": [
        "### 2.3.4 CNN Model Test Accuracy (2 points)\n",
        "\n",
        "---\n",
        "**TODO:**\n",
        "Calculate the Test Accuracy for the CNN Model we trained above. Save it to the variable named `test_acc_CNN`. The technique for doing this is the same as computing the test accuracy for the logistic regression and FNN classifiers above.\n",
        "\n",
        "---"
      ]
    },
    {
      "cell_type": "code",
      "execution_count": null,
      "metadata": {
        "id": "-uG-m_1bt5dc",
        "colab": {
          "base_uri": "https://localhost:8080/"
        },
        "outputId": "a24eee8e-11b9-4d3a-c27c-e3d8069ca92e"
      },
      "outputs": [
        {
          "output_type": "stream",
          "name": "stdout",
          "text": [
            "Test Accuracy: 80.17999999999999\n"
          ]
        }
      ],
      "source": [
        "# TODO\n",
        "total = 0\n",
        "correct = 0\n",
        "with torch.no_grad():\n",
        "    for images, labels in test_loader:\n",
        "        labels = labels.type(torch.LongTensor) # Cast to Float\n",
        "        images, labels = images.to(device), labels.to(device)\n",
        "        # TODO\n",
        "        # Get the output\n",
        "        outputs = cnn(images)\n",
        "        # Get the prediction using argmax\n",
        "        _, predicted = torch.max(outputs.data, 1)\n",
        "        # Get number of correct prediction and add to correct and total\n",
        "        total += labels.size(0)\n",
        "        correct += (predicted == labels).sum().item()\n",
        "\n",
        "# Calculate test accuracy for CNN (should multiple by 100)\n",
        "test_acc_CNN = (correct / total) * 100\n",
        "# TODO END\n",
        "\n",
        "print(f'Test Accuracy: ' + str(test_acc_CNN))"
      ]
    },
    {
      "cell_type": "code",
      "execution_count": null,
      "metadata": {
        "id": "3iB5d4N-t5dc",
        "colab": {
          "base_uri": "https://localhost:8080/"
        },
        "outputId": "8c14f848-15c3-4f50-a22e-9251a849e5b3"
      },
      "outputs": [
        {
          "output_type": "stream",
          "name": "stdout",
          "text": [
            "Correct! You earned 2/2 points. You are a star!\n",
            "\n",
            "Your submission has been successfully recorded in the gradebook.\n"
          ]
        }
      ],
      "source": [
        "#Grader Cell (2 points)\n",
        "grader.grade(test_case_id = 'cnn_test_acc', answer = (test_acc_CNN))"
      ]
    },
    {
      "cell_type": "markdown",
      "metadata": {
        "id": "0sdUq8y07Luh"
      },
      "source": [
        "### 2.3.5 CNN Hyperparameter Tuning (8 points)\n",
        "\n",
        "In this section, we will now explore how we can find an \"optimal\" Convolutional Neural Network architecture by tuning some hyperparameters. Hyperparameters are those parameters that we usually manually set that have some impact on the learning process for our model. For this section, we will particularly focus on the `learning rate`, `beta1`, `beta2` and `number of fully connected layers`.\n",
        "\n",
        "The `learning rate`, `beta1` and `beta2` parameters all have to do with the optimizer we are using `optim.Adam`. The `beta1` and `beta2` parameters that control the contribution of the past gradients and the past square gradients to the current update, while the learning rate controls the step size taken during optimization."
      ]
    },
    {
      "cell_type": "markdown",
      "source": [
        "Now, create a new model that will be used in the hyperparameter tuning. This can be identical to the model that you had previously, or you can make slight tweaks to it if you desire. You must, however, include an attribute that stores the number of fully connected layers that will be controlled by the hyperparameter tuning. Make sure to understand how to implement this while maintaining the dimensionality of your data"
      ],
      "metadata": {
        "id": "oMZM11aOVtGA"
      }
    },
    {
      "cell_type": "code",
      "source": [
        "# TODO: Create a new model CNNTuned whose hyperaparameters we will tune\n",
        "class CNNTuned(nn.Module):\n",
        "    def __init__(self, ff_layers = 3):\n",
        "        super().__init__()\n",
        "        self.conv1 = nn.Conv2d(3, 32, kernel_size=3, stride=1, padding=1)\n",
        "        self.conv2 = nn.Conv2d(32, 64, kernel_size=3, stride=1, padding=1)\n",
        "        self.conv3 = nn.Conv2d(64, 128, kernel_size=3, stride=1, padding=1)\n",
        "\n",
        "        self.ff_layers = ff_layers\n",
        "        if self.ff_layers == 1:\n",
        "            self.fc1 = nn.Linear(128 * 4 * 4, 10)\n",
        "        elif self.ff_layers == 2:\n",
        "            self.fc1 = nn.Linear(128 * 4 * 4, 512)\n",
        "            self.fc2 = nn.Linear(512, 10)\n",
        "        elif self.ff_layers == 3:\n",
        "            self.fc1 = nn.Linear(128 * 4 * 4, 512)\n",
        "            self.fc2 = nn.Linear(512, 256)\n",
        "            self.fc3 = nn.Linear(256, 10)\n",
        "        else:\n",
        "            raise ValueError(\"Invalid number of fully connected layers\")\n",
        "\n",
        "        self.pool = nn.MaxPool2d(kernel_size=2, stride=2, padding=0)\n",
        "        self.dropout = nn.Dropout(0.25)\n",
        "\n",
        "\n",
        "    def forward(self, x):\n",
        "        x = F.relu(self.conv1(x))\n",
        "        x = self.pool(x)\n",
        "        x = F.relu(self.conv2(x))\n",
        "        x = self.pool(x)\n",
        "        x = F.relu(self.conv3(x))\n",
        "        x = self.pool(x)\n",
        "        x = x.view(-1, 128 * 4 * 4)\n",
        "        if self.ff_layers == 1:\n",
        "            x = self.fc1(x)\n",
        "        elif self.ff_layers == 2:\n",
        "            x = F.relu(self.fc1(x))\n",
        "            x = self.dropout(x)\n",
        "            x = self.fc2(x)\n",
        "        elif self.ff_layers == 3:\n",
        "            x = F.relu(self.fc1(x))\n",
        "            x = self.dropout(x)\n",
        "            x = F.relu(self.fc2(x))\n",
        "            x = self.dropout(x)\n",
        "            x = self.fc3(x)\n",
        "\n",
        "        return x"
      ],
      "metadata": {
        "id": "SKwAWi-XRmFo"
      },
      "execution_count": null,
      "outputs": []
    },
    {
      "cell_type": "markdown",
      "source": [
        "The way we will tune these hyperparameters is by conducting a gridsearch on these various hyperparameters. To start, we first need to create the actual `parameter_grid`. This will define which parameters we want to test different values for, as well as include an array of the different values that we would like to test for each parameter. Make sure to play around with these values, but have a constraint on the number of values in your grid to prevent excessive runtimes (it will test every possible combination of these parameters, so the larger the grid, the more time it will take). We recommend you limit the size of each hyperparameter to three values."
      ],
      "metadata": {
        "id": "7LnGs6PO9X_6"
      }
    },
    {
      "cell_type": "markdown",
      "source": [
        "To create our parameter grid to tune on, we first make the following import."
      ],
      "metadata": {
        "id": "4cIJovQruLB9"
      }
    },
    {
      "cell_type": "code",
      "source": [
        "from sklearn.model_selection import ParameterGrid"
      ],
      "metadata": {
        "id": "dN1osFGeXMdF"
      },
      "execution_count": null,
      "outputs": []
    },
    {
      "cell_type": "markdown",
      "source": [
        "**HINT**: The entry for betas should be a list of size 2 tuples containing floats"
      ],
      "metadata": {
        "id": "HEYn4S-IuYdq"
      }
    },
    {
      "cell_type": "code",
      "source": [
        "# TODO: Define your parameter grid. pgrid should\n",
        "# just be the wrapped version of param_grid using ParameterGrid\n",
        "# num_epochs will be the number of epochs you use to grid search and train\n",
        "\n",
        "param_grid = {\n",
        "    'learning_rate': [1e-3, 5e-4, 1e-4],\n",
        "    'betas': [(0.9, 0.999), (0.95, 0.99), (0.99, 0.9)],\n",
        "    'ff_layers': [1, 2, 3]\n",
        "}\n",
        "\n",
        "pgrid = ParameterGrid(param_grid)\n",
        "\n",
        "num_epochs = 10"
      ],
      "metadata": {
        "id": "9TvYWvK29SMU"
      },
      "execution_count": null,
      "outputs": []
    },
    {
      "cell_type": "code",
      "source": [
        "# DO NOT EDIT\n",
        "grader.grade(test_case_id='cnn_hyper_param_grid', answer = param_grid)"
      ],
      "metadata": {
        "id": "02tSpoIF9tP8",
        "colab": {
          "base_uri": "https://localhost:8080/"
        },
        "outputId": "ba796542-5e0c-4167-c3e6-7ffec801c1e5"
      },
      "execution_count": null,
      "outputs": [
        {
          "output_type": "stream",
          "name": "stdout",
          "text": [
            "Correct! You earned 1/1 points. You are a star!\n",
            "\n",
            "Your submission has been successfully recorded in the gradebook.\n"
          ]
        }
      ]
    },
    {
      "cell_type": "markdown",
      "source": [
        "Now, go through every combination of parameters using your parameter grid and determine which of the combinations yields the best model.\n",
        "\n",
        "Note: this will take some time to run especially as you increase the number of epochs. You must run it for at least 5 epochs.\n",
        "\n",
        "**HINT 1**: You need to create some form of a training loop to do this. (Think about what it means for a model to be \"the best\" in this case.)\n",
        "\n",
        "**HINT 2**: You also might want to keep track of what combos are better than others"
      ],
      "metadata": {
        "id": "9jhrpWO2odd_"
      }
    },
    {
      "cell_type": "code",
      "source": [
        "# TODO: Conduct your grid search.\n",
        "import torch.optim as optim\n",
        "\n",
        "best_model = None\n",
        "best_params = {}\n",
        "best_accuracy = 0.0\n",
        "\n",
        "for params in pgrid:\n",
        "    print(f\"Training model with hyperparameters: {params}\")\n",
        "\n",
        "    model = CNNTuned(ff_layers=params['ff_layers'])\n",
        "    model.to(device)\n",
        "\n",
        "    optimizer = optim.Adam(model.parameters(), lr=params['learning_rate'], betas=params['betas'])\n",
        "\n",
        "    criterion = nn.CrossEntropyLoss()\n",
        "\n",
        "    for epoch in range(num_epochs):\n",
        "        running_loss = 0.0\n",
        "        correct = 0\n",
        "        total = 0\n",
        "\n",
        "        for inputs, labels in train_loader:\n",
        "            labels = labels.type(torch.LongTensor)\n",
        "            inputs, labels = inputs.to(device), labels.to(device)\n",
        "\n",
        "            # Reset the optimizer gradient\n",
        "            optimizer.zero_grad()\n",
        "\n",
        "            # Feed the network the train data\n",
        "            outputs = model(inputs)\n",
        "            # Get the prediction using argmax\n",
        "            _, predicted = torch.max(outputs.data, 1)\n",
        "\n",
        "            # Calculate the loss\n",
        "            loss = criterion(outputs, labels)\n",
        "\n",
        "            # Backpropagation\n",
        "            loss.backward()\n",
        "\n",
        "            # Update the weights\n",
        "            optimizer.step()\n",
        "\n",
        "            running_loss += loss.item()\n",
        "            total += labels.size(0)\n",
        "            correct += (predicted == labels).sum().item()\n",
        "\n",
        "        accuracy = correct / total * 100\n",
        "\n",
        "        print(f\"Epoch {epoch + 1}/{num_epochs}, Loss: {running_loss / len(train_loader)}, Accuracy: {accuracy}%\")\n",
        "\n",
        "    if accuracy > best_accuracy:\n",
        "        best_accuracy = accuracy\n",
        "        best_model = model\n",
        "        best_params = params\n",
        "\n",
        "print(f\"\\nBest Hyperparameters: {best_params['ff_layers']} Fully Connected Layers, \"\n",
        "      f\"Learning Rate: {best_params['learning_rate']}, Betas: {best_params['betas']}\")\n",
        "print(f\"Best Training Accuracy: {best_accuracy}%\")\n"
      ],
      "metadata": {
        "id": "uO7m__SZBENI",
        "colab": {
          "base_uri": "https://localhost:8080/"
        },
        "outputId": "b20478f4-eb3e-4cb7-c422-a18c7fcfde8b"
      },
      "execution_count": null,
      "outputs": [
        {
          "output_type": "stream",
          "name": "stdout",
          "text": [
            "Training model with hyperparameters: {'betas': (0.9, 0.999), 'ff_layers': 1, 'learning_rate': 0.001}\n",
            "Epoch 1/10, Loss: 1.0612883791486338, Accuracy: 65.46%\n",
            "Epoch 2/10, Loss: 0.49214503470895643, Accuracy: 85.77%\n",
            "Epoch 3/10, Loss: 0.39327074307749776, Accuracy: 88.51666666666667%\n",
            "Epoch 4/10, Loss: 0.3324849374258696, Accuracy: 90.27666666666667%\n",
            "Epoch 5/10, Loss: 0.2849841636222309, Accuracy: 91.53999999999999%\n",
            "Epoch 6/10, Loss: 0.24853174454335974, Accuracy: 92.61333333333333%\n",
            "Epoch 7/10, Loss: 0.21611261234354617, Accuracy: 93.64333333333333%\n",
            "Epoch 8/10, Loss: 0.1919981765944058, Accuracy: 94.15666666666667%\n",
            "Epoch 9/10, Loss: 0.165511823050789, Accuracy: 95.07666666666667%\n",
            "Epoch 10/10, Loss: 0.14247777569753084, Accuracy: 95.78%\n",
            "Training model with hyperparameters: {'betas': (0.9, 0.999), 'ff_layers': 1, 'learning_rate': 0.0005}\n",
            "Epoch 1/10, Loss: 1.201864659404958, Accuracy: 60.45%\n",
            "Epoch 2/10, Loss: 0.5690762559805852, Accuracy: 83.65%\n",
            "Epoch 3/10, Loss: 0.45550716660424334, Accuracy: 86.96666666666667%\n",
            "Epoch 4/10, Loss: 0.3868863410088045, Accuracy: 88.75333333333333%\n",
            "Epoch 5/10, Loss: 0.338400498048456, Accuracy: 89.99333333333334%\n",
            "Epoch 6/10, Loss: 0.300005313064625, Accuracy: 91.33%\n",
            "Epoch 7/10, Loss: 0.2594958782386678, Accuracy: 92.31666666666666%\n",
            "Epoch 8/10, Loss: 0.23107214428500325, Accuracy: 93.42333333333333%\n",
            "Epoch 9/10, Loss: 0.20255358637904308, Accuracy: 94.20333333333333%\n",
            "Epoch 10/10, Loss: 0.1772825867175929, Accuracy: 94.89666666666666%\n",
            "Training model with hyperparameters: {'betas': (0.9, 0.999), 'ff_layers': 1, 'learning_rate': 0.0001}\n",
            "Epoch 1/10, Loss: 1.999175868563052, Accuracy: 32.34666666666667%\n",
            "Epoch 2/10, Loss: 0.9640536782329779, Accuracy: 72.18666666666667%\n",
            "Epoch 3/10, Loss: 0.7432883155625513, Accuracy: 78.62666666666667%\n",
            "Epoch 4/10, Loss: 0.6547878639403183, Accuracy: 81.58%\n",
            "Epoch 5/10, Loss: 0.6004860999741788, Accuracy: 83.20333333333333%\n",
            "Epoch 6/10, Loss: 0.5597265726531239, Accuracy: 84.46333333333334%\n",
            "Epoch 7/10, Loss: 0.5289361945220402, Accuracy: 85.40333333333334%\n",
            "Epoch 8/10, Loss: 0.5012999938558668, Accuracy: 86.15%\n",
            "Epoch 9/10, Loss: 0.48047562054733733, Accuracy: 86.72%\n",
            "Epoch 10/10, Loss: 0.4569507542449528, Accuracy: 87.44333333333333%\n",
            "Training model with hyperparameters: {'betas': (0.9, 0.999), 'ff_layers': 2, 'learning_rate': 0.001}\n",
            "Epoch 1/10, Loss: 1.2508648649207565, Accuracy: 57.16%\n",
            "Epoch 2/10, Loss: 0.5603790159926993, Accuracy: 83.06%\n",
            "Epoch 3/10, Loss: 0.4421073037233434, Accuracy: 86.51333333333334%\n",
            "Epoch 4/10, Loss: 0.3822341974514888, Accuracy: 88.29333333333334%\n",
            "Epoch 5/10, Loss: 0.3298684137144577, Accuracy: 89.95333333333333%\n",
            "Epoch 6/10, Loss: 0.28699579474323594, Accuracy: 91.31666666666666%\n",
            "Epoch 7/10, Loss: 0.25595467564647895, Accuracy: 92.04%\n",
            "Epoch 8/10, Loss: 0.2288873398037099, Accuracy: 92.99666666666667%\n",
            "Epoch 9/10, Loss: 0.20569364304767487, Accuracy: 93.47333333333333%\n",
            "Epoch 10/10, Loss: 0.17461644927226405, Accuracy: 94.52666666666667%\n",
            "Training model with hyperparameters: {'betas': (0.9, 0.999), 'ff_layers': 2, 'learning_rate': 0.0005}\n",
            "Epoch 1/10, Loss: 1.2635368855396059, Accuracy: 57.06333333333333%\n",
            "Epoch 2/10, Loss: 0.567935389305737, Accuracy: 83.04333333333334%\n",
            "Epoch 3/10, Loss: 0.4412802245571161, Accuracy: 86.79333333333334%\n",
            "Epoch 4/10, Loss: 0.36765452107386803, Accuracy: 88.88333333333334%\n",
            "Epoch 5/10, Loss: 0.30892777346026923, Accuracy: 90.85%\n",
            "Epoch 6/10, Loss: 0.2658954564648778, Accuracy: 92.00666666666667%\n",
            "Epoch 7/10, Loss: 0.2266318946838506, Accuracy: 93.07%\n",
            "Epoch 8/10, Loss: 0.1941806701168831, Accuracy: 93.99%\n",
            "Epoch 9/10, Loss: 0.15594538160240345, Accuracy: 95.30666666666666%\n",
            "Epoch 10/10, Loss: 0.13034325821408585, Accuracy: 95.97666666666666%\n",
            "Training model with hyperparameters: {'betas': (0.9, 0.999), 'ff_layers': 2, 'learning_rate': 0.0001}\n",
            "Epoch 1/10, Loss: 1.8425852980440869, Accuracy: 36.64%\n",
            "Epoch 2/10, Loss: 0.8953610104538484, Accuracy: 73.35666666666667%\n",
            "Epoch 3/10, Loss: 0.6931748208460777, Accuracy: 79.73666666666666%\n",
            "Epoch 4/10, Loss: 0.6054846183704669, Accuracy: 82.52333333333334%\n",
            "Epoch 5/10, Loss: 0.5391337342862127, Accuracy: 84.28999999999999%\n",
            "Epoch 6/10, Loss: 0.48929654744896556, Accuracy: 85.89666666666666%\n",
            "Epoch 7/10, Loss: 0.4493812645104394, Accuracy: 86.74666666666667%\n",
            "Epoch 8/10, Loss: 0.4135276046770214, Accuracy: 87.79333333333334%\n",
            "Epoch 9/10, Loss: 0.38170818777989224, Accuracy: 88.78333333333333%\n",
            "Epoch 10/10, Loss: 0.35220088550785206, Accuracy: 89.55333333333333%\n",
            "Training model with hyperparameters: {'betas': (0.9, 0.999), 'ff_layers': 3, 'learning_rate': 0.001}\n",
            "Epoch 1/10, Loss: 1.27299703800602, Accuracy: 55.46666666666666%\n",
            "Epoch 2/10, Loss: 0.5126953258125513, Accuracy: 84.31666666666666%\n",
            "Epoch 3/10, Loss: 0.40207646733153857, Accuracy: 87.87%\n",
            "Epoch 4/10, Loss: 0.33761928096286525, Accuracy: 89.66666666666666%\n",
            "Epoch 5/10, Loss: 0.28263751259331765, Accuracy: 91.48666666666668%\n",
            "Epoch 6/10, Loss: 0.24802099907798553, Accuracy: 92.33333333333333%\n",
            "Epoch 7/10, Loss: 0.2117504200606204, Accuracy: 93.59666666666666%\n",
            "Epoch 8/10, Loss: 0.18793516304256566, Accuracy: 94.12666666666667%\n",
            "Epoch 9/10, Loss: 0.16008022009357334, Accuracy: 94.88333333333333%\n",
            "Epoch 10/10, Loss: 0.14545955261521376, Accuracy: 95.49666666666667%\n",
            "Training model with hyperparameters: {'betas': (0.9, 0.999), 'ff_layers': 3, 'learning_rate': 0.0005}\n",
            "Epoch 1/10, Loss: 1.3358668800610214, Accuracy: 53.25333333333333%\n",
            "Epoch 2/10, Loss: 0.5606871440466533, Accuracy: 82.75%\n",
            "Epoch 3/10, Loss: 0.4214684856471731, Accuracy: 87.17333333333333%\n",
            "Epoch 4/10, Loss: 0.3447133391491894, Accuracy: 89.67%\n",
            "Epoch 5/10, Loss: 0.2892465409534826, Accuracy: 91.18666666666667%\n",
            "Epoch 6/10, Loss: 0.24566990095796362, Accuracy: 92.61%\n",
            "Epoch 7/10, Loss: 0.20620394598589395, Accuracy: 93.74%\n",
            "Epoch 8/10, Loss: 0.17725075452900263, Accuracy: 94.54%\n",
            "Epoch 9/10, Loss: 0.15237493338837807, Accuracy: 95.37%\n",
            "Epoch 10/10, Loss: 0.11964540841427249, Accuracy: 96.28999999999999%\n",
            "Training model with hyperparameters: {'betas': (0.9, 0.999), 'ff_layers': 3, 'learning_rate': 0.0001}\n",
            "Epoch 1/10, Loss: 1.9835826853699268, Accuracy: 28.063333333333336%\n",
            "Epoch 2/10, Loss: 0.9512072358050072, Accuracy: 70.45333333333333%\n",
            "Epoch 3/10, Loss: 0.7126013513312919, Accuracy: 78.59%\n",
            "Epoch 4/10, Loss: 0.606506599164975, Accuracy: 81.92%\n",
            "Epoch 5/10, Loss: 0.5383072408404685, Accuracy: 83.86%\n",
            "Epoch 6/10, Loss: 0.48770889461930117, Accuracy: 85.51333333333334%\n",
            "Epoch 7/10, Loss: 0.44582263159472296, Accuracy: 86.73666666666666%\n",
            "Epoch 8/10, Loss: 0.4061485920855994, Accuracy: 87.80333333333333%\n",
            "Epoch 9/10, Loss: 0.37655884415101903, Accuracy: 88.72333333333333%\n",
            "Epoch 10/10, Loss: 0.35041972966209406, Accuracy: 89.48666666666666%\n",
            "Training model with hyperparameters: {'betas': (0.95, 0.99), 'ff_layers': 1, 'learning_rate': 0.001}\n",
            "Epoch 1/10, Loss: 1.2654031429971968, Accuracy: 57.116666666666674%\n",
            "Epoch 2/10, Loss: 0.5641607827405686, Accuracy: 83.48%\n",
            "Epoch 3/10, Loss: 0.44482158861561877, Accuracy: 87.09333333333333%\n",
            "Epoch 4/10, Loss: 0.3688601866713973, Accuracy: 89.10333333333334%\n",
            "Epoch 5/10, Loss: 0.3195181557936455, Accuracy: 90.51%\n",
            "Epoch 6/10, Loss: 0.28044004911489323, Accuracy: 91.67333333333333%\n",
            "Epoch 7/10, Loss: 0.25080581091995685, Accuracy: 92.46666666666667%\n",
            "Epoch 8/10, Loss: 0.21846931814543727, Accuracy: 93.53%\n",
            "Epoch 9/10, Loss: 0.19176662258549668, Accuracy: 94.22666666666667%\n",
            "Epoch 10/10, Loss: 0.1735110142941414, Accuracy: 94.80333333333333%\n",
            "Training model with hyperparameters: {'betas': (0.95, 0.99), 'ff_layers': 1, 'learning_rate': 0.0005}\n",
            "Epoch 1/10, Loss: 1.2634712716282557, Accuracy: 58.906666666666666%\n",
            "Epoch 2/10, Loss: 0.6029204635986133, Accuracy: 82.47%\n",
            "Epoch 3/10, Loss: 0.4889551247360864, Accuracy: 85.8%\n",
            "Epoch 4/10, Loss: 0.4103893834962519, Accuracy: 88.14%\n",
            "Epoch 5/10, Loss: 0.35624139042678415, Accuracy: 89.77333333333334%\n",
            "Epoch 6/10, Loss: 0.3177691890296143, Accuracy: 90.76666666666667%\n",
            "Epoch 7/10, Loss: 0.27756125038303037, Accuracy: 91.9%\n",
            "Epoch 8/10, Loss: 0.24816796130367688, Accuracy: 92.86%\n",
            "Epoch 9/10, Loss: 0.21923830626266344, Accuracy: 93.67%\n",
            "Epoch 10/10, Loss: 0.19176401128805776, Accuracy: 94.43%\n",
            "Training model with hyperparameters: {'betas': (0.95, 0.99), 'ff_layers': 1, 'learning_rate': 0.0001}\n",
            "Epoch 1/10, Loss: 2.109868410299582, Accuracy: 28.416666666666668%\n",
            "Epoch 2/10, Loss: 1.2091332788406404, Accuracy: 64.40333333333334%\n",
            "Epoch 3/10, Loss: 0.881422334388375, Accuracy: 74.39333333333333%\n",
            "Epoch 4/10, Loss: 0.7475666450793301, Accuracy: 78.5%\n",
            "Epoch 5/10, Loss: 0.6705915009034976, Accuracy: 80.89666666666666%\n",
            "Epoch 6/10, Loss: 0.6165286202484103, Accuracy: 82.55%\n",
            "Epoch 7/10, Loss: 0.5807163714727105, Accuracy: 83.56666666666666%\n",
            "Epoch 8/10, Loss: 0.5434137284120263, Accuracy: 84.72333333333333%\n",
            "Epoch 9/10, Loss: 0.5185824603414231, Accuracy: 85.53%\n",
            "Epoch 10/10, Loss: 0.4939962471408376, Accuracy: 86.17%\n",
            "Training model with hyperparameters: {'betas': (0.95, 0.99), 'ff_layers': 2, 'learning_rate': 0.001}\n",
            "Epoch 1/10, Loss: 1.2085113917459558, Accuracy: 59.36666666666667%\n",
            "Epoch 2/10, Loss: 0.5411404924733298, Accuracy: 83.56%\n",
            "Epoch 3/10, Loss: 0.4213319176804028, Accuracy: 87.13666666666666%\n",
            "Epoch 4/10, Loss: 0.3415052275985543, Accuracy: 89.60333333333334%\n",
            "Epoch 5/10, Loss: 0.29282841791730446, Accuracy: 90.99666666666667%\n",
            "Epoch 6/10, Loss: 0.24450064846860575, Accuracy: 92.52%\n",
            "Epoch 7/10, Loss: 0.2074625430537312, Accuracy: 93.46%\n",
            "Epoch 8/10, Loss: 0.17116348327064057, Accuracy: 94.62666666666667%\n",
            "Epoch 9/10, Loss: 0.14445484030459607, Accuracy: 95.30333333333333%\n",
            "Epoch 10/10, Loss: 0.12494717715089636, Accuracy: 95.91666666666666%\n",
            "Training model with hyperparameters: {'betas': (0.95, 0.99), 'ff_layers': 2, 'learning_rate': 0.0005}\n",
            "Epoch 1/10, Loss: 1.3517757013027094, Accuracy: 54.19666666666667%\n",
            "Epoch 2/10, Loss: 0.622355850393584, Accuracy: 81.6%\n",
            "Epoch 3/10, Loss: 0.4661039802184237, Accuracy: 86.02333333333333%\n",
            "Epoch 4/10, Loss: 0.386931828773225, Accuracy: 88.42333333333333%\n",
            "Epoch 5/10, Loss: 0.322162453871546, Accuracy: 90.35333333333332%\n",
            "Epoch 6/10, Loss: 0.278193018758602, Accuracy: 91.72333333333333%\n",
            "Epoch 7/10, Loss: 0.2398721022741881, Accuracy: 92.78666666666666%\n",
            "Epoch 8/10, Loss: 0.20004082145467242, Accuracy: 94.02666666666667%\n",
            "Epoch 9/10, Loss: 0.17106010567452481, Accuracy: 94.81333333333333%\n",
            "Epoch 10/10, Loss: 0.13796056560806627, Accuracy: 95.74666666666667%\n",
            "Training model with hyperparameters: {'betas': (0.95, 0.99), 'ff_layers': 2, 'learning_rate': 0.0001}\n",
            "Epoch 1/10, Loss: 1.9968822190502304, Accuracy: 30.383333333333333%\n",
            "Epoch 2/10, Loss: 1.0320337972661326, Accuracy: 68.33%\n",
            "Epoch 3/10, Loss: 0.7707163195238947, Accuracy: 77.03333333333333%\n",
            "Epoch 4/10, Loss: 0.6534209288895003, Accuracy: 80.81333333333333%\n",
            "Epoch 5/10, Loss: 0.5742753859140726, Accuracy: 83.16333333333333%\n",
            "Epoch 6/10, Loss: 0.5214729233464198, Accuracy: 84.69666666666666%\n",
            "Epoch 7/10, Loss: 0.47877671676022665, Accuracy: 85.78666666666666%\n",
            "Epoch 8/10, Loss: 0.44132387066192463, Accuracy: 87.1%\n",
            "Epoch 9/10, Loss: 0.41359526468619606, Accuracy: 87.65666666666667%\n",
            "Epoch 10/10, Loss: 0.3778925981285221, Accuracy: 88.71333333333334%\n",
            "Training model with hyperparameters: {'betas': (0.95, 0.99), 'ff_layers': 3, 'learning_rate': 0.001}\n",
            "Epoch 1/10, Loss: 1.5277379274622465, Accuracy: 45.67666666666666%\n",
            "Epoch 2/10, Loss: 0.6631639875582794, Accuracy: 79.12333333333333%\n",
            "Epoch 3/10, Loss: 0.49177426252283774, Accuracy: 84.89%\n",
            "Epoch 4/10, Loss: 0.40464514382739564, Accuracy: 87.68%\n",
            "Epoch 5/10, Loss: 0.35648829245300434, Accuracy: 89.21%\n",
            "Epoch 6/10, Loss: 0.314192316036171, Accuracy: 90.55%\n",
            "Epoch 7/10, Loss: 0.278643831833085, Accuracy: 91.55%\n",
            "Epoch 8/10, Loss: 0.24777425429237676, Accuracy: 92.39%\n",
            "Epoch 9/10, Loss: 0.22323840027297737, Accuracy: 93.07333333333332%\n",
            "Epoch 10/10, Loss: 0.19918487334191037, Accuracy: 93.87666666666667%\n",
            "Training model with hyperparameters: {'betas': (0.95, 0.99), 'ff_layers': 3, 'learning_rate': 0.0005}\n",
            "Epoch 1/10, Loss: 1.644217745327492, Accuracy: 40.64666666666666%\n",
            "Epoch 2/10, Loss: 0.7080075637872285, Accuracy: 77.95333333333333%\n",
            "Epoch 3/10, Loss: 0.5190983701235196, Accuracy: 83.87%\n",
            "Epoch 4/10, Loss: 0.4218116579914906, Accuracy: 87.07000000000001%\n",
            "Epoch 5/10, Loss: 0.35703734297360945, Accuracy: 88.94333333333333%\n",
            "Epoch 6/10, Loss: 0.30260126540528687, Accuracy: 90.83333333333333%\n",
            "Epoch 7/10, Loss: 0.261627563098664, Accuracy: 92.22%\n",
            "Epoch 8/10, Loss: 0.22838516638223041, Accuracy: 93.20333333333333%\n",
            "Epoch 9/10, Loss: 0.19169367538459264, Accuracy: 94.27%\n",
            "Epoch 10/10, Loss: 0.16721832980590462, Accuracy: 94.92%\n",
            "Training model with hyperparameters: {'betas': (0.95, 0.99), 'ff_layers': 3, 'learning_rate': 0.0001}\n",
            "Epoch 1/10, Loss: 2.1836432688780176, Accuracy: 19.113333333333333%\n",
            "Epoch 2/10, Loss: 1.3775836733866855, Accuracy: 54.67666666666666%\n",
            "Epoch 3/10, Loss: 0.9216993733891038, Accuracy: 71.72%\n",
            "Epoch 4/10, Loss: 0.7491679390483319, Accuracy: 77.49666666666667%\n",
            "Epoch 5/10, Loss: 0.6491046573942912, Accuracy: 80.41333333333334%\n",
            "Epoch 6/10, Loss: 0.5784738525780025, Accuracy: 82.70333333333333%\n",
            "Epoch 7/10, Loss: 0.5244450778531622, Accuracy: 84.20666666666666%\n",
            "Epoch 8/10, Loss: 0.47297370592668364, Accuracy: 85.86%\n",
            "Epoch 9/10, Loss: 0.4346974093331965, Accuracy: 86.92%\n",
            "Epoch 10/10, Loss: 0.40502726507466486, Accuracy: 87.76666666666667%\n",
            "Training model with hyperparameters: {'betas': (0.99, 0.9), 'ff_layers': 1, 'learning_rate': 0.001}\n",
            "Epoch 1/10, Loss: 1.7873554777489034, Accuracy: 37.34%\n",
            "Epoch 2/10, Loss: 2.203634008161549, Accuracy: 49.63333333333333%\n",
            "Epoch 3/10, Loss: 1627743030.2485814, Accuracy: 9.923333333333334%\n",
            "Epoch 4/10, Loss: 51680963752.90719, Accuracy: 10.02%\n",
            "Epoch 5/10, Loss: 13240690973601.625, Accuracy: 9.84%\n",
            "Epoch 6/10, Loss: 880860888759424.0, Accuracy: 9.629999999999999%\n",
            "Epoch 7/10, Loss: 476330386014888.75, Accuracy: 9.91%\n",
            "Epoch 8/10, Loss: 143213134810391.94, Accuracy: 9.896666666666667%\n",
            "Epoch 9/10, Loss: 1.5856266129675958e+18, Accuracy: 10.09%\n",
            "Epoch 10/10, Loss: 1.9530298953793757e+19, Accuracy: 9.743333333333332%\n",
            "Training model with hyperparameters: {'betas': (0.99, 0.9), 'ff_layers': 1, 'learning_rate': 0.0005}\n",
            "Epoch 1/10, Loss: 2.031554617607263, Accuracy: 29.073333333333334%\n",
            "Epoch 2/10, Loss: 1.895196680321114, Accuracy: 58.91%\n",
            "Epoch 3/10, Loss: 5856.786528023576, Accuracy: 18.776666666666667%\n",
            "Epoch 4/10, Loss: 7757195.205625742, Accuracy: 9.616666666666667%\n",
            "Epoch 5/10, Loss: 7686297.40398385, Accuracy: 10.12%\n",
            "Epoch 6/10, Loss: 131291641.92696087, Accuracy: 10.176666666666668%\n",
            "Epoch 7/10, Loss: 155984739.4450498, Accuracy: 10.043333333333333%\n",
            "Epoch 8/10, Loss: 7550396839.630843, Accuracy: 9.783333333333333%\n",
            "Epoch 9/10, Loss: 142612117264.73187, Accuracy: 9.873333333333335%\n",
            "Epoch 10/10, Loss: 268744922813.6002, Accuracy: 9.946666666666665%\n",
            "Training model with hyperparameters: {'betas': (0.99, 0.9), 'ff_layers': 1, 'learning_rate': 0.0001}\n",
            "Epoch 1/10, Loss: 2.249566095470111, Accuracy: 18.69%\n",
            "Epoch 2/10, Loss: 1.7354470153353108, Accuracy: 47.53333333333333%\n",
            "Epoch 3/10, Loss: 1.1150529111372127, Accuracy: 66.64%\n",
            "Epoch 4/10, Loss: 0.8485681980149324, Accuracy: 75.36%\n",
            "Epoch 5/10, Loss: 0.7350749517046312, Accuracy: 78.42666666666666%\n",
            "Epoch 6/10, Loss: 0.6569342904889, Accuracy: 81.28999999999999%\n",
            "Epoch 7/10, Loss: 0.6142930243569397, Accuracy: 82.33%\n",
            "Epoch 8/10, Loss: 0.5656593119475379, Accuracy: 84.04333333333334%\n",
            "Epoch 9/10, Loss: 0.5400452719314266, Accuracy: 84.80666666666666%\n",
            "Epoch 10/10, Loss: 0.5063526185908551, Accuracy: 85.76%\n",
            "Training model with hyperparameters: {'betas': (0.99, 0.9), 'ff_layers': 2, 'learning_rate': 0.001}\n",
            "Epoch 1/10, Loss: 1.774815052811271, Accuracy: 39.04666666666667%\n",
            "Epoch 2/10, Loss: 328857.4498381693, Accuracy: 14.996666666666666%\n",
            "Epoch 3/10, Loss: 2.062151539108343e+16, Accuracy: 9.626666666666667%\n",
            "Epoch 4/10, Loss: 2.607673692847736e+17, Accuracy: 9.776666666666667%\n",
            "Epoch 5/10, Loss: nan, Accuracy: 9.853333333333333%\n",
            "Epoch 6/10, Loss: nan, Accuracy: 10.0%\n",
            "Epoch 7/10, Loss: nan, Accuracy: 10.0%\n",
            "Epoch 8/10, Loss: nan, Accuracy: 10.0%\n",
            "Epoch 9/10, Loss: nan, Accuracy: 10.0%\n",
            "Epoch 10/10, Loss: nan, Accuracy: 10.0%\n",
            "Training model with hyperparameters: {'betas': (0.99, 0.9), 'ff_layers': 2, 'learning_rate': 0.0005}\n",
            "Epoch 1/10, Loss: 2.4032180421133793, Accuracy: 13.156666666666666%\n",
            "Epoch 2/10, Loss: 732640.4550419596, Accuracy: 10.870000000000001%\n",
            "Epoch 3/10, Loss: 20066374.11796225, Accuracy: 9.86%\n",
            "Epoch 4/10, Loss: 79865826020.189, Accuracy: 10.036666666666667%\n",
            "Epoch 5/10, Loss: 4.138780318768833e+19, Accuracy: 10.166666666666666%\n",
            "Epoch 6/10, Loss: 2.0602465486172632e+22, Accuracy: 10.433333333333334%\n",
            "Epoch 7/10, Loss: 1.0634615746100393e+26, Accuracy: 10.26%\n",
            "Epoch 8/10, Loss: 4.40586946783725e+26, Accuracy: 9.836666666666668%\n",
            "Epoch 9/10, Loss: 2.4374707484238932e+30, Accuracy: 9.983333333333333%\n",
            "Epoch 10/10, Loss: 1.439455282422488e+32, Accuracy: 10.036666666666667%\n",
            "Training model with hyperparameters: {'betas': (0.99, 0.9), 'ff_layers': 2, 'learning_rate': 0.0001}\n",
            "Epoch 1/10, Loss: 2.232828792478484, Accuracy: 20.363333333333333%\n",
            "Epoch 2/10, Loss: 1.6267102186613753, Accuracy: 47.199999999999996%\n",
            "Epoch 3/10, Loss: 1.0317822171172608, Accuracy: 68.33%\n",
            "Epoch 4/10, Loss: 0.7916088060402413, Accuracy: 76.50666666666666%\n",
            "Epoch 5/10, Loss: 0.9444391299158271, Accuracy: 71.23333333333333%\n",
            "Epoch 6/10, Loss: 1.5161316940016838, Accuracy: 52.60333333333334%\n",
            "Epoch 7/10, Loss: 3811604.470179901, Accuracy: 32.57333333333333%\n",
            "Epoch 8/10, Loss: 12611017132.546604, Accuracy: 10.489999999999998%\n",
            "Epoch 9/10, Loss: 1.5685863941169096e+16, Accuracy: 9.656666666666666%\n",
            "Epoch 10/10, Loss: 2.5335734924875194e+19, Accuracy: 9.73%\n",
            "Training model with hyperparameters: {'betas': (0.99, 0.9), 'ff_layers': 3, 'learning_rate': 0.001}\n",
            "Epoch 1/10, Loss: 11.79047271793585, Accuracy: 10.443333333333333%\n",
            "Epoch 2/10, Loss: 20041635503.3384, Accuracy: 10.040000000000001%\n",
            "Epoch 3/10, Loss: 1.6044490980775145e+19, Accuracy: 10.023333333333333%\n",
            "Epoch 4/10, Loss: nan, Accuracy: 9.776666666666667%\n",
            "Epoch 5/10, Loss: nan, Accuracy: 10.0%\n",
            "Epoch 6/10, Loss: nan, Accuracy: 10.0%\n",
            "Epoch 7/10, Loss: nan, Accuracy: 10.0%\n",
            "Epoch 8/10, Loss: nan, Accuracy: 10.0%\n",
            "Epoch 9/10, Loss: nan, Accuracy: 10.0%\n",
            "Epoch 10/10, Loss: nan, Accuracy: 10.0%\n",
            "Training model with hyperparameters: {'betas': (0.99, 0.9), 'ff_layers': 3, 'learning_rate': 0.0005}\n",
            "Epoch 1/10, Loss: 3.302951660745942, Accuracy: 12.343333333333334%\n",
            "Epoch 2/10, Loss: 1657290.2461643838, Accuracy: 9.946666666666665%\n",
            "Epoch 3/10, Loss: 1185756856592463.5, Accuracy: 10.12%\n",
            "Epoch 4/10, Loss: 3.9700538782078025e+27, Accuracy: 10.11%\n",
            "Epoch 5/10, Loss: nan, Accuracy: 10.046666666666667%\n",
            "Epoch 6/10, Loss: nan, Accuracy: 10.0%\n",
            "Epoch 7/10, Loss: nan, Accuracy: 10.0%\n",
            "Epoch 8/10, Loss: nan, Accuracy: 10.0%\n",
            "Epoch 9/10, Loss: nan, Accuracy: 10.0%\n",
            "Epoch 10/10, Loss: nan, Accuracy: 10.0%\n",
            "Training model with hyperparameters: {'betas': (0.99, 0.9), 'ff_layers': 3, 'learning_rate': 0.0001}\n",
            "Epoch 1/10, Loss: 2.279059180827029, Accuracy: 14.716666666666667%\n",
            "Epoch 2/10, Loss: 1.8237891781813047, Accuracy: 38.07333333333333%\n",
            "Epoch 3/10, Loss: 1.2433188253882597, Accuracy: 58.989999999999995%\n",
            "Epoch 4/10, Loss: 0.9434804544011667, Accuracy: 70.26333333333334%\n",
            "Epoch 5/10, Loss: 0.7738229966621155, Accuracy: 76.12666666666667%\n",
            "Epoch 6/10, Loss: 0.6942304434425541, Accuracy: 79.05%\n",
            "Epoch 7/10, Loss: 0.6572700227374462, Accuracy: 79.73333333333333%\n",
            "Epoch 8/10, Loss: 0.5591548260595245, Accuracy: 83.03666666666668%\n",
            "Epoch 9/10, Loss: 0.513381040458486, Accuracy: 84.40666666666667%\n",
            "Epoch 10/10, Loss: 0.4884786576286816, Accuracy: 85.06666666666666%\n",
            "\n",
            "Best Hyperparameters: 3 Fully Connected Layers, Learning Rate: 0.0005, Betas: (0.9, 0.999)\n",
            "Best Training Accuracy: 96.28999999999999%\n"
          ]
        }
      ]
    },
    {
      "cell_type": "markdown",
      "source": [
        "Now that you have run the grid search, find the best hyperparameters and use them to train your model. This training loop should be similar to the one you created in 2.3.2, except now using the the best hyperparameters you found in the grid search."
      ],
      "metadata": {
        "id": "Nda1GwKSZqB0"
      }
    },
    {
      "cell_type": "code",
      "source": [
        "# TODO: Create a training loop similar to 2.3.2 that\n",
        "# uses the best hyperparameters that you found\n",
        "\n",
        "%%time\n",
        "cnn_tuned = CNNTuned(ff_layers=3)\n",
        "cnn_tuned.to(device)\n",
        "\n",
        "learning_rate = 0.0005\n",
        "betas = (0.9, 0.999)\n",
        "\n",
        "optimizer_tuned = optim.Adam(cnn_tuned.parameters(), lr=learning_rate, betas=betas)\n",
        "epoch = 10\n",
        "\n",
        "acc_LIST_CNN_TUNE = []\n",
        "loss_LIST_CNN_TUNE = []\n",
        "\n",
        "# Train the CNN\n",
        "for epoch in range(epoch):\n",
        "    running_loss = 0.0\n",
        "    correct = 0\n",
        "    total = 0\n",
        "\n",
        "    for inputs, labels in train_loader:\n",
        "        labels = labels.type(torch.LongTensor)\n",
        "        inputs, labels = inputs.to(device), labels.to(device)\n",
        "\n",
        "        optimizer_tuned.zero_grad()\n",
        "        outputs = cnn_tuned(inputs)\n",
        "        _, predicted = torch.max(outputs.data, 1)\n",
        "        loss = criterion(outputs, labels)\n",
        "        loss.backward()\n",
        "        optimizer_tuned.step()\n",
        "        running_loss += loss.item()\n",
        "        total += labels.size(0)\n",
        "        correct += (predicted == labels).sum().item()\n",
        "\n",
        "    accuracy = correct / total * 100\n",
        "    acc_LIST_CNN_TUNE.append(accuracy)\n",
        "\n",
        "    loss_LIST_CNN_TUNE.append(running_loss / len(train_loader))\n",
        "\n",
        "    print(f\"The loss for Epoch {epoch + 1} is: {running_loss / len(train_loader)}, Accuracy = {accuracy}%\")"
      ],
      "metadata": {
        "id": "rdy2eXWpZ4sM",
        "colab": {
          "base_uri": "https://localhost:8080/"
        },
        "outputId": "4ac8bc1e-a49d-47c1-ba9a-d93d6b2109c6"
      },
      "execution_count": null,
      "outputs": [
        {
          "output_type": "stream",
          "name": "stdout",
          "text": [
            "The loss for Epoch 1 is: 1.263736733559098, Accuracy = 56.279999999999994%\n",
            "The loss for Epoch 2 is: 0.550130547046153, Accuracy = 83.26%\n",
            "The loss for Epoch 3 is: 0.4116107378560089, Accuracy = 87.50333333333333%\n",
            "The loss for Epoch 4 is: 0.3458326859419534, Accuracy = 89.52%\n",
            "The loss for Epoch 5 is: 0.2842880183699797, Accuracy = 91.47999999999999%\n",
            "The loss for Epoch 6 is: 0.24089761060882986, Accuracy = 92.95333333333333%\n",
            "The loss for Epoch 7 is: 0.2094255859044188, Accuracy = 93.76666666666667%\n",
            "The loss for Epoch 8 is: 0.17271909123258805, Accuracy = 94.76333333333334%\n",
            "The loss for Epoch 9 is: 0.14819823872290058, Accuracy = 95.55333333333334%\n",
            "The loss for Epoch 10 is: 0.12556212117820026, Accuracy = 96.08666666666666%\n",
            "CPU times: user 1min 49s, sys: 542 ms, total: 1min 49s\n",
            "Wall time: 1min 53s\n"
          ]
        }
      ]
    },
    {
      "cell_type": "code",
      "source": [
        "grader.grade(test_case_id = 'cnn_tuning_train_loss', answer = (acc_LIST_CNN_TUNE, loss_LIST_CNN_TUNE))"
      ],
      "metadata": {
        "id": "VzBMroHkwC72",
        "colab": {
          "base_uri": "https://localhost:8080/"
        },
        "outputId": "21f6fdfb-f6ae-4c33-9c0d-8b7f4c1ab1df"
      },
      "execution_count": null,
      "outputs": [
        {
          "output_type": "stream",
          "name": "stdout",
          "text": [
            "Correct! You earned 5/5 points. You are a star!\n",
            "\n",
            "Your submission has been successfully recorded in the gradebook.\n"
          ]
        }
      ]
    },
    {
      "cell_type": "markdown",
      "source": [
        "Now, run your new model on the test data and gauge its performance."
      ],
      "metadata": {
        "id": "fIO6krC9-kgp"
      }
    },
    {
      "cell_type": "code",
      "source": [
        "total = 0\n",
        "correct = 0\n",
        "with torch.no_grad():\n",
        "    for images, labels in test_loader:\n",
        "        labels = labels.type(torch.LongTensor) # Cast to Float\n",
        "        images, labels = images.to(device), labels.to(device)\n",
        "        # TODO\n",
        "        # Get the output\n",
        "        outputs = cnn_tuned(images)\n",
        "        # Get the prediction using argmax\n",
        "        _, predicted = torch.max(outputs.data, 1)\n",
        "        # Get number of correct prediction and add to correct and total\n",
        "        total += labels.size(0)\n",
        "        correct += (predicted == labels).sum().item()\n",
        "# Calculate test accuracy for CNN (should multiple by 100)\n",
        "test_acc_CNN = 100 * correct / total\n",
        "# TODO END\n",
        "\n",
        "print(f'Test Accuracy: ' + str(test_acc_CNN))"
      ],
      "metadata": {
        "id": "ix4esy4K-w0r",
        "colab": {
          "base_uri": "https://localhost:8080/"
        },
        "outputId": "bae1dd5b-cdee-4385-885f-18cebefc2b18"
      },
      "execution_count": null,
      "outputs": [
        {
          "output_type": "stream",
          "name": "stdout",
          "text": [
            "Test Accuracy: 87.16\n"
          ]
        }
      ]
    },
    {
      "cell_type": "code",
      "source": [
        "grader.grade(test_case_id = 'cnn_tuning_test_acc', answer = test_acc_CNN)"
      ],
      "metadata": {
        "id": "Fxap1j4_-z0-",
        "colab": {
          "base_uri": "https://localhost:8080/"
        },
        "outputId": "011616fa-53c1-4f35-8e7e-89de0400eb31"
      },
      "execution_count": null,
      "outputs": [
        {
          "output_type": "stream",
          "name": "stdout",
          "text": [
            "Correct! You earned 2/2 points. You are a star!\n",
            "\n",
            "Your submission has been successfully recorded in the gradebook.\n"
          ]
        }
      ]
    },
    {
      "cell_type": "markdown",
      "metadata": {
        "id": "6zf6YZk3t5dc"
      },
      "source": [
        "## 2.4. Reflection\n"
      ]
    },
    {
      "cell_type": "markdown",
      "metadata": {
        "id": "rNLaEserlayE"
      },
      "source": [
        "\n",
        "Let's compare the model performance:\n",
        "\n",
        "From the test accuracies, we can see that FNN works better than Logistic Regression, and CNN works even better than FNN."
      ]
    },
    {
      "cell_type": "code",
      "execution_count": null,
      "metadata": {
        "id": "iZCBqWa6lJSb",
        "colab": {
          "base_uri": "https://localhost:8080/"
        },
        "outputId": "548e61fa-3db3-48a9-a61c-9ea7cca565a4"
      },
      "outputs": [
        {
          "output_type": "stream",
          "name": "stdout",
          "text": [
            "Test Accuracy for Logistic Regression: 18.5\n",
            "Test Accuracy for FNN: 74.82\n",
            "Test Accuracy for CNN: 87.16\n"
          ]
        }
      ],
      "source": [
        "# Simply run this cell, please do not modify\n",
        "print(f'Test Accuracy for Logistic Regression: ' + str(test_acc_log))\n",
        "print(f'Test Accuracy for FNN: ' + str(test_acc_FNN))\n",
        "print(f'Test Accuracy for CNN: ' + str(test_acc_CNN))"
      ]
    },
    {
      "cell_type": "markdown",
      "metadata": {
        "id": "qOn_Yn3R_qWE"
      },
      "source": [
        "---\n",
        "**TODO:**\n",
        "\n",
        "Now that you've build an image classification model on a relatively simple dataset, could you think of a real-world practical/complex application/use-case where digit recognition is useful?\n",
        "\n",
        "---"
      ]
    },
    {
      "cell_type": "code",
      "execution_count": null,
      "metadata": {
        "id": "5u99LTB9jJci",
        "colab": {
          "base_uri": "https://localhost:8080/",
          "height": 72
        },
        "outputId": "23dc7301-2c36-4c83-a423-94ebeb5777cd"
      },
      "outputs": [
        {
          "output_type": "execute_result",
          "data": {
            "text/plain": [
              "'One use-case where digit recognition could be applied is in Automation services for Postal codes and in\\nAddress recognition. It can be made part of an automated pipeline that recognizes and extracts numeric aspects\\nof addresses, such as postal codes. Tracking numbers in Distribution centers and on packages can also be quickly identified, allowing for accurate\\nsorting of mail and in delivery tracking. Further, digit recognition can be integrated with OCR systems to improve their abilities. '"
            ],
            "application/vnd.google.colaboratory.intrinsic+json": {
              "type": "string"
            }
          },
          "metadata": {},
          "execution_count": 98
        }
      ],
      "source": [
        "# Type your response in the following cell as a comment\n",
        "\n",
        "# ANS :\n",
        "'''One use-case where digit recognition could be applied is in Automation services for Postal codes and in\n",
        "Address recognition. It can be made part of an automated pipeline that recognizes and extracts numeric aspects\n",
        "of addresses, such as postal codes. Tracking numbers in Distribution centers and on packages can also be quickly identified, allowing for accurate\n",
        "sorting of mail and in delivery tracking. Further, digit recognition can be integrated with OCR systems to improve their abilities. '''"
      ]
    },
    {
      "cell_type": "markdown",
      "metadata": {
        "id": "qVKpT1nRvOP8"
      },
      "source": [
        "## 2.5 Confusion Matrix (Total: 8 points)\n",
        "\n",
        "We want to give you some insight into how you can further analyze the performance of the classification model you have trained.\n",
        "\n",
        "Upto now we have only used accuracy as a measure of performance. Although accuracy is simple and widely used measure, there are drawbacks to using accuracy.\n",
        "\n",
        "\n",
        "Assume that we are trying to train a model to detect a rare disease from CT images of patients. For simplicity, assume that this rare disease has an incidence rate of 1%.\n",
        "\n",
        "In this situation, if we train a degenerative model which always predicts that the patient does not have the disease, the accuracy is very high, namely 99%! Obviously in this case, accuracy is not a good measure of performance of the model.\n",
        "\n",
        "This example serves to motivate confusion matrices and related metrics.\n",
        "\n",
        "A confusion matrix is defined to be $C \\times C$ 2D matrix, where $C$ is number of distinct labels in the dataset. In this matrix, the rows represent the actual labels and the columns represent the predicted labels.\n",
        "\n",
        "The $(i, j)$-th entry of the confusion matrix contains the no. of data points where the actual label is $i$ but the model predicted $j$.\n",
        "\n",
        "\n",
        "The provided image is an example of a confusion matrix for binary classification (C = 2), but you can easily imagine this scaling up to C > 2.\n",
        "\n",
        "From this confusion matrix we can get all sorts of useful metrics such as False Positive Rate (FPR), False Negative Rate (FNR), Recall, Precision, etc... If you are interested in learning more about confusion matrix and related metrics [this wikipedia page](https://en.wikipedia.org/wiki/Confusion_matrix#cite_note-11) is a good place to look at.\n",
        "\n",
        "\n",
        "\n",
        "\n",
        "\n"
      ]
    },
    {
      "cell_type": "markdown",
      "metadata": {
        "id": "HAbFnMXst_7i"
      },
      "source": [
        "### 2.5.1 Create a confusion matrix (4 points)\n",
        "\n",
        "---\n",
        "\n",
        "**TODO:**\n",
        "1. For the test dataset using the CNN model you have trained above, create a confusion matrix. Do this by creating a function called `cm_generator` which will return the labels and predictions from testing.\n",
        "2. Save the confusion matrix as a pandas dataframe called `confusion_matrix_df`.\n",
        "\n",
        "---\n",
        "**Hint:** Look at what you've done in 2.3.4, and see if what you have done can be re-used."
      ]
    },
    {
      "cell_type": "code",
      "execution_count": null,
      "metadata": {
        "id": "CVk7BesQt_7j",
        "colab": {
          "base_uri": "https://localhost:8080/"
        },
        "outputId": "85b616ec-45e8-40fe-886a-d4f23f419043"
      },
      "outputs": [
        {
          "output_type": "stream",
          "name": "stdout",
          "text": [
            "Test Accuracy: 80.18%\n"
          ]
        }
      ],
      "source": [
        "import pandas as pd\n",
        "import numpy as np\n",
        "from sklearn.metrics import confusion_matrix\n",
        "\n",
        "# TODO\n",
        "\n",
        "def cm_generator(test_loader):\n",
        "\n",
        "  # The goal is to obtain two lists of prediction and actual labels.\n",
        "  # Then, using these two lists, create a confusion matrix dataframe\n",
        "  cnn.eval()\n",
        "  all_labels = []\n",
        "  all_predictions = []\n",
        "\n",
        "  with torch.no_grad():\n",
        "        for images, labels in test_loader:\n",
        "            labels = labels.type(torch.LongTensor)\n",
        "            images, labels = images.to(device), labels.to(device)\n",
        "\n",
        "            # Forward pass\n",
        "            outputs = cnn(images)\n",
        "\n",
        "            # Get predictions\n",
        "            _, predicted = torch.max(outputs.data, 1)\n",
        "\n",
        "            # Append labels and predictions\n",
        "            all_labels.extend(labels.cpu().numpy())\n",
        "            all_predictions.extend(predicted.cpu().numpy())\n",
        "\n",
        "  total = len(all_labels)\n",
        "  correct = np.sum(np.array(all_predictions) == np.array(all_labels))\n",
        "  test_accuracy = (correct / total) * 100\n",
        "  print(f'Test Accuracy: {test_accuracy:.2f}%')\n",
        "  cm = confusion_matrix(all_labels, all_predictions)\n",
        "  classes = [str(i) for i in range(10)]  # Assuming 10 classes\n",
        "  confusion_matrix_df = pd.DataFrame(cm, index=classes, columns=classes)\n",
        "  return confusion_matrix_df\n",
        "\n",
        "confusion_matrix_df = cm_generator(test_loader)\n",
        "# print(confusion_matrix_df)\n",
        "# END TODO\n"
      ]
    },
    {
      "cell_type": "code",
      "execution_count": null,
      "metadata": {
        "id": "hsv-udDgt_7j",
        "colab": {
          "base_uri": "https://localhost:8080/"
        },
        "outputId": "1db2a221-6f55-43a8-933d-e0c1cbbcd572"
      },
      "outputs": [
        {
          "output_type": "stream",
          "name": "stdout",
          "text": [
            "Correct! You earned 4/4 points. You are a star!\n",
            "\n",
            "Your submission has been successfully recorded in the gradebook.\n"
          ]
        }
      ],
      "source": [
        "#Grader Cell (4 points)\n",
        "grader.grade('check_confusion_matrix', (str(type(confusion_matrix_df)),\n",
        "                                        confusion_matrix_df.shape,\n",
        "                                        confusion_matrix_df.to_numpy().sum(),\n",
        "                                        np.trace(confusion_matrix_df.to_numpy())\n",
        "                                        ))"
      ]
    },
    {
      "cell_type": "markdown",
      "metadata": {
        "id": "bfz3myW0t_7k"
      },
      "source": [
        "### 2.5.2 Visualizing Confusion Matrix (4 points - Manual Grading)\n",
        "\n",
        "---\n",
        "**TODOs:**\n",
        "\n",
        "Implement the code to visualize the confusion matrix you have created above. This section will be manually graded\n",
        "\n",
        "Suggested library is using Seaborn heatmap.\n",
        "\n",
        "Chart Specifications:\n",
        "1. Each cell is labled/annotated with associated values. Take a look at the parameter \"annot\".\n",
        "2. Make sure all annotated values are in integers, and not shown in scientific notations. Use the parameter `fmt = \"g\"`.\n",
        "3. Add chart title, and axis name label (\"Actual\" and \"Predicted\". Check out which axis is associated with either label.\n",
        "4. Set map color to Green/Blue.\n",
        "5. To avoid \"File Too Large\" for submission, please set figure size to (8,4).\n",
        "---\n",
        "Resource: [Seaborn Heatmap documentation](https://seaborn.pydata.org/generated/seaborn.heatmap.html )"
      ]
    },
    {
      "cell_type": "code",
      "execution_count": null,
      "metadata": {
        "id": "zMOQnqEAt_7k",
        "colab": {
          "base_uri": "https://localhost:8080/",
          "height": 410
        },
        "outputId": "4f99b3ab-7517-41ea-bfb2-2af50c0578f9"
      },
      "outputs": [
        {
          "output_type": "display_data",
          "data": {
            "text/plain": [
              "<Figure size 800x400 with 2 Axes>"
            ],
            "image/png": "[encoded data removed]"
          },
          "metadata": {}
        }
      ],
      "source": [
        "# TODO\n",
        "import seaborn as sns\n",
        "import matplotlib.pyplot as plt\n",
        "\n",
        "plt.figure(figsize=(8, 4))\n",
        "sns.heatmap(confusion_matrix_df, annot=True, fmt=\"g\", cmap=\"Blues\", cbar_kws={'label': 'Count'})\n",
        "plt.title('Confusion Matrix')\n",
        "plt.xlabel('Predicted')\n",
        "plt.ylabel('Actual')\n",
        "plt.show()\n",
        "# END TODO\n"
      ]
    },
    {
      "cell_type": "markdown",
      "source": [
        "# Part 3: Time Series Data (Total: 8 points)\n",
        "\n",
        "Thus far we have looked models that utilize various features to output a certain target (perhaps a score in regression problems, a label in classification problems as seen above). In other words, we have been looking at the relationship of an output as a function of various features. But what if we want to track an output as a function of **time**?\n",
        "\n",
        "In this section, we will be exploring time series data and forecasting; many real-world problems have a time component, making the extrapolation of time series data extremely important. One can think about the pandemic, when we used time series models like ARIMA to predict **daily COVID cases** ([link](https://www.ncbi.nlm.nih.gov/pmc/articles/PMC7445441/)). Or consider the stock market; when you are choosing a stock, you definitely look at the **prior history of the share price**; over the past year, the past month, or even the past week. Time series models are instrumental in assisting you with predicting the price of a stock in the near future.\n",
        "\n",
        "Another simple instance for the need for time series models is page view statistics; meaning, in a given timeframe, how many times was a webpage accessed. To get you ready for a much deserved Thanksgiving break, we will be looking at page view data for the Wikipedia article for \"Thanksgiving\" seen [here](https://en.wikipedia.org/wiki/Thanksgiving). (As an aside, you can easily get the page view statistics of any Wikipedia article using [this](https://pageviews.wmcloud.org/?project=en.wikipedia.org&platform=all-access&agent=user&redirects=0&range=latest-20&pages=) link)\n",
        "\n",
        "In this section we will be forecasting the number of page views for the \"Thanksgiving\" Wikipedia article in November, with the assistance of a time series model called **Prophet**."
      ],
      "metadata": {
        "id": "VSQbJc6b-7Au"
      }
    },
    {
      "cell_type": "markdown",
      "source": [
        "### 3.1 Prepare Data (2 points)"
      ],
      "metadata": {
        "id": "-Y6ssd-s-7A6"
      }
    },
    {
      "cell_type": "markdown",
      "source": [
        "Load in the thanksgiving dataframe. Keep in mind that it consists of page views on a given day **UP UNTIL THE LAST DAY OF NOVEMBER 2022**"
      ],
      "metadata": {
        "id": "80PneZPf-7A7"
      }
    },
    {
      "cell_type": "code",
      "source": [
        "# Get the csv file (thanksgiving.csv)\n",
        "! wget -nc https://storage.googleapis.com/penn-cis5450/thanksgiving.csv"
      ],
      "metadata": {
        "id": "P1QvaRTnaIt4",
        "colab": {
          "base_uri": "https://localhost:8080/"
        },
        "outputId": "374e0496-5717-4ef7-b917-8048dfc494a4"
      },
      "execution_count": null,
      "outputs": [
        {
          "output_type": "stream",
          "name": "stdout",
          "text": [
            "--2023-11-26 19:05:55--  https://storage.googleapis.com/penn-cis5450/thanksgiving.csv\n",
            "Resolving storage.googleapis.com (storage.googleapis.com)... 173.194.194.207, 173.194.195.207, 173.194.196.207, ...\n",
            "Connecting to storage.googleapis.com (storage.googleapis.com)|173.194.194.207|:443... connected.\n",
            "HTTP request sent, awaiting response... 200 OK\n",
            "Length: 43562 (43K) [text/csv]\n",
            "Saving to: ‘thanksgiving.csv’\n",
            "\n",
            "\rthanksgiving.csv      0%[                    ]       0  --.-KB/s               \rthanksgiving.csv    100%[===================>]  42.54K  --.-KB/s    in 0s      \n",
            "\n",
            "2023-11-26 19:05:55 (139 MB/s) - ‘thanksgiving.csv’ saved [43562/43562]\n",
            "\n"
          ]
        }
      ]
    },
    {
      "cell_type": "code",
      "source": [
        "# TODO: Read in the thanksgiving dataset\n",
        "# Make sure that the \"Date\" column is of type date\n",
        "thanksgiving_df = pd.read_csv(\"thanksgiving.csv\")\n",
        "thanksgiving_df['Date'] = pd.to_datetime(thanksgiving_df['Date'])"
      ],
      "metadata": {
        "id": "ReluHXwj-7A7"
      },
      "execution_count": null,
      "outputs": []
    },
    {
      "cell_type": "markdown",
      "source": [
        "Rename the `Date` column `ds` and the `Views` column `y`. This is crucial for running the Prophet model"
      ],
      "metadata": {
        "id": "RpgsAqsq-7A7"
      }
    },
    {
      "cell_type": "code",
      "source": [
        "# TODO: Rename the \"Date\" column \"ds\" and the \"Views\" column \"y\"\n",
        "# This is crucial for running the Prophet model\n",
        "thanksgiving_df = thanksgiving_df.rename(columns={'Date': 'ds', 'Views': 'y'})\n",
        "print(thanksgiving_df.head())"
      ],
      "metadata": {
        "id": "9q9qea4J-7A8",
        "colab": {
          "base_uri": "https://localhost:8080/"
        },
        "outputId": "bee925f9-ad39-4c6c-dff5-6f538bbe7e79"
      },
      "execution_count": null,
      "outputs": [
        {
          "output_type": "stream",
          "name": "stdout",
          "text": [
            "          ds     y\n",
            "0 2015-07-01  1925\n",
            "1 2015-07-02  2083\n",
            "2 2015-07-03  2287\n",
            "3 2015-07-04  3704\n",
            "4 2015-07-05  2632\n"
          ]
        }
      ]
    },
    {
      "cell_type": "markdown",
      "source": [
        "Split this dataframe into training and test data. The training data should consist of entries **BEFORE NOVEMBER 2022**, meaning the testing data consists from entries from November 1, 2022 onwards.\n",
        "\n",
        "\n",
        "**MAKE SURE TO USE RESET_INDEX FUNCTION FOR BOTH DATAFRAMES TO AVOID AUTOGRADER ISSUES**"
      ],
      "metadata": {
        "id": "UiSvlfXj-7A8"
      }
    },
    {
      "cell_type": "code",
      "source": [
        "# TODO: Create thanksgiving_train and thanksgiving_test as defined above\n",
        "split_index = thanksgiving_df[thanksgiving_df['ds'] == '2022-11-01'].index[0]\n",
        "thanksgiving_train = thanksgiving_df.loc[:split_index].reset_index(drop=True)\n",
        "thanksgiving_test = thanksgiving_df.loc[split_index:].reset_index(drop=True)"
      ],
      "metadata": {
        "id": "n7ns5M8s-7A8"
      },
      "execution_count": null,
      "outputs": []
    },
    {
      "cell_type": "code",
      "source": [
        "#Grader Cell (2 points)\n",
        "grader.grade(test_case_id = 'prepare_data', answer = (thanksgiving_train, thanksgiving_test))"
      ],
      "metadata": {
        "id": "dPtM4y-Qbun5",
        "colab": {
          "base_uri": "https://localhost:8080/"
        },
        "outputId": "8926fce3-65da-45ff-9e95-24376657cd79"
      },
      "execution_count": null,
      "outputs": [
        {
          "output_type": "stream",
          "name": "stdout",
          "text": [
            "Correct! You earned 2/2 points. You are a star!\n",
            "\n",
            "Your submission has been successfully recorded in the gradebook.\n"
          ]
        }
      ]
    },
    {
      "cell_type": "markdown",
      "source": [
        "### 3.2 Prophet Model (6 points)"
      ],
      "metadata": {
        "id": "70zwb6MO-7A9"
      }
    },
    {
      "cell_type": "markdown",
      "source": [
        "Prophet is a model developed by Facebook that is used for forecasting time series data, similar to ARIMA, a model you have explored or will explore soon in lecture. As you might imagine, forecasting future statistics, like the number of daily views on a certain webpage or advertisement, is very important to companies like Facebook.\n",
        "\n",
        "In this section you will be exploring the Prophet model and comparing **two types of models**; one where you do not account for holidays (Thanksgiving is a U.S. holiday), and one where you do account for holidays.\n",
        "\n",
        "Please refer to the Prophet documentation [here](https://facebook.github.io/prophet/docs/quick_start.html#python-api). This page has ALL the information you will need to complete this section"
      ],
      "metadata": {
        "id": "QL9062pz-7A9"
      }
    },
    {
      "cell_type": "markdown",
      "source": [
        "#### 3.2.1 Prophet Model (Base) (4 points)"
      ],
      "metadata": {
        "id": "b5D0Hcep-7A9"
      }
    },
    {
      "cell_type": "markdown",
      "source": [
        "In this section you will instantiate a Prophet model. **Do not do anything else besides fit the model on the train data**"
      ],
      "metadata": {
        "id": "-PJ_Hh8V-7A9"
      }
    },
    {
      "cell_type": "code",
      "source": [
        "# TODO: Create and fit a Prophet model on your training data.\n",
        "# DO NOT DO ANY OTHER PREPROCESSING STEPS! Just instantiate the model\n",
        "# and train it on thanksgiving_train\n",
        "from prophet import Prophet\n",
        "\n",
        "m = Prophet()\n",
        "m.fit(thanksgiving_train)"
      ],
      "metadata": {
        "colab": {
          "base_uri": "https://localhost:8080/"
        },
        "outputId": "c62ea98f-8c37-4fab-e11c-dc85a0a86d35",
        "id": "wmArNSH_-7A9"
      },
      "execution_count": null,
      "outputs": [
        {
          "output_type": "stream",
          "name": "stderr",
          "text": [
            "INFO:prophet:Disabling daily seasonality. Run prophet with daily_seasonality=True to override this.\n",
            "DEBUG:cmdstanpy:input tempfile: /tmp/tmptl_3_xv2/_0d6n4y0.json\n",
            "DEBUG:cmdstanpy:input tempfile: /tmp/tmptl_3_xv2/mi_06s86.json\n",
            "DEBUG:cmdstanpy:idx 0\n",
            "DEBUG:cmdstanpy:running CmdStan, num_threads: None\n",
            "DEBUG:cmdstanpy:CmdStan args: ['/usr/local/lib/python3.10/dist-packages/prophet/stan_model/prophet_model.bin', 'random', 'seed=87552', 'data', 'file=/tmp/tmptl_3_xv2/_0d6n4y0.json', 'init=/tmp/tmptl_3_xv2/mi_06s86.json', 'output', 'file=/tmp/tmptl_3_xv2/prophet_model2xtl_srm/prophet_model-20231126191645.csv', 'method=optimize', 'algorithm=lbfgs', 'iter=10000']\n",
            "19:16:45 - cmdstanpy - INFO - Chain [1] start processing\n",
            "INFO:cmdstanpy:Chain [1] start processing\n",
            "19:16:45 - cmdstanpy - INFO - Chain [1] done processing\n",
            "INFO:cmdstanpy:Chain [1] done processing\n"
          ]
        },
        {
          "output_type": "execute_result",
          "data": {
            "text/plain": [
              "<prophet.forecaster.Prophet at 0x7bc30bcb17b0>"
            ]
          },
          "metadata": {},
          "execution_count": 120
        }
      ]
    },
    {
      "cell_type": "markdown",
      "source": [
        "With this model, forecast the number of page views in November 2022. Refer to the documentation to see which function(s) you should use.\n",
        "\n",
        "When done correctly, you should notice three important columns: yhat_lower (lower bound), yhat (predicted value) and yhat_upper (upper bound).\n",
        "\n",
        "Save the predictions (**only yhat**) to a dataframe called **future_df**. This dataframe should be **30 entries long**, as there are 30 days in November (same size as the test dataframe).\n",
        "\n",
        "\n",
        "**Final Schema for future_df**:\n",
        ">ds | yhat |\n",
        ">--- | --- |"
      ],
      "metadata": {
        "id": "1BHwUlLW-7A9"
      }
    },
    {
      "cell_type": "code",
      "source": [
        "# TODO: forecast the daily page view numbers for November 2022,\n",
        "# save them to a dataframe called future_df\n",
        "future = m.make_future_dataframe(periods=30, freq='D', include_history=False)\n",
        "forecast = m.predict(future)\n",
        "future_df = forecast[['ds', 'yhat']]"
      ],
      "metadata": {
        "id": "VwAhs9X--7A9"
      },
      "execution_count": null,
      "outputs": []
    },
    {
      "cell_type": "markdown",
      "source": [
        "Create a line plot in matplotlib that has both the **predicted (Prophet forecasting)** and **actual page views (from thanksgiving_test)** for November 2022. Make sure to have appropriate labels, clearly differentiate the predicted vs actual views and make a legend, make the x ticks legible, and title the graph \"Page Views for Thanksgiving Article (November 2022).\"\n",
        "\n",
        "This graph is solely designed to help you visualize the data, so do not worry too much about exact dimension sizes of the plot or anything like that."
      ],
      "metadata": {
        "id": "aquTDjRq-7A9"
      }
    },
    {
      "cell_type": "code",
      "source": [
        "# TODO: Make a lineplot comparing the predicted page view numbers with the actual\n",
        "# page view numbers\n",
        "\n",
        "import matplotlib.pyplot as plt\n",
        "\n",
        "# merged_df = pd.merge(thanksgiving_test, future_df, on='ds', how='inner')\n",
        "# plt.plot(merged_df['ds'], merged_df['y'], label='Actual', marker='o')\n",
        "# plt.plot(merged_df['ds'], merged_df['yhat'], label='Predicted', linestyle='--', marker='o')\n",
        "\n",
        "# plt.xlabel('Date')\n",
        "# plt.ylabel('Page Views')\n",
        "# plt.title('Page Views for Thanksgiving Article (November 2022)')\n",
        "\n",
        "# plt.xticks(rotation=45, ha='right')\n",
        "# plt.legend()\n",
        "# plt.show()"
      ],
      "metadata": {
        "id": "zO0GipFX-7A-"
      },
      "execution_count": null,
      "outputs": []
    },
    {
      "cell_type": "code",
      "source": [
        "#Grader Cell (4 points)\n",
        "grader.grade(test_case_id = 'prophet_base', answer = (future_df, thanksgiving_test))"
      ],
      "metadata": {
        "id": "V4PYW2sncZmC",
        "colab": {
          "base_uri": "https://localhost:8080/"
        },
        "outputId": "2db57752-f84f-480b-c663-24c1edb046f3"
      },
      "execution_count": null,
      "outputs": [
        {
          "output_type": "stream",
          "name": "stdout",
          "text": [
            "Correct! You earned 4/4 points. You are a star!\n",
            "\n",
            "Your submission has been successfully recorded in the gradebook.\n"
          ]
        }
      ]
    },
    {
      "cell_type": "markdown",
      "source": [
        "#### 3.2.2 Prophet Model (Holiday) (2 points)"
      ],
      "metadata": {
        "id": "OWktRoml-7A_"
      }
    },
    {
      "cell_type": "markdown",
      "source": [
        "As you saw in the previous section, the base model does a decent job at anticipating an increase in views as we get closer to Thanksgiving Day, but does a poor job of predicting a massive spike on the day itself. Let us see what happens when we rerun the Prophet model but allow the model to incorporate US holidays into its prediction.\n",
        "\n",
        "In this section, you will again instantiate and fit a Prophet model, **but now add US holidays to the model** (again, please refer to the documentation to find out how you can do this)."
      ],
      "metadata": {
        "id": "M3dmLW3q-7A_"
      }
    },
    {
      "cell_type": "code",
      "source": [
        "# TODO: Create and fit a Prophet model on your training data.\n",
        "# MAKE SURE TO CONSIDER NATIONAL (US) HOLIDAYS\n",
        "m = Prophet()\n",
        "m.add_country_holidays(country_name='US')\n",
        "m.fit(thanksgiving_train)"
      ],
      "metadata": {
        "colab": {
          "base_uri": "https://localhost:8080/"
        },
        "outputId": "45e68b93-f5bb-431d-eaa7-c4a37c849da9",
        "id": "CPFURSWW-7A_"
      },
      "execution_count": null,
      "outputs": [
        {
          "output_type": "stream",
          "name": "stderr",
          "text": [
            "INFO:prophet:Disabling daily seasonality. Run prophet with daily_seasonality=True to override this.\n",
            "DEBUG:cmdstanpy:input tempfile: /tmp/tmptl_3_xv2/94bxnm69.json\n",
            "DEBUG:cmdstanpy:input tempfile: /tmp/tmptl_3_xv2/65e64s57.json\n",
            "DEBUG:cmdstanpy:idx 0\n",
            "DEBUG:cmdstanpy:running CmdStan, num_threads: None\n",
            "DEBUG:cmdstanpy:CmdStan args: ['/usr/local/lib/python3.10/dist-packages/prophet/stan_model/prophet_model.bin', 'random', 'seed=67730', 'data', 'file=/tmp/tmptl_3_xv2/94bxnm69.json', 'init=/tmp/tmptl_3_xv2/65e64s57.json', 'output', 'file=/tmp/tmptl_3_xv2/prophet_modell5uzv6o2/prophet_model-20231126192220.csv', 'method=optimize', 'algorithm=lbfgs', 'iter=10000']\n",
            "19:22:20 - cmdstanpy - INFO - Chain [1] start processing\n",
            "INFO:cmdstanpy:Chain [1] start processing\n",
            "19:22:20 - cmdstanpy - INFO - Chain [1] done processing\n",
            "INFO:cmdstanpy:Chain [1] done processing\n"
          ]
        },
        {
          "output_type": "execute_result",
          "data": {
            "text/plain": [
              "<prophet.forecaster.Prophet at 0x7bc3b0d36e30>"
            ]
          },
          "metadata": {},
          "execution_count": 127
        }
      ]
    },
    {
      "cell_type": "markdown",
      "source": [
        "Create **future_holiday_df** using the same process you had for creating future_df"
      ],
      "metadata": {
        "id": "UN705PxD-7BA"
      }
    },
    {
      "cell_type": "code",
      "source": [
        "# TODO: create future_holiday_df\n",
        "future_with_holidays = m.make_future_dataframe(periods=30, freq='D', include_history=False)\n",
        "forecast_with_holidays = m.predict(future_with_holidays)\n",
        "future_holiday_df = forecast_with_holidays[['ds', 'yhat']]"
      ],
      "metadata": {
        "id": "4Ugc68ox-7BA"
      },
      "execution_count": null,
      "outputs": []
    },
    {
      "cell_type": "markdown",
      "source": [
        "Again, create a line plot in matplotlib that has both the **predicted (Prophet forecasting)** and **actual page views (from thanksgiving_test)** for November 2022. Make sure to have appropriate labels, clearly differentiate the predicted vs actual views and make a legend, make the x ticks legible, and title the graph \"Page Views for Thanksgiving Article (November 2022).\"\n",
        "\n",
        "This graph is solely designed to help you visualize the data, so do not worry too much about exact dimension sizes of the plot or anything like that."
      ],
      "metadata": {
        "id": "dJmJrQzcREGw"
      }
    },
    {
      "cell_type": "code",
      "source": [
        "# Again, make a lineplot comparing the predicted page view numbers with the actual\n",
        "# page view numbers\n",
        "import matplotlib.pyplot as plt\n",
        "\n",
        "# plt.plot(thanksgiving_test['ds'], thanksgiving_test['y'], label='Actual Views', color='blue')\n",
        "# plt.plot(future_df['ds'], future_df['yhat'], label='Predicted Views (Without Holidays)', linestyle='dashed', color='orange')\n",
        "# plt.plot(future_holiday_df['ds'], future_holiday_df['yhat'], label='Predicted Views (With Holidays)', linestyle='dashed', color='green')\n",
        "\n",
        "# plt.xlabel('Date')\n",
        "# plt.ylabel('Number of Views')\n",
        "# plt.title('Page Views for Thanksgiving Article (November 2022)')\n",
        "# plt.legend()\n",
        "\n",
        "# plt.show()"
      ],
      "metadata": {
        "id": "SbmBEUrJ-7BA"
      },
      "execution_count": null,
      "outputs": []
    },
    {
      "cell_type": "markdown",
      "source": [
        "**Much better!**"
      ],
      "metadata": {
        "id": "7FdctPMc-7BA"
      }
    },
    {
      "cell_type": "code",
      "source": [
        "#Grader Cell (2 points)\n",
        "grader.grade(test_case_id = 'prophet_improved', answer = (future_holiday_df, thanksgiving_test))"
      ],
      "metadata": {
        "id": "7Opgor5wcUuy",
        "colab": {
          "base_uri": "https://localhost:8080/"
        },
        "outputId": "ef71b082-a0ab-4f69-873e-9bd36faad669"
      },
      "execution_count": null,
      "outputs": [
        {
          "output_type": "stream",
          "name": "stdout",
          "text": [
            "Correct! You earned 2/2 points. You are a star!\n",
            "\n",
            "Your submission has been successfully recorded in the gradebook.\n"
          ]
        }
      ]
    },
    {
      "cell_type": "markdown",
      "metadata": {
        "id": "AXRYkQMgMfQK"
      },
      "source": [
        "# Homework Submission\n",
        "\n",
        "Good job! You have finished the homework :) The submission instructions are as follows:\n",
        "\n",
        "* **Double check** that you have the correct PennID (all numbers) in the autograder.\n",
        "\n",
        "* **Triple check** that you have all plots shown in this Colab notebook before submitting (otherwise, your submission will be subjected to a **penalty of -5 points**).\n",
        "\n",
        "*  Go to the \"File\" tab at the top left of the Colab UI, click \"Download .ipynb\" and then \"Download .py\".  **Rename** these two files to `homework5.ipynb` and `homework5.py` respectively and upload them to Gradescope.\n",
        "  - <ins>**WAIT UNTIL THE GRADESCOPE AUTOGRADER FINISHES RUNNING!**</ins> If we have to manually upload this for you after the deadline, **we will apply a penalty of -5 points** (this stacks with any other penatlies)\n",
        "\n",
        "* You must submit your notebook to receive credit. Post any issues with submission on Ed and make sure to keep in mind the late day policy.\n",
        "\n",
        "* After you submit your code, the teaching staff will manually grade your Colab notebook in order to validate the correctness of your code."
      ]
    }
  ],
  "metadata": {
    "colab": {
      "provenance": [],
      "collapsed_sections": [
        "VSQbJc6b-7Au"
      ],
      "gpuType": "T4"
    },
    "kernelspec": {
      "display_name": "Python 3",
      "name": "python3"
    },
    "language_info": {
      "name": "python"
    },
    "accelerator": "GPU"
  },
  "nbformat": 4,
  "nbformat_minor": 0
}